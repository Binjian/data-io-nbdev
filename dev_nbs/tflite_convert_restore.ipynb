{
 "cells": [
  {
   "cell_type": "code",
   "execution_count": null,
   "metadata": {},
   "outputs": [],
   "source": [
    "import os\n",
    "import tensorflow as tf\n",
    "\n",
    "print(tf.__file__)\n",
    "print(tf.__version__)\n"
   ]
  },
  {
   "cell_type": "code",
   "execution_count": null,
   "metadata": {},
   "outputs": [],
   "source": [
    "os.chdir(\n",
    "    '/home/n/devel/anting_remote/eos/data/HMZABAAH7MF011058−longfei/baseline/tf_ckpts-ddpg/vb_rl-ddpg_actor'\n",
    ")"
   ]
  },
  {
   "cell_type": "code",
   "execution_count": null,
   "metadata": {},
   "outputs": [],
   "source": [
    "os.getcwd()"
   ]
  },
  {
   "cell_type": "code",
   "execution_count": null,
   "metadata": {},
   "outputs": [],
   "source": [
    "os.listdir('.')"
   ]
  },
  {
   "cell_type": "code",
   "execution_count": null,
   "metadata": {},
   "outputs": [],
   "source": [
    "from keras import layers\n",
    "from eos import DDPG\n",
    "from eos.config import trucks_by_id, Plot\n",
    "from eos.data_io.utils import logger, dictLogger\n"
   ]
  },
  {
   "cell_type": "code",
   "execution_count": null,
   "metadata": {},
   "outputs": [],
   "source": [
    "ddpg = DDPG(\n",
    "    _buffer=None,\n",
    "    _plot=None,\n",
    "    _truck=trucks_by_id.get('VB7'),\n",
    "    _driver='longfei',\n",
    "    _num_states=600,\n",
    "    _num_actions=68,\n",
    "    _buffer_capacity=300000,\n",
    "    _batch_size=4,\n",
    "    _hidden_units_ac=(256, 16, 32),\n",
    "    _action_bias=0,\n",
    "    _n_layers_ac=(2, 2),\n",
    "    _padding_value=-10000,\n",
    "    _gamma=0.99,\n",
    "    _tau_ac=(0.005, 0.005),\n",
    "    _lr_ac=(0.001, 0.002),\n",
    "    _data_folder='/home/n/devel/anting_remote/eos/data/HMZABAAH7MF011058−longfei/baseline',\n",
    "    _ckpt_interval=5,\n",
    "    _infer_mode=True,\n",
    ")\n"
   ]
  },
  {
   "cell_type": "code",
   "execution_count": null,
   "metadata": {},
   "outputs": [],
   "source": [
    "print(ddpg.plot)"
   ]
  },
  {
   "cell_type": "code",
   "execution_count": null,
   "metadata": {},
   "outputs": [],
   "source": [
    "lg = DDPG.logger\n",
    "print(ddpg.actor_model.summary())\n"
   ]
  }
 ],
 "metadata": {
  "kernelspec": {
   "display_name": "Python 3",
   "language": "python",
   "name": "python3"
  },
  "language_info": {
   "codemirror_mode": {
    "name": "ipython",
    "version": 2
   },
   "file_extension": ".py",
   "mimetype": "text/x-python",
   "name": "python",
   "nbconvert_exporter": "python",
   "pygments_lexer": "ipython2",
   "version": "2.7.6"
  }
 },
 "nbformat": 4,
 "nbformat_minor": 0
}
