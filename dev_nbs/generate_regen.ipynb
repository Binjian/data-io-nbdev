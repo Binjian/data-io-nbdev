{
 "cells": [
  {
   "cell_type": "markdown",
   "metadata": {
    "pycharm": {
     "name": "#%% md\n"
    }
   },
   "source": [
    "# create regen pedal map\n",
    "\n",
    "**Author:** binjian Xin<br>\n",
    "**Date Created:** 2021/07/29<br>\n",
    "**Last Modified:** 2021/07/29<br>\n",
    "**Description:** create regen pedal map and visualize<br>\n",
    "\n",
    "## Create the non-eco pedal map\n",
    "\n",
    "read default pedal map (claiming to be eco) from data file"
   ]
  },
  {
   "cell_type": "markdown",
   "metadata": {
    "pycharm": {
     "name": "#%% md\n"
    }
   },
   "source": [
    "## modify data\n",
    "\n",
    "Modify default table to generate a non-eco pedal map data array"
   ]
  },
  {
   "cell_type": "code",
   "execution_count": null,
   "metadata": {
    "pycharm": {
     "name": "#%%\n"
    }
   },
   "outputs": [],
   "source": [
    "import numpy as np\n",
    "import pandas as pd\n",
    "\n",
    "# pd_data0 = pd.read_csv(\"../../data/init_table_coastdown.csv\", header=0, index_col=0)\n",
    "pd_data0 = pd.read_csv(\n",
    "    \"../../data/54_vertices_approx-regen3.csv\", header=0, index_col=0\n",
    ")"
   ]
  },
  {
   "cell_type": "code",
   "execution_count": null,
   "metadata": {
    "pycharm": {
     "name": "#%%\n"
    }
   },
   "outputs": [],
   "source": [
    "import chart_studio.plotly as py\n",
    "\n",
    "# import plotly.graph_objects as graph_objects\n",
    "import numpy as np\n",
    "import matplotlib.cm as cm\n",
    "from functools import reduce\n",
    "import plotly.graph_objects as go\n",
    "\n",
    "\n",
    "def map_z2color(zval, colormap, vmin, vmax):\n",
    "    # map the normalized value zval to a corresponding color in the colormap\n",
    "\n",
    "    if vmin > vmax:\n",
    "        raise ValueError(\"incorrect relation between vmin and vmax\")\n",
    "    t = (zval - vmin) / float((vmax - vmin))  # normalize val\n",
    "    R, G, B, alpha = colormap(t)\n",
    "    return (\n",
    "        \"rgb(\"\n",
    "        + \"{:d}\".format(int(R * 255 + 0.5))\n",
    "        + \",\"\n",
    "        + \"{:d}\".format(int(G * 255 + 0.5))\n",
    "        + \",\"\n",
    "        + \"{:d}\".format(int(B * 255 + 0.5))\n",
    "        + \")\"\n",
    "    )\n",
    "\n",
    "\n",
    "def tri_indices(simplices):\n",
    "    # simplices is a numpy array defining the simplices of the triangularization\n",
    "    # returns the lists of indices i, j, k\n",
    "\n",
    "    return ([triplet[c] for triplet in simplices] for c in range(3))\n",
    "\n",
    "\n",
    "def plotly_trisurf(x, y, z, simplices, colormap=cm.RdBu, plot_edges=None):\n",
    "    # x, y, z are lists of coordinates of the triangle vertices\n",
    "    # simplices are the simplices that define the triangularization;\n",
    "    # simplices  is a numpy array of shape (no_triangles, 3)\n",
    "    # insert here the  type check for input data\n",
    "\n",
    "    points3D = np.vstack((x, y, z)).T\n",
    "    tri_vertices = map(\n",
    "        lambda index: points3D[index], simplices\n",
    "    )  # vertices of the surface triangles\n",
    "    zmean = [\n",
    "        np.mean(tri[:, 2]) for tri in tri_vertices\n",
    "    ]  # mean values of z-coordinates of\n",
    "    # triangle vertices\n",
    "    min_zmean = np.min(zmean)\n",
    "    max_zmean = np.max(zmean)\n",
    "    facecolor = [map_z2color(zz, colormap, min_zmean, max_zmean) for zz in zmean]\n",
    "    I, J, K = tri_indices(simplices)\n",
    "\n",
    "    triangles = go.Mesh3d(x=x, y=y, z=z, facecolor=facecolor, i=I, j=J, k=K, name=\"\")\n",
    "\n",
    "    if plot_edges is None:  # the triangle sides are not plotted\n",
    "        return [triangles]\n",
    "    else:\n",
    "        # define the lists Xe, Ye, Ze, of x, y, resp z coordinates of edge end points for each triangle\n",
    "        # None separates data corresponding to two consecutive triangles\n",
    "        lists_coord = [\n",
    "            [[T[k % 3][c] for k in range(4)] + [None] for T in tri_vertices]\n",
    "            for c in range(3)\n",
    "        ]\n",
    "        Xe, Ye, Ze = [reduce(lambda x, y: x + y, lists_coord[k]) for k in range(3)]\n",
    "\n",
    "        # define the lines to be plotted\n",
    "        lines = go.Scatter3d(\n",
    "            x=Xe, y=Ye, z=Ze, mode=\"lines\", line=dict(color=\"rgb(50,50,50)\", width=1.5)\n",
    "        )\n",
    "        return [triangles, lines]"
   ]
  },
  {
   "cell_type": "markdown",
   "metadata": {
    "pycharm": {
     "name": "#%% md\n"
    }
   },
   "source": [
    "### create the planes"
   ]
  },
  {
   "cell_type": "code",
   "execution_count": null,
   "metadata": {
    "pycharm": {
     "name": "#%%\n"
    }
   },
   "outputs": [],
   "source": [
    "# import pyrr\n",
    "from scipy.spatial import Delaunay\n",
    "import matplotlib.pyplot as plt\n",
    "import pyrr\n",
    "\n",
    "# v0 = np.array([1, 0, 4400])\n",
    "# # v1 = np.array([0, 0, 1059])\n",
    "# # v1 = np.array([0, 0, 100])  # regen2\n",
    "# v1 = np.array([0, 0, 100])  # regen_strong\n",
    "# # v2 = np.array([0, 1.94444, 70])  # 14 pieces default\n",
    "# # v2 = np.array([0, 1.94444, -1000])   # regen more regenerative braking\n",
    "# v2 = np.array([0, 1.94444, -3000])   # regen1 more regenerative braking\n",
    "#\n",
    "\n",
    "\n",
    "# v0 = np.array([0, 0, 800])  # original\n",
    "# v0 = np.array([0, 0, 100])  # regen1\n",
    "v0 = np.array([0, 0, -500])  # regen2\n",
    "# v1 = np.array([0, 7, 80])  # original\n",
    "v1 = np.array([0, 7, -800])  # regen2\n",
    "# v2 = np.array([0, 10, -200]) # original\n",
    "v2 = np.array([0, 10, -1000])  # regen2\n",
    "# v3 = np.array([0, 15, -800]) # original\n",
    "v3 = np.array([0, 15, -1200])  # regen2\n",
    "v4 = np.array([0, 20, -1300])  # regen2\n",
    "v5 = np.array([0, 25, -1300])\n",
    "v6 = np.array([0, 30, -1300])\n",
    "v7 = np.array([0, 35, -1500])\n",
    "v8 = np.array([0, 40, -1400])\n",
    "v9 = np.array([0, 45, -1800])\n",
    "v10 = np.array([0, 70, -1800])\n",
    "v11 = np.array([0, 75, -1600])\n",
    "v12 = np.array([0, 80, -1400])\n",
    "v13 = np.array([0, 90, -800])\n",
    "v14 = np.array([0, 95, -700])\n",
    "v15 = np.array([0, 100, -600])\n",
    "\n",
    "v16 = np.array([1, 0, 4436])\n",
    "v17 = np.array([1, 7, 4526.8])\n",
    "v18 = np.array([1, 10, 4566.5])\n",
    "v19 = np.array([1, 20, 4436])\n",
    "v20 = np.array([1, 35, 4436])\n",
    "v21 = np.array([1, 40, 4286.7])\n",
    "v22 = np.array([1, 50, 3625])\n",
    "v23 = np.array([1, 65, 2651])\n",
    "v24 = np.array([1, 70, 2674.5])\n",
    "v25 = np.array([1, 95, 1826])\n",
    "v26 = np.array([1, 100, 1826.6])\n",
    "\n",
    "v27 = np.array([0.86, 15, 4426])\n",
    "v28 = np.array([0.86, 20, 4345])\n",
    "v29 = np.array([0.86, 25, 4233])\n",
    "v30 = np.array([0.86, 40, 3915])\n",
    "v31 = np.array([0.86, 50, 3625])\n",
    "v32 = np.array([0.86, 55, 3383])\n",
    "\n",
    "v33 = np.array([0.74, 55, 3018.8])\n",
    "v34 = np.array([0.74, 65, 2651.2])\n",
    "v35 = np.array([0.74, 70, 2614.9])\n",
    "v36 = np.array([0.74, 100, 1668])\n",
    "\n",
    "v37 = np.array([0.5, 0, 2775])\n",
    "v38 = np.array([0.38, 0, 2125])\n",
    "v39 = np.array([0.2, 0, 1150])\n",
    "# v40 = np.array([0.02, 0, 1058.8]) # original\n",
    "# v40 = np.array([0.02, 0, 200]) # regen1\n",
    "v40 = np.array([0.02, 0, -300])  # regen2\n",
    "\n",
    "v41 = np.array([0.5, 20, 2427.5])\n",
    "v42 = np.array([0.5, 55, 1908])\n",
    "v43 = np.array([0.5, 80, 1429])\n",
    "v44 = np.array([0.5, 100, 1082.9])\n",
    "\n",
    "v45 = np.array([0.24, 100, 449])\n",
    "v46 = np.array([0.2, 100, -36])\n",
    "v47 = np.array([0.02, 100, -550])\n",
    "v48 = np.array([0, 100, -600])\n",
    "\n",
    "v49 = np.array([0.04, 85, -800])\n",
    "v50 = np.array([0.04, 80, -1000])\n",
    "\n",
    "v51 = np.array([0.02, 65, -1550])\n",
    "v52 = np.array([0.02, 45, -1350])\n",
    "v53 = np.array([0.02, 60, -1450])\n",
    "\n",
    "points = np.array(\n",
    "    [\n",
    "        v0,\n",
    "        v1,\n",
    "        v2,\n",
    "        v3,\n",
    "        v4,\n",
    "        v5,\n",
    "        v6,\n",
    "        v7,\n",
    "        v8,\n",
    "        v9,\n",
    "        v10,\n",
    "        v11,\n",
    "        v12,\n",
    "        v13,\n",
    "        v14,\n",
    "        v15,\n",
    "        v16,\n",
    "        v17,\n",
    "        v18,\n",
    "        v19,\n",
    "        v20,\n",
    "        v21,\n",
    "        v22,\n",
    "        v23,\n",
    "        v24,\n",
    "        v25,\n",
    "        v26,\n",
    "        v27,\n",
    "        v28,\n",
    "        v29,\n",
    "        v30,\n",
    "        v31,\n",
    "        v32,\n",
    "        v33,\n",
    "        v34,\n",
    "        v35,\n",
    "        v36,\n",
    "        v37,\n",
    "        v38,\n",
    "        v39,\n",
    "        v40,\n",
    "        v41,\n",
    "        v42,\n",
    "        v43,\n",
    "        v44,\n",
    "        v45,\n",
    "        v46,\n",
    "        v47,\n",
    "        v48,\n",
    "        v49,\n",
    "        v50,\n",
    "        v51,\n",
    "        v52,\n",
    "        v53,\n",
    "    ]\n",
    ")\n",
    "\n",
    "u = points[:, 0]\n",
    "v = points[:, 1]\n",
    "z = points[:, 2]\n",
    "tri = Delaunay(np.array([u, v]).T)\n",
    "\n",
    "print(\"polyhedron(faces = [\")\n",
    "# for vert in tri.triangles:\n",
    "for vert in tri.simplices:\n",
    "    print(\n",
    "        \"[%d,%d,%d],\" % (vert[0], vert[1], vert[2]),\n",
    "    )\n",
    "print(\"], points = [\")\n",
    "for i in range(u.shape[0]):\n",
    "    print(\n",
    "        \"[%f,%f,%f],\" % (u[i], v[i], z[i]),\n",
    "    )\n",
    "print(\"]);\")\n",
    "\n",
    "print(tri.simplices.shape, \"\\nShape\\n\", tri.simplices)"
   ]
  },
  {
   "cell_type": "code",
   "execution_count": null,
   "metadata": {
    "pycharm": {
     "name": "#%%\n"
    }
   },
   "outputs": [],
   "source": [
    "axis = dict(\n",
    "    showbackground=True,\n",
    "    backgroundcolor=\"rgb(230, 230,230)\",\n",
    "    gridcolor=\"rgb(255, 255, 255)\",\n",
    "    zerolinecolor=\"rgb(255, 255, 255)\",\n",
    ")\n",
    "\n",
    "layout = go.Layout(\n",
    "    title=\"Pedal Map Non-Eco\",\n",
    "    width=800,\n",
    "    height=800,\n",
    "    scene=dict(\n",
    "        xaxis=dict(axis),\n",
    "        yaxis=dict(axis),\n",
    "        zaxis=dict(axis),\n",
    "        aspectratio=dict(x=1, y=1, z=0.5),\n",
    "    ),\n",
    ")\n",
    "\n",
    "data1 = plotly_trisurf(\n",
    "    points[:, 0],\n",
    "    points[:, 1],\n",
    "    points[:, 2],\n",
    "    tri.simplices,\n",
    "    colormap=cm.RdBu,\n",
    "    plot_edges=None,\n",
    ")\n",
    "\n",
    "\n",
    "fig2 = go.Figure(data=data1, layout=layout)\n",
    "\n",
    "# import chart_studio.plotly as py\n",
    "# from chart_studio.plotly import plot, iplot\n",
    "from plotly.offline import iplot\n",
    "\n",
    "iplot(fig2)"
   ]
  },
  {
   "cell_type": "markdown",
   "metadata": {
    "pycharm": {
     "name": "#%% md\n"
    }
   },
   "source": [
    "## Create meshgrid and data on specified grid"
   ]
  },
  {
   "cell_type": "code",
   "execution_count": null,
   "metadata": {
    "pycharm": {
     "name": "#%%\n"
    }
   },
   "outputs": [],
   "source": [
    "# Generate meshgrid for xy plane\n",
    "\n",
    "\n",
    "ped = pd_data0.columns.to_numpy().astype(np.float64)\n",
    "vel = pd_data0.index.to_numpy().astype(np.float64)\n",
    "\n",
    "pdv, vlv = np.meshgrid(ped, vel, sparse=False)"
   ]
  },
  {
   "cell_type": "code",
   "execution_count": null,
   "metadata": {
    "pycharm": {
     "name": "#%%\n"
    }
   },
   "outputs": [],
   "source": [
    "# find simplices for meshgrid points\n",
    "\n",
    "p_mesh = np.array(list(zip(pdv, vlv)))\n",
    "p_mesh_transposed = np.transpose(p_mesh, (0, 2, 1))"
   ]
  },
  {
   "cell_type": "code",
   "execution_count": null,
   "metadata": {
    "pycharm": {
     "name": "#%%\n"
    }
   },
   "outputs": [],
   "source": [
    "sh_1 = ped.shape[0]\n",
    "sh_0 = vel.shape[0]\n",
    "p_mesh_flat = p_mesh_transposed.reshape(sh_0 * sh_1, 2, order=\"A\")"
   ]
  },
  {
   "cell_type": "code",
   "execution_count": null,
   "metadata": {
    "pycharm": {
     "name": "#%%\n"
    }
   },
   "outputs": [],
   "source": [
    "p_simplex = tri.find_simplex(p_mesh_flat)"
   ]
  },
  {
   "cell_type": "code",
   "execution_count": null,
   "metadata": {
    "pycharm": {
     "name": "#%%\n"
    }
   },
   "outputs": [],
   "source": [
    "# find barycentric coordinates of the meshgrid points in the corresponding simplices\n",
    "tri_trans = tri.transform[p_simplex, :2]\n",
    "tri_r = tri.transform[p_simplex, 2]\n",
    "\n",
    "p_r = p_mesh_flat - tri_r"
   ]
  },
  {
   "cell_type": "code",
   "execution_count": null,
   "metadata": {
    "pycharm": {
     "name": "#%%\n"
    }
   },
   "outputs": [],
   "source": [
    "b = np.einsum(\"ijk, ik->ij\", tri_trans, p_r)"
   ]
  },
  {
   "cell_type": "code",
   "execution_count": null,
   "metadata": {
    "pycharm": {
     "name": "#%%\n"
    }
   },
   "outputs": [],
   "source": [
    "b3 = 1 - b.sum(axis=1)"
   ]
  },
  {
   "cell_type": "code",
   "execution_count": null,
   "metadata": {
    "pycharm": {
     "name": "#%%\n"
    }
   },
   "outputs": [],
   "source": [
    "barrycentric_p = np.c_[b, b3]"
   ]
  },
  {
   "cell_type": "code",
   "execution_count": null,
   "metadata": {
    "pycharm": {
     "name": "#%%\n"
    }
   },
   "outputs": [],
   "source": [
    "tri_vertices = points[tri.simplices]"
   ]
  },
  {
   "cell_type": "code",
   "execution_count": null,
   "metadata": {
    "pycharm": {
     "name": "#%%\n"
    }
   },
   "outputs": [],
   "source": [
    "mesh_faces = tri.simplices[p_simplex]"
   ]
  },
  {
   "cell_type": "code",
   "execution_count": null,
   "metadata": {
    "pycharm": {
     "name": "#%%\n"
    }
   },
   "outputs": [],
   "source": [
    "p_mesh_faces = points[mesh_faces]"
   ]
  },
  {
   "cell_type": "code",
   "execution_count": null,
   "metadata": {
    "pycharm": {
     "name": "#%%\n"
    }
   },
   "outputs": [],
   "source": [
    "# get the z coordinate by using barycentric coordinates of the meshgrid points\n",
    "\n",
    "# generate 3d meshgrid data\n",
    "\n",
    "r = np.einsum(\"ijk,ij->ik\", p_mesh_faces, barrycentric_p)"
   ]
  },
  {
   "cell_type": "code",
   "execution_count": null,
   "metadata": {
    "pycharm": {
     "name": "#%%\n"
    }
   },
   "outputs": [],
   "source": [
    "# use plotly to plot the 3d data"
   ]
  },
  {
   "cell_type": "code",
   "execution_count": null,
   "metadata": {
    "pycharm": {
     "name": "#%%\n"
    }
   },
   "outputs": [],
   "source": [
    "# sh_0, sh_1 = r.shape\n",
    "ped = pd_data0.columns.to_numpy().astype(np.float64)\n",
    "vel = pd_data0.index.to_numpy().astype(np.float64)\n",
    "\n",
    "# x, y =  np.linspace(0,1.0,sh_1), np.linspace(0,100/3.6, sh_0)\n",
    "# y[1] = 7/3.6\n",
    "# x = np.array([0, 2, 4, 8, 12, 16, 20, 24, 28, 32, 38, 44, 50, 62, 74, 86, 100])/100\n",
    "zr = r[:, 2]\n",
    "zr = zr.reshape(sh_0, sh_1)"
   ]
  },
  {
   "cell_type": "code",
   "execution_count": null,
   "metadata": {
    "pycharm": {
     "name": "#%%\n"
    }
   },
   "outputs": [],
   "source": [
    "# pd_data = pd.DataFrame(pd_data0.values[:,1:], index=pd_data0.values[:,0], columns=pd_data0.columns[1:].to_numpy())\n",
    "# v = pd_data.to_numpy()\n",
    "# zr_calib = np.c_[np.arange(17), np.transpose(zr)]\n",
    "# zr_calib = np.transpose(zr_calib)\n",
    "zr_calib = pd.DataFrame(zr, index=vel, columns=ped)\n",
    "zr_calib.to_csv(\"../../data/54_vertices_approx-regen2.csv\")"
   ]
  },
  {
   "cell_type": "code",
   "execution_count": null,
   "metadata": {
    "pycharm": {
     "name": "#%%\n"
    }
   },
   "outputs": [],
   "source": [
    "z0 = np.zeros(zr.shape)\n",
    "figure4 = go.Figure(\n",
    "    data=[\n",
    "        go.Surface(\n",
    "            contours={\n",
    "                \"y\": {\"show\": True, \"start\": 0, \"end\": 25, \"size\": 5, \"color\": \"cyan\"},\n",
    "                \"z\": {\n",
    "                    \"show\": True,\n",
    "                    \"start\": -3000,\n",
    "                    \"end\": 4600,\n",
    "                    \"size\": 500,\n",
    "                    \"color\": \"blue\",\n",
    "                },\n",
    "            },\n",
    "            x=ped,\n",
    "            y=vel,\n",
    "            z=zr,\n",
    "        ),\n",
    "        go.Surface(x=ped, y=vel, z=z0),\n",
    "    ]\n",
    ")\n",
    "# figure.update_traces(contours_z=dict(show=True, usecolormap=True,\n",
    "#                                   highlightcolor=\"limegreen\", project_z=True))\n",
    "figure4.update_layout(\n",
    "    title=\"Pedal Map\",\n",
    "    autosize=False,\n",
    "    scene=dict(xaxis_title=\"pedal\", yaxis_title=\"velocity\", zaxis_title=\"torque\"),\n",
    "    width=700,\n",
    "    height=700,\n",
    "    margin=dict(l=65, r=50, b=65, t=90),\n",
    ")\n",
    "# figure0.add_trace(go.Surface(x=x,y=y,z=z0, surfacecolor=np.ones(z0.shape)))\n",
    "figure4.show()"
   ]
  },
  {
   "cell_type": "code",
   "execution_count": null,
   "metadata": {
    "pycharm": {
     "name": "#%%\n"
    }
   },
   "outputs": [],
   "source": [
    "# plot the generated meshgrid as 3d scatter plot\n",
    "# import matplotlib.pyplot as plt\n",
    "# from  mpl_toolkits.mplot3d import Axes3D\n",
    "# fig3 = plt.figure()\n",
    "# ax = fig3.add_subplot(111, projection='3d')\n",
    "#\n",
    "# ax.scatter(r[:, 0], r[:,1], r[:,2], marker='o')\n",
    "# ax.set_xlabel('pedal')\n",
    "# ax.set_ylabel('velocity')\n",
    "# ax.set_zlabel('torque')\n",
    "# fig3.show()"
   ]
  }
 ],
 "metadata": {
  "kernelspec": {
   "display_name": "Python 3",
   "language": "python",
   "name": "python3"
  },
  "language_info": {
   "codemirror_mode": {
    "name": "ipython",
    "version": 2
   },
   "file_extension": ".py",
   "mimetype": "text/x-python",
   "name": "python",
   "nbconvert_exporter": "python",
   "pygments_lexer": "ipython2",
   "version": "2.7.6"
  }
 },
 "nbformat": 4,
 "nbformat_minor": 0
}
