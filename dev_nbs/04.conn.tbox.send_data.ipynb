{
 "cells": [
  {
   "cell_type": "code",
   "execution_count": null,
   "id": "b876a94a",
   "metadata": {
    "lines_to_next_cell": 0
   },
   "outputs": [],
   "source": []
  },
  {
   "cell_type": "code",
   "execution_count": null,
   "id": "93193ed6",
   "metadata": {},
   "outputs": [],
   "source": [
    "import tbox_sim"
   ]
  },
  {
   "cell_type": "code",
   "execution_count": null,
   "id": "d5d85460",
   "metadata": {},
   "outputs": [],
   "source": [
    "if __name__ == \"__main__\":\n",
    "    # args = parse_arg()\n",
    "    value = [99.0] * 21 * 17\n",
    "    tbox_sim.set_tbox_sim_path(\"/home/user/work/045b_demo/tbox-simulator\")\n",
    "    tbox_sim.send_float_array(\"TQD_trqTrqSetNormal_MAP_v\", value)"
   ]
  }
 ],
 "metadata": {
  "jupytext": {
   "cell_metadata_filter": "-all",
   "executable": "/usr/bin/env python3",
   "main_language": "python",
   "notebook_metadata_filter": "-all"
  }
 },
 "nbformat": 4,
 "nbformat_minor": 5
}
