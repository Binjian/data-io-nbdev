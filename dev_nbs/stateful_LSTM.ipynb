{
 "cells": [
  {
   "cell_type": "code",
   "execution_count": null,
   "metadata": {},
   "outputs": [],
   "source": [
    "import os\n",
    "\n",
    "# os.environ[\"CUDA_VISIBLE_DEVICES\"] = \"-1\"\n",
    "import numpy as np\n",
    "import tensorflow as tf\n",
    "\n",
    "physical_devices = tf.config.list_physical_devices(\"GPU\")\n",
    "for device in physical_devices:\n",
    "    tf.config.experimental.set_memory_growth(device, enable=True)\n",
    "from tensorflow.keras.layers import BatchNormalization\n",
    "\n",
    "# from keras.layers.normalization import layer_normalization\n",
    "from tensorflow.keras import Sequential\n",
    "from tensorflow.keras.layers import LSTM, Dense"
   ]
  },
  {
   "cell_type": "code",
   "execution_count": null,
   "metadata": {
    "pycharm": {
     "name": "#%%\n"
    }
   },
   "outputs": [],
   "source": [
    "print(\"Num GPUs Available: \", len(tf.config.list_physical_devices(\"GPU\")))"
   ]
  },
  {
   "cell_type": "code",
   "execution_count": null,
   "metadata": {
    "pycharm": {
     "name": "#%%\n"
    }
   },
   "outputs": [],
   "source": [
    "N_train = 1000\n",
    "X = np.expand_dims(np.zeros((1200, 20), dtype=float), axis=2)\n",
    "Y = np.expand_dims(np.zeros((1200), dtype=float), axis=1)\n",
    "# Y = np.zeros(1200,dtype=float)\n",
    "X_train = X[:1000, :]\n",
    "Y_train = Y[:1000, :]\n",
    "X_test = X[1000:, :]\n",
    "Y_test = Y[1000:, :]"
   ]
  },
  {
   "cell_type": "code",
   "execution_count": null,
   "metadata": {
    "pycharm": {
     "name": "#%%\n"
    }
   },
   "outputs": [],
   "source": [
    "from numpy.random import choice\n",
    "\n",
    "one_indexes = choice(a=N_train, size=int(N_train / 2), replace=False)\n",
    "X_train[one_indexes, 0, :] = 1  # very long term memory.\n",
    "Y_train[one_indexes, :] = 1  # very long term memory.\n",
    "\n",
    "one_indexes = choice(a=200, size=int(200 / 2), replace=False)\n",
    "X_test[one_indexes, 0, :] = 1  # very long term memory.\n",
    "Y_test[one_indexes] = 1  # very long term memory."
   ]
  },
  {
   "cell_type": "code",
   "execution_count": null,
   "metadata": {
    "pycharm": {
     "name": "#%%\n"
    }
   },
   "outputs": [],
   "source": [
    "def prepare_sequences(x_train, y_train, window_length):\n",
    "    windows = []\n",
    "    windows_y = []\n",
    "    for i, sequence in enumerate(x_train):\n",
    "        len_seq = len(sequence)\n",
    "        for window_start in range(0, len_seq - window_length + 1):\n",
    "            window_end = window_start + window_length\n",
    "            window = sequence[window_start:window_end]\n",
    "            windows.append(window)\n",
    "            windows_y.append(y_train[i])\n",
    "    return np.array(windows), np.array(windows_y)"
   ]
  },
  {
   "cell_type": "code",
   "execution_count": null,
   "metadata": {
    "pycharm": {
     "name": "#%%\n"
    }
   },
   "outputs": [],
   "source": [
    "x_train, y_train = prepare_sequences(X_train, Y_train, 10)\n",
    "x_test, y_test = prepare_sequences(X_test, Y_test, 10)"
   ]
  },
  {
   "cell_type": "code",
   "execution_count": null,
   "metadata": {
    "pycharm": {
     "name": "#%%\n"
    }
   },
   "outputs": [],
   "source": [
    "max_len = 10\n",
    "batch_size = 64\n",
    "print(\"Building STATELESS model...\")\n",
    "model = Sequential()\n",
    "model.add(LSTM(10, input_shape=(max_len, 1), return_sequences=False, stateful=False))\n",
    "# model.add(LSTM(10, batch_input_shape=(batch_size, max_len, 1), return_sequences=False, stateful=False))\n",
    "model.add(Dense(1, activation=\"sigmoid\"))\n",
    "model.compile(loss=\"binary_crossentropy\", optimizer=\"adam\", metrics=[\"accuracy\"])\n",
    "# train_size = batch_size * x_train.shape"
   ]
  },
  {
   "cell_type": "code",
   "execution_count": null,
   "metadata": {
    "pycharm": {
     "name": "#%%\n"
    }
   },
   "outputs": [],
   "source": [
    "# x_train1 = x_train[:170*batch_size,:,:]\n",
    "# y_train1 = y_train[:170*batch_size,:]\n",
    "# x_test1 = x_test[:33*batch_size,:,:]\n",
    "# y_test1 = y_test[:33*batch_size,:]\n",
    "#\n",
    "# model.fit(x_train1, y_train1, batch_size=batch_size, epochs=15,\n",
    "#           validation_data=(x_test1, y_test1), shuffle=False)\n",
    "model.fit(\n",
    "    x_train,\n",
    "    y_train,\n",
    "    batch_size=batch_size,\n",
    "    epochs=15,\n",
    "    validation_data=(x_test, y_test),\n",
    "    shuffle=False,\n",
    ")"
   ]
  },
  {
   "cell_type": "code",
   "execution_count": null,
   "metadata": {
    "pycharm": {
     "name": "#%%\n"
    }
   },
   "outputs": [],
   "source": [
    "score, acc = model.evaluate(x_test, y_test, batch_size=batch_size, verbose=0)"
   ]
  }
 ],
 "metadata": {
  "kernelspec": {
   "display_name": "Python 3",
   "language": "python",
   "name": "python3"
  },
  "language_info": {
   "codemirror_mode": {
    "name": "ipython",
    "version": 2
   },
   "file_extension": ".py",
   "mimetype": "text/x-python",
   "name": "python",
   "nbconvert_exporter": "python",
   "pygments_lexer": "ipython2",
   "version": "2.7.6"
  }
 },
 "nbformat": 4,
 "nbformat_minor": 0
}
