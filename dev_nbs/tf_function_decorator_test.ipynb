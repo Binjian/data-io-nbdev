{
 "cells": [
  {
   "cell_type": "code",
   "execution_count": null,
   "id": "2e6bd389",
   "metadata": {},
   "outputs": [],
   "source": [
    "import unittest"
   ]
  },
  {
   "cell_type": "code",
   "execution_count": null,
   "id": "f73270d9",
   "metadata": {},
   "outputs": [],
   "source": [
    "import tensorflow as tf"
   ]
  },
  {
   "cell_type": "code",
   "execution_count": null,
   "id": "dada89a2",
   "metadata": {},
   "outputs": [],
   "source": [
    "def my_function(x):\n",
    "    return x * 2"
   ]
  },
  {
   "cell_type": "code",
   "execution_count": null,
   "id": "3cf08c29",
   "metadata": {},
   "outputs": [],
   "source": [
    "@tf.function\n",
    "def decorated_function(x):\n",
    "    input_signature = tf.TensorSpec(shape=[None], dtype=tf.float32)\n",
    "    return my_function(x)"
   ]
  },
  {
   "cell_type": "code",
   "execution_count": null,
   "id": "36e8e3df",
   "metadata": {},
   "outputs": [],
   "source": [
    "class TestDecoratedFunction(unittest.TestCase):\n",
    "    def test_change_input_signature(self):\n",
    "        # Change the input_signature to have a shape of [2]\n",
    "        decorated_function.input_signature = tf.TensorSpec(shape=[2], dtype=tf.float32)\n",
    "\n",
    "        # Call the function with a shape of [2]\n",
    "        result = decorated_function([1, 2])\n",
    "\n",
    "        # The result should be a tensor with a shape of [2]\n",
    "        self.assertEqual(result.shape, [2])"
   ]
  },
  {
   "cell_type": "code",
   "execution_count": null,
   "id": "32c74a50",
   "metadata": {},
   "outputs": [],
   "source": [
    "if __name__ == \"__main__\":\n",
    "    unittest.main()"
   ]
  }
 ],
 "metadata": {
  "jupytext": {
   "cell_metadata_filter": "-all",
   "main_language": "python",
   "notebook_metadata_filter": "-all"
  }
 },
 "nbformat": 4,
 "nbformat_minor": 5
}
