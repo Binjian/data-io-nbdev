{
 "cells": [
  {
   "cell_type": "code",
   "execution_count": null,
   "id": "bb1fe885",
   "metadata": {},
   "outputs": [],
   "source": [
    "import argparse\n",
    "import json\n",
    "from datetime import datetime"
   ]
  },
  {
   "cell_type": "code",
   "execution_count": null,
   "id": "b97170c8",
   "metadata": {},
   "outputs": [],
   "source": [
    "# argument parser\n",
    "parser = argparse.ArgumentParser()\n",
    "parser.add_argument(\n",
    "    \"-p\",\n",
    "    \"--path\",\n",
    "    type=str,\n",
    "    help=\"log file path, the file to be converted to json format\",\n",
    ")\n",
    "args = parser.parse_args()"
   ]
  },
  {
   "cell_type": "code",
   "execution_count": null,
   "id": "980bc7f7",
   "metadata": {},
   "outputs": [],
   "source": [
    "# file name\n",
    "if args.path:\n",
    "    # logfile = logfolder + log_file_name\n",
    "    logfile = args.path\n",
    "else:\n",
    "    logfile = \"log.log\"\n",
    "# in log file\n",
    "with open(logfile) as f:\n",
    "    # line by line\n",
    "    lines = f.readlines()\n",
    "    result = []\n",
    "    for l in lines:\n",
    "        # remove \\n\n",
    "        l = l.strip(\"\\n\")\n",
    "        # string to dict\n",
    "        l = json.loads(rl)\n",
    "        created = datetime.fromisoformat(l[\"asctime\"].replace(\",\", \".\"))\n",
    "        l[\"created\"] = created.timestamp()\n",
    "        # append dict\n",
    "        result.append(l)"
   ]
  },
  {
   "cell_type": "code",
   "execution_count": null,
   "id": "a737104a",
   "metadata": {},
   "outputs": [],
   "source": [
    "# get log file name\n",
    "jsonFileName = logfile.split(\"\\.log\")[0]\n",
    "# print(jsonFileName)\n",
    "# write to json file\n",
    "jsonFile = open(jsonFileName + \".json\", \"w\")\n",
    "jsonString = json.dumps(result)\n",
    "jsonFile.write(jsonString)\n",
    "jsonFile.close()"
   ]
  }
 ],
 "metadata": {
  "jupytext": {
   "cell_metadata_filter": "-all",
   "main_language": "python",
   "notebook_metadata_filter": "-all"
  }
 },
 "nbformat": 4,
 "nbformat_minor": 5
}
