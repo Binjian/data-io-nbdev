{
 "cells": [
  {
   "cell_type": "code",
   "execution_count": null,
   "id": "d7bd3467",
   "metadata": {},
   "outputs": [],
   "source": [
    "# Create the data.\n",
    "from numpy import cos, mgrid, pi, sin"
   ]
  },
  {
   "cell_type": "code",
   "execution_count": null,
   "id": "f68c4995",
   "metadata": {},
   "outputs": [],
   "source": [
    "dphi, dtheta = pi / 250.0, pi / 250.0\n",
    "[phi, theta] = mgrid[0 : pi + dphi * 1.5 : dphi, 0 : 2 * pi + dtheta * 1.5 : dtheta]\n",
    "m0 = 4\n",
    "m1 = 3\n",
    "m2 = 2\n",
    "m3 = 3\n",
    "m4 = 6\n",
    "m5 = 2\n",
    "m6 = 6\n",
    "m7 = 4\n",
    "r = (\n",
    "    sin(m0 * phi) ** m1\n",
    "    + cos(m2 * phi) ** m3\n",
    "    + sin(m4 * theta) ** m5\n",
    "    + cos(m6 * theta) ** m7\n",
    ")\n",
    "x = r * sin(phi) * cos(theta)\n",
    "y = r * cos(phi)\n",
    "z = r * sin(phi) * sin(theta)"
   ]
  },
  {
   "cell_type": "code",
   "execution_count": null,
   "id": "54fa1764",
   "metadata": {},
   "outputs": [],
   "source": [
    "# View it.\n",
    "from mayavi import mlab"
   ]
  },
  {
   "cell_type": "code",
   "execution_count": null,
   "id": "83ac4425",
   "metadata": {},
   "outputs": [],
   "source": [
    "s = mlab.mesh(x, y, z)\n",
    "mlab.show()"
   ]
  }
 ],
 "metadata": {
  "jupytext": {
   "cell_metadata_filter": "-all",
   "main_language": "python",
   "notebook_metadata_filter": "-all"
  }
 },
 "nbformat": 4,
 "nbformat_minor": 5
}
