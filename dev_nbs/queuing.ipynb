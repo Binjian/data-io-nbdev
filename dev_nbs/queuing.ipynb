{
 "cells": [
  {
   "cell_type": "code",
   "execution_count": null,
   "id": "initial_id",
   "metadata": {},
   "outputs": [],
   "source": [
    "from queue import Queue\n",
    "\n",
    "my_queue = Queue(maxsize=0)\n",
    "my_queue.put(1)\n",
    "my_queue.put(2)\n",
    "my_queue.put(3)\n",
    "print(my_queue.get())\n",
    "my_queue.task_done()\n",
    "\n",
    "# Outputs: 1"
   ]
  },
  {
   "cell_type": "code",
   "execution_count": null,
   "id": "2c768d8165ca231f",
   "metadata": {},
   "outputs": [],
   "source": [
    "from queue import Queue\n",
    "\n",
    "\n",
    "def do_stuff(q):\n",
    "    while not q.empty():\n",
    "        print(q.get())\n",
    "        q.task_done()\n",
    "\n",
    "\n",
    "q = Queue(maxsize=0)\n",
    "\n",
    "for x in range(20):\n",
    "    q.put(x)\n",
    "\n",
    "do_stuff(q)"
   ]
  },
  {
   "cell_type": "code",
   "execution_count": null,
   "id": "175aa0eb1af56968",
   "metadata": {},
   "outputs": [],
   "source": [
    "from queue import Queue\n",
    "from threading import Thread\n",
    "from time import sleep\n",
    "\n",
    "\n",
    "def do_stuff(q, i):\n",
    "    while True:\n",
    "        print(f\"thread: {i} get {q.get()}\")\n",
    "        sleep(0.1)\n",
    "        q.task_done()\n",
    "\n",
    "\n",
    "q = Queue(maxsize=0)\n",
    "num_threads = 10\n",
    "\n",
    "for i in range(num_threads):\n",
    "    worker = Thread(target=do_stuff, args=(q, i))\n",
    "    # worker.setDaemon(True)\n",
    "    worker.daemon = True\n",
    "    worker.start()"
   ]
  },
  {
   "cell_type": "code",
   "execution_count": null,
   "id": "f7b3fa05292bb79a",
   "metadata": {},
   "outputs": [],
   "source": [
    "for y in range(10):\n",
    "    for x in range(20):\n",
    "        q.put(x + y * 100)\n",
    "    q.join()\n",
    "    print(\"Batch\")\n",
    "    print(f\"{str(y)} + Done\")"
   ]
  },
  {
   "cell_type": "code",
   "execution_count": null,
   "id": "cdc002e64ae91802",
   "metadata": {},
   "outputs": [],
   "source": [
    "for x in range(100):\n",
    "    q.put(x)\n",
    "\n",
    "q.join()"
   ]
  },
  {
   "cell_type": "code",
   "execution_count": null,
   "id": "96c487e659f648c6",
   "metadata": {},
   "outputs": [],
   "source": [
    "q.join()"
   ]
  },
  {
   "cell_type": "code",
   "execution_count": null,
   "id": "cfff2b6b8ef102ae",
   "metadata": {},
   "outputs": [],
   "source": [
    "import threading\n",
    "import queue\n",
    "import time\n",
    "\n",
    "q = queue.Queue()\n",
    "\n",
    "\n",
    "def worker():\n",
    "    while True:\n",
    "        item = q.get()\n",
    "        print(f\"Working on {item}\")\n",
    "        time.sleep(0.1)\n",
    "        print(f\"Finished {item}\")\n",
    "        q.task_done()\n",
    "\n",
    "\n",
    "# Turn-on the worker thread.\n",
    "threading.Thread(target=worker, daemon=True).start()\n",
    "\n",
    "# Send thirty task requests to the worker.\n",
    "for item in range(30):\n",
    "    q.put(item)\n",
    "\n",
    "# Block until all tasks are done.\n",
    "q.join()\n",
    "print(\"All work completed\")"
   ]
  },
  {
   "cell_type": "code",
   "execution_count": null,
   "id": "24d789d0a04eeb8b",
   "metadata": {},
   "outputs": [],
   "source": [
    "class c:\n",
    "    def __init__(self, color):\n",
    "        print(f\"id of self in __init__ on class is {id(self)}\")\n",
    "\n",
    "    def test(self):\n",
    "        print(\"hello\")\n",
    "\n",
    "    print(f\"id of __init__ on class is {id(__init__)}\")"
   ]
  },
  {
   "cell_type": "code",
   "execution_count": null,
   "id": "c5ec228dd842e162",
   "metadata": {},
   "outputs": [],
   "source": [
    "a = c(\"red\")\n",
    "print(id(a.__init__))\n",
    "print(id(a.test))\n",
    "b = c(\"green\")\n",
    "b.test()\n",
    "print(id(b.__init__))\n",
    "print(id(b.test))"
   ]
  },
  {
   "cell_type": "code",
   "execution_count": null,
   "id": "339d8b2cd1bc7a4f",
   "metadata": {},
   "outputs": [],
   "source": [
    "init = a.__init__\n",
    "test = a.test\n",
    "print(id(init))\n",
    "print(id(test))"
   ]
  },
  {
   "cell_type": "code",
   "execution_count": null,
   "id": "245c21717ea21d69",
   "metadata": {},
   "outputs": [],
   "source": [
    "print(id(init))\n",
    "print(id(test))\n",
    "test()"
   ]
  },
  {
   "cell_type": "code",
   "execution_count": null,
   "id": "b43eda09a78c94b9",
   "metadata": {},
   "outputs": [],
   "source": [
    "test()\n",
    "print(id(test))"
   ]
  }
 ],
 "metadata": {
  "kernelspec": {
   "display_name": "Python 3",
   "language": "python",
   "name": "python3"
  },
  "language_info": {
   "codemirror_mode": {
    "name": "ipython",
    "version": 2
   },
   "file_extension": ".py",
   "mimetype": "text/x-python",
   "name": "python",
   "nbconvert_exporter": "python",
   "pygments_lexer": "ipython2",
   "version": "2.7.6"
  }
 },
 "nbformat": 4,
 "nbformat_minor": 5
}
