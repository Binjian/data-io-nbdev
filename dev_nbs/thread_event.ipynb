{
 "cells": [
  {
   "cell_type": "code",
   "execution_count": null,
   "id": "76716d5a",
   "metadata": {},
   "outputs": [],
   "source": []
  },
  {
   "cell_type": "code",
   "execution_count": null,
   "id": "13d246d3",
   "metadata": {},
   "outputs": [],
   "source": [
    "\n",
    "\n",
    "import threading\n",
    "import time"
   ]
  },
  {
   "cell_type": "code",
   "execution_count": null,
   "id": "8023ccd8",
   "metadata": {
    "lines_to_next_cell": 2
   },
   "outputs": [],
   "source": [
    "\n",
    "signal_lock = threading.Lock()\n",
    "program_exit = False\n",
    "\n",
    "\n",
    "def step1(evt_main, evt_step):\n",
    "    global signal_lock, program_exit\n",
    "    th_terminate = False\n",
    "    print(\"step 1: enter thread\")\n",
    "    while not th_terminate:\n",
    "        print(\"step 1: enter while\")\n",
    "        with signal_lock:\n",
    "            print(\"step 1: enter lock\")\n",
    "            if program_exit:\n",
    "                th_terminate = True\n",
    "                continue\n",
    "        print(\"step 1: wait\")\n",
    "        evt_main.wait()\n",
    "        print(\"step 1: start\")\n",
    "        evt_main.clear()\n",
    "        print(\"step 1: clear main and sleep\")\n",
    "        time.sleep(2)\n",
    "        evt_step.set()\n",
    "        print(\"step 1: wake and set step\")\n",
    "\n",
    "    print(\"step 1: terminate\")"
   ]
  },
  {
   "cell_type": "code",
   "execution_count": null,
   "id": "e24e589a",
   "metadata": {
    "lines_to_next_cell": 2
   },
   "outputs": [],
   "source": [
    "\n",
    "\n",
    "def step2(evt_step):\n",
    "    global signal_lock, program_exit\n",
    "    th_terminate = False\n",
    "    print(\"step 2: enter thread\")\n",
    "    while not th_terminate:\n",
    "        print(\"step 2: enter while\")\n",
    "        with signal_lock:\n",
    "            print(\"step 2: enter lock\")\n",
    "            if program_exit:\n",
    "                th_terminate = True\n",
    "                continue\n",
    "        print(\"Step 2: wait\")\n",
    "        evt_step.wait()\n",
    "        print(\"Step 2: wake and clear step\")\n",
    "        evt_step.clear()\n",
    "\n",
    "    print(\"step 2: terminate\")"
   ]
  },
  {
   "cell_type": "code",
   "execution_count": null,
   "id": "db5aa173",
   "metadata": {},
   "outputs": [],
   "source": [
    "\n",
    "\n",
    "evt_step = threading.Event()\n",
    "evt_main = threading.Event()\n",
    "thr_step1 = threading.Thread(target=step1, args=[evt_main, evt_step])\n",
    "thr_step2 = threading.Thread(target=step2, args=[evt_step])\n",
    "thr_step1.start()\n",
    "thr_step2.start()\n",
    "\n",
    "i = 0\n",
    "while i < 3:\n",
    "    evt_main.set()\n",
    "    print(\"Main: set main and sleep\")\n",
    "    time.sleep(5)\n",
    "    i = i + 1\n",
    "    print(f\"Main: wake. i={i}\")\n",
    "\n",
    "print(\"Main: Set flag program_exit\")\n",
    "with signal_lock:\n",
    "    program_exit = True\n",
    "\n",
    "print(\"Main: set main evt\")\n",
    "evt_main.set()\n",
    "print(\"Main: thread 1 join\")\n",
    "thr_step1.join()\n",
    "print(\"Main: thread 2 join\")\n",
    "thr_step2.join()\n",
    "print(\"Main: terminate\")"
   ]
  }
 ],
 "metadata": {
  "jupytext": {
   "cell_metadata_filter": "-all",
   "encoding": "# coding: utf-8",
   "executable": "/usr/bin/env python",
   "main_language": "python",
   "notebook_metadata_filter": "-all"
  }
 },
 "nbformat": 4,
 "nbformat_minor": 5
}
