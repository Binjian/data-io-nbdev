{
 "cells": [
  {
   "cell_type": "markdown",
   "metadata": {
    "pycharm": {
     "name": "#%% md\n"
    }
   },
   "source": [
    "# create regen pedal map\n",
    "\n",
    "**Author:** binjian Xin<br>\n",
    "**Date Created:** 2021/07/29<br>\n",
    "**Last Modified:** 2021/07/29<br>\n",
    "**Description:** create regen pedal map and visualize<br>\n",
    "\n",
    "## Create the non-eco pedal map\n",
    "\n",
    "read default pedal map (claiming to be eco) from data file"
   ]
  },
  {
   "cell_type": "code",
   "execution_count": null,
   "metadata": {
    "pycharm": {
     "name": "#%%\n"
    }
   },
   "outputs": [],
   "source": [
    "import numpy as np\n",
    "import pandas as pd\n",
    "\n",
    "# pm_folder = \"xinddpg-pm-all/\"\n",
    "# pm_folder = \"ddpg-pm/\"\n",
    "pm_folder = \"ddpg-ao-full/tables/\"\n",
    "pm_path = \"../../data/\" + pm_folder\n",
    "pd_data0 = pd.read_csv(pm_path + \"init_table_coastdown.csv\", header=0, index_col=0)\n",
    "# pd_data0 = pd.read_csv(\"../../data/xinddpg-pm-all/init_table_coastdown.csv\", header=0, index_col=0)"
   ]
  },
  {
   "cell_type": "markdown",
   "metadata": {},
   "source": [
    "## Visualization\n",
    "### plotly\n",
    "show default pedal map"
   ]
  },
  {
   "cell_type": "markdown",
   "metadata": {},
   "source": [
    "### Preliminaries for plotly and chart studio"
   ]
  },
  {
   "cell_type": "code",
   "execution_count": null,
   "metadata": {
    "pycharm": {
     "name": "#%%\n"
    }
   },
   "outputs": [],
   "source": [
    "import plotly.graph_objects as go\n",
    "\n",
    "# sh_0, sh_1 = pd_data0.shape\n",
    "# x, y =  np.linspace(0,1.0,sh_1), np.linspace(0,100/3.6, sh_0)\n",
    "# y[1] = 7/3.6\n",
    "# x = np.array([0, 2, 4, 8, 12, 16, 20, 24, 28, 32, 38, 44, 50, 62, 74, 86, 100])/100\n",
    "x = pd_data0.columns.to_numpy()\n",
    "y = pd_data0.index.to_numpy()\n",
    "z = pd_data0.values\n",
    "# # Download data set from plotly repo\n",
    "# pts = np.loadtxt(np.DataSource().open('https://raw.githubusercontent.com/plotly/datasets/master/mesh_dataset.txt'))\n",
    "# x, y, z = pts.T\n",
    "# fig1 = go.Figure(data=[go.Mesh3d(x=x, y=y, z=z, color='lightpink', opacity=0.50)])\n",
    "# fig1.show()\n",
    "\n",
    "z0 = np.zeros(z.shape)\n",
    "figure0 = go.Figure(\n",
    "    data=[\n",
    "        go.Surface(\n",
    "            contours={\n",
    "                \"y\": {\"show\": True, \"start\": 0, \"end\": 25, \"size\": 5, \"color\": \"cyan\"},\n",
    "                \"z\": {\n",
    "                    \"show\": True,\n",
    "                    \"start\": -3000,\n",
    "                    \"end\": 4600,\n",
    "                    \"size\": 100,\n",
    "                    \"color\": \"blue\",\n",
    "                },\n",
    "            },\n",
    "            x=x,\n",
    "            y=y,\n",
    "            z=pd_data0.values,\n",
    "        ),\n",
    "        go.Surface(x=x, y=y, z=z0, opacity=0.4),\n",
    "    ]\n",
    ")\n",
    "# figure.update_traces(contours_z=dict(show=True, usecolormap=True,\n",
    "#                                   highlightcolor=\"limegreen\", project_z=True))\n",
    "# figure0.add_trace(go.Surface(x=x,y=y,z=z0, surfacecolor=np.ones(z0.shape)))\n",
    "camera = dict(\n",
    "    up=dict(x=0, y=0, z=1),\n",
    "    center=dict(x=0, y=0, z=0),\n",
    "    eye=dict(x=-1.25, y=0.25, z=1.0)\n",
    "    # eye=dict(x=-1.25,y=1.25,z=1.25)\n",
    ")\n",
    "figure0.update_layout(\n",
    "    title=\"Default Pedal Map\",\n",
    "    autosize=False,\n",
    "    scene_camera=camera,\n",
    "    scene=dict(xaxis_title=\"pedal\", yaxis_title=\"velocity\", zaxis_title=\"torque\"),\n",
    "    width=700,\n",
    "    height=700,\n",
    "    margin=dict(l=65, r=50, b=65, t=90),\n",
    ")\n",
    "\n",
    "figure0.show()\n",
    "figure0.write_image(pm_path + \"table_init.png\", engine=\"kaleido\")"
   ]
  },
  {
   "cell_type": "markdown",
   "metadata": {
    "pycharm": {
     "name": "#%% md\n"
    }
   },
   "source": [
    "Now show individual pedal map in the optimcal episode\n"
   ]
  },
  {
   "cell_type": "code",
   "execution_count": null,
   "metadata": {
    "pycharm": {
     "name": "#%%\n"
    }
   },
   "outputs": [],
   "source": [
    "import glob\n",
    "\n",
    "datafolder = pm_path + \"instant_table_ddpg-*.csv\"\n",
    "\n",
    "\n",
    "files = sorted(glob.glob(datafolder))"
   ]
  },
  {
   "cell_type": "code",
   "execution_count": null,
   "metadata": {
    "pycharm": {
     "name": "#%%\n"
    }
   },
   "outputs": [],
   "source": [
    "import os\n",
    "\n",
    "for file in files:\n",
    "    pd_data1 = pd.read_csv(file, header=0, index_col=0)\n",
    "    x = pd_data1.columns.to_numpy()\n",
    "    y = pd_data1.index.to_numpy()\n",
    "    z = pd_data1.values\n",
    "\n",
    "    figure1 = go.Figure(\n",
    "        data=[\n",
    "            go.Surface(\n",
    "                contours={\n",
    "                    \"y\": {\n",
    "                        \"show\": True,\n",
    "                        \"start\": 0,\n",
    "                        \"end\": 25,\n",
    "                        \"size\": 5,\n",
    "                        \"color\": \"cyan\",\n",
    "                    },\n",
    "                    \"z\": {\n",
    "                        \"show\": True,\n",
    "                        \"start\": -3000,\n",
    "                        \"end\": 4600,\n",
    "                        \"size\": 100,\n",
    "                        \"color\": \"blue\",\n",
    "                    },\n",
    "                },\n",
    "                x=x,\n",
    "                y=y,\n",
    "                z=pd_data1.values,\n",
    "            ),\n",
    "            go.Surface(x=x, y=y, z=z0, opacity=0.4),\n",
    "        ]\n",
    "    )\n",
    "    # figure.update_traces(contours_z=dict(show=True, usecolormap=True,\n",
    "    #                                   highlightcolor=\"limegreen\", project_z=True))\n",
    "    # figure1.update_layout(title=file[72:], autosize=False,\n",
    "    figure1.update_layout(\n",
    "        title=file[80:],\n",
    "        autosize=False,\n",
    "        scene=dict(xaxis_title=\"pedal\", yaxis_title=\"velocity\", zaxis_title=\"torque\"),\n",
    "        width=720,\n",
    "        height=720,\n",
    "        margin=dict(l=65, r=50, b=65, t=90),\n",
    "    )\n",
    "    camera = dict(\n",
    "        up=dict(x=0, y=0, z=1),\n",
    "        center=dict(x=0, y=0, z=0),\n",
    "        eye=dict(x=-1.25, y=0.25, z=1.0)\n",
    "        # eye=dict(x=-1.25,y=0.75,z=1.25)\n",
    "    )\n",
    "    figure1.update_layout(scene_camera=camera)\n",
    "\n",
    "    # figure0.add_trace(go.Surface(x=x,y=y,z=z0, surfacecolor=np.ones(z0.shape)))\n",
    "    # figure1.show()\n",
    "    pm_image = os.path.splitext(file)[0] + \".png\"\n",
    "    figure1.write_image(pm_image, engine=\"kaleido\")"
   ]
  },
  {
   "cell_type": "code",
   "execution_count": null,
   "metadata": {
    "pycharm": {
     "name": "#%%\n"
    }
   },
   "outputs": [],
   "source": [
    "import imageio\n",
    "\n",
    "imagedatafolder = pm_path + \"instant_table_ddpg-*.png\"\n",
    "gif_path = pm_path + \"ddpg_pm_variation.gif\"\n",
    "files = sorted(glob.glob(imagedatafolder))\n",
    "end_pause = 2  # seconds to stay on last frame, create end_pause\n",
    "frame_length = 0.5  # seconds between frames\n",
    "start_of_episode_string = \"-0.png\"\n",
    "with imageio.get_writer(gif_path, mode=\"I\", duration=frame_length, loop=0) as writer:\n",
    "    for idx, file in enumerate(files):\n",
    "        if idx != 0 and start_of_episode_string in file:\n",
    "            for i in range(0, int(end_pause / frame_length)):\n",
    "                writer.append_data(imageio.imread(file_last))\n",
    "        writer.append_data(imageio.imread(file))\n",
    "        file_last = file"
   ]
  },
  {
   "cell_type": "code",
   "execution_count": null,
   "metadata": {
    "pycharm": {
     "name": "#%%\n"
    }
   },
   "outputs": [],
   "source": [
    "from pygifsicle import optimize\n",
    "\n",
    "gif_path = pm_path + \"ddpg_pm_variation.gif\"\n",
    "gif_path_opt = pm_path + \"ddpg_pm_variation_opt.gif\"\n",
    "optimize(gif_path, gif_path_opt)"
   ]
  },
  {
   "cell_type": "code",
   "execution_count": null,
   "metadata": {
    "pycharm": {
     "name": "#%%\n"
    }
   },
   "outputs": [],
   "source": [
    "import imageio\n",
    "\n",
    "imagedatafolder = pm_path + \"instant_table_ddpg-*.png\"\n",
    "mp4_path = pm_path + \"ddpg_pm_variation.mp4\"\n",
    "fps = 5\n",
    "files = sorted(glob.glob(imagedatafolder))\n",
    "end_pause = 1  # seconds to stay on last frame, create end_pause\n",
    "frame_length = 0.2  # seconds between frames\n",
    "start_of_episode_string = \"-0.png\"\n",
    "with imageio.get_writer(mp4_path, fps=fps) as writer:\n",
    "    for idx, file in enumerate(files):\n",
    "        if idx != 0 and start_of_episode_string in file:\n",
    "            for i in range(0, int(end_pause / frame_length)):\n",
    "                writer.append_data(imageio.imread(file_last))\n",
    "        writer.append_data(imageio.imread(file))\n",
    "        file_last = file"
   ]
  }
 ],
 "metadata": {
  "kernelspec": {
   "display_name": "Python 3 (ipykernel)",
   "language": "python",
   "name": "python3"
  },
  "language_info": {
   "codemirror_mode": {
    "name": "ipython",
    "version": 3
   },
   "file_extension": ".py",
   "mimetype": "text/x-python",
   "name": "python",
   "nbconvert_exporter": "python",
   "pygments_lexer": "ipython3",
   "version": "3.8.10"
  }
 },
 "nbformat": 4,
 "nbformat_minor": 1
}
