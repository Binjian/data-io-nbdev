{
 "cells": [
  {
   "cell_type": "markdown",
   "id": "3a6e9841c529efe7",
   "metadata": {},
   "source": [
    "# drivers \n",
    "\n",
    "> driver configurations "
   ]
  },
  {
   "cell_type": "code",
   "execution_count": null,
   "id": "7f432cc13953c4b9",
   "metadata": {},
   "outputs": [],
   "source": [
    "#| default_exp config.drivers"
   ]
  },
  {
   "cell_type": "code",
   "execution_count": null,
   "id": "8119e9366a133eae",
   "metadata": {},
   "outputs": [],
   "source": [
    "#| export\n",
    "from dataclasses import dataclass, field\n",
    "from ordered_set import OrderedSet\n",
    "from pandas import Timestamp"
   ]
  },
  {
   "cell_type": "code",
   "execution_count": null,
   "id": "66f98e085b989785",
   "metadata": {},
   "outputs": [],
   "source": [
    "#| export\n",
    "from data_io_nbdev.data.location import EosLocation, locations_by_abbr"
   ]
  },
  {
   "cell_type": "code",
   "execution_count": null,
   "id": "b707d27916d1a676",
   "metadata": {},
   "outputs": [],
   "source": [
    "#| export\n",
    "DriverCat = OrderedSet(\n",
    "    [\n",
    "        \"wang-kai\",\n",
    "        \"wang-cheng\",\n",
    "        \"li-changlong\",\n",
    "        \"chen-hongmei\",\n",
    "        \"zheng-longfei\",\n",
    "        \"UNKNOWN-HUABD9968\",\n",
    "        \"UNKNOWN-SUEDY8203\",\n",
    "        \"UNKNOWN-HUAB82511\",\n",
    "        \"UNKNOWN-HUAB87177\",\n",
    "    ]\n",
    ")"
   ]
  },
  {
   "cell_type": "code",
   "execution_count": null,
   "id": "113644a604618588",
   "metadata": {},
   "outputs": [],
   "source": [
    "#| export\n",
    "RE_DRIVER = r\"^[A-Za-z]{1,10}[-_.][A-Za-z]{1,10}(\\d?){1,5}$\""
   ]
  },
  {
   "cell_type": "code",
   "execution_count": null,
   "id": "477bfcc1b92c8592",
   "metadata": {},
   "outputs": [],
   "source": [
    "#| export\n",
    "@dataclass\n",
    "class Driver:\n",
    "    \"\"\"\n",
    "    Driver configuration\n",
    "    \n",
    "    Attributes:\n",
    "        \n",
    "        pid: driver id\n",
    "        name: driver name\n",
    "        site: driver location\n",
    "        contract_range: contract range\n",
    "        cat: driver category\n",
    "    \"\"\"\n",
    "    \n",
    "    pid: str\n",
    "    name: str\n",
    "    site: EosLocation\n",
    "    contract_range: tuple[Timestamp, Timestamp] = (\n",
    "        Timestamp(ts_input=\"2022-12-01T00:00:00\", tz=\"Asia/Shanghai\"),\n",
    "        Timestamp(ts_input=\"2032-12-31T00:00:00+08:00\", tz=\"Asia/Shanghai\"),\n",
    "    )\n",
    "    cat: OrderedSet = field(default_factory=OrderedSet)\n",
    "\n",
    "    def __post_init__(self):\n",
    "        \"\"\"add DriverCat to cat\"\"\"\n",
    "        \n",
    "        self.cat = (\n",
    "            DriverCat  # OrderedSet is mutable, all objects sharing the same DriverCat\n",
    "        )\n",
    "        self.cat.add(self.pid)"
   ]
  },
  {
   "cell_type": "code",
   "execution_count": null,
   "id": "8870c37320b10f5c",
   "metadata": {},
   "outputs": [],
   "source": [
    "#| export\n",
    "drivers = [\n",
    "    Driver(\n",
    "        pid=\"default\",\n",
    "        name=\"\",\n",
    "        site=locations_by_abbr['unknown'],\n",
    "    ),\n",
    "    Driver(\n",
    "        pid=\"wang-kai\",\n",
    "        name=\"王凯\",\n",
    "        site=locations_by_abbr['at'],\n",
    "        contract_range=(\n",
    "            Timestamp(ts_input=\"2023-08-22T00:00:00+08:00\", tz=\"Asia/Shanghai\"),\n",
    "            Timestamp(\"2023-09-15T00:00:00+08:00\", tz=\"Asia/Shanghai\"),\n",
    "        ),\n",
    "    ),\n",
    "    Driver(\n",
    "        pid=\"wang-cheng\",\n",
    "        name=\"王成\",\n",
    "        site=locations_by_abbr['jy'],\n",
    "    ),\n",
    "    Driver(\n",
    "        pid=\"li-changlong\",\n",
    "        name=\"李长龙\",\n",
    "        site=locations_by_abbr['jy'],\n",
    "    ),\n",
    "    Driver(\n",
    "        pid=\"hongmei-chen\",\n",
    "        name=\"陈红梅\",\n",
    "        site=locations_by_abbr['jy'],\n",
    "    ),\n",
    "    Driver(\n",
    "        pid=\"zheng-longfei\",\n",
    "        name=\"郑龙飞\",\n",
    "        contract_range=(\n",
    "            Timestamp(ts_input=\"2022-12-01T00:00:00+08:00\", tz=\"Asia/Shanghai\"),\n",
    "            Timestamp(ts_input=\"2023-02-15T00:00:00+08:00\", tz=\"Asia/Shanghai\"),\n",
    "        ),\n",
    "        site=locations_by_abbr['at'],\n",
    "    ),\n",
    "    Driver(\n",
    "        pid=\"UNKNOWN-HUABD9968\",\n",
    "        name=\"无名\",\n",
    "        site=locations_by_abbr['unknown'],\n",
    "    ),\n",
    "    Driver(\n",
    "        pid=\"UNKNOWN-SUEDY8203\",\n",
    "        name=\"无名\",\n",
    "        site=locations_by_abbr['unknown'],\n",
    "    ),\n",
    "    Driver(\n",
    "        pid=\"UNKNOWN-HUAB82511\",\n",
    "        name=\"无名\",\n",
    "        site=locations_by_abbr['unknown'],\n",
    "    ),\n",
    "    Driver(\n",
    "        pid=\"UNKNOWN-HUAB87177\",\n",
    "        name=\"无名\",\n",
    "        site=locations_by_abbr['unknown'],\n",
    "    ),\n",
    "]"
   ]
  },
  {
   "cell_type": "code",
   "execution_count": null,
   "id": "1e6b003597408fb0",
   "metadata": {},
   "outputs": [],
   "source": [
    "#| export\n",
    "drivers_by_id = dict(zip([drv.pid for drv in drivers], drivers))"
   ]
  },
  {
   "cell_type": "code",
   "execution_count": null,
   "id": "5ff88c54eab1970e",
   "metadata": {},
   "outputs": [],
   "source": [
    "#| hide\n",
    "import nbdev; nbdev.nbdev_export()"
   ]
  }
 ],
 "metadata": {
  "jupytext": {
   "cell_metadata_filter": "-all",
   "main_language": "python",
   "notebook_metadata_filter": "-all"
  },
  "kernelspec": {
   "display_name": "python3",
   "language": "python",
   "name": "python3"
  }
 },
 "nbformat": 4,
 "nbformat_minor": 5
}
