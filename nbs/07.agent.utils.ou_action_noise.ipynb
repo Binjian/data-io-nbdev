{
 "cells": [
  {
   "cell_type": "code",
   "execution_count": null,
   "id": "4f1717b63c682c19",
   "metadata": {},
   "outputs": [],
   "source": [
    "%load_ext autoreload\n",
    "%autoreload 2"
   ]
  },
  {
   "cell_type": "markdown",
   "id": "74f7a91b2b01670e",
   "metadata": {},
   "source": [
    "# OUActionNoise\n",
    "\n",
    "> OUActionNoise class\n",
    "> To implement better exploration by the Actor network, we use noisy perturbations,\n",
    "> specifically an **Ornstein-Uhlenbeck process** for generating noise, \n",
    "> as described in the paper.\n",
    "> It samples noise from a correlated normal distribution.\n"
   ]
  },
  {
   "cell_type": "code",
   "execution_count": null,
   "id": "b6eafc3211e5e011",
   "metadata": {},
   "outputs": [],
   "source": [
    "#| default_exp agent.utils.ou_action_noise"
   ]
  },
  {
   "cell_type": "code",
   "execution_count": null,
   "id": "3bbf460e02d5e7ad",
   "metadata": {},
   "outputs": [],
   "source": [
    "#| export\n",
    "import numpy as np"
   ]
  },
  {
   "cell_type": "code",
   "execution_count": null,
   "id": "fe82c1b765ada683",
   "metadata": {},
   "outputs": [],
   "source": [
    "#| export\n",
    "class OUActionNoise:\n",
    "    \"\"\"Ornstein-Uhlenbeck process.\"\"\"\n",
    "\n",
    "    def __init__(\n",
    "        self,\n",
    "        mean,  # mean of the noise\n",
    "        std_deviation,  # standard deviation of the noise\n",
    "        theta=0.15,  # $\\theta$ is the rate of mean reversion\n",
    "        dt=1e-2,  # dt is the time step\n",
    "        x_initial=None,\n",
    "    ):  # x_initial is the initial value of x\n",
    "        self.theta = theta\n",
    "        self.mean = mean\n",
    "        self.std_dev = std_deviation\n",
    "        self.dt = dt\n",
    "        self.x_initial = x_initial\n",
    "        self.reset()\n",
    "\n",
    "    def __call__(self):\n",
    "        \"\"\"\n",
    "        Call the noise.\n",
    "\n",
    "        Formula taken from [Ornstein-Uhlenbeck](https://www.wikipedia.org/wiki/Ornstein-Uhlenbeck_process).\n",
    "        \"\"\"\n",
    "        x = (\n",
    "            self.x_prev\n",
    "            + self.theta * (self.mean - self.x_prev) * self.dt\n",
    "            + self.std_dev * np.sqrt(self.dt) * np.random.normal(size=self.mean.shape)\n",
    "        )\n",
    "        # Store x into x_prev\n",
    "        # Makes next noise dependent on current one\n",
    "        self.x_prev = x\n",
    "        return x\n",
    "\n",
    "    def reset(self):\n",
    "        \"\"\"Reset the Ornstein-Uhlenbeck process.\"\"\"\n",
    "        if self.x_initial is not None:\n",
    "            self.x_prev = self.x_initial\n",
    "        else:\n",
    "            self.x_prev = np.zeros_like(self.mean)"
   ]
  },
  {
   "cell_type": "code",
   "execution_count": null,
   "id": "1657847b4c09e605",
   "metadata": {},
   "outputs": [],
   "source": [
    "#| hide\n",
    "from nbdev.showdoc import show_doc"
   ]
  },
  {
   "cell_type": "code",
   "execution_count": null,
   "id": "dd41ef20aa10ba4a",
   "metadata": {},
   "outputs": [],
   "source": [
    "show_doc(OUActionNoise.__init__)"
   ]
  },
  {
   "cell_type": "code",
   "execution_count": null,
   "id": "3cf5e51e9a82fe29",
   "metadata": {},
   "outputs": [],
   "source": [
    "show_doc(OUActionNoise.__call__)"
   ]
  },
  {
   "cell_type": "code",
   "execution_count": null,
   "id": "50b654cf13235434",
   "metadata": {},
   "outputs": [],
   "source": [
    "show_doc(OUActionNoise.reset)"
   ]
  },
  {
   "cell_type": "code",
   "execution_count": null,
   "id": "e001808312dfdede",
   "metadata": {},
   "outputs": [],
   "source": [
    "#| hide\n",
    "import nbdev; nbdev.nbdev_export()"
   ]
  }
 ],
 "metadata": {
  "jupytext": {
   "cell_metadata_filter": "-all",
   "main_language": "python",
   "notebook_metadata_filter": "-all"
  },
  "kernelspec": {
   "display_name": "python3",
   "language": "python",
   "name": "python3"
  }
 },
 "nbformat": 4,
 "nbformat_minor": 5
}
