{
 "cells": [
  {
   "cell_type": "code",
   "execution_count": null,
   "id": "dc177f7909a9993a",
   "metadata": {},
   "outputs": [],
   "source": [
    "%load_ext autoreload\n",
    "%autoreload 2"
   ]
  },
  {
   "cell_type": "markdown",
   "id": "ad74155a26bd469c",
   "metadata": {},
   "source": [
    "# Consumer\n",
    "\n",
    "> ABC Consumer\n",
    "> Consumer is a class that consumes data into the pipeline.\n",
    "> It's a sink module in the pipeline.\n",
    "> It provides the unified interface for data consumption."
   ]
  },
  {
   "cell_type": "code",
   "execution_count": null,
   "id": "aae1a1065f15561",
   "metadata": {},
   "outputs": [],
   "source": [
    "#| default_exp dataflow.consumer"
   ]
  },
  {
   "cell_type": "code",
   "execution_count": null,
   "id": "fc2779ebd7ac8aee",
   "metadata": {},
   "outputs": [],
   "source": [
    "#| export\n",
    "import abc\n",
    "from threading import Event\n",
    "from dataclasses import dataclass\n",
    "from typing import Optional, TypeVar, Generic"
   ]
  },
  {
   "cell_type": "code",
   "execution_count": null,
   "id": "7904eb4848cc991f",
   "metadata": {},
   "outputs": [],
   "source": [
    "#| export\n",
    "from tspace.dataflow.pipeline.queue import Pipeline  # type: ignore"
   ]
  },
  {
   "cell_type": "code",
   "execution_count": null,
   "id": "77db69cef78540d5",
   "metadata": {},
   "outputs": [],
   "source": [
    "#| export\n",
    "T = TypeVar(\"T\")  # A Generic type"
   ]
  },
  {
   "cell_type": "code",
   "execution_count": null,
   "id": "a800088c67a76e8b",
   "metadata": {},
   "outputs": [],
   "source": [
    "#| export\n",
    "@dataclass\n",
    "class Consumer(\n",
    "    abc.ABC, Generic[T]\n",
    "):  # Pycharm false positive warning for Generic type non-unique:w\n",
    "    \"\"\"Consumer consumes data into the pipeline. It provides the unified interface for data consumption consume()\"\"\"\n",
    "\n",
    "    def __post_init__(self):\n",
    "        super().__init__()\n",
    "\n",
    "    @abc.abstractmethod\n",
    "    def consume(\n",
    "        self,\n",
    "        pipeline: Pipeline[T],  # T: pd.DataFrame\n",
    "        start_event: Optional[Event] = None,  # input event: start\n",
    "        stop_event: Optional[Event] = None,  # input event: stop\n",
    "        interrupt_event: Optional[Event] = None,  # input event: interrupt\n",
    "        exit_event: Optional[Event] = None,  # input event: exit\n",
    "        flash_event: Optional[Event] = None,  # output event: flash\n",
    "    ):\n",
    "        \"\"\"\n",
    "        consume data into the pipeline\n",
    "        \"\"\"\n",
    "        pass"
   ]
  },
  {
   "cell_type": "code",
   "execution_count": null,
   "id": "ddbde7ba4b0eb6cb",
   "metadata": {},
   "outputs": [],
   "source": [
    "#| hide\n",
    "from nbdev.showdoc import *"
   ]
  },
  {
   "cell_type": "code",
   "execution_count": null,
   "id": "3f32be47630dda28",
   "metadata": {},
   "outputs": [],
   "source": [
    "show_doc(Consumer.consume)"
   ]
  },
  {
   "cell_type": "code",
   "execution_count": null,
   "id": "fcb52b26c4f5dedc",
   "metadata": {},
   "outputs": [],
   "source": [
    "#| hide\n",
    "import nbdev; nbdev.nbdev_export()"
   ]
  }
 ],
 "metadata": {
  "jupytext": {
   "cell_metadata_filter": "-all",
   "main_language": "python",
   "notebook_metadata_filter": "-all"
  },
  "kernelspec": {
   "display_name": "python3",
   "language": "python",
   "name": "python3"
  }
 },
 "nbformat": 4,
 "nbformat_minor": 5
}
