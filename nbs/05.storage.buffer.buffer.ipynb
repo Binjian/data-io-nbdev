{
 "cells": [
  {
   "cell_type": "code",
   "execution_count": null,
   "id": "44be5f2c109eb93a",
   "metadata": {},
   "outputs": [],
   "source": [
    "%load_ext autoreload\n",
    "%autoreload 2"
   ]
  },
  {
   "cell_type": "markdown",
   "id": "4dfbcd5ea5659463",
   "metadata": {},
   "source": [
    "# Buffer\n",
    "\n",
    "> ABC Buffer"
   ]
  },
  {
   "cell_type": "code",
   "execution_count": null,
   "id": "9cacc990666cd04",
   "metadata": {},
   "outputs": [],
   "source": [
    "#| default_exp storage.buffer.buffer"
   ]
  },
  {
   "cell_type": "code",
   "execution_count": null,
   "id": "845f6f3bd0c23d7",
   "metadata": {},
   "outputs": [],
   "source": [
    "#| export\n",
    "from __future__ import annotations\n",
    "import abc\n",
    "import weakref\n",
    "from dataclasses import dataclass\n",
    "from typing import ClassVar, Generic, Optional, Tuple, get_args\n",
    "import numpy as np\n",
    "import pandas as pd  # type: ignore"
   ]
  },
  {
   "cell_type": "code",
   "execution_count": null,
   "id": "46925a31ace2c18d",
   "metadata": {},
   "outputs": [],
   "source": [
    "#| export\n",
    "from data_io_nbdev.storage.pool.pool import Pool\n",
    "from data_io_nbdev.data.core import ItemT, PoolQuery"
   ]
  },
  {
   "cell_type": "code",
   "execution_count": null,
   "id": "d7ce8b5a591bbcc6",
   "metadata": {},
   "outputs": [],
   "source": [
    "#| export\n",
    "@dataclass(kw_only=True)\n",
    "class Buffer(abc.ABC, Generic[ItemT]):\n",
    "    \"\"\"\n",
    "    The abstract class for providing an buffer interface for data processing.\n",
    "\n",
    "    Buffer is the internal dynamic memory object for pooling the experience tuples.\n",
    "    It provides the following interface for inheriting classes (MongoBuffer, DaskBuffer, etc.):\n",
    "\n",
    "    Methods:\n",
    "        - load()\n",
    "        - save()\n",
    "        - store()\n",
    "        - sample()\n",
    "\n",
    "\n",
    "    Attributes:\n",
    "        - pool: the pool object for storing the data\n",
    "        - batch_size: the batch size for sampling\n",
    "        - _type_T: the type of the data item (e.g. Record, Episode, etc.)\n",
    "    \"\"\"\n",
    "\n",
    "    pool: Optional[Pool]\n",
    "    batch_size: int\n",
    "    _type_T: ClassVar[str]\n",
    "\n",
    "    def __init_subclass__(cls):\n",
    "        \"\"\"Get the concrete type of the data item (e.g. Record, Episode, etc.)\"\"\"\n",
    "        cls._type_T = get_args(cls.__orig_bases__[0])[0].__name__  # type: ignore\n",
    "        # print(\n",
    "        #     f\"Pool.__init_subclass__(): {cls._type_T} in {cls.__name__} from {cls.__base__.__name__}\"\n",
    "        # )\n",
    "\n",
    "    def __post_init__(self):\n",
    "        \"\"\"User weakref finalizer to make sure close is called when the object is destroyed\"\"\"\n",
    "        self._finalizer = weakref.finalize(self, self.close)\n",
    "\n",
    "    @abc.abstractmethod\n",
    "    def load(self):\n",
    "        \"\"\"\n",
    "        load buffer from pool\n",
    "        \"\"\"\n",
    "        pass\n",
    "\n",
    "    @abc.abstractmethod\n",
    "    def close(self):\n",
    "        \"\"\"\n",
    "        close the pool, for destructor\n",
    "        \"\"\"\n",
    "        pass\n",
    "\n",
    "    # @abc.abstractmethod\n",
    "    def store(self, episode: ItemT):\n",
    "        \"\"\"\n",
    "        Deposit an item (record/episode) into the pool\n",
    "        \"\"\"\n",
    "        self.pool.store(episode)\n",
    "\n",
    "    # @abc.abstractmethod\n",
    "    def find(self, query: PoolQuery):\n",
    "        \"\"\"\n",
    "        find an itme by id or name.\n",
    "        \"\"\"\n",
    "        return self.pool.find(query)\n",
    "\n",
    "    @abc.abstractmethod\n",
    "    def sample(self) -> Tuple[np.ndarray, np.ndarray, np.ndarray, np.ndarray]:\n",
    "        \"\"\"\n",
    "        sample data pool to get (state, action, reward, nstate) as a tuple of 4 DataFrames\n",
    "        \"\"\""
   ]
  },
  {
   "cell_type": "code",
   "execution_count": null,
   "id": "fbb4342fcb88da5c",
   "metadata": {},
   "outputs": [],
   "source": [
    "#| hide\n",
    "from nbdev.showdoc import *"
   ]
  },
  {
   "cell_type": "code",
   "execution_count": null,
   "id": "7a79d6b36f15df8",
   "metadata": {},
   "outputs": [
    {
     "data": {
      "text/markdown": "---\n\n### Buffer.store\n\n>      Buffer.store (episode:~ItemT)\n\nDeposit an item (record/episode) into the pool",
      "text/plain": "---\n\n### Buffer.store\n\n>      Buffer.store (episode:~ItemT)\n\nDeposit an item (record/episode) into the pool"
     },
     "execution_count": null,
     "metadata": {},
     "output_type": "execute_result"
    }
   ],
   "source": [
    "show_doc(Buffer.store)"
   ]
  },
  {
   "cell_type": "code",
   "execution_count": null,
   "id": "968d3da2ebaf462c",
   "metadata": {},
   "outputs": [
    {
     "data": {
      "text/markdown": "---\n\n### Buffer.find\n\n>      Buffer.find (query:data_io_nbdev.data.core.PoolQuery)\n\nfind an itme by id or name.",
      "text/plain": "---\n\n### Buffer.find\n\n>      Buffer.find (query:data_io_nbdev.data.core.PoolQuery)\n\nfind an itme by id or name."
     },
     "execution_count": null,
     "metadata": {},
     "output_type": "execute_result"
    }
   ],
   "source": [
    "show_doc(Buffer.find)"
   ]
  },
  {
   "cell_type": "code",
   "execution_count": null,
   "id": "3be9ad042050bdba",
   "metadata": {},
   "outputs": [
    {
     "data": {
      "text/markdown": "---\n\n### Buffer.sample\n\n>      Buffer.sample ()\n\nsample data pool to get (state, action, reward, nstate) as a tuple of 4 DataFrames",
      "text/plain": "---\n\n### Buffer.sample\n\n>      Buffer.sample ()\n\nsample data pool to get (state, action, reward, nstate) as a tuple of 4 DataFrames"
     },
     "execution_count": null,
     "metadata": {},
     "output_type": "execute_result"
    }
   ],
   "source": [
    "show_doc(Buffer.sample)"
   ]
  },
  {
   "cell_type": "code",
   "execution_count": null,
   "id": "4c26aff4e5168063",
   "metadata": {},
   "outputs": [
    {
     "data": {
      "text/markdown": "---\n\n### Buffer.load\n\n>      Buffer.load ()\n\nload buffer from pool",
      "text/plain": "---\n\n### Buffer.load\n\n>      Buffer.load ()\n\nload buffer from pool"
     },
     "execution_count": null,
     "metadata": {},
     "output_type": "execute_result"
    }
   ],
   "source": [
    "show_doc(Buffer.load)"
   ]
  },
  {
   "cell_type": "code",
   "execution_count": null,
   "id": "a486a3780970b1b6",
   "metadata": {},
   "outputs": [
    {
     "data": {
      "text/markdown": "---\n\n### Buffer.close\n\n>      Buffer.close ()\n\nclose the pool, for destructor",
      "text/plain": "---\n\n### Buffer.close\n\n>      Buffer.close ()\n\nclose the pool, for destructor"
     },
     "execution_count": null,
     "metadata": {},
     "output_type": "execute_result"
    }
   ],
   "source": [
    "show_doc(Buffer.close)"
   ]
  },
  {
   "cell_type": "code",
   "execution_count": null,
   "id": "2cd03510f7b49a74",
   "metadata": {},
   "outputs": [
    {
     "data": {
      "text/markdown": "---\n\n### Buffer.__init_subclass__\n\n>      Buffer.__init_subclass__ ()\n\nGet the concrete type of the data item (e.g. Record, Episode, etc.)",
      "text/plain": "---\n\n### Buffer.__init_subclass__\n\n>      Buffer.__init_subclass__ ()\n\nGet the concrete type of the data item (e.g. Record, Episode, etc.)"
     },
     "execution_count": null,
     "metadata": {},
     "output_type": "execute_result"
    }
   ],
   "source": [
    "show_doc(Buffer.__init_subclass__)"
   ]
  },
  {
   "cell_type": "code",
   "execution_count": null,
   "id": "bf0f94ec62d98137",
   "metadata": {},
   "outputs": [
    {
     "data": {
      "text/markdown": "---\n\n### Buffer.__post_init__\n\n>      Buffer.__post_init__ ()\n\nUser weakref finalizer to make sure close is called when the object is destroyed",
      "text/plain": "---\n\n### Buffer.__post_init__\n\n>      Buffer.__post_init__ ()\n\nUser weakref finalizer to make sure close is called when the object is destroyed"
     },
     "execution_count": null,
     "metadata": {},
     "output_type": "execute_result"
    }
   ],
   "source": [
    "show_doc(Buffer.__post_init__)"
   ]
  },
  {
   "cell_type": "code",
   "execution_count": null,
   "id": "308dac1e87bc59c4",
   "metadata": {},
   "outputs": [],
   "source": [
    "#| hide\n",
    "import nbdev; nbdev.nbdev_export()"
   ]
  }
 ],
 "metadata": {
  "jupytext": {
   "cell_metadata_filter": "-all",
   "main_language": "python",
   "notebook_metadata_filter": "-all"
  },
  "kernelspec": {
   "display_name": "python3",
   "language": "python",
   "name": "python3"
  }
 },
 "nbformat": 4,
 "nbformat_minor": 5
}
