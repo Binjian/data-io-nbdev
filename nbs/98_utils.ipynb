{
 "cells": [
  {
   "cell_type": "markdown",
   "metadata": {},
   "source": [
    "# utils \n",
    "\n",
    "> utility module for data_io, numerics, etc.\n",
    "> for example, generating a pandas DataFrame for testing purpose"
   ]
  },
  {
   "cell_type": "code",
   "execution_count": null,
   "metadata": {},
   "outputs": [],
   "source": [
    "#| default_exp utils "
   ]
  },
  {
   "cell_type": "code",
   "execution_count": null,
   "metadata": {},
   "outputs": [],
   "source": [
    "#| hide\n",
    "from nbdev.showdoc import *"
   ]
  },
  {
   "cell_type": "code",
   "execution_count": null,
   "metadata": {},
   "outputs": [],
   "source": [
    "#| export\n",
    "import numpy as np\n",
    "import pandas as pd\n",
    "from datetime import datetime\n",
    "from functools import reduce\n",
    "from zoneinfo import ZoneInfo\n",
    "from configparser import ConfigParser\n",
    "\n"
   ]
  },
  {
   "cell_type": "code",
   "execution_count": null,
   "metadata": {},
   "outputs": [],
   "source": [
    "#| export\n",
    "from data_io_nbdev.config.drivers import drivers_by_id\n",
    "from data_io_nbdev.config.vehicles import trucks_by_id\n"
   ]
  },
  {
   "cell_type": "markdown",
   "metadata": {},
   "source": [
    "## Generate state"
   ]
  },
  {
   "cell_type": "code",
   "execution_count": null,
   "metadata": {},
   "outputs": [],
   "source": [
    "#| export\n",
    "def generate_state(tz: ZoneInfo)->pd.DataFrame:\n",
    "    \"\"\"\n",
    "    generate a pandas DataFrame for testing purpose\n",
    "    \"\"\"\n",
    "    ts = pd.to_datetime(datetime.now(tz=tz))\n",
    "    ts_ind = ts + pd.to_timedelta(np.arange(0, 4 * 20, 20), \"ms\")\n",
    "    ts_ind = ts_ind.tz_localize(None).astype(\"datetime64[us]\").tz_localize(tz)\n",
    "    s = np.arange(12)\n",
    "    a_1 = s[:4]\n",
    "    a_2 = s[4:8]\n",
    "    a_3 = s[8:]\n",
    "    df_ss = pd.DataFrame(\n",
    "        {\"timestep\": ts_ind, \"velocity\": a_1, \"thrust\": a_2, \"brake\": a_3}\n",
    "    )  # .set_index('timestep')\n",
    "    df_ss.columns.name = \"qtuple\"\n",
    "    ui_t = df_ss.loc[:, [\"velocity\", \"thrust\"]]\n",
    "    state = df_ss.stack().swaplevel(0, 1)\n",
    "    state.name = \"state\"\n",
    "    state.index.names = [\"rows\", \"idx\"]\n",
    "    state.sort_index(inplace=True)\n",
    "    return state"
   ]
  },
  {
   "cell_type": "code",
   "execution_count": null,
   "metadata": {},
   "outputs": [],
   "source": [
    "#| hide\n",
    "tz = trucks_by_id[\"VB7\"].site.tz\n",
    "\n",
    "state = generate_state(tz)\n",
    "state['timestep'].dtype\n",
    "state\n",
    "# state['timestep'].dtype"
   ]
  },
  {
   "cell_type": "code",
   "execution_count": null,
   "metadata": {},
   "outputs": [],
   "source": [
    "\n",
    "ts = pd.to_datetime(datetime.now())\n",
    "ts_ind1 = ts + pd.to_timedelta(np.arange(0, 4 * 20, 20), \"ms\").astype(\"timedelta64[us]\")\n",
    "ts_ind = ts_ind1.astype('datetime64[us]')\n",
    "ts_ind.unit"
   ]
  },
  {
   "cell_type": "markdown",
   "metadata": {},
   "source": [
    "## Generate action"
   ]
  },
  {
   "cell_type": "code",
   "execution_count": null,
   "metadata": {},
   "outputs": [],
   "source": [
    "#| export\n",
    "def generate_action(tz: ZoneInfo)->pd.DataFrame:\n",
    "    \"\"\"\n",
    "    generate a pandas DataFrame for testing purpose\n",
    "    \"\"\"\n",
    "\n",
    "    s = np.arange(12)\n",
    "    ts = pd.to_datetime(datetime.now(tz=tz))\n",
    "    a = len(s) + np.arange(15)\n",
    "    speed_ser = pd.Series(np.linspace(40, 60, 3), name=\"speed\")\n",
    "    row_array = a.reshape(3, 5).transpose()\n",
    "    rows_df = pd.DataFrame(row_array)\n",
    "    rows_df.columns = [f\"r{i}\" for i in np.arange(3)]\n",
    "    ts_ind = ts + pd.to_timedelta(np.arange(5 * 20, 8 * 20, 20), \"ms\")\n",
    "    ts_ind = ts_ind.tz_localize(None).astype(\"datetime64[us]\").tz_localize(tz)\n",
    "    ts_ser = pd.Series(ts_ind, name=\"timestep\")\n",
    "    throttle_ser = pd.Series(np.linspace(0, 1.0, 5), name=\"throttle\")\n",
    "    # throttle_ser\n",
    "    dfs = [rows_df, ts_ser, speed_ser, throttle_ser]\n",
    "    action = (\n",
    "        reduce(\n",
    "            lambda left, right: pd.merge(\n",
    "                left, right, how=\"outer\", left_index=True, right_index=True\n",
    "            ),\n",
    "            dfs,\n",
    "        )\n",
    "        .stack()\n",
    "        .swaplevel(0, 1)\n",
    "        .sort_index()\n",
    "    )\n",
    "    \n",
    "    action.name = \"action\"\n",
    "    action.index.names = [\"rows\", \"idx\"]\n",
    "    return action"
   ]
  },
  {
   "cell_type": "code",
   "execution_count": null,
   "metadata": {},
   "outputs": [],
   "source": [
    "#| hide\n",
    "action = generate_action(tz=tz)\n",
    "action"
   ]
  },
  {
   "cell_type": "code",
   "execution_count": null,
   "metadata": {},
   "outputs": [],
   "source": [
    "action['timestep'].dtype"
   ]
  },
  {
   "cell_type": "markdown",
   "metadata": {},
   "source": [
    "## Generate reward"
   ]
  },
  {
   "cell_type": "code",
   "execution_count": null,
   "metadata": {},
   "outputs": [],
   "source": [
    "#| export\n",
    "\n",
    "def generate_reward(tz: ZoneInfo)->pd.DataFrame:\n",
    "    \"\"\"\n",
    "    generate a pandas DataFrame for testing purpose\n",
    "    \"\"\"\n",
    "    ts = pd.to_datetime(datetime.now(tz=tz))\n",
    "    ts_ind = ts + pd.to_timedelta(np.arange(0, 4 * 20, 20), \"ms\")\n",
    "    ts_ind = ts_ind.tz_localize(None).astype(\"datetime64[us]\").tz_localize(tz)\n",
    "    s = np.arange(12)\n",
    "    a = len(s) + np.arange(15)\n",
    "    reward = (\n",
    "        pd.DataFrame({\"work\": len(s) + len(a), \"timestep\": ts_ind[0]}, index=[0])\n",
    "        .stack()\n",
    "        .swaplevel(0, 1)\n",
    "        .sort_index()\n",
    "    )\n",
    "    # reward_index = (reward.name,  ts_ind[0], 0)\n",
    "    reward.index.names = [\"rows\", \"idx\"]\n",
    "    reward.name = \"reward\"\n",
    "    return reward\n"
   ]
  },
  {
   "cell_type": "code",
   "execution_count": null,
   "metadata": {},
   "outputs": [],
   "source": [
    "#| hide\n",
    "generate_reward(tz=tz)"
   ]
  },
  {
   "cell_type": "markdown",
   "metadata": {},
   "source": [
    "## Generate nstate"
   ]
  },
  {
   "cell_type": "code",
   "execution_count": null,
   "metadata": {},
   "outputs": [],
   "source": []
  },
  {
   "cell_type": "code",
   "execution_count": null,
   "metadata": {},
   "outputs": [],
   "source": [
    "#| export\n",
    "def generate_nstate(tz: ZoneInfo)->pd.DataFrame:\n",
    "    \"\"\"\n",
    "    generate a pandas DataFrame for testing purpose\n",
    "    \"\"\"\n",
    "    ts = pd.to_datetime(datetime.now(tz=tz))\n",
    "    s = np.arange(12)\n",
    "    a = len(s) + np.arange(15)\n",
    "    reward = generate_reward(tz=tz)\n",
    "    \n",
    "    ts_ind = ts + pd.to_timedelta(5, \"s\") + pd.to_timedelta(np.arange(0, 4 * 20, 20), \"ms\")\n",
    "    ts_ind = ts_ind.tz_localize(None).astype(\"datetime64[us]\").tz_localize(tz)\n",
    "    s = (\n",
    "            np.arange(12) + len(s) + len(a) + len(reward) - 1\n",
    "    )  # exclude the timestamp in reward\n",
    "    a1 = s[:4]\n",
    "    a2 = s[4:8]\n",
    "    a3 = s[8:]\n",
    "    nstate = (\n",
    "        pd.DataFrame({\"timestep\": ts_ind, \"velocity\": a1, \"thrust\": a2, \"brake\": a3})\n",
    "        # .set_index('timestamp')\n",
    "        .stack()\n",
    "        .swaplevel(0, 1)\n",
    "        .sort_index()\n",
    "    )\n",
    "    nstate.name = \"nstate\"\n",
    "    nstate.index.names = [\"rows\", \"idx\"]\n",
    "    return nstate"
   ]
  },
  {
   "cell_type": "code",
   "execution_count": null,
   "metadata": {},
   "outputs": [],
   "source": [
    "#| hide\n",
    "generate_nstate(tz=tz)"
   ]
  },
  {
   "cell_type": "markdown",
   "metadata": {},
   "source": [
    "## Generate observation"
   ]
  },
  {
   "cell_type": "code",
   "execution_count": null,
   "metadata": {},
   "outputs": [],
   "source": [
    "#| export\n",
    "def generate_observation(tz: ZoneInfo)-> list[pd.Series]:\n",
    "    \"\"\"\n",
    "    generate a list of pandas Series for testing purpose\n",
    "    \"\"\"\n",
    "\n",
    "    ts = pd.to_datetime(datetime.now(tz=tz))\n",
    "    state = generate_state(tz)\n",
    "    action = generate_action(tz)\n",
    "    reward = generate_reward(tz)\n",
    "    nstate = generate_nstate(tz)\n",
    "    \n",
    "    timestamp = pd.DatetimeIndex([ts], name=\"timestamp\").tz_localize(None).astype(\n",
    "        \"datetime64[us]\"\n",
    "    ).tz_localize(tz)\n",
    "    timestamp = pd.Series(timestamp, name=\"timestamp\")\n",
    "    timestamp.index = pd.MultiIndex.from_product(\n",
    "        [timestamp.index, [0]], names=[\"rows\", \"idx\"]\n",
    "    )\n",
    "    timestamp_index = (timestamp.name, \"\", 0)\n",
    "    state_index = [(state.name, *i) for i in state.index]\n",
    "    reward_index = [(reward.name, *i) for i in reward.index]\n",
    "    action_index = [(action.name, *i) for i in action.index]\n",
    "    nstate_index = [(nstate.name, *i) for i in nstate.index]\n",
    "    \n",
    "    multiindex = pd.MultiIndex.from_tuples(\n",
    "        [timestamp_index, *state_index, *action_index, *reward_index, *nstate_index]\n",
    "    )\n",
    "    observation_list = [timestamp, state, action, reward, nstate]\n",
    "    observation = pd.concat(observation_list)\n",
    "    observation.index = multiindex\n",
    "    observation0 = observation.copy()\n",
    "    observation0.loc[\"timestamp\", \"\", 0] = ts + pd.Timedelta(1, \"h\")\n",
    "    observation1 = observation.copy()\n",
    "    observation1.loc[\"timestamp\", \"\", 0] = ts + pd.Timedelta(2, \"h\")\n",
    "    observation2 = observation.copy()\n",
    "    observation2.loc[\"timestamp\", \"\", 0] = ts + pd.Timedelta(3, \"h\")\n",
    "    observation3 = observation.copy()\n",
    "    observation3.loc[\"timestamp\", \"\", 0] = ts + pd.Timedelta(4, \"h\")\n",
    "    observation4 = observation.copy()\n",
    "    observation4.loc[\"timestamp\", \"\", 0] = ts + pd.Timedelta(5, \"h\")\n",
    "    observation_list = [\n",
    "        observation0,\n",
    "        observation1,\n",
    "        observation2,\n",
    "        observation3,\n",
    "        observation4,\n",
    "    ]\n",
    "    return observation_list\n"
   ]
  },
  {
   "cell_type": "code",
   "execution_count": null,
   "metadata": {},
   "outputs": [],
   "source": [
    "#| hide\n",
    "generate_observation(tz=tz)"
   ]
  },
  {
   "cell_type": "markdown",
   "metadata": {},
   "source": [
    "## Generate MultiIndex DataFrame"
   ]
  },
  {
   "cell_type": "code",
   "execution_count": null,
   "metadata": {},
   "outputs": [],
   "source": [
    "#| export\n",
    "def generate_df_multiindex(tz: ZoneInfo)->pd.DataFrame:\n",
    "\n",
    "    observation_list = generate_observation(tz=tz)\n",
    "    dfs_epi = pd.concat(observation_list, axis=1).transpose()\n",
    "    dfs_epi.columns.names = [\"qtuple\", \"rows\", \"idx\"]\n",
    "    # dfs_epi\n",
    "    \n",
    "    dfs_episode = dfs_epi.copy()\n",
    "    dfs_episode.set_index((\"timestamp\", \"\", 0), inplace=True)\n",
    "    dfs_episode.sort_index(axis=1, inplace=True)\n",
    "    dfs_episode.index.name = \"timestamp\"\n",
    "    idx = pd.IndexSlice\n",
    "    state_cols_float = [(\"state\", col) for col in [\"brake\", \"thrust\", \"velocity\"]]\n",
    "    action_cols_float = [(\"action\", col) for col in [\"r0\", \"r1\", \"r2\", \"speed\", \"throttle\"]]\n",
    "    reward_cols_float = [(\"reward\", \"work\")]\n",
    "    nstate_cols_float = [(\"nstate\", col) for col in [\"brake\", \"thrust\", \"velocity\"]]\n",
    "    for col in action_cols_float + state_cols_float + reward_cols_float + nstate_cols_float:\n",
    "        dfs_episode[col[0], col[1]] = dfs_episode[col[0], col[1]].astype(\n",
    "            \"float\"\n",
    "        )  # float16 not allowed in parquet\n",
    "    return dfs_episode\n"
   ]
  },
  {
   "cell_type": "code",
   "execution_count": null,
   "metadata": {},
   "outputs": [],
   "source": [
    "#| hide\n",
    "generate_df_multiindex(tz=tz)"
   ]
  },
  {
   "cell_type": "markdown",
   "metadata": {},
   "source": [
    "## prepend two levels of index \"vehicle\" and \"driver\" to the DataFrame object"
   ]
  },
  {
   "cell_type": "code",
   "execution_count": null,
   "metadata": {},
   "outputs": [],
   "source": [
    "#|export\n",
    "def generate_eos_df(tz: ZoneInfo)->pd.DataFrame:\n",
    "    \"\"\"\n",
    "    generate a pandas DataFrame for testing purpose\n",
    "    \"\"\"\n",
    "    dfs_episode = generate_df_multiindex(tz=tz)\n",
    "    \n",
    "    ts = pd.to_datetime(datetime.now(tz=tz))\n",
    "    dfs_episode = pd.concat(\n",
    "        [dfs_episode], keys=[drivers_by_id[\"wang-cheng\"].pid], names=[\"driver\"]\n",
    "    )\n",
    "    dfs_episode = pd.concat(\n",
    "        [dfs_episode], keys=[trucks_by_id[\"VB7\"].vid], names=[\"vehicle\"]\n",
    "    )\n",
    "    episodestart = ts - pd.Timedelta(1, \"h\")\n",
    "    dfs_episode = pd.concat([dfs_episode], keys=[ts], names=[\"episodestart\"])\n",
    "    dfs_episode = dfs_episode.swaplevel(1, 0, axis=0)\n",
    "    dfs_episode = dfs_episode.swaplevel(1, 2, axis=0)\n",
    "    dfs_episode.sort_index(inplace=True)\n",
    "    return dfs_episode\n"
   ]
  },
  {
   "cell_type": "code",
   "execution_count": null,
   "metadata": {},
   "outputs": [],
   "source": [
    "#|output: true\n",
    "generate_eos_df(tz)"
   ]
  },
  {
   "cell_type": "code",
   "execution_count": null,
   "metadata": {},
   "outputs": [],
   "source": [
    "assert isinstance(generate_eos_df(tz).index, pd.MultiIndex), f\"dfs_episode.index is not a MultiIndex\""
   ]
  },
  {
   "cell_type": "code",
   "execution_count": null,
   "metadata": {},
   "outputs": [],
   "source": [
    "from fastcore.test import *"
   ]
  },
  {
   "cell_type": "code",
   "execution_count": null,
   "metadata": {},
   "outputs": [],
   "source": [
    "test_eq(isinstance(generate_eos_df(tz).index, pd.MultiIndex), True)"
   ]
  },
  {
   "cell_type": "markdown",
   "metadata": {},
   "source": [
    "## Generate Recipe for local pool storage"
   ]
  },
  {
   "cell_type": "code",
   "execution_count": null,
   "metadata": {},
   "outputs": [],
   "source": [
    "#| export\n",
    "from data_io_nbdev.data.location import EosLocation, locations_by_abbr\n",
    "from data_io_nbdev.data.core import configparser_as_dict, get_filemeta_config, ObservationMetaECU, StateSpecsECU, ActionSpecs, RewardSpecs "
   ]
  },
  {
   "cell_type": "code",
   "execution_count": null,
   "metadata": {},
   "outputs": [],
   "source": [
    "#| output: true\n",
    "truck = trucks_by_id[\"VB7\"]\n",
    "meta = ObservationMetaECU(\n",
    "    state_specs=StateSpecsECU(),\n",
    "    action_specs=ActionSpecs(\n",
    "        action_unit_code=\"nm\",\n",
    "        action_row_number=truck.torque_table_row_num_flash,\n",
    "        action_column_number=truck.torque_table_col_num,\n",
    "    ),\n",
    "    reward_specs=RewardSpecs(reward_unit_code=\"wh\", reward_number=1),\n",
    "    site=locations_by_abbr[truck.site.abbr],\n",
    ")"
   ]
  },
  {
   "cell_type": "code",
   "execution_count": null,
   "metadata": {},
   "outputs": [],
   "source": [
    "#| output: true\n",
    "meta"
   ]
  },
  {
   "cell_type": "code",
   "execution_count": null,
   "metadata": {},
   "outputs": [],
   "source": [
    "#| output: true\n",
    "data_folder = \"data\"\n",
    "coll_type = \"RECORD\"\n",
    "truck = trucks_by_id[\"default\"]\n",
    "truck.site = locations_by_abbr[truck.site.abbr]\n"
   ]
  },
  {
   "cell_type": "code",
   "execution_count": null,
   "metadata": {},
   "outputs": [],
   "source": [
    "#|output: true\n",
    "number_states, number_actions = meta.get_number_of_states_actions()\n",
    "recipe_default: ConfigParser = ConfigParser()\n",
    "recipe_default.read_dict(\n",
    "    {\n",
    "        \"DEFAULT\": {  # should go into parquet tabel meta info\n",
    "            \"data_folder\": data_folder,  # '.',\n",
    "            \"recipe_file_name\": \"recipe.ini\",  # 'recipe.ini',\n",
    "            \"coll_type\": coll_type,\n",
    "        },\n",
    "        \"array_specs\": {  # should go into parquet columns meta info\n",
    "            \"states\": str(number_states),  # 50*4*3\n",
    "            \"actions\": str(number_actions),  # 17*4\n",
    "            \"rewards\": \"1\",\n",
    "            \"next_states\": str(number_states),  # 50*4*3\n",
    "        },\n",
    "    }\n",
    ")\n"
   ]
  },
  {
   "cell_type": "code",
   "execution_count": null,
   "metadata": {},
   "outputs": [],
   "source": [
    "#|output: true\n",
    "recipe_generated = get_filemeta_config(data_folder=\"data\",config_file=\"recipe.ini\",meta=meta, coll_type=\"RECORD\")"
   ]
  },
  {
   "cell_type": "code",
   "execution_count": null,
   "metadata": {},
   "outputs": [],
   "source": [
    "#| output: true\n",
    "configparser_as_dict(recipe_generated)"
   ]
  },
  {
   "cell_type": "code",
   "execution_count": null,
   "metadata": {},
   "outputs": [],
   "source": [
    "test_eq(configparser_as_dict(recipe_default), configparser_as_dict(recipe_generated))"
   ]
  },
  {
   "cell_type": "code",
   "execution_count": null,
   "metadata": {},
   "outputs": [],
   "source": [
    "#| hide\n",
    "import nbdev; nbdev.nbdev_export()\n"
   ]
  }
 ],
 "metadata": {
  "kernelspec": {
   "display_name": "python3",
   "language": "python",
   "name": "python3"
  }
 },
 "nbformat": 4,
 "nbformat_minor": 4
}
