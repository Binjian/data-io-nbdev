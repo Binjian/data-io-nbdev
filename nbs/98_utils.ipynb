{
 "cells": [
  {
   "cell_type": "markdown",
   "metadata": {},
   "source": [
    "# utils \n",
    "\n",
    "> utility module for data_io, numerics, etc.\n",
    "> for example, generating a pandas DataFrame for testing purpose"
   ]
  },
  {
   "cell_type": "code",
   "execution_count": null,
   "metadata": {},
   "outputs": [],
   "source": [
    "#| default_exp utils "
   ]
  },
  {
   "cell_type": "code",
   "execution_count": null,
   "metadata": {},
   "outputs": [],
   "source": [
    "#| hide\n",
    "from nbdev.showdoc import *"
   ]
  },
  {
   "cell_type": "code",
   "execution_count": null,
   "metadata": {},
   "outputs": [],
   "source": [
    "#| export\n",
    "import numpy as np\n",
    "import pandas as pd\n",
    "from datetime import datetime\n",
    "from functools import reduce\n"
   ]
  },
  {
   "cell_type": "markdown",
   "metadata": {},
   "source": [
    "## Generate state"
   ]
  },
  {
   "cell_type": "code",
   "execution_count": null,
   "metadata": {},
   "outputs": [],
   "source": [
    "#| export\n",
    "def generate_state()->pd.DataFrame:\n",
    "    \"\"\"\n",
    "    generate a pandas DataFrame for testing purpose\n",
    "    \"\"\"\n",
    "    ts = pd.to_datetime(datetime.now())\n",
    "    ts_ind1 = ts + pd.to_timedelta(np.arange(0, 4 * 20, 20), \"ms\")\n",
    "    s = np.arange(12)\n",
    "    a_1 = s[:4]\n",
    "    a_2 = s[4:8]\n",
    "    a_3 = s[8:]\n",
    "    df_ss = pd.DataFrame(\n",
    "        {\"timestep\": ts_ind1, \"velocity\": a_1, \"thrust\": a_2, \"brake\": a_3}\n",
    "    )  # .set_index('timestep')\n",
    "    df_ss.columns.name = \"qtuple\"\n",
    "    ui_t = df_ss.loc[:, [\"velocity\", \"thrust\"]]\n",
    "    state = df_ss.stack().swaplevel(0, 1)\n",
    "    state.name = \"state\"\n",
    "    state.index.names = [\"rows\", \"idx\"]\n",
    "    state.sort_index(inplace=True)\n",
    "    return state"
   ]
  },
  {
   "cell_type": "code",
   "execution_count": null,
   "metadata": {},
   "outputs": [
    {
     "data": {
      "text/plain": "rows      idx\nbrake     0                               8\n          1                               9\n          2                              10\n          3                              11\nthrust    0                               4\n          1                               5\n          2                               6\n          3                               7\ntimestep  0      2023-12-08 17:21:15.079054\n          1      2023-12-08 17:21:15.099054\n          2      2023-12-08 17:21:15.119054\n          3      2023-12-08 17:21:15.139054\nvelocity  0                               0\n          1                               1\n          2                               2\n          3                               3\nName: state, dtype: object"
     },
     "execution_count": null,
     "metadata": {},
     "output_type": "execute_result"
    }
   ],
   "source": [
    "#| hide\n",
    "generate_state()"
   ]
  },
  {
   "cell_type": "markdown",
   "metadata": {},
   "source": [
    "## Generate action"
   ]
  },
  {
   "cell_type": "code",
   "execution_count": null,
   "metadata": {},
   "outputs": [],
   "source": [
    "#| export\n",
    "def generate_action()->pd.DataFrame:\n",
    "    \"\"\"\n",
    "    generate a pandas DataFrame for testing purpose\n",
    "    \"\"\"\n",
    "\n",
    "    s = np.arange(12)\n",
    "    ts = pd.to_datetime(datetime.now())\n",
    "    a = len(s) + np.arange(15)\n",
    "    speed_ser = pd.Series(np.linspace(40, 60, 3), name=\"speed\")\n",
    "    row_array = a.reshape(3, 5).transpose()\n",
    "    rows_df = pd.DataFrame(row_array)\n",
    "    rows_df.columns = [f\"r{i}\" for i in np.arange(3)]\n",
    "    ts_ind0 = ts + pd.to_timedelta(np.arange(5 * 20, 8 * 20, 20), \"ms\")\n",
    "    ts_ser = pd.Series(ts_ind0, name=\"timestep\")\n",
    "    throttle_ser = pd.Series(np.linspace(0, 1.0, 5), name=\"throttle\")\n",
    "    # throttle_ser\n",
    "    dfs = [rows_df, ts_ser, speed_ser, throttle_ser]\n",
    "    action = (\n",
    "        reduce(\n",
    "            lambda left, right: pd.merge(\n",
    "                left, right, how=\"outer\", left_index=True, right_index=True\n",
    "            ),\n",
    "            dfs,\n",
    "        )\n",
    "        .stack()\n",
    "        .swaplevel(0, 1)\n",
    "        .sort_index()\n",
    "    )\n",
    "    \n",
    "    action.name = \"action\"\n",
    "    action.index.names = [\"rows\", \"idx\"]\n",
    "    return action"
   ]
  },
  {
   "cell_type": "code",
   "execution_count": null,
   "metadata": {},
   "outputs": [
    {
     "data": {
      "text/plain": "rows      idx\nr0        0                              12\n          1                              13\n          2                              14\n          3                              15\n          4                              16\nr1        0                              17\n          1                              18\n          2                              19\n          3                              20\n          4                              21\nr2        0                              22\n          1                              23\n          2                              24\n          3                              25\n          4                              26\nspeed     0                            40.0\n          1                            50.0\n          2                            60.0\nthrottle  0                             0.0\n          1                            0.25\n          2                             0.5\n          3                            0.75\n          4                             1.0\ntimestep  0      2023-12-08 17:21:15.193791\n          1      2023-12-08 17:21:15.213791\n          2      2023-12-08 17:21:15.233791\nName: action, dtype: object"
     },
     "execution_count": null,
     "metadata": {},
     "output_type": "execute_result"
    }
   ],
   "source": [
    "#| hide\n",
    "generate_action()"
   ]
  },
  {
   "cell_type": "markdown",
   "metadata": {},
   "source": [
    "## Generate reward"
   ]
  },
  {
   "cell_type": "code",
   "execution_count": null,
   "metadata": {},
   "outputs": [],
   "source": [
    "#| export\n",
    "\n",
    "def generate_reward()->pd.DataFrame:\n",
    "    \"\"\"\n",
    "    generate a pandas DataFrame for testing purpose\n",
    "    \"\"\"\n",
    "    ts = pd.to_datetime(datetime.now())\n",
    "    ts_ind1 = ts + pd.to_timedelta(np.arange(0, 4 * 20, 20), \"ms\")\n",
    "    s = np.arange(12)\n",
    "    a = len(s) + np.arange(15)\n",
    "    reward = (\n",
    "        pd.DataFrame({\"work\": len(s) + len(a), \"timestep\": ts_ind1[0]}, index=[0])\n",
    "        .stack()\n",
    "        .swaplevel(0, 1)\n",
    "        .sort_index()\n",
    "    )\n",
    "    # reward_index = (reward.name,  ts_ind[0], 0)\n",
    "    reward.index.names = [\"rows\", \"idx\"]\n",
    "    reward.name = \"reward\"\n",
    "    return reward\n"
   ]
  },
  {
   "cell_type": "code",
   "execution_count": null,
   "metadata": {},
   "outputs": [
    {
     "data": {
      "text/plain": "rows      idx\ntimestep  0      2023-12-08 17:21:15.110153\nwork      0                              27\nName: reward, dtype: object"
     },
     "execution_count": null,
     "metadata": {},
     "output_type": "execute_result"
    }
   ],
   "source": [
    "#| hide\n",
    "generate_reward()"
   ]
  },
  {
   "cell_type": "markdown",
   "metadata": {},
   "source": [
    "## Generate nstate"
   ]
  },
  {
   "cell_type": "code",
   "execution_count": null,
   "metadata": {},
   "outputs": [],
   "source": [
    "#| export\n",
    "def generate_nstate()->pd.DataFrame:\n",
    "    \"\"\"\n",
    "    generate a pandas DataFrame for testing purpose\n",
    "    \"\"\"\n",
    "    ts = pd.to_datetime(datetime.now())\n",
    "    s = np.arange(12)\n",
    "    a = len(s) + np.arange(15)\n",
    "    reward = generate_reward()\n",
    "    \n",
    "    ts_ind = ts + pd.to_timedelta(5, \"s\") + pd.to_timedelta(np.arange(0, 4 * 20, 20), \"ms\")\n",
    "    s = (\n",
    "            np.arange(12) + len(s) + len(a) + len(reward) - 1\n",
    "    )  # exclude the timestamp in reward\n",
    "    a1 = s[:4]\n",
    "    a2 = s[4:8]\n",
    "    a3 = s[8:]\n",
    "    nstate = (\n",
    "        pd.DataFrame({\"timestep\": ts_ind, \"velocity\": a1, \"thrust\": a2, \"brake\": a3})\n",
    "        # .set_index('timestamp')\n",
    "        .stack()\n",
    "        .swaplevel(0, 1)\n",
    "        .sort_index()\n",
    "    )\n",
    "    nstate.name = \"nstate\"\n",
    "    nstate.index.names = [\"rows\", \"idx\"]\n",
    "    return nstate"
   ]
  },
  {
   "cell_type": "code",
   "execution_count": null,
   "metadata": {},
   "outputs": [
    {
     "data": {
      "text/plain": "rows      idx\nbrake     0                              36\n          1                              37\n          2                              38\n          3                              39\nthrust    0                              32\n          1                              33\n          2                              34\n          3                              35\ntimestep  0      2023-12-08 17:21:20.123105\n          1      2023-12-08 17:21:20.143105\n          2      2023-12-08 17:21:20.163105\n          3      2023-12-08 17:21:20.183105\nvelocity  0                              28\n          1                              29\n          2                              30\n          3                              31\nName: nstate, dtype: object"
     },
     "execution_count": null,
     "metadata": {},
     "output_type": "execute_result"
    }
   ],
   "source": [
    "#| hide\n",
    "generate_nstate()"
   ]
  },
  {
   "cell_type": "markdown",
   "metadata": {},
   "source": [
    "## Generate observation"
   ]
  },
  {
   "cell_type": "code",
   "execution_count": null,
   "metadata": {},
   "outputs": [],
   "source": [
    "#| export\n",
    "def generate_observation()-> list[pd.Series]:\n",
    "    \"\"\"\n",
    "    generate a list of pandas Series for testing purpose\n",
    "    \"\"\"\n",
    "\n",
    "    ts = pd.to_datetime(datetime.now())\n",
    "    state = generate_state()\n",
    "    action = generate_action()\n",
    "    reward = generate_reward()\n",
    "    nstate = generate_nstate()\n",
    "    \n",
    "    timestamp = pd.Series([ts], name=\"timestamp\")\n",
    "    timestamp.index = pd.MultiIndex.from_product(\n",
    "        [timestamp.index, [0]], names=[\"rows\", \"idx\"]\n",
    "    )\n",
    "    timestamp_index = (timestamp.name, \"\", 0)\n",
    "    state_index = [(state.name, *i) for i in state.index]\n",
    "    reward_index = [(reward.name, *i) for i in reward.index]\n",
    "    action_index = [(action.name, *i) for i in action.index]\n",
    "    nstate_index = [(nstate.name, *i) for i in nstate.index]\n",
    "    \n",
    "    multiindex = pd.MultiIndex.from_tuples(\n",
    "        [timestamp_index, *state_index, *action_index, *reward_index, *nstate_index]\n",
    "    )\n",
    "    observation_list = [timestamp, state, action, reward, nstate]\n",
    "    observation = pd.concat(observation_list)\n",
    "    observation.index = multiindex\n",
    "    observation0 = observation.copy()\n",
    "    observation0.loc[\"timestamp\", \"\", 0] = ts + pd.Timedelta(1, \"h\")\n",
    "    observation1 = observation.copy()\n",
    "    observation1.loc[\"timestamp\", \"\", 0] = ts + pd.Timedelta(2, \"h\")\n",
    "    observation2 = observation.copy()\n",
    "    observation2.loc[\"timestamp\", \"\", 0] = ts + pd.Timedelta(3, \"h\")\n",
    "    observation3 = observation.copy()\n",
    "    observation3.loc[\"timestamp\", \"\", 0] = ts + pd.Timedelta(4, \"h\")\n",
    "    observation4 = observation.copy()\n",
    "    observation4.loc[\"timestamp\", \"\", 0] = ts + pd.Timedelta(5, \"h\")\n",
    "    observation_list = [\n",
    "        observation0,\n",
    "        observation1,\n",
    "        observation2,\n",
    "        observation3,\n",
    "        observation4,\n",
    "    ]\n",
    "    return observation_list\n"
   ]
  },
  {
   "cell_type": "code",
   "execution_count": null,
   "metadata": {},
   "outputs": [
    {
     "data": {
      "text/plain": "[timestamp            0    2023-12-08 18:21:15.140414\n state      brake     0                             8\n                      1                             9\n                      2                            10\n                      3                            11\n                                      ...            \n nstate     timestep  3    2023-12-08 17:21:20.205199\n            velocity  0                            28\n                      1                            29\n                      2                            30\n                      3                            31\n Length: 61, dtype: object,\n timestamp            0    2023-12-08 19:21:15.140414\n state      brake     0                             8\n                      1                             9\n                      2                            10\n                      3                            11\n                                      ...            \n nstate     timestep  3    2023-12-08 17:21:20.205199\n            velocity  0                            28\n                      1                            29\n                      2                            30\n                      3                            31\n Length: 61, dtype: object,\n timestamp            0    2023-12-08 20:21:15.140414\n state      brake     0                             8\n                      1                             9\n                      2                            10\n                      3                            11\n                                      ...            \n nstate     timestep  3    2023-12-08 17:21:20.205199\n            velocity  0                            28\n                      1                            29\n                      2                            30\n                      3                            31\n Length: 61, dtype: object,\n timestamp            0    2023-12-08 21:21:15.140414\n state      brake     0                             8\n                      1                             9\n                      2                            10\n                      3                            11\n                                      ...            \n nstate     timestep  3    2023-12-08 17:21:20.205199\n            velocity  0                            28\n                      1                            29\n                      2                            30\n                      3                            31\n Length: 61, dtype: object,\n timestamp            0    2023-12-08 22:21:15.140414\n state      brake     0                             8\n                      1                             9\n                      2                            10\n                      3                            11\n                                      ...            \n nstate     timestep  3    2023-12-08 17:21:20.205199\n            velocity  0                            28\n                      1                            29\n                      2                            30\n                      3                            31\n Length: 61, dtype: object]"
     },
     "execution_count": null,
     "metadata": {},
     "output_type": "execute_result"
    }
   ],
   "source": [
    "#| hide\n",
    "generate_observation()"
   ]
  },
  {
   "cell_type": "markdown",
   "metadata": {},
   "source": [
    "## Generate MultiIndex DataFrame"
   ]
  },
  {
   "cell_type": "code",
   "execution_count": null,
   "metadata": {},
   "outputs": [],
   "source": [
    "#| export\n",
    "def generate_df_multiindex()->pd.DataFrame:\n",
    "\n",
    "    observation_list = generate_observation()\n",
    "    dfs_epi = pd.concat(observation_list, axis=1).transpose()\n",
    "    dfs_epi.columns.names = [\"qtuple\", \"rows\", \"idx\"]\n",
    "    # dfs_epi\n",
    "    \n",
    "    dfs_episode = dfs_epi.copy()\n",
    "    dfs_episode.set_index((\"timestamp\", \"\", 0), inplace=True)\n",
    "    dfs_episode.sort_index(axis=1, inplace=True)\n",
    "    dfs_episode.index.name = \"timestamp\"\n",
    "    idx = pd.IndexSlice\n",
    "    state_cols_float = [(\"state\", col) for col in [\"brake\", \"thrust\", \"velocity\"]]\n",
    "    action_cols_float = [(\"action\", col) for col in [\"r0\", \"r1\", \"r2\", \"speed\", \"throttle\"]]\n",
    "    reward_cols_float = [(\"reward\", \"work\")]\n",
    "    nstate_cols_float = [(\"nstate\", col) for col in [\"brake\", \"thrust\", \"velocity\"]]\n",
    "    for col in action_cols_float + state_cols_float + reward_cols_float + nstate_cols_float:\n",
    "        dfs_episode[col[0], col[1]] = dfs_episode[col[0], col[1]].astype(\n",
    "            \"float\"\n",
    "        )  # float16 not allowed in parquet\n",
    "    return dfs_episode\n"
   ]
  },
  {
   "cell_type": "code",
   "execution_count": null,
   "metadata": {},
   "outputs": [
    {
     "data": {
      "text/html": "<div>\n<style scoped>\n    .dataframe tbody tr th:only-of-type {\n        vertical-align: middle;\n    }\n\n    .dataframe tbody tr th {\n        vertical-align: top;\n    }\n\n    .dataframe thead tr th {\n        text-align: left;\n    }\n\n    .dataframe thead tr:last-of-type th {\n        text-align: right;\n    }\n</style>\n<table border=\"1\" class=\"dataframe\">\n  <thead>\n    <tr>\n      <th>qtuple</th>\n      <th colspan=\"10\" halign=\"left\">action</th>\n      <th>...</th>\n      <th colspan=\"10\" halign=\"left\">state</th>\n    </tr>\n    <tr>\n      <th>rows</th>\n      <th colspan=\"5\" halign=\"left\">r0</th>\n      <th colspan=\"5\" halign=\"left\">r1</th>\n      <th>...</th>\n      <th colspan=\"2\" halign=\"left\">thrust</th>\n      <th colspan=\"4\" halign=\"left\">timestep</th>\n      <th colspan=\"4\" halign=\"left\">velocity</th>\n    </tr>\n    <tr>\n      <th>idx</th>\n      <th>0</th>\n      <th>1</th>\n      <th>2</th>\n      <th>3</th>\n      <th>4</th>\n      <th>0</th>\n      <th>1</th>\n      <th>2</th>\n      <th>3</th>\n      <th>4</th>\n      <th>...</th>\n      <th>2</th>\n      <th>3</th>\n      <th>0</th>\n      <th>1</th>\n      <th>2</th>\n      <th>3</th>\n      <th>0</th>\n      <th>1</th>\n      <th>2</th>\n      <th>3</th>\n    </tr>\n    <tr>\n      <th>timestamp</th>\n      <th></th>\n      <th></th>\n      <th></th>\n      <th></th>\n      <th></th>\n      <th></th>\n      <th></th>\n      <th></th>\n      <th></th>\n      <th></th>\n      <th></th>\n      <th></th>\n      <th></th>\n      <th></th>\n      <th></th>\n      <th></th>\n      <th></th>\n      <th></th>\n      <th></th>\n      <th></th>\n      <th></th>\n    </tr>\n  </thead>\n  <tbody>\n    <tr>\n      <th>2023-12-08 18:21:15.165397</th>\n      <td>12.0</td>\n      <td>13.0</td>\n      <td>14.0</td>\n      <td>15.0</td>\n      <td>16.0</td>\n      <td>17.0</td>\n      <td>18.0</td>\n      <td>19.0</td>\n      <td>20.0</td>\n      <td>21.0</td>\n      <td>...</td>\n      <td>6.0</td>\n      <td>7.0</td>\n      <td>2023-12-08 17:21:15.165555</td>\n      <td>2023-12-08 17:21:15.185555</td>\n      <td>2023-12-08 17:21:15.205555</td>\n      <td>2023-12-08 17:21:15.225555</td>\n      <td>0.0</td>\n      <td>1.0</td>\n      <td>2.0</td>\n      <td>3.0</td>\n    </tr>\n    <tr>\n      <th>2023-12-08 19:21:15.165397</th>\n      <td>12.0</td>\n      <td>13.0</td>\n      <td>14.0</td>\n      <td>15.0</td>\n      <td>16.0</td>\n      <td>17.0</td>\n      <td>18.0</td>\n      <td>19.0</td>\n      <td>20.0</td>\n      <td>21.0</td>\n      <td>...</td>\n      <td>6.0</td>\n      <td>7.0</td>\n      <td>2023-12-08 17:21:15.165555</td>\n      <td>2023-12-08 17:21:15.185555</td>\n      <td>2023-12-08 17:21:15.205555</td>\n      <td>2023-12-08 17:21:15.225555</td>\n      <td>0.0</td>\n      <td>1.0</td>\n      <td>2.0</td>\n      <td>3.0</td>\n    </tr>\n    <tr>\n      <th>2023-12-08 20:21:15.165397</th>\n      <td>12.0</td>\n      <td>13.0</td>\n      <td>14.0</td>\n      <td>15.0</td>\n      <td>16.0</td>\n      <td>17.0</td>\n      <td>18.0</td>\n      <td>19.0</td>\n      <td>20.0</td>\n      <td>21.0</td>\n      <td>...</td>\n      <td>6.0</td>\n      <td>7.0</td>\n      <td>2023-12-08 17:21:15.165555</td>\n      <td>2023-12-08 17:21:15.185555</td>\n      <td>2023-12-08 17:21:15.205555</td>\n      <td>2023-12-08 17:21:15.225555</td>\n      <td>0.0</td>\n      <td>1.0</td>\n      <td>2.0</td>\n      <td>3.0</td>\n    </tr>\n    <tr>\n      <th>2023-12-08 21:21:15.165397</th>\n      <td>12.0</td>\n      <td>13.0</td>\n      <td>14.0</td>\n      <td>15.0</td>\n      <td>16.0</td>\n      <td>17.0</td>\n      <td>18.0</td>\n      <td>19.0</td>\n      <td>20.0</td>\n      <td>21.0</td>\n      <td>...</td>\n      <td>6.0</td>\n      <td>7.0</td>\n      <td>2023-12-08 17:21:15.165555</td>\n      <td>2023-12-08 17:21:15.185555</td>\n      <td>2023-12-08 17:21:15.205555</td>\n      <td>2023-12-08 17:21:15.225555</td>\n      <td>0.0</td>\n      <td>1.0</td>\n      <td>2.0</td>\n      <td>3.0</td>\n    </tr>\n    <tr>\n      <th>2023-12-08 22:21:15.165397</th>\n      <td>12.0</td>\n      <td>13.0</td>\n      <td>14.0</td>\n      <td>15.0</td>\n      <td>16.0</td>\n      <td>17.0</td>\n      <td>18.0</td>\n      <td>19.0</td>\n      <td>20.0</td>\n      <td>21.0</td>\n      <td>...</td>\n      <td>6.0</td>\n      <td>7.0</td>\n      <td>2023-12-08 17:21:15.165555</td>\n      <td>2023-12-08 17:21:15.185555</td>\n      <td>2023-12-08 17:21:15.205555</td>\n      <td>2023-12-08 17:21:15.225555</td>\n      <td>0.0</td>\n      <td>1.0</td>\n      <td>2.0</td>\n      <td>3.0</td>\n    </tr>\n  </tbody>\n</table>\n<p>5 rows × 60 columns</p>\n</div>",
      "text/plain": "qtuple                     action                                            \\\nrows                           r0                            r1               \nidx                             0     1     2     3     4     0     1     2   \ntimestamp                                                                     \n2023-12-08 18:21:15.165397   12.0  13.0  14.0  15.0  16.0  17.0  18.0  19.0   \n2023-12-08 19:21:15.165397   12.0  13.0  14.0  15.0  16.0  17.0  18.0  19.0   \n2023-12-08 20:21:15.165397   12.0  13.0  14.0  15.0  16.0  17.0  18.0  19.0   \n2023-12-08 21:21:15.165397   12.0  13.0  14.0  15.0  16.0  17.0  18.0  19.0   \n2023-12-08 22:21:15.165397   12.0  13.0  14.0  15.0  16.0  17.0  18.0  19.0   \n\nqtuple                                  ...  state       \\\nrows                                    ... thrust        \nidx                            3     4  ...      2    3   \ntimestamp                               ...               \n2023-12-08 18:21:15.165397  20.0  21.0  ...    6.0  7.0   \n2023-12-08 19:21:15.165397  20.0  21.0  ...    6.0  7.0   \n2023-12-08 20:21:15.165397  20.0  21.0  ...    6.0  7.0   \n2023-12-08 21:21:15.165397  20.0  21.0  ...    6.0  7.0   \n2023-12-08 22:21:15.165397  20.0  21.0  ...    6.0  7.0   \n\nqtuple                                                  \\\nrows                                          timestep   \nidx                                                  0   \ntimestamp                                                \n2023-12-08 18:21:15.165397  2023-12-08 17:21:15.165555   \n2023-12-08 19:21:15.165397  2023-12-08 17:21:15.165555   \n2023-12-08 20:21:15.165397  2023-12-08 17:21:15.165555   \n2023-12-08 21:21:15.165397  2023-12-08 17:21:15.165555   \n2023-12-08 22:21:15.165397  2023-12-08 17:21:15.165555   \n\nqtuple                                                  \\\nrows                                                     \nidx                                                  1   \ntimestamp                                                \n2023-12-08 18:21:15.165397  2023-12-08 17:21:15.185555   \n2023-12-08 19:21:15.165397  2023-12-08 17:21:15.185555   \n2023-12-08 20:21:15.165397  2023-12-08 17:21:15.185555   \n2023-12-08 21:21:15.165397  2023-12-08 17:21:15.185555   \n2023-12-08 22:21:15.165397  2023-12-08 17:21:15.185555   \n\nqtuple                                                  \\\nrows                                                     \nidx                                                  2   \ntimestamp                                                \n2023-12-08 18:21:15.165397  2023-12-08 17:21:15.205555   \n2023-12-08 19:21:15.165397  2023-12-08 17:21:15.205555   \n2023-12-08 20:21:15.165397  2023-12-08 17:21:15.205555   \n2023-12-08 21:21:15.165397  2023-12-08 17:21:15.205555   \n2023-12-08 22:21:15.165397  2023-12-08 17:21:15.205555   \n\nqtuple                                                                          \nrows                                                   velocity                 \nidx                                                  3        0    1    2    3  \ntimestamp                                                                       \n2023-12-08 18:21:15.165397  2023-12-08 17:21:15.225555      0.0  1.0  2.0  3.0  \n2023-12-08 19:21:15.165397  2023-12-08 17:21:15.225555      0.0  1.0  2.0  3.0  \n2023-12-08 20:21:15.165397  2023-12-08 17:21:15.225555      0.0  1.0  2.0  3.0  \n2023-12-08 21:21:15.165397  2023-12-08 17:21:15.225555      0.0  1.0  2.0  3.0  \n2023-12-08 22:21:15.165397  2023-12-08 17:21:15.225555      0.0  1.0  2.0  3.0  \n\n[5 rows x 60 columns]"
     },
     "execution_count": null,
     "metadata": {},
     "output_type": "execute_result"
    }
   ],
   "source": [
    "#| hide\n",
    "generate_df_multiindex()"
   ]
  },
  {
   "cell_type": "markdown",
   "metadata": {},
   "source": [
    "## prepend two levels of index \"vehicle\" and \"driver\" to the DataFrame object"
   ]
  },
  {
   "cell_type": "code",
   "execution_count": null,
   "metadata": {},
   "outputs": [
    {
     "name": "stderr",
     "output_type": "stream",
     "text": [
      "2023-12-08 17:21:15.369829: E tensorflow/compiler/xla/stream_executor/cuda/cuda_dnn.cc:9342] Unable to register cuDNN factory: Attempting to register factory for plugin cuDNN when one has already been registered\n",
      "2023-12-08 17:21:15.369869: E tensorflow/compiler/xla/stream_executor/cuda/cuda_fft.cc:609] Unable to register cuFFT factory: Attempting to register factory for plugin cuFFT when one has already been registered\n",
      "2023-12-08 17:21:15.369876: E tensorflow/compiler/xla/stream_executor/cuda/cuda_blas.cc:1518] Unable to register cuBLAS factory: Attempting to register factory for plugin cuBLAS when one has already been registered\n",
      "2023-12-08 17:21:15.375329: I tensorflow/core/platform/cpu_feature_guard.cc:182] This TensorFlow binary is optimized to use available CPU instructions in performance-critical operations.\n",
      "To enable the following instructions: SSE4.1 SSE4.2 AVX AVX2 FMA, in other operations, rebuild TensorFlow with the appropriate compiler flags.\n",
      "2023-12-08 17:21:17.599627: I tensorflow/compiler/xla/stream_executor/cuda/cuda_gpu_executor.cc:894] successful NUMA node read from SysFS had negative value (-1), but there must be at least one NUMA node, so returning NUMA node zero. See more at https://github.com/torvalds/linux/blob/v6.0/Documentation/ABI/testing/sysfs-bus-pci#L344-L355\n",
      "2023-12-08 17:21:17.627939: I tensorflow/compiler/xla/stream_executor/cuda/cuda_gpu_executor.cc:894] successful NUMA node read from SysFS had negative value (-1), but there must be at least one NUMA node, so returning NUMA node zero. See more at https://github.com/torvalds/linux/blob/v6.0/Documentation/ABI/testing/sysfs-bus-pci#L344-L355\n",
      "2023-12-08 17:21:17.628189: I tensorflow/compiler/xla/stream_executor/cuda/cuda_gpu_executor.cc:894] successful NUMA node read from SysFS had negative value (-1), but there must be at least one NUMA node, so returning NUMA node zero. See more at https://github.com/torvalds/linux/blob/v6.0/Documentation/ABI/testing/sysfs-bus-pci#L344-L355\n"
     ]
    }
   ],
   "source": [
    "#| export\n",
    "from eos.data_io.config import drivers_by_id, trucks_by_id"
   ]
  },
  {
   "cell_type": "code",
   "execution_count": null,
   "metadata": {},
   "outputs": [],
   "source": [
    "#|export\n",
    "def generate_eos_df()->pd.DataFrame:\n",
    "    \"\"\"\n",
    "    generate a pandas DataFrame for testing purpose\n",
    "    \"\"\"\n",
    "    dfs_episode = generate_df_multiindex()\n",
    "    \n",
    "    ts = pd.to_datetime(datetime.now())\n",
    "    dfs_episode = pd.concat(\n",
    "        [dfs_episode], keys=[drivers_by_id[\"wang-cheng\"].pid], names=[\"driver\"]\n",
    "    )\n",
    "    dfs_episode = pd.concat(\n",
    "        [dfs_episode], keys=[trucks_by_id[\"VB7\"].vid], names=[\"vehicle\"]\n",
    "    )\n",
    "    episodestart = ts - pd.Timedelta(1, \"h\")\n",
    "    dfs_episode = pd.concat([dfs_episode], keys=[ts], names=[\"episodestart\"])\n",
    "    dfs_episode = dfs_episode.swaplevel(1, 0, axis=0)\n",
    "    dfs_episode = dfs_episode.swaplevel(1, 2, axis=0)\n",
    "    dfs_episode.sort_index(inplace=True)\n",
    "    return dfs_episode\n"
   ]
  },
  {
   "cell_type": "code",
   "execution_count": null,
   "metadata": {},
   "outputs": [
    {
     "data": {
      "text/html": "<div>\n<style scoped>\n    .dataframe tbody tr th:only-of-type {\n        vertical-align: middle;\n    }\n\n    .dataframe tbody tr th {\n        vertical-align: top;\n    }\n\n    .dataframe thead tr th {\n        text-align: left;\n    }\n\n    .dataframe thead tr:last-of-type th {\n        text-align: right;\n    }\n</style>\n<table border=\"1\" class=\"dataframe\">\n  <thead>\n    <tr>\n      <th></th>\n      <th></th>\n      <th></th>\n      <th>qtuple</th>\n      <th colspan=\"10\" halign=\"left\">action</th>\n      <th>...</th>\n      <th colspan=\"10\" halign=\"left\">state</th>\n    </tr>\n    <tr>\n      <th></th>\n      <th></th>\n      <th></th>\n      <th>rows</th>\n      <th colspan=\"5\" halign=\"left\">r0</th>\n      <th colspan=\"5\" halign=\"left\">r1</th>\n      <th>...</th>\n      <th colspan=\"2\" halign=\"left\">thrust</th>\n      <th colspan=\"4\" halign=\"left\">timestep</th>\n      <th colspan=\"4\" halign=\"left\">velocity</th>\n    </tr>\n    <tr>\n      <th></th>\n      <th></th>\n      <th></th>\n      <th>idx</th>\n      <th>0</th>\n      <th>1</th>\n      <th>2</th>\n      <th>3</th>\n      <th>4</th>\n      <th>0</th>\n      <th>1</th>\n      <th>2</th>\n      <th>3</th>\n      <th>4</th>\n      <th>...</th>\n      <th>2</th>\n      <th>3</th>\n      <th>0</th>\n      <th>1</th>\n      <th>2</th>\n      <th>3</th>\n      <th>0</th>\n      <th>1</th>\n      <th>2</th>\n      <th>3</th>\n    </tr>\n    <tr>\n      <th>vehicle</th>\n      <th>driver</th>\n      <th>episodestart</th>\n      <th>timestamp</th>\n      <th></th>\n      <th></th>\n      <th></th>\n      <th></th>\n      <th></th>\n      <th></th>\n      <th></th>\n      <th></th>\n      <th></th>\n      <th></th>\n      <th></th>\n      <th></th>\n      <th></th>\n      <th></th>\n      <th></th>\n      <th></th>\n      <th></th>\n      <th></th>\n      <th></th>\n      <th></th>\n      <th></th>\n    </tr>\n  </thead>\n  <tbody>\n    <tr>\n      <th rowspan=\"5\" valign=\"top\">VB7</th>\n      <th rowspan=\"5\" valign=\"top\">wang-cheng</th>\n      <th rowspan=\"5\" valign=\"top\">2023-12-08 17:21:17.817434</th>\n      <th>2023-12-08 18:21:17.783837</th>\n      <td>12.0</td>\n      <td>13.0</td>\n      <td>14.0</td>\n      <td>15.0</td>\n      <td>16.0</td>\n      <td>17.0</td>\n      <td>18.0</td>\n      <td>19.0</td>\n      <td>20.0</td>\n      <td>21.0</td>\n      <td>...</td>\n      <td>6.0</td>\n      <td>7.0</td>\n      <td>2023-12-08 17:21:17.784184</td>\n      <td>2023-12-08 17:21:17.804184</td>\n      <td>2023-12-08 17:21:17.824184</td>\n      <td>2023-12-08 17:21:17.844184</td>\n      <td>0.0</td>\n      <td>1.0</td>\n      <td>2.0</td>\n      <td>3.0</td>\n    </tr>\n    <tr>\n      <th>2023-12-08 19:21:17.783837</th>\n      <td>12.0</td>\n      <td>13.0</td>\n      <td>14.0</td>\n      <td>15.0</td>\n      <td>16.0</td>\n      <td>17.0</td>\n      <td>18.0</td>\n      <td>19.0</td>\n      <td>20.0</td>\n      <td>21.0</td>\n      <td>...</td>\n      <td>6.0</td>\n      <td>7.0</td>\n      <td>2023-12-08 17:21:17.784184</td>\n      <td>2023-12-08 17:21:17.804184</td>\n      <td>2023-12-08 17:21:17.824184</td>\n      <td>2023-12-08 17:21:17.844184</td>\n      <td>0.0</td>\n      <td>1.0</td>\n      <td>2.0</td>\n      <td>3.0</td>\n    </tr>\n    <tr>\n      <th>2023-12-08 20:21:17.783837</th>\n      <td>12.0</td>\n      <td>13.0</td>\n      <td>14.0</td>\n      <td>15.0</td>\n      <td>16.0</td>\n      <td>17.0</td>\n      <td>18.0</td>\n      <td>19.0</td>\n      <td>20.0</td>\n      <td>21.0</td>\n      <td>...</td>\n      <td>6.0</td>\n      <td>7.0</td>\n      <td>2023-12-08 17:21:17.784184</td>\n      <td>2023-12-08 17:21:17.804184</td>\n      <td>2023-12-08 17:21:17.824184</td>\n      <td>2023-12-08 17:21:17.844184</td>\n      <td>0.0</td>\n      <td>1.0</td>\n      <td>2.0</td>\n      <td>3.0</td>\n    </tr>\n    <tr>\n      <th>2023-12-08 21:21:17.783837</th>\n      <td>12.0</td>\n      <td>13.0</td>\n      <td>14.0</td>\n      <td>15.0</td>\n      <td>16.0</td>\n      <td>17.0</td>\n      <td>18.0</td>\n      <td>19.0</td>\n      <td>20.0</td>\n      <td>21.0</td>\n      <td>...</td>\n      <td>6.0</td>\n      <td>7.0</td>\n      <td>2023-12-08 17:21:17.784184</td>\n      <td>2023-12-08 17:21:17.804184</td>\n      <td>2023-12-08 17:21:17.824184</td>\n      <td>2023-12-08 17:21:17.844184</td>\n      <td>0.0</td>\n      <td>1.0</td>\n      <td>2.0</td>\n      <td>3.0</td>\n    </tr>\n    <tr>\n      <th>2023-12-08 22:21:17.783837</th>\n      <td>12.0</td>\n      <td>13.0</td>\n      <td>14.0</td>\n      <td>15.0</td>\n      <td>16.0</td>\n      <td>17.0</td>\n      <td>18.0</td>\n      <td>19.0</td>\n      <td>20.0</td>\n      <td>21.0</td>\n      <td>...</td>\n      <td>6.0</td>\n      <td>7.0</td>\n      <td>2023-12-08 17:21:17.784184</td>\n      <td>2023-12-08 17:21:17.804184</td>\n      <td>2023-12-08 17:21:17.824184</td>\n      <td>2023-12-08 17:21:17.844184</td>\n      <td>0.0</td>\n      <td>1.0</td>\n      <td>2.0</td>\n      <td>3.0</td>\n    </tr>\n  </tbody>\n</table>\n<p>5 rows × 60 columns</p>\n</div>",
      "text/plain": "qtuple                                                                   action  \\\nrows                                                                         r0   \nidx                                                                           0   \nvehicle driver     episodestart               timestamp                           \nVB7     wang-cheng 2023-12-08 17:21:17.817434 2023-12-08 18:21:17.783837   12.0   \n                                              2023-12-08 19:21:17.783837   12.0   \n                                              2023-12-08 20:21:17.783837   12.0   \n                                              2023-12-08 21:21:17.783837   12.0   \n                                              2023-12-08 22:21:17.783837   12.0   \n\nqtuple                                                                          \\\nrows                                                                             \nidx                                                                          1   \nvehicle driver     episodestart               timestamp                          \nVB7     wang-cheng 2023-12-08 17:21:17.817434 2023-12-08 18:21:17.783837  13.0   \n                                              2023-12-08 19:21:17.783837  13.0   \n                                              2023-12-08 20:21:17.783837  13.0   \n                                              2023-12-08 21:21:17.783837  13.0   \n                                              2023-12-08 22:21:17.783837  13.0   \n\nqtuple                                                                          \\\nrows                                                                             \nidx                                                                          2   \nvehicle driver     episodestart               timestamp                          \nVB7     wang-cheng 2023-12-08 17:21:17.817434 2023-12-08 18:21:17.783837  14.0   \n                                              2023-12-08 19:21:17.783837  14.0   \n                                              2023-12-08 20:21:17.783837  14.0   \n                                              2023-12-08 21:21:17.783837  14.0   \n                                              2023-12-08 22:21:17.783837  14.0   \n\nqtuple                                                                          \\\nrows                                                                             \nidx                                                                          3   \nvehicle driver     episodestart               timestamp                          \nVB7     wang-cheng 2023-12-08 17:21:17.817434 2023-12-08 18:21:17.783837  15.0   \n                                              2023-12-08 19:21:17.783837  15.0   \n                                              2023-12-08 20:21:17.783837  15.0   \n                                              2023-12-08 21:21:17.783837  15.0   \n                                              2023-12-08 22:21:17.783837  15.0   \n\nqtuple                                                                          \\\nrows                                                                             \nidx                                                                          4   \nvehicle driver     episodestart               timestamp                          \nVB7     wang-cheng 2023-12-08 17:21:17.817434 2023-12-08 18:21:17.783837  16.0   \n                                              2023-12-08 19:21:17.783837  16.0   \n                                              2023-12-08 20:21:17.783837  16.0   \n                                              2023-12-08 21:21:17.783837  16.0   \n                                              2023-12-08 22:21:17.783837  16.0   \n\nqtuple                                                                          \\\nrows                                                                        r1   \nidx                                                                          0   \nvehicle driver     episodestart               timestamp                          \nVB7     wang-cheng 2023-12-08 17:21:17.817434 2023-12-08 18:21:17.783837  17.0   \n                                              2023-12-08 19:21:17.783837  17.0   \n                                              2023-12-08 20:21:17.783837  17.0   \n                                              2023-12-08 21:21:17.783837  17.0   \n                                              2023-12-08 22:21:17.783837  17.0   \n\nqtuple                                                                          \\\nrows                                                                             \nidx                                                                          1   \nvehicle driver     episodestart               timestamp                          \nVB7     wang-cheng 2023-12-08 17:21:17.817434 2023-12-08 18:21:17.783837  18.0   \n                                              2023-12-08 19:21:17.783837  18.0   \n                                              2023-12-08 20:21:17.783837  18.0   \n                                              2023-12-08 21:21:17.783837  18.0   \n                                              2023-12-08 22:21:17.783837  18.0   \n\nqtuple                                                                          \\\nrows                                                                             \nidx                                                                          2   \nvehicle driver     episodestart               timestamp                          \nVB7     wang-cheng 2023-12-08 17:21:17.817434 2023-12-08 18:21:17.783837  19.0   \n                                              2023-12-08 19:21:17.783837  19.0   \n                                              2023-12-08 20:21:17.783837  19.0   \n                                              2023-12-08 21:21:17.783837  19.0   \n                                              2023-12-08 22:21:17.783837  19.0   \n\nqtuple                                                                          \\\nrows                                                                             \nidx                                                                          3   \nvehicle driver     episodestart               timestamp                          \nVB7     wang-cheng 2023-12-08 17:21:17.817434 2023-12-08 18:21:17.783837  20.0   \n                                              2023-12-08 19:21:17.783837  20.0   \n                                              2023-12-08 20:21:17.783837  20.0   \n                                              2023-12-08 21:21:17.783837  20.0   \n                                              2023-12-08 22:21:17.783837  20.0   \n\nqtuple                                                                          \\\nrows                                                                             \nidx                                                                          4   \nvehicle driver     episodestart               timestamp                          \nVB7     wang-cheng 2023-12-08 17:21:17.817434 2023-12-08 18:21:17.783837  21.0   \n                                              2023-12-08 19:21:17.783837  21.0   \n                                              2023-12-08 20:21:17.783837  21.0   \n                                              2023-12-08 21:21:17.783837  21.0   \n                                              2023-12-08 22:21:17.783837  21.0   \n\nqtuple                                                                    ...  \\\nrows                                                                      ...   \nidx                                                                       ...   \nvehicle driver     episodestart               timestamp                   ...   \nVB7     wang-cheng 2023-12-08 17:21:17.817434 2023-12-08 18:21:17.783837  ...   \n                                              2023-12-08 19:21:17.783837  ...   \n                                              2023-12-08 20:21:17.783837  ...   \n                                              2023-12-08 21:21:17.783837  ...   \n                                              2023-12-08 22:21:17.783837  ...   \n\nqtuple                                                                    state  \\\nrows                                                                     thrust   \nidx                                                                           2   \nvehicle driver     episodestart               timestamp                           \nVB7     wang-cheng 2023-12-08 17:21:17.817434 2023-12-08 18:21:17.783837    6.0   \n                                              2023-12-08 19:21:17.783837    6.0   \n                                              2023-12-08 20:21:17.783837    6.0   \n                                              2023-12-08 21:21:17.783837    6.0   \n                                              2023-12-08 22:21:17.783837    6.0   \n\nqtuple                                                                         \\\nrows                                                                            \nidx                                                                         3   \nvehicle driver     episodestart               timestamp                         \nVB7     wang-cheng 2023-12-08 17:21:17.817434 2023-12-08 18:21:17.783837  7.0   \n                                              2023-12-08 19:21:17.783837  7.0   \n                                              2023-12-08 20:21:17.783837  7.0   \n                                              2023-12-08 21:21:17.783837  7.0   \n                                              2023-12-08 22:21:17.783837  7.0   \n\nqtuple                                                                                                \\\nrows                                                                                        timestep   \nidx                                                                                                0   \nvehicle driver     episodestart               timestamp                                                \nVB7     wang-cheng 2023-12-08 17:21:17.817434 2023-12-08 18:21:17.783837  2023-12-08 17:21:17.784184   \n                                              2023-12-08 19:21:17.783837  2023-12-08 17:21:17.784184   \n                                              2023-12-08 20:21:17.783837  2023-12-08 17:21:17.784184   \n                                              2023-12-08 21:21:17.783837  2023-12-08 17:21:17.784184   \n                                              2023-12-08 22:21:17.783837  2023-12-08 17:21:17.784184   \n\nqtuple                                                                                                \\\nrows                                                                                                   \nidx                                                                                                1   \nvehicle driver     episodestart               timestamp                                                \nVB7     wang-cheng 2023-12-08 17:21:17.817434 2023-12-08 18:21:17.783837  2023-12-08 17:21:17.804184   \n                                              2023-12-08 19:21:17.783837  2023-12-08 17:21:17.804184   \n                                              2023-12-08 20:21:17.783837  2023-12-08 17:21:17.804184   \n                                              2023-12-08 21:21:17.783837  2023-12-08 17:21:17.804184   \n                                              2023-12-08 22:21:17.783837  2023-12-08 17:21:17.804184   \n\nqtuple                                                                                                \\\nrows                                                                                                   \nidx                                                                                                2   \nvehicle driver     episodestart               timestamp                                                \nVB7     wang-cheng 2023-12-08 17:21:17.817434 2023-12-08 18:21:17.783837  2023-12-08 17:21:17.824184   \n                                              2023-12-08 19:21:17.783837  2023-12-08 17:21:17.824184   \n                                              2023-12-08 20:21:17.783837  2023-12-08 17:21:17.824184   \n                                              2023-12-08 21:21:17.783837  2023-12-08 17:21:17.824184   \n                                              2023-12-08 22:21:17.783837  2023-12-08 17:21:17.824184   \n\nqtuple                                                                                                \\\nrows                                                                                                   \nidx                                                                                                3   \nvehicle driver     episodestart               timestamp                                                \nVB7     wang-cheng 2023-12-08 17:21:17.817434 2023-12-08 18:21:17.783837  2023-12-08 17:21:17.844184   \n                                              2023-12-08 19:21:17.783837  2023-12-08 17:21:17.844184   \n                                              2023-12-08 20:21:17.783837  2023-12-08 17:21:17.844184   \n                                              2023-12-08 21:21:17.783837  2023-12-08 17:21:17.844184   \n                                              2023-12-08 22:21:17.783837  2023-12-08 17:21:17.844184   \n\nqtuple                                                                             \\\nrows                                                                     velocity   \nidx                                                                             0   \nvehicle driver     episodestart               timestamp                             \nVB7     wang-cheng 2023-12-08 17:21:17.817434 2023-12-08 18:21:17.783837      0.0   \n                                              2023-12-08 19:21:17.783837      0.0   \n                                              2023-12-08 20:21:17.783837      0.0   \n                                              2023-12-08 21:21:17.783837      0.0   \n                                              2023-12-08 22:21:17.783837      0.0   \n\nqtuple                                                                         \\\nrows                                                                            \nidx                                                                         1   \nvehicle driver     episodestart               timestamp                         \nVB7     wang-cheng 2023-12-08 17:21:17.817434 2023-12-08 18:21:17.783837  1.0   \n                                              2023-12-08 19:21:17.783837  1.0   \n                                              2023-12-08 20:21:17.783837  1.0   \n                                              2023-12-08 21:21:17.783837  1.0   \n                                              2023-12-08 22:21:17.783837  1.0   \n\nqtuple                                                                         \\\nrows                                                                            \nidx                                                                         2   \nvehicle driver     episodestart               timestamp                         \nVB7     wang-cheng 2023-12-08 17:21:17.817434 2023-12-08 18:21:17.783837  2.0   \n                                              2023-12-08 19:21:17.783837  2.0   \n                                              2023-12-08 20:21:17.783837  2.0   \n                                              2023-12-08 21:21:17.783837  2.0   \n                                              2023-12-08 22:21:17.783837  2.0   \n\nqtuple                                                                         \nrows                                                                           \nidx                                                                         3  \nvehicle driver     episodestart               timestamp                        \nVB7     wang-cheng 2023-12-08 17:21:17.817434 2023-12-08 18:21:17.783837  3.0  \n                                              2023-12-08 19:21:17.783837  3.0  \n                                              2023-12-08 20:21:17.783837  3.0  \n                                              2023-12-08 21:21:17.783837  3.0  \n                                              2023-12-08 22:21:17.783837  3.0  \n\n[5 rows x 60 columns]"
     },
     "execution_count": null,
     "metadata": {},
     "output_type": "execute_result"
    }
   ],
   "source": [
    "#|hide\n",
    "generate_eos_df()"
   ]
  },
  {
   "cell_type": "code",
   "execution_count": null,
   "metadata": {},
   "outputs": [],
   "source": [
    "assert isinstance(generate_eos_df().index, pd.MultiIndex), f\"dfs_episode.index is not a MultiIndex\""
   ]
  },
  {
   "cell_type": "code",
   "execution_count": null,
   "metadata": {},
   "outputs": [],
   "source": [
    "from fastcore.test import *"
   ]
  },
  {
   "cell_type": "code",
   "execution_count": null,
   "metadata": {},
   "outputs": [],
   "source": [
    "test_eq(isinstance(generate_eos_df().index, pd.MultiIndex), True)"
   ]
  },
  {
   "cell_type": "code",
   "execution_count": null,
   "metadata": {},
   "outputs": [],
   "source": [
    "#| hide\n",
    "import nbdev; nbdev.nbdev_export()"
   ]
  }
 ],
 "metadata": {
  "kernelspec": {
   "display_name": "python3",
   "language": "python",
   "name": "python3"
  }
 },
 "nbformat": 4,
 "nbformat_minor": 4
}
