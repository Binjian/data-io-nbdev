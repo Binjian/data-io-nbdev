{
 "cells": [
  {
   "cell_type": "code",
   "execution_count": 18,
   "outputs": [
    {
     "name": "stdout",
     "output_type": "stream",
     "text": [
      "The autoreload extension is already loaded. To reload it, use:\n",
      "  %reload_ext autoreload\n"
     ]
    }
   ],
   "source": [
    "%load_ext autoreload\n",
    "%autoreload 2"
   ],
   "metadata": {
    "collapsed": false,
    "ExecuteTime": {
     "end_time": "2023-12-19T12:58:49.708756433Z",
     "start_time": "2023-12-19T12:58:48.839880202Z"
    }
   },
   "id": "c2c9e039bc8046c5"
  },
  {
   "cell_type": "markdown",
   "source": [
    "# VehicleInterface\n",
    "\n",
    "> ABC VehicleInterface class\n",
    "> It provides the data interface to the vehicle"
   ],
   "metadata": {
    "collapsed": false
   },
   "id": "471ff49dbbdb0875"
  },
  {
   "cell_type": "code",
   "execution_count": 19,
   "outputs": [],
   "source": [
    "#| default_exp dataflow.vehicle_interface"
   ],
   "metadata": {
    "collapsed": false,
    "ExecuteTime": {
     "end_time": "2023-12-19T12:58:49.726591378Z",
     "start_time": "2023-12-19T12:58:49.708988850Z"
    }
   },
   "id": "cac56bc5feed9884"
  },
  {
   "cell_type": "code",
   "execution_count": 20,
   "outputs": [],
   "source": [
    "#| export\n",
    "import abc\n",
    "import concurrent.futures\n",
    "import logging\n",
    "import os\n",
    "import queue\n",
    "import time\n",
    "from pathlib import Path\n",
    "from threading import Event, current_thread\n",
    "from typing import Optional, Tuple\n",
    "from dataclasses import dataclass\n",
    "import numpy as np\n",
    "import pandas as pd"
   ],
   "metadata": {
    "collapsed": false,
    "ExecuteTime": {
     "end_time": "2023-12-19T12:58:49.751619280Z",
     "start_time": "2023-12-19T12:58:49.727803406Z"
    }
   },
   "id": "4102ace54468bee3"
  },
  {
   "cell_type": "code",
   "execution_count": 21,
   "outputs": [],
   "source": [
    "#| export\n",
    "from data_io_nbdev.dataflow.consumer import Consumer  # type: ignore\n",
    "from data_io_nbdev.dataflow.filter.hetero import HeteroFilter  # type: ignore\n",
    "from data_io_nbdev.dataflow.pipeline.queue import Pipeline  # type: ignore\n",
    "from data_io_nbdev.dataflow.pipeline.deque import PipelineDQ  # type: ignore\n",
    "from data_io_nbdev.dataflow.producer import Producer  # type: ignore"
   ],
   "metadata": {
    "collapsed": false,
    "ExecuteTime": {
     "end_time": "2023-12-19T12:58:49.781207092Z",
     "start_time": "2023-12-19T12:58:49.736994232Z"
    }
   },
   "id": "c633aceab9cafdf5"
  },
  {
   "cell_type": "code",
   "execution_count": 22,
   "outputs": [],
   "source": [
    "#| export\n",
    "from data_io_nbdev.config.vehicles import Truck\n",
    "from data_io_nbdev.config.drivers import Driver \n",
    "from data_io_nbdev.config.messengers import CANMessenger\n",
    "from data_io_nbdev.data.core import RawType\n",
    "from data_io_nbdev.conn.tbox import TBoxCanException"
   ],
   "metadata": {
    "collapsed": false,
    "ExecuteTime": {
     "end_time": "2023-12-19T12:58:49.781923369Z",
     "start_time": "2023-12-19T12:58:49.781137067Z"
    }
   },
   "id": "3f562b4b5e93cf"
  },
  {
   "cell_type": "code",
   "execution_count": 23,
   "outputs": [],
   "source": [
    "#| export\n",
    "@dataclass(kw_only=True)\n",
    "class VehicleInterface(\n",
    "    Producer[RawType, str],\n",
    "    Consumer[pd.DataFrame],\n",
    "    HeteroFilter[RawType, pd.DataFrame],\n",
    "):\n",
    "    \"\"\"\n",
    "    VehicleInterface is an ABC. It's a Producer(get vehicle status), a Consumer(flasher) and a Filter(generate observation data)\n",
    "    \n",
    "    Args:\n",
    "        \n",
    "        truck: `Truck` object\n",
    "        driver: `Driver` object\n",
    "        can_server: `CANMessenger` object\n",
    "        resume: resume from last table\n",
    "        data_dir: data directory\n",
    "        flash_count: flash count\n",
    "        episode_count: episode count\n",
    "        vcu_calib_table_row_start: vcu calibration table row start\n",
    "        torque_table_default: default torque table\n",
    "        torque_table_live: live torque table\n",
    "        epi_countdown_time: episode countdown time\n",
    "        logger: logger\n",
    "        dict_logger: dict logger\n",
    "    \"\"\"\n",
    "\n",
    "    truck: Truck\n",
    "    driver: Driver\n",
    "    can_server: CANMessenger\n",
    "    resume: bool = False\n",
    "    data_dir: Optional[Path] = None\n",
    "    flash_count: int = 0\n",
    "    episode_count: int = 0\n",
    "    vcu_calib_table_row_start: int = 0\n",
    "    torque_table_default: Optional[pd.DataFrame] = None\n",
    "    torque_table_live: Optional[pd.DataFrame] = None\n",
    "    epi_countdown_time: float = 3.0\n",
    "    logger: Optional[logging.Logger] = None\n",
    "    dict_logger: Optional[dict] = None\n",
    "\n",
    "    def __post_init__(self):\n",
    "        self.logger = self.logger.getChild((self.__str__()))\n",
    "        self.dict_logger = self.dict_logger\n",
    "\n",
    "        if self.data_dir is None:\n",
    "            self.data_dir = Path(\".\")\n",
    "        self.init_vehicle()\n",
    "\n",
    "        # super().__post_init__()\n",
    "        self.logger.info(\"Vehicle interface initialized\")\n",
    "\n",
    "    def init_vehicle(self) -> None:\n",
    "        \"\"\"initialize vehicle interface. Flashing the vehicle with initial/default table.\"\"\"\n",
    "        proj_root = (\n",
    "            self.data_dir.resolve().parent.parent.parent\n",
    "        )  # assuming data_dir is a stepchild of the project root/data, otherwise throw Exception\n",
    "\n",
    "        if self.resume:\n",
    "            files = sorted(self.data_dir.glob(\"last_table*.csv\"))\n",
    "            if not files:\n",
    "                self.logger.info(\n",
    "                    f\"{{'header': 'No last table found, start from default calibration table'}}\",\n",
    "                    extra=self.dict_logger,\n",
    "                )\n",
    "                latest_file = proj_root / \"eos/data_io/config\" / \"vb7_init_table.csv\"\n",
    "            else:\n",
    "                self.logger.info(\n",
    "                    f\"{{'header': 'Resume last table'}}\", extra=self.dict_logger\n",
    "                )\n",
    "                latest_file = max(files, key=os.path.getctime)\n",
    "\n",
    "        else:\n",
    "            self.logger.info(\n",
    "                f\"{{'header': 'Use default calibration table'}}\",\n",
    "                extra=self.dict_logger,\n",
    "            )\n",
    "            latest_file = proj_root / \"eos/data_io/config\" / \"vb7_init_table.csv\"\n",
    "\n",
    "        self.torque_table_default = pd.read_csv(latest_file, index_col=0)\n",
    "        self.torque_table_default.columns = self.torque_table_default.columns.astype(\n",
    "            np.float64\n",
    "        )\n",
    "\n",
    "        # pandas deep copy of the default table (while numpy shallow copy is sufficient)\n",
    "        self.torque_table_live = self.torque_table_default.copy(\n",
    "            deep=True\n",
    "        )  # make sure it's a deep copy, the live table should be modified by the flash thread\n",
    "        self.logger.info(\n",
    "            f\"{{'header': 'Start flash initial table'}}\", extra=self.dict_logger\n",
    "        )\n",
    "        self.flash_vehicle(self.torque_table_default)\n",
    "\n",
    "    @abc.abstractmethod\n",
    "    def flash_vehicle(self, torque_table: pd.DataFrame) -> None:\n",
    "        \"\"\"Abstract method to flash the vehicle. Implemented by the concrete class `Kvaser` and `Cloud`.\"\"\"\n",
    "        pass\n",
    "\n",
    "    def hmi_control(\n",
    "        self,\n",
    "        hmi_pipeline: Pipeline[str],  # input HMI pipeline\n",
    "        observe_pipeline: Pipeline[pd.DataFrame],  # observation pipeline\n",
    "        start_event: Event,  # input event start\n",
    "        stop_event: Event,  # input event stop\n",
    "        interrupt_event: Event,  # input event interrupt\n",
    "        countdown_event: Event,  # input event countdown\n",
    "        exit_event: Event,  # input event exit\n",
    "        flash_event: Event,  # input event flash\n",
    "    ) -> None:\n",
    "        \"\"\"HMI control logics by incoming events\"\"\"\n",
    "        thread = current_thread()\n",
    "        thread.name = \"hmi_control\"\n",
    "        logger_hmi_control = self.logger.getChild(\"hmi_control\")\n",
    "        logger_hmi_control.propagate = True\n",
    "        logger_hmi_control.info(\n",
    "            f\"{{'header': 'hmi_control thread start!'}}\",\n",
    "            extra=self.dict_logger,\n",
    "        )\n",
    "\n",
    "        while exit_event.is_set() is False:\n",
    "            try:\n",
    "                status = hmi_pipeline.get(\n",
    "                    block=True, timeout=3.0\n",
    "                )  # default block = True\n",
    "\n",
    "            except TimeoutError:\n",
    "                logger_hmi_control.info(\n",
    "                    f\"{{'header': 'hmi pipeline timeout'}}\",\n",
    "                    extra=self.dict_logger,\n",
    "                )\n",
    "                continue\n",
    "            except queue.Empty:\n",
    "                # logger_hmi_control.info(\n",
    "                #     f\"{{'header': 'hmi pipeline empty'}}\",\n",
    "                # )\n",
    "                continue\n",
    "\n",
    "            if status == \"begin\":\n",
    "                observe_pipeline.clear()\n",
    "                start_event.set()\n",
    "                stop_event.clear()\n",
    "                interrupt_event.clear()\n",
    "                logger_hmi_control.info(\n",
    "                    f\"{{'header': 'Episode will start!!!'}}\",\n",
    "                    extra=self.dict_logger,\n",
    "                )\n",
    "\n",
    "            elif status == \"end_valid\":\n",
    "                # set flag for countdown thread\n",
    "                countdown_event.set()\n",
    "\n",
    "                logger_hmi_control.info(\n",
    "                    f\"{{'header': 'Episode end starts countdown!'}}\"\n",
    "                )\n",
    "            elif status == \"end_invalid\":\n",
    "                start_event.clear()  # pause data collection\n",
    "                interrupt_event.set()\n",
    "\n",
    "                logger_hmi_control.info(\n",
    "                    f\"{{'header': 'Episode is interrupted!!!'}}\",\n",
    "                    extra=self.dict_logger,\n",
    "                )\n",
    "                observe_pipeline.clear()\n",
    "                self.episode_count += 1  # invalid round increments\n",
    "            elif status == \"exit\":\n",
    "                start_event.clear()\n",
    "                countdown_event.set()  # cancel countdown, let countdown thread exit\n",
    "\n",
    "                observe_pipeline.clear()\n",
    "                self.episode_count += 1\n",
    "                interrupt_event.set()\n",
    "                flash_event.set()  # set the flash event here for cruncher and kvaser/cloud filter thread\n",
    "                countdown_event.set()  # cancel countdown, let countdown thread exit\n",
    "                if not exit_event.is_set():\n",
    "                    exit_event.set()\n",
    "                break  # exit hmi control thread\n",
    "        # exit hmi control thread\n",
    "        logger_hmi_control.info(\n",
    "            f\"{{'header': 'HMI control dies!!!'}}\", extra=self.dict_logger\n",
    "        )\n",
    "\n",
    "    @abc.abstractmethod\n",
    "    def filter(\n",
    "        self,\n",
    "        in_pipeline: PipelineDQ[RawType],\n",
    "        out_pipeline: Pipeline[pd.DataFrame],\n",
    "        start_event: Optional[Event],\n",
    "        stop_event: Optional[Event],\n",
    "        interrupt_event: Optional[Event],  # input event\n",
    "        flash_event: Optional[Event],\n",
    "        exit_event: Optional[Event],\n",
    "    ) -> None:\n",
    "        \"\"\"\n",
    "        Produce data into the pipeline\n",
    "        \n",
    "        main entry to the capture thread\n",
    "        sub-thread method\n",
    "        \"\"\"\n",
    "        pass\n",
    "\n",
    "    @abc.abstractmethod\n",
    "    def init_internal_pipelines(\n",
    "        self,\n",
    "    ) -> Tuple[PipelineDQ[RawType], Pipeline[str]]:\n",
    "        \"\"\"\n",
    "        Abstract method for initializing types of raw_pipeline and hmi_pipeline\n",
    "        \"\"\"\n",
    "        pass\n",
    "\n",
    "    def ignite(\n",
    "        self,\n",
    "        observe_pipeline: Pipeline[pd.DataFrame],  # observation pipeline\n",
    "        flash_pipeline: Pipeline[pd.DataFrame],  # flash pipeline\n",
    "        start_event: Event,  # input event start\n",
    "        stop_event: Event,  #  input event stop\n",
    "        interrupt_event: Event,  # input event interrupt\n",
    "        flash_event: Event,  # input event flash\n",
    "        exit_event: Event,  # input event exit\n",
    "    ):\n",
    "        \"\"\"\n",
    "        creating the ThreadPool for handing the hmi, data capturing and data processing\n",
    "        \n",
    "        main entry to the vehicle thread. will spawn three further threads for\n",
    "            - input processing, HMI control and output processing\n",
    "            - data into the pipeline\n",
    "            - handle the input pipeline\n",
    "            - guide observation data into the output pipeline\n",
    "            - start/stop/interrupt/countdown/exit event to control the state machine\n",
    "        main entry to the capture thread\n",
    "        \"\"\"\n",
    "\n",
    "        thread = current_thread()\n",
    "        thread.name = \"vehicle_interface_ignite\"\n",
    "        # internal pipelines, raw_pipelines are different for kvaser and cloud interface\n",
    "        raw_pipeline, hmi_pipeline = self.init_internal_pipelines()\n",
    "\n",
    "        # internal event\n",
    "        countdown_event = Event()\n",
    "        self.logger.info(\n",
    "            f\"{{'header': 'ignite Thread Pool starts!'}}\", extra=self.dict_logger\n",
    "        )\n",
    "\n",
    "        with concurrent.futures.ThreadPoolExecutor(\n",
    "            max_workers=5, thread_name_prefix='Vehicle_Interface'\n",
    "        ) as executor:\n",
    "            executor.submit(\n",
    "                self.produce,\n",
    "                raw_pipeline,\n",
    "                hmi_pipeline,  # self.hmi_pipeline not required for cloud interface\n",
    "                exit_event,\n",
    "            )\n",
    "\n",
    "            executor.submit(\n",
    "                self.hmi_control,  # will delegate to concrete the hmi control method\n",
    "                hmi_pipeline,\n",
    "                observe_pipeline,\n",
    "                start_event,\n",
    "                stop_event,\n",
    "                interrupt_event,\n",
    "                countdown_event,\n",
    "                exit_event,\n",
    "                flash_event,\n",
    "            )\n",
    "\n",
    "            executor.submit(\n",
    "                self.countdown,  # countdown thread\n",
    "                observe_pipeline,\n",
    "                start_event,\n",
    "                countdown_event,\n",
    "                stop_event,\n",
    "                exit_event,\n",
    "            )\n",
    "\n",
    "            executor.submit(\n",
    "                self.filter,\n",
    "                raw_pipeline,\n",
    "                observe_pipeline,\n",
    "                start_event,\n",
    "                stop_event,  # not used\n",
    "                interrupt_event,  # not used\n",
    "                flash_event,  # flash_event,\n",
    "                exit_event,\n",
    "            )\n",
    "\n",
    "            executor.submit(\n",
    "                self.consume,  # flash thread\n",
    "                flash_pipeline,\n",
    "                start_event,\n",
    "                stop_event,\n",
    "                interrupt_event,\n",
    "                exit_event,\n",
    "                flash_event,\n",
    "            )\n",
    "\n",
    "        # exit the thread\n",
    "        self.logger.info(\n",
    "            f\"{{'header': 'ignite Thread Pool dies!'}}\", extra=self.dict_logger\n",
    "        )\n",
    "\n",
    "    @abc.abstractmethod\n",
    "    def produce(\n",
    "        self,\n",
    "        raw_pipeline: PipelineDQ[RawType],  # input pipeline for the raw data\n",
    "        hmi_pipeline: Optional[Pipeline[str]] = None,  # input pipeline for the hmi control\n",
    "        exit_event: Optional[Event] = None,  # input event exit\n",
    "    ):\n",
    "        \"\"\"\n",
    "        Abstract method for producing data into the pipeline\n",
    "        \n",
    "        main entry to the capture thread\n",
    "        will spawn three further threads for input processing, HMI control and output processing\n",
    "        \"\"\"\n",
    "        pass\n",
    "\n",
    "    def countdown(\n",
    "        self,\n",
    "        observe_pipeline: Pipeline[pd.DataFrame],  # output pipeline\n",
    "        start_event: Event,  # output event\n",
    "        countdown_event: Event,  # input event\n",
    "        stop_event: Event,  # output event\n",
    "        exit_event: Event,  # input event\n",
    "    ):\n",
    "        \"\"\"countdown callback for the countdown thread\"\"\"\n",
    "        thread = current_thread()\n",
    "        thread.name = \"countdown\"\n",
    "        logger_countdown = self.logger.getChild(\"countdown\")\n",
    "        logger_countdown.propagate = True\n",
    "        logger_countdown.info(\n",
    "            f\"{{'header': 'countdown thread start!'}}\", extra=self.dict_logger\n",
    "        )\n",
    "\n",
    "        while not exit_event.is_set():\n",
    "            logger_countdown.info(\n",
    "                f\"{{'header': 'wait for countdown'}}\", extra=self.dict_logger\n",
    "            )\n",
    "            countdown_event.wait()\n",
    "            if exit_event.is_set():\n",
    "                continue\n",
    "\n",
    "            # if episode done is triggered, sleep for the extension time\n",
    "            time.sleep(self.epi_countdown_time)\n",
    "            # cancel wait as soon as waking up\n",
    "            logger_countdown.info(\n",
    "                f\"{{'header': 'finish countdown'}}\", extra=self.dict_logger\n",
    "            )\n",
    "\n",
    "            start_event.clear()\n",
    "            stop_event.set()  # set valid stop signal only after countdown\n",
    "            observe_pipeline.clear()\n",
    "            self.episode_count += 1  # valid round increments\n",
    "\n",
    "            logger_countdown.info(\n",
    "                f\"{{'header': 'Episode done! free remote_flash and remote_get!'}}\",\n",
    "                extra=self.dict_logger,\n",
    "            )\n",
    "            countdown_event.clear()\n",
    "            # raise Exception(\"reset capture to stop\")\n",
    "\n",
    "        # exit countdown thread\n",
    "        logger_countdown.info(\n",
    "            f\"{{'header': 'Coutndown dies!!!'}}\", extra=self.dict_logger\n",
    "        )\n",
    "\n",
    "    def consume(\n",
    "        self,\n",
    "        flash_pipeline: Pipeline[pd.DataFrame],  # flash pipeline\n",
    "        start_event: Optional[Event] = None,  # input event start\n",
    "        stop_event: Optional[Event] = None,  # input event stop\n",
    "        interrupt_event: Optional[Event] = None,  # input event interrupt\n",
    "        exit_event: Optional[Event] = None,  # input event exit\n",
    "        flash_event: Optional[Event] = None,  # input event flash\n",
    "    ):\n",
    "        \"\"\"\n",
    "        Consume data from the pipeline\n",
    "        \n",
    "        main entry to the flash thread\n",
    "        data in pipeline is a tuple of (torque_table, flash_start_row)\n",
    "        \"\"\"\n",
    "        thread = current_thread()\n",
    "        thread.name = \"flash\"\n",
    "        flash_count = 0\n",
    "\n",
    "        logger_flash = self.logger.getChild(\"flash\")\n",
    "        logger_flash.propagate = True\n",
    "\n",
    "        logger_flash.info(\n",
    "            f\"{{'header': 'flash thread starts!'}}\", extra=self.dict_logger\n",
    "        )\n",
    "\n",
    "        while not exit_event.is_set():\n",
    "            if (\n",
    "                not start_event.is_set()\n",
    "                or interrupt_event.is_set()\n",
    "                or stop_event.is_set()\n",
    "            ):\n",
    "                continue\n",
    "            try:\n",
    "                logger_flash.info(\n",
    "                    f\"{{'header': 'Flashing thread try to get a table!'}}\",\n",
    "                    extra=self.dict_logger,\n",
    "                )\n",
    "\n",
    "                table = flash_pipeline.get(\n",
    "                    block=True, timeout=3\n",
    "                )  # default block = True\n",
    "\n",
    "            except TimeoutError:\n",
    "                logger_flash.info(\n",
    "                    f\"{{'header': '{flash_count}' TableQueue timeout}}\",\n",
    "                    extra=self.dict_logger,\n",
    "                )\n",
    "                continue\n",
    "            except queue.Empty:\n",
    "                # if idle_count % 1000 == 0:\n",
    "                #     logger_flash.info(\n",
    "                #         f\"{{'header': 'E{epi_cnt} step: {step_count}' TableQueue empty.}}\",\n",
    "                #         extra=self.dict_logger)))  # type: ignore\n",
    "                # idle_count += 1\n",
    "                continue\n",
    "            else:\n",
    "                # get change budget : % of initial table\n",
    "                # dynamically get default table row as table.index changes\n",
    "                table_default_reduced = self.torque_table_default.loc[table.index]\n",
    "                torque_table_reduced = (\n",
    "                    table * self.truck.torque_budget + table_default_reduced\n",
    "                )\n",
    "\n",
    "                torque_table_reduced.clip(\n",
    "                    lower=table_default_reduced - self.truck.torque_budget,  # type: ignore\n",
    "                    upper=table_default_reduced * self.truck.torque_upper_bound,  # type: ignore\n",
    "                    inplace=True,\n",
    "                )\n",
    "\n",
    "                # create updated complete pedal map, only update the first few rows\n",
    "                # torque_table_live keeps changing as the cache of the changing pedal map\n",
    "                self.torque_table_live.loc[  # type: ignore\n",
    "                    table.index\n",
    "                ] = torque_table_reduced  # totally fine as pandas slicing operation! mypy is mean.\n",
    "\n",
    "                logger_flash.info(\n",
    "                    f\"{{'header': 'flash starts'}}\", extra=self.dict_logger\n",
    "                )\n",
    "\n",
    "                try:  # flash the vehicle\n",
    "                    self.flash_vehicle(self.torque_table_live)\n",
    "                except TBoxCanException as exc:\n",
    "                    flash_event.set()  # set the flash event here for cruncher and kvaser/cloud filter thread\n",
    "                    if exc.err_code == 4:  # xcp time out\n",
    "                        logger_flash.info(\n",
    "                            f\"{{'header': 'Flash thread exception: {exc.codes[exc.err_code]}'}}\",\n",
    "                            extra=self.dict_logger,\n",
    "                        )\n",
    "                        interrupt_event.set()\n",
    "                        continue\n",
    "                    else:\n",
    "                        logger_flash.error(\n",
    "                            f\"{{'header': 'Flash thread exception: {exc.codes[exc.err_code]}'}}\",\n",
    "                            extra=self.dict_logger,\n",
    "                        )\n",
    "                        exit_event.set()\n",
    "                        raise exc\n",
    "\n",
    "                except Exception as exc:\n",
    "                    logger_flash.info(\n",
    "                        f\"{{'header': 'Flash thread exception: {exc}'}}\",\n",
    "                        extra=self.dict_logger,\n",
    "                    )\n",
    "                    raise exc\n",
    "\n",
    "                flash_event.set()  # set the flash event here for cruncher and kvaser/cloud filter thread\n",
    "\n",
    "                flash_count += 1\n",
    "                logger_flash.info(\n",
    "                    f\"{{'header': 'flash ends', 'count': {flash_count} }}\",\n",
    "                    extra=self.dict_logger,\n",
    "                )\n",
    "                # watch(flash_count)\n",
    "\n",
    "        if not flash_event.is_set():  # if flash event is not set, normal exit\n",
    "            logger_flash.info(\n",
    "                f\"{{'header': 'flash_evnet is not set when exit occurred!!!!'}}\",\n",
    "                extra=self.dict_logger,\n",
    "            )\n",
    "            flash_event.set()  # set the flash event here for cruncher and kvaser/cloud filter thread\n",
    "        else:  # if flash event is set, probably abnormal exit, GracefulKiller exit\n",
    "            logger_flash.info(\n",
    "                f\"{{'header': 'flash_event is set'}}\", extra=self.dict_logger\n",
    "            )\n",
    "\n",
    "        logger_flash.info(\n",
    "            f\"{{'header': 'Save the last table!!!!'}}\", extra=self.dict_logger\n",
    "        )\n",
    "        last_table_store_path = (\n",
    "            self.data_dir.joinpath(  # there's no slash in the end of the string\n",
    "                \"last_table_\"\n",
    "                + \"-\"\n",
    "                + self.truck.vid\n",
    "                + \"-\"\n",
    "                + self.driver.pid\n",
    "                + \"-\"\n",
    "                + pd.Timestamp.now(self.truck.site.tz).isoformat()\n",
    "                + \".csv\"\n",
    "            )\n",
    "        )\n",
    "        with open(last_table_store_path, \"wb\"):\n",
    "            self.torque_table_live.to_csv(last_table_store_path)\n",
    "\n",
    "        logger_flash.info(\n",
    "            f\"{{'header': 'flash thread dies!!!!'}}\", extra=self.dict_logger\n",
    "        )"
   ],
   "metadata": {
    "collapsed": false,
    "ExecuteTime": {
     "end_time": "2023-12-19T12:58:49.782833054Z",
     "start_time": "2023-12-19T12:58:49.781280614Z"
    }
   },
   "id": "df55889f852b5c43"
  },
  {
   "cell_type": "code",
   "execution_count": 24,
   "outputs": [],
   "source": [
    "#| hide\n",
    "from nbdev.showdoc import *"
   ],
   "metadata": {
    "collapsed": false,
    "ExecuteTime": {
     "end_time": "2023-12-19T12:58:49.829796038Z",
     "start_time": "2023-12-19T12:58:49.829081664Z"
    }
   },
   "id": "d87d78ce41a1ef9f"
  },
  {
   "cell_type": "code",
   "execution_count": 25,
   "outputs": [
    {
     "data": {
      "text/plain": "---\n\n### VehicleInterface.init_vehicle\n\n>      VehicleInterface.init_vehicle ()\n\ninitialize vehicle interface. Flashing the vehicle with initial/default table.",
      "text/markdown": "---\n\n### VehicleInterface.init_vehicle\n\n>      VehicleInterface.init_vehicle ()\n\ninitialize vehicle interface. Flashing the vehicle with initial/default table."
     },
     "execution_count": 25,
     "metadata": {},
     "output_type": "execute_result"
    }
   ],
   "source": [
    "show_doc(VehicleInterface.init_vehicle)"
   ],
   "metadata": {
    "collapsed": false,
    "ExecuteTime": {
     "end_time": "2023-12-19T12:58:49.830524597Z",
     "start_time": "2023-12-19T12:58:49.829214202Z"
    }
   },
   "id": "d107734f39a636ac"
  },
  {
   "cell_type": "code",
   "execution_count": 26,
   "outputs": [
    {
     "data": {
      "text/plain": "---\n\n### VehicleInterface.flash_vehicle\n\n>      VehicleInterface.flash_vehicle (torque_table:pandas.core.frame.DataFrame)\n\nAbstract method to flash the vehicle. Implemented by the concrete class `Kvaser` and `Cloud`.",
      "text/markdown": "---\n\n### VehicleInterface.flash_vehicle\n\n>      VehicleInterface.flash_vehicle (torque_table:pandas.core.frame.DataFrame)\n\nAbstract method to flash the vehicle. Implemented by the concrete class `Kvaser` and `Cloud`."
     },
     "execution_count": 26,
     "metadata": {},
     "output_type": "execute_result"
    }
   ],
   "source": [
    "show_doc(VehicleInterface.flash_vehicle)"
   ],
   "metadata": {
    "collapsed": false,
    "ExecuteTime": {
     "end_time": "2023-12-19T12:58:49.831083962Z",
     "start_time": "2023-12-19T12:58:49.829299746Z"
    }
   },
   "id": "b3a3367368910d60"
  },
  {
   "cell_type": "code",
   "execution_count": 27,
   "outputs": [
    {
     "data": {
      "text/plain": "---\n\n### VehicleInterface.hmi_control\n\n>      VehicleInterface.hmi_control\n>                                    (hmi_pipeline:data_io_nbdev.dataflow.pipeli\n>                                    ne.queue.Pipeline[str], observe_pipeline:da\n>                                    ta_io_nbdev.dataflow.pipeline.queue.Pipelin\n>                                    e[pandas.core.frame.DataFrame],\n>                                    start_event:threading.Event,\n>                                    stop_event:threading.Event,\n>                                    interrupt_event:threading.Event,\n>                                    countdown_event:threading.Event,\n>                                    exit_event:threading.Event,\n>                                    flash_event:threading.Event)\n\nHMI control logics by incoming events\n\n|    | **Type** | **Details** |\n| -- | -------- | ----------- |\n| hmi_pipeline | Pipeline | input HMI pipeline |\n| observe_pipeline | Pipeline | observation pipeline |\n| start_event | Event | input event start |\n| stop_event | Event | input event stop |\n| interrupt_event | Event | input event interrupt |\n| countdown_event | Event | input event countdown |\n| exit_event | Event | input event exit |\n| flash_event | Event | input event flash |\n| **Returns** | **None** |  |",
      "text/markdown": "---\n\n### VehicleInterface.hmi_control\n\n>      VehicleInterface.hmi_control\n>                                    (hmi_pipeline:data_io_nbdev.dataflow.pipeli\n>                                    ne.queue.Pipeline[str], observe_pipeline:da\n>                                    ta_io_nbdev.dataflow.pipeline.queue.Pipelin\n>                                    e[pandas.core.frame.DataFrame],\n>                                    start_event:threading.Event,\n>                                    stop_event:threading.Event,\n>                                    interrupt_event:threading.Event,\n>                                    countdown_event:threading.Event,\n>                                    exit_event:threading.Event,\n>                                    flash_event:threading.Event)\n\nHMI control logics by incoming events\n\n|    | **Type** | **Details** |\n| -- | -------- | ----------- |\n| hmi_pipeline | Pipeline | input HMI pipeline |\n| observe_pipeline | Pipeline | observation pipeline |\n| start_event | Event | input event start |\n| stop_event | Event | input event stop |\n| interrupt_event | Event | input event interrupt |\n| countdown_event | Event | input event countdown |\n| exit_event | Event | input event exit |\n| flash_event | Event | input event flash |\n| **Returns** | **None** |  |"
     },
     "execution_count": 27,
     "metadata": {},
     "output_type": "execute_result"
    }
   ],
   "source": [
    "show_doc(VehicleInterface.hmi_control)"
   ],
   "metadata": {
    "collapsed": false,
    "ExecuteTime": {
     "end_time": "2023-12-19T12:58:49.832384859Z",
     "start_time": "2023-12-19T12:58:49.829378628Z"
    }
   },
   "id": "6ba77be6d3a25584"
  },
  {
   "cell_type": "code",
   "execution_count": 28,
   "outputs": [
    {
     "data": {
      "text/plain": "---\n\n### VehicleInterface.filter\n\n>      VehicleInterface.filter (in_pipeline:data_io_nbdev.dataflow.pipeline.dequ\n>                               e.PipelineDQ[typing.Union[dict[str,str],dict[str\n>                               ,dict[str,list[typing.Union[str,list[list[str]]]\n>                               ]]]]], out_pipeline:data_io_nbdev.dataflow.pipel\n>                               ine.queue.Pipeline[pandas.core.frame.DataFrame],\n>                               start_event:Optional[threading.Event],\n>                               stop_event:Optional[threading.Event],\n>                               interrupt_event:Optional[threading.Event],\n>                               flash_event:Optional[threading.Event],\n>                               exit_event:Optional[threading.Event])\n\nProduce data into the pipeline\n\nmain entry to the capture thread\nsub-thread method\n\n|    | **Type** | **Details** |\n| -- | -------- | ----------- |\n| in_pipeline | PipelineDQ |  |\n| out_pipeline | Pipeline |  |\n| start_event | Optional |  |\n| stop_event | Optional |  |\n| interrupt_event | Optional | input event |\n| flash_event | Optional |  |\n| exit_event | Optional |  |\n| **Returns** | **None** |  |",
      "text/markdown": "---\n\n### VehicleInterface.filter\n\n>      VehicleInterface.filter (in_pipeline:data_io_nbdev.dataflow.pipeline.dequ\n>                               e.PipelineDQ[typing.Union[dict[str,str],dict[str\n>                               ,dict[str,list[typing.Union[str,list[list[str]]]\n>                               ]]]]], out_pipeline:data_io_nbdev.dataflow.pipel\n>                               ine.queue.Pipeline[pandas.core.frame.DataFrame],\n>                               start_event:Optional[threading.Event],\n>                               stop_event:Optional[threading.Event],\n>                               interrupt_event:Optional[threading.Event],\n>                               flash_event:Optional[threading.Event],\n>                               exit_event:Optional[threading.Event])\n\nProduce data into the pipeline\n\nmain entry to the capture thread\nsub-thread method\n\n|    | **Type** | **Details** |\n| -- | -------- | ----------- |\n| in_pipeline | PipelineDQ |  |\n| out_pipeline | Pipeline |  |\n| start_event | Optional |  |\n| stop_event | Optional |  |\n| interrupt_event | Optional | input event |\n| flash_event | Optional |  |\n| exit_event | Optional |  |\n| **Returns** | **None** |  |"
     },
     "execution_count": 28,
     "metadata": {},
     "output_type": "execute_result"
    }
   ],
   "source": [
    "show_doc(VehicleInterface.filter)"
   ],
   "metadata": {
    "collapsed": false,
    "ExecuteTime": {
     "end_time": "2023-12-19T12:58:49.837268033Z",
     "start_time": "2023-12-19T12:58:49.829481212Z"
    }
   },
   "id": "6a52aa8800252cc2"
  },
  {
   "cell_type": "code",
   "execution_count": 29,
   "outputs": [
    {
     "data": {
      "text/plain": "---\n\n### VehicleInterface.init_internal_pipelines\n\n>      VehicleInterface.init_internal_pipelines ()\n\nAbstract method for initializing types of raw_pipeline and hmi_pipeline",
      "text/markdown": "---\n\n### VehicleInterface.init_internal_pipelines\n\n>      VehicleInterface.init_internal_pipelines ()\n\nAbstract method for initializing types of raw_pipeline and hmi_pipeline"
     },
     "execution_count": 29,
     "metadata": {},
     "output_type": "execute_result"
    }
   ],
   "source": [
    "show_doc(VehicleInterface.init_internal_pipelines)"
   ],
   "metadata": {
    "collapsed": false,
    "ExecuteTime": {
     "end_time": "2023-12-19T12:58:49.885919030Z",
     "start_time": "2023-12-19T12:58:49.837842085Z"
    }
   },
   "id": "fcd0d5152a7912c8"
  },
  {
   "cell_type": "code",
   "execution_count": 30,
   "outputs": [
    {
     "data": {
      "text/plain": "---\n\n### VehicleInterface.ignite\n\n>      VehicleInterface.ignite (observe_pipeline:data_io_nbdev.dataflow.pipeline\n>                               .queue.Pipeline[pandas.core.frame.DataFrame], fl\n>                               ash_pipeline:data_io_nbdev.dataflow.pipeline.que\n>                               ue.Pipeline[pandas.core.frame.DataFrame],\n>                               start_event:threading.Event,\n>                               stop_event:threading.Event,\n>                               interrupt_event:threading.Event,\n>                               flash_event:threading.Event,\n>                               exit_event:threading.Event)\n\ncreating the ThreadPool for handing the hmi, data capturing and data processing\n\nmain entry to the vehicle thread. will spawn three further threads for\n    - input processing, HMI control and output processing\n    - data into the pipeline\n    - handle the input pipeline\n    - guide observation data into the output pipeline\n    - start/stop/interrupt/countdown/exit event to control the state machine\nmain entry to the capture thread\n\n|    | **Type** | **Details** |\n| -- | -------- | ----------- |\n| observe_pipeline | Pipeline | observation pipeline |\n| flash_pipeline | Pipeline | flash pipeline |\n| start_event | Event | input event start |\n| stop_event | Event | input event stop |\n| interrupt_event | Event | input event interrupt |\n| flash_event | Event | input event flash |\n| exit_event | Event | input event exit |",
      "text/markdown": "---\n\n### VehicleInterface.ignite\n\n>      VehicleInterface.ignite (observe_pipeline:data_io_nbdev.dataflow.pipeline\n>                               .queue.Pipeline[pandas.core.frame.DataFrame], fl\n>                               ash_pipeline:data_io_nbdev.dataflow.pipeline.que\n>                               ue.Pipeline[pandas.core.frame.DataFrame],\n>                               start_event:threading.Event,\n>                               stop_event:threading.Event,\n>                               interrupt_event:threading.Event,\n>                               flash_event:threading.Event,\n>                               exit_event:threading.Event)\n\ncreating the ThreadPool for handing the hmi, data capturing and data processing\n\nmain entry to the vehicle thread. will spawn three further threads for\n    - input processing, HMI control and output processing\n    - data into the pipeline\n    - handle the input pipeline\n    - guide observation data into the output pipeline\n    - start/stop/interrupt/countdown/exit event to control the state machine\nmain entry to the capture thread\n\n|    | **Type** | **Details** |\n| -- | -------- | ----------- |\n| observe_pipeline | Pipeline | observation pipeline |\n| flash_pipeline | Pipeline | flash pipeline |\n| start_event | Event | input event start |\n| stop_event | Event | input event stop |\n| interrupt_event | Event | input event interrupt |\n| flash_event | Event | input event flash |\n| exit_event | Event | input event exit |"
     },
     "execution_count": 30,
     "metadata": {},
     "output_type": "execute_result"
    }
   ],
   "source": [
    "show_doc(VehicleInterface.ignite)"
   ],
   "metadata": {
    "collapsed": false,
    "ExecuteTime": {
     "end_time": "2023-12-19T12:58:49.886552228Z",
     "start_time": "2023-12-19T12:58:49.881105802Z"
    }
   },
   "id": "2542e642696df459"
  },
  {
   "cell_type": "code",
   "execution_count": 31,
   "outputs": [
    {
     "data": {
      "text/plain": "---\n\n### VehicleInterface.produce\n\n>      VehicleInterface.produce (raw_pipeline:data_io_nbdev.dataflow.pipeline.de\n>                                que.PipelineDQ[typing.Union[dict[str,str],dict[\n>                                str,dict[str,list[typing.Union[str,list[list[st\n>                                r]]]]]]]], hmi_pipeline:Optional[data_io_nbdev.\n>                                dataflow.pipeline.queue.Pipeline[str]]=None,\n>                                exit_event:Optional[threading.Event]=None)\n\nAbstract method for producing data into the pipeline\n\nmain entry to the capture thread\nwill spawn three further threads for input processing, HMI control and output processing\n\n|    | **Type** | **Default** | **Details** |\n| -- | -------- | ----------- | ----------- |\n| raw_pipeline | PipelineDQ |  | input pipeline for the raw data |\n| hmi_pipeline | Optional | None | input pipeline for the hmi control |\n| exit_event | Optional | None | input event exit |",
      "text/markdown": "---\n\n### VehicleInterface.produce\n\n>      VehicleInterface.produce (raw_pipeline:data_io_nbdev.dataflow.pipeline.de\n>                                que.PipelineDQ[typing.Union[dict[str,str],dict[\n>                                str,dict[str,list[typing.Union[str,list[list[st\n>                                r]]]]]]]], hmi_pipeline:Optional[data_io_nbdev.\n>                                dataflow.pipeline.queue.Pipeline[str]]=None,\n>                                exit_event:Optional[threading.Event]=None)\n\nAbstract method for producing data into the pipeline\n\nmain entry to the capture thread\nwill spawn three further threads for input processing, HMI control and output processing\n\n|    | **Type** | **Default** | **Details** |\n| -- | -------- | ----------- | ----------- |\n| raw_pipeline | PipelineDQ |  | input pipeline for the raw data |\n| hmi_pipeline | Optional | None | input pipeline for the hmi control |\n| exit_event | Optional | None | input event exit |"
     },
     "execution_count": 31,
     "metadata": {},
     "output_type": "execute_result"
    }
   ],
   "source": [
    "show_doc(VehicleInterface.produce)"
   ],
   "metadata": {
    "collapsed": false,
    "ExecuteTime": {
     "end_time": "2023-12-19T12:58:49.887111493Z",
     "start_time": "2023-12-19T12:58:49.881203187Z"
    }
   },
   "id": "79e8c26871238243"
  },
  {
   "cell_type": "code",
   "execution_count": 32,
   "outputs": [
    {
     "data": {
      "text/plain": "---\n\n### VehicleInterface.countdown\n\n>      VehicleInterface.countdown (observe_pipeline:data_io_nbdev.dataflow.pipel\n>                                  ine.queue.Pipeline[pandas.core.frame.DataFram\n>                                  e], start_event:threading.Event,\n>                                  countdown_event:threading.Event,\n>                                  stop_event:threading.Event,\n>                                  exit_event:threading.Event)\n\ncountdown callback for the countdown thread\n\n|    | **Type** | **Details** |\n| -- | -------- | ----------- |\n| observe_pipeline | Pipeline | output pipeline |\n| start_event | Event | output event |\n| countdown_event | Event | input event |\n| stop_event | Event | output event |\n| exit_event | Event | input event |",
      "text/markdown": "---\n\n### VehicleInterface.countdown\n\n>      VehicleInterface.countdown (observe_pipeline:data_io_nbdev.dataflow.pipel\n>                                  ine.queue.Pipeline[pandas.core.frame.DataFram\n>                                  e], start_event:threading.Event,\n>                                  countdown_event:threading.Event,\n>                                  stop_event:threading.Event,\n>                                  exit_event:threading.Event)\n\ncountdown callback for the countdown thread\n\n|    | **Type** | **Details** |\n| -- | -------- | ----------- |\n| observe_pipeline | Pipeline | output pipeline |\n| start_event | Event | output event |\n| countdown_event | Event | input event |\n| stop_event | Event | output event |\n| exit_event | Event | input event |"
     },
     "execution_count": 32,
     "metadata": {},
     "output_type": "execute_result"
    }
   ],
   "source": [
    "show_doc(VehicleInterface.countdown)"
   ],
   "metadata": {
    "collapsed": false,
    "ExecuteTime": {
     "end_time": "2023-12-19T12:58:49.937696805Z",
     "start_time": "2023-12-19T12:58:49.881278743Z"
    }
   },
   "id": "1351940cccabad65"
  },
  {
   "cell_type": "code",
   "execution_count": 33,
   "outputs": [
    {
     "data": {
      "text/plain": "---\n\n### VehicleInterface.consume\n\n>      VehicleInterface.consume (flash_pipeline:data_io_nbdev.dataflow.pipeline.\n>                                queue.Pipeline[pandas.core.frame.DataFrame],\n>                                start_event:Optional[threading.Event]=None,\n>                                stop_event:Optional[threading.Event]=None,\n>                                interrupt_event:Optional[threading.Event]=None,\n>                                exit_event:Optional[threading.Event]=None,\n>                                flash_event:Optional[threading.Event]=None)\n\nConsume data from the pipeline\n\nmain entry to the flash thread\ndata in pipeline is a tuple of (torque_table, flash_start_row)\n\n|    | **Type** | **Default** | **Details** |\n| -- | -------- | ----------- | ----------- |\n| flash_pipeline | Pipeline |  | flash pipeline |\n| start_event | Optional | None | input event start |\n| stop_event | Optional | None | input event stop |\n| interrupt_event | Optional | None | input event interrupt |\n| exit_event | Optional | None | input event exit |\n| flash_event | Optional | None | input event flash |",
      "text/markdown": "---\n\n### VehicleInterface.consume\n\n>      VehicleInterface.consume (flash_pipeline:data_io_nbdev.dataflow.pipeline.\n>                                queue.Pipeline[pandas.core.frame.DataFrame],\n>                                start_event:Optional[threading.Event]=None,\n>                                stop_event:Optional[threading.Event]=None,\n>                                interrupt_event:Optional[threading.Event]=None,\n>                                exit_event:Optional[threading.Event]=None,\n>                                flash_event:Optional[threading.Event]=None)\n\nConsume data from the pipeline\n\nmain entry to the flash thread\ndata in pipeline is a tuple of (torque_table, flash_start_row)\n\n|    | **Type** | **Default** | **Details** |\n| -- | -------- | ----------- | ----------- |\n| flash_pipeline | Pipeline |  | flash pipeline |\n| start_event | Optional | None | input event start |\n| stop_event | Optional | None | input event stop |\n| interrupt_event | Optional | None | input event interrupt |\n| exit_event | Optional | None | input event exit |\n| flash_event | Optional | None | input event flash |"
     },
     "execution_count": 33,
     "metadata": {},
     "output_type": "execute_result"
    }
   ],
   "source": [
    "show_doc(VehicleInterface.consume)"
   ],
   "metadata": {
    "collapsed": false,
    "ExecuteTime": {
     "end_time": "2023-12-19T12:58:49.938352062Z",
     "start_time": "2023-12-19T12:58:49.925211903Z"
    }
   },
   "id": "adf82887756db904"
  },
  {
   "cell_type": "code",
   "execution_count": 34,
   "outputs": [],
   "source": [
    "#| hide\n",
    "import nbdev; nbdev.nbdev_export()"
   ],
   "metadata": {
    "collapsed": false,
    "ExecuteTime": {
     "end_time": "2023-12-19T12:58:52.003007662Z",
     "start_time": "2023-12-19T12:58:49.925371710Z"
    }
   },
   "id": "efb96fd74841a886"
  }
 ],
 "metadata": {
  "jupytext": {
   "cell_metadata_filter": "-all",
   "main_language": "python",
   "notebook_metadata_filter": "-all"
  },
  "kernelspec": {
   "name": "python3",
   "language": "python",
   "display_name": "Python 3 (ipykernel)"
  }
 },
 "nbformat": 4,
 "nbformat_minor": 5
}
