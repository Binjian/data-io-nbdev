{
 "cells": [
  {
   "cell_type": "markdown",
   "id": "7e3de405a97f0822",
   "metadata": {},
   "source": [
    "# TCP\n",
    ">  context manager for TCP connection"
   ]
  },
  {
   "cell_type": "code",
   "execution_count": null,
   "id": "ad2dcf4f033a9c32",
   "metadata": {},
   "outputs": [],
   "source": [
    "#| default_exp conn.tcp"
   ]
  },
  {
   "cell_type": "code",
   "execution_count": null,
   "id": "1598a0e96bd1396",
   "metadata": {},
   "outputs": [],
   "source": [
    "#| export\n",
    "import contextlib\n",
    "import os\n",
    "from typing import Optional, Generator"
   ]
  },
  {
   "cell_type": "code",
   "execution_count": null,
   "id": "70db2c41a9f3a27c",
   "metadata": {},
   "outputs": [],
   "source": [
    "#| export\n",
    "from data_io_nbdev.conn.remote_can_client import RemoteCanClient\n",
    "from data_io_nbdev.config.vehicles import Truck"
   ]
  },
  {
   "cell_type": "code",
   "execution_count": null,
   "id": "ab6a100995a0e012",
   "metadata": {},
   "outputs": [],
   "source": [
    "#| hide\n",
    "from nbdev.showdoc import *\n",
    "from fastcore.test import *"
   ]
  },
  {
   "cell_type": "code",
   "execution_count": null,
   "id": "5d7c3f2c79021be3",
   "metadata": {},
   "outputs": [],
   "source": [
    "#| export\n",
    "@contextlib.contextmanager\n",
    "def tcp_context(\n",
    "    vehicle: Truck,  # Truck object\n",
    "    host: str,  # host for Remote Can Server\n",
    "    port: str,  # port for Remote Can Server\n",
    "    proxy: Optional[str] = None,  # proxy for Remote Can Server\n",
    ")->Generator[RemoteCanClient, None, None]: #   context manager for RemoteCanClient connection\n",
    "    \"\"\"tcp context manager.\"\"\"\n",
    "\n",
    "    os.environ[\"http_proxy\"] = proxy\n",
    "    remote_can_client = RemoteCanClient(\n",
    "        host,\n",
    "        port,\n",
    "        truck=vehicle,\n",
    "    )\n",
    "    try:\n",
    "        yield remote_can_client\n",
    "    except Exception as e:\n",
    "        raise e\n",
    "    finally:\n",
    "        remote_can_client.close()"
   ]
  },
  {
   "cell_type": "code",
   "execution_count": null,
   "id": "5d086a9644910088",
   "metadata": {},
   "outputs": [
    {
     "data": {
      "text/markdown": "---\n\n[source](https://github.com/Binjian/data-io-nbdev/tree/main/blob/main/data_io_nbdev/conn/tcp.py#L16){target=\"_blank\" style=\"float:right; font-size:smaller\"}\n\n### tcp_context\n\n>      tcp_context (vehicle:data_io_nbdev.config.vehicles.Truck, host:str,\n>                   port:str, proxy:str='')\n\ntcp context manager.\n\n|    | **Type** | **Default** | **Details** |\n| -- | -------- | ----------- | ----------- |\n| vehicle | Truck |  | Truck object |\n| host | str |  | host for Remote Can Server |\n| port | str |  | port for Remote Can Server |\n| proxy | str |  |  |",
      "text/plain": "---\n\n[source](https://github.com/Binjian/data-io-nbdev/tree/main/blob/main/data_io_nbdev/conn/tcp.py#L16){target=\"_blank\" style=\"float:right; font-size:smaller\"}\n\n### tcp_context\n\n>      tcp_context (vehicle:data_io_nbdev.config.vehicles.Truck, host:str,\n>                   port:str, proxy:str='')\n\ntcp context manager.\n\n|    | **Type** | **Default** | **Details** |\n| -- | -------- | ----------- | ----------- |\n| vehicle | Truck |  | Truck object |\n| host | str |  | host for Remote Can Server |\n| port | str |  | port for Remote Can Server |\n| proxy | str |  |  |"
     },
     "execution_count": null,
     "metadata": {},
     "output_type": "execute_result"
    }
   ],
   "source": [
    "show_doc(tcp_context)"
   ]
  },
  {
   "cell_type": "code",
   "execution_count": null,
   "id": "4213fd2273cad72b",
   "metadata": {},
   "outputs": [],
   "source": [
    "#| hide\n",
    "import nbdev; nbdev.nbdev_export()"
   ]
  }
 ],
 "metadata": {
  "jupytext": {
   "cell_metadata_filter": "-all",
   "main_language": "python",
   "notebook_metadata_filter": "-all"
  },
  "kernelspec": {
   "display_name": "python3",
   "language": "python",
   "name": "python3"
  }
 },
 "nbformat": 4,
 "nbformat_minor": 5
}
