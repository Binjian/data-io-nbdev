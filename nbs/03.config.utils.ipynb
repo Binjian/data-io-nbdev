{
 "cells": [
  {
   "cell_type": "markdown",
   "id": "4fef9d6b2414b9a",
   "metadata": {},
   "source": [
    "# utils \n",
    "\n",
    "> utils for converting str to internal data structure in data_io/config/vehicle, driver, truck, db_config "
   ]
  },
  {
   "cell_type": "code",
   "execution_count": null,
   "id": "efa0962d0a1f7687",
   "metadata": {},
   "outputs": [],
   "source": [
    "#| default_exp config.utils"
   ]
  },
  {
   "cell_type": "code",
   "execution_count": null,
   "id": "79d8edbf19e3e3f4",
   "metadata": {},
   "outputs": [],
   "source": [
    "#| export\n",
    "import re\n",
    "from typing import Union"
   ]
  },
  {
   "cell_type": "code",
   "execution_count": null,
   "id": "41dd08202f69db2d",
   "metadata": {},
   "outputs": [],
   "source": [
    "#| export\n",
    "from data_io_nbdev.config.drivers import RE_DRIVER, Driver, drivers_by_id  # type: ignore\n",
    "from data_io_nbdev.config.messengers import (\n",
    "    CANMessenger,\n",
    "    TripMessenger,  # type: ignore\n",
    "    can_servers_by_host,\n",
    "    can_servers_by_name,\n",
    "    trip_servers_by_host,\n",
    "    trip_servers_by_name,\n",
    ")\n",
    "from data_io_nbdev.config.vehicles import (\n",
    "    RE_VIN,\n",
    "    TruckInCloud,\n",
    "    TruckInField,  # type: ignore\n",
    "    trucks_by_id,\n",
    "    trucks_by_vin,\n",
    ")"
   ]
  },
  {
   "cell_type": "code",
   "execution_count": null,
   "id": "7483d6eb69660f26",
   "metadata": {},
   "outputs": [],
   "source": [
    "#| export\n",
    "def str_to_truck(\n",
    "        truck_str: str  # string of truch such as 'HMZABAAH7MF011058'  or \"VB7\",\n",
    ") -> Union[TruckInCloud, TruckInField]:  #  TruckInCloud or TruckInField object\n",
    "    \"\"\"\n",
    "    convert string to TruckInCloud or TruckInField object\n",
    "    \n",
    "    Parameter: \n",
    "        \n",
    "        truck_str: string of truch such as 'HMZABAAH7MF011058'  or \"VB7\", \n",
    "    \n",
    "    Return:\n",
    "        \n",
    "            truck: TruckInCloud or TruckInField\n",
    "    \"\"\"\n",
    "    p = re.compile(RE_VIN)\n",
    "    if p.match(truck_str):\n",
    "        try:\n",
    "            truck: Union[TruckInCloud, TruckInField] = trucks_by_vin[truck_str]\n",
    "        except KeyError:\n",
    "            raise KeyError(f\"No Truck with VIN {truck_str}\")\n",
    "    else:\n",
    "        try:\n",
    "            truck: Union[TruckInCloud, TruckInField] = trucks_by_id.get(truck_str)  # type: ignore\n",
    "        except KeyError:\n",
    "            raise KeyError(f\"No Truck with ID {truck_str}\")\n",
    "\n",
    "    return truck"
   ]
  },
  {
   "cell_type": "code",
   "execution_count": null,
   "id": "41720e9e0ad06e95",
   "metadata": {},
   "outputs": [],
   "source": [
    "#| export\n",
    "def str_to_driver(\n",
    "        driver_str: str  # string of driver such as 'zheng-longfei'\n",
    ") -> Driver:  #  Driver object\n",
    "    \"\"\"\n",
    "    convert string to Driver object\n",
    "   \n",
    "    Parameter: \n",
    "        \n",
    "        driver_str: string of driver such as 'zheng-longfei'\n",
    "        \n",
    "    Return:\n",
    "        \n",
    "            driver: Driver object \n",
    "    \"\"\"\n",
    "    p = re.compile(RE_DRIVER)\n",
    "    assert p.match(driver_str), f\"Invalid driver string: {driver_str}\"\n",
    "    try:\n",
    "        driver: Driver = drivers_by_id[driver_str]\n",
    "    except KeyError:\n",
    "        raise KeyError(f\"No Driver with ID {driver_str}\")\n",
    "\n",
    "    return driver"
   ]
  },
  {
   "cell_type": "code",
   "execution_count": null,
   "id": "be2c7c4ecc906688",
   "metadata": {},
   "outputs": [],
   "source": [
    "#| export\n",
    "def str_to_can_server(\n",
    "        can_server_str: str  # string of can_server such as 'can_intra'\n",
    ") -> CANMessenger:  # CANMessenger object\n",
    "    \"\"\"\n",
    "    convert string to CANMessenger object\n",
    "    \n",
    "    Parameter: \n",
    "        \n",
    "        can_server_str: string of can_server such as 'can_intra'\n",
    "        \n",
    "    Return:\n",
    "        \n",
    "            can_server: CANMessenger object\n",
    "    \"\"\"\n",
    "    try:\n",
    "        can_server = can_servers_by_name[can_server_str]\n",
    "    except KeyError:\n",
    "        try:\n",
    "            can_server = can_servers_by_host[can_server_str.split(\":\")[0]]\n",
    "        except KeyError:\n",
    "            raise KeyError(f\"CAN server not found: {can_server_str}!\")\n",
    "    assert type(can_server) is CANMessenger, f\"Wrong type for can_server {can_server}!\"\n",
    "    return can_server"
   ]
  },
  {
   "cell_type": "code",
   "execution_count": null,
   "id": "f833cd7dee3851db",
   "metadata": {},
   "outputs": [],
   "source": [
    "#| export\n",
    "def str_to_trip_server(\n",
    "        trip_server_str: str  # string of trip_server such as 'rocket_intra'\n",
    ") -> TripMessenger:  # TripMessenger object\n",
    "    \"\"\"\n",
    "    convert string to TripMessenger object\n",
    "    \n",
    "    Parameter: \n",
    "        \n",
    "        trip_server_str: string of trip_server such as 'rocket_intra'\n",
    "        \n",
    "    Return:\n",
    "        \n",
    "            trip_server: TripMessenger object\n",
    "    \"\"\"\n",
    "    try:\n",
    "        trip_server = trip_servers_by_name[trip_server_str]\n",
    "    except KeyError:\n",
    "        try:\n",
    "            trip_server = trip_servers_by_host[trip_server_str.split(\":\")[0]]\n",
    "        except KeyError:\n",
    "            raise KeyError(f\"Trip server not found: {trip_server_str}!\")\n",
    "\n",
    "    assert (\n",
    "        type(trip_server) is TripMessenger\n",
    "    ), f\"Wrong type for trip_server {trip_server}!\"\n",
    "    return trip_server"
   ]
  },
  {
   "cell_type": "code",
   "execution_count": null,
   "id": "79931f5ec63714b1",
   "metadata": {},
   "outputs": [],
   "source": [
    "#| hide\n",
    "import nbdev; nbdev.nbdev_export()"
   ]
  }
 ],
 "metadata": {
  "jupytext": {
   "cell_metadata_filter": "-all",
   "main_language": "python",
   "notebook_metadata_filter": "-all"
  },
  "kernelspec": {
   "display_name": "python3",
   "language": "python",
   "name": "python3"
  }
 },
 "nbformat": 4,
 "nbformat_minor": 5
}
