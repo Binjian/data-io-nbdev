{
 "cells": [
  {
   "cell_type": "markdown",
   "metadata": {},
   "source": [
    "# numerics \n",
    "\n",
    "> numerics module for numpy and pandas related data processing "
   ]
  },
  {
   "cell_type": "code",
   "execution_count": null,
   "metadata": {},
   "outputs": [],
   "source": [
    "#| default_exp numerics"
   ]
  },
  {
   "cell_type": "code",
   "execution_count": null,
   "metadata": {},
   "outputs": [],
   "source": [
    "#| hide\n",
    "from nbdev.showdoc import *"
   ]
  },
  {
   "cell_type": "code",
   "execution_count": null,
   "metadata": {},
   "outputs": [],
   "source": [
    "#| export\n",
    "import math\n",
    "from datetime import datetime\n",
    "from functools import reduce\n",
    "from typing import Dict, List, Optional, Tuple, Union, cast\n",
    "from zoneinfo import ZoneInfo\n",
    "import numpy as np\n",
    "import pandas as pd\n",
    "import tensorflow as tf"
   ]
  },
  {
   "cell_type": "code",
   "execution_count": null,
   "metadata": {},
   "outputs": [],
   "source": [
    "#| export\n",
    "def assemble_state_ser(\n",
    "    state_columns: pd.DataFrame, tz: ZoneInfo\n",
    ") -> Tuple[pd.Series, int]:\n",
    "    \"\"\"\n",
    "    assemble state df from state_columns dataframe\n",
    "    order is vital for the model:\n",
    "    \"timestep, velocity, thrust, brake\"\n",
    "    contiguous storage in each measurement\n",
    "    due to sort_index, output:\n",
    "    [col0: brake, col1: thrust, col2: timestep, col3: velocity]\n",
    "    return:\n",
    "    state: pd.Series\n",
    "    table_row_start: int\n",
    "    \"\"\"\n",
    "\n",
    "    # state_columns['timestep'] = pd.to_datetime(datetime.now().timestamp(), unit='us').tz_localize(tz)\n",
    "    state: pd.Series = cast(\n",
    "        pd.Series,\n",
    "        (state_columns.stack().swaplevel(0, 1)),\n",
    "    )\n",
    "    state.name = \"state\"\n",
    "    state.index.names = [\"rows\", \"idx\"]\n",
    "    state.sort_index(\n",
    "        inplace=True\n",
    "    )  # sort by rows and idx (brake, thrust, timestep, velocity)\n",
    "    # str_as_type = f\"datetime64[us,{tz.key}]\"  # type: ignore\n",
    "    # state['timestep'].astype(str_as_type, copy=False)\n",
    "\n",
    "    vel_stats = state[\"velocity\"].astype(\"float\").describe()\n",
    "\n",
    "    # 0~20km/h; 7~30km/h; 10~40km/h; 20~50km/h; ...\n",
    "    # average concept\n",
    "    # 10; 18; 25; 35; 45; 55; 65; 75; 85; 95; 105\n",
    "    #   13; 18; 22; 27; 32; 37; 42; 47; 52; 57; 62;\n",
    "    # here upper bound rule adopted\n",
    "    if vel_stats[\"max\"] < 20:\n",
    "        table_row_start = 0\n",
    "    elif vel_stats[\"max\"] < 30:\n",
    "        table_row_start = 1\n",
    "    elif vel_stats[\"max\"] < 120:\n",
    "        table_row_start = math.floor((vel_stats[\"max\"] - 30) / 10) + 2\n",
    "    else:\n",
    "        table_row_start = 16  # cycle higher than 120km/h!\n",
    "    # get the row of the table\n",
    "\n",
    "    return state, table_row_start"
   ]
  },
  {
   "cell_type": "code",
   "execution_count": null,
   "metadata": {},
   "outputs": [],
   "source": [
    "#| hide\n",
    "from data_io_nbdev.utils import generate_eos_df, generate_state"
   ]
  },
  {
   "cell_type": "code",
   "execution_count": null,
   "metadata": {},
   "outputs": [],
   "source": [
    "#| hide\n",
    "df = generate_eos_df()\n",
    "df[\"state\"]"
   ]
  },
  {
   "cell_type": "code",
   "execution_count": null,
   "metadata": {},
   "outputs": [],
   "source": [
    "#| hide\n",
    "state = df['state'][[\"timestep\", \"velocity\", \"thrust\", \"brake\"]].iloc[0]\n",
    "# state = df['state'][\"timestep\"]\n",
    "# state[\"timestep\"].values\n",
    "state = pd.DataFrame([state[\"timestep\"].values, state[\"velocity\"].values, state[\"thrust\"].values, state[\"brake\"].values]).T\n",
    "state.columns = [\"timestep\", \"velocity\", \"thrust\", \"brake\"]\n",
    "state"
   ]
  },
  {
   "cell_type": "code",
   "execution_count": null,
   "metadata": {},
   "outputs": [],
   "source": [
    "#| hide\n",
    "state_ser = state.stack().swaplevel(0, 1)\n",
    "state_ser.name = \"state\"\n",
    "state_ser.index.names = [\"rows\", \"idx\"]\n",
    "state_ser.sort_index(inplace=True)\n",
    "state_ser"
   ]
  },
  {
   "cell_type": "code",
   "execution_count": null,
   "metadata": {},
   "outputs": [],
   "source": [
    "#| hide\n",
    "tz = ZoneInfo(\"Asia/Shanghai\")\n",
    "# state = df['state'].stack\n",
    "ser_state, row_start = assemble_state_ser(state, tz)"
   ]
  },
  {
   "cell_type": "code",
   "execution_count": null,
   "metadata": {},
   "outputs": [],
   "source": [
    "#| hide\n",
    "assemble_state_ser(state, tz)[0]"
   ]
  },
  {
   "cell_type": "code",
   "execution_count": null,
   "metadata": {},
   "outputs": [],
   "source": [
    "assert assemble_state_ser(state, tz)[1] == 0"
   ]
  },
  {
   "cell_type": "code",
   "execution_count": null,
   "metadata": {},
   "outputs": [],
   "source": [
    "assert isinstance(assemble_state_ser(state, tz)[0], pd.Series) == True"
   ]
  },
  {
   "cell_type": "code",
   "execution_count": null,
   "metadata": {},
   "outputs": [],
   "source": [
    "from fastcore.test import *"
   ]
  },
  {
   "cell_type": "code",
   "execution_count": null,
   "metadata": {},
   "outputs": [],
   "source": [
    "test_eq(isinstance(assemble_state_ser(state, tz)[0], pd.Series), True)"
   ]
  },
  {
   "cell_type": "code",
   "execution_count": null,
   "metadata": {},
   "outputs": [],
   "source": [
    "#| hide\n",
    "import nbdev; nbdev.nbdev_export()"
   ]
  }
 ],
 "metadata": {
  "kernelspec": {
   "display_name": "python3",
   "language": "python",
   "name": "python3"
  }
 },
 "nbformat": 4,
 "nbformat_minor": 4
}
