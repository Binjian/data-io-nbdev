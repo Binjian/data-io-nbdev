{
 "cells": [
  {
   "cell_type": "markdown",
   "metadata": {},
   "source": [
    "# numerics \n",
    "\n",
    "> numerics module for numpy and pandas related data processing "
   ]
  },
  {
   "cell_type": "code",
   "execution_count": null,
   "metadata": {},
   "outputs": [],
   "source": [
    "#| default_exp numerics"
   ]
  },
  {
   "cell_type": "markdown",
   "metadata": {},
   "source": []
  },
  {
   "cell_type": "code",
   "execution_count": null,
   "metadata": {},
   "outputs": [],
   "source": [
    "#| hide\n",
    "from nbdev.showdoc import *"
   ]
  },
  {
   "cell_type": "code",
   "execution_count": null,
   "metadata": {},
   "outputs": [],
   "source": [
    "#| export\n",
    "import math\n",
    "from datetime import datetime\n",
    "from functools import reduce\n",
    "from typing import Dict, List, Optional, Tuple, Union, cast\n",
    "from zoneinfo import ZoneInfo\n",
    "import numpy as np\n",
    "import pandas as pd\n",
    "import tensorflow as tf"
   ]
  },
  {
   "cell_type": "code",
   "execution_count": null,
   "metadata": {},
   "outputs": [],
   "source": [
    "#| export\n",
    "def assemble_state_ser(\n",
    "    state_columns: pd.DataFrame, \n",
    "    tz: ZoneInfo\n",
    ") -> Tuple[pd.Series, int]:\n",
    "    \"\"\"\n",
    "    assemble state df from state_columns dataframe order is vital for the model\n",
    "    \n",
    "    inputs:\n",
    "    \n",
    "        state_columns: pd.DataFrame\n",
    "    \n",
    "    \"timestep, velocity, thrust, brake\"\n",
    "    contiguous storage in each measurement\n",
    "    due to sort_index, output:\n",
    "    [col0: brake, col1: thrust, col2: timestep, col3: velocity]\n",
    "    \n",
    "    return:\n",
    "    \n",
    "        state: pd.Series\n",
    "        table_row_start: int\n",
    "    \"\"\"\n",
    "\n",
    "    # state_columns['timestep'] = pd.to_datetime(datetime.now().timestamp(), unit='us').tz_localize(tz)\n",
    "    state: pd.Series = cast(\n",
    "        pd.Series,\n",
    "        (state_columns.stack().swaplevel(0, 1)),\n",
    "    )\n",
    "    state.name = \"state\"\n",
    "    state.index.names = [\"rows\", \"idx\"]\n",
    "    state.sort_index(\n",
    "        inplace=True\n",
    "    )  # sort by rows and idx (brake, thrust, timestep, velocity)\n",
    "    # str_as_type = f\"datetime64[us,{tz.key}]\"  # type: ignore\n",
    "    # state['timestep'].astype(str_as_type, copy=False)\n",
    "\n",
    "    vel_stats = state[\"velocity\"].astype(\"float\").describe()\n",
    "\n",
    "    # 0~20km/h; 7~30km/h; 10~40km/h; 20~50km/h; ...\n",
    "    # average concept\n",
    "    # 10; 18; 25; 35; 45; 55; 65; 75; 85; 95; 105\n",
    "    #   13; 18; 22; 27; 32; 37; 42; 47; 52; 57; 62;\n",
    "    # here upper bound rule adopted\n",
    "    if vel_stats[\"max\"] < 20:\n",
    "        table_row_start = 0\n",
    "    elif vel_stats[\"max\"] < 30:\n",
    "        table_row_start = 1\n",
    "    elif vel_stats[\"max\"] < 120:\n",
    "        table_row_start = math.floor((vel_stats[\"max\"] - 30) / 10) + 2\n",
    "    else:\n",
    "        table_row_start = 16  # cycle higher than 120km/h!\n",
    "    # get the row of the table\n",
    "\n",
    "    return state, table_row_start"
   ]
  },
  {
   "cell_type": "code",
   "execution_count": null,
   "metadata": {},
   "outputs": [
    {
     "data": {
      "text/markdown": "---\n\n[source](https://github.com/Binjian/data-io-nbdev/tree/main/blob/main/data_io_nbdev/numerics.py#L17){target=\"_blank\" style=\"float:right; font-size:smaller\"}\n\n### assemble_state_ser\n\n>      assemble_state_ser (state_columns:pandas.core.frame.DataFrame,\n>                          tz:zoneinfo.ZoneInfo)\n\nassemble state df from state_columns dataframe order is vital for the model\n\ninputs:\n\n    state_columns: pd.DataFrame\n\n\"timestep, velocity, thrust, brake\"\ncontiguous storage in each measurement\ndue to sort_index, output:\n[col0: brake, col1: thrust, col2: timestep, col3: velocity]\n\nreturn:\n\n    state: pd.Series\n    table_row_start: int",
      "text/plain": "---\n\n[source](https://github.com/Binjian/data-io-nbdev/tree/main/blob/main/data_io_nbdev/numerics.py#L17){target=\"_blank\" style=\"float:right; font-size:smaller\"}\n\n### assemble_state_ser\n\n>      assemble_state_ser (state_columns:pandas.core.frame.DataFrame,\n>                          tz:zoneinfo.ZoneInfo)\n\nassemble state df from state_columns dataframe order is vital for the model\n\ninputs:\n\n    state_columns: pd.DataFrame\n\n\"timestep, velocity, thrust, brake\"\ncontiguous storage in each measurement\ndue to sort_index, output:\n[col0: brake, col1: thrust, col2: timestep, col3: velocity]\n\nreturn:\n\n    state: pd.Series\n    table_row_start: int"
     },
     "execution_count": null,
     "metadata": {},
     "output_type": "execute_result"
    }
   ],
   "source": [
    "show_doc(assemble_state_ser)"
   ]
  },
  {
   "cell_type": "code",
   "execution_count": null,
   "metadata": {},
   "outputs": [],
   "source": [
    "#| hide\n",
    "from data_io_nbdev.utils import generate_eos_df, generate_state"
   ]
  },
  {
   "cell_type": "code",
   "execution_count": null,
   "metadata": {},
   "outputs": [
    {
     "data": {
      "text/html": "<div>\n<style scoped>\n    .dataframe tbody tr th:only-of-type {\n        vertical-align: middle;\n    }\n\n    .dataframe tbody tr th {\n        vertical-align: top;\n    }\n\n    .dataframe thead tr th {\n        text-align: left;\n    }\n\n    .dataframe thead tr:last-of-type th {\n        text-align: right;\n    }\n</style>\n<table border=\"1\" class=\"dataframe\">\n  <thead>\n    <tr>\n      <th></th>\n      <th></th>\n      <th></th>\n      <th>rows</th>\n      <th colspan=\"4\" halign=\"left\">brake</th>\n      <th colspan=\"4\" halign=\"left\">thrust</th>\n      <th colspan=\"4\" halign=\"left\">timestep</th>\n      <th colspan=\"4\" halign=\"left\">velocity</th>\n    </tr>\n    <tr>\n      <th></th>\n      <th></th>\n      <th></th>\n      <th>idx</th>\n      <th>0</th>\n      <th>1</th>\n      <th>2</th>\n      <th>3</th>\n      <th>0</th>\n      <th>1</th>\n      <th>2</th>\n      <th>3</th>\n      <th>0</th>\n      <th>1</th>\n      <th>2</th>\n      <th>3</th>\n      <th>0</th>\n      <th>1</th>\n      <th>2</th>\n      <th>3</th>\n    </tr>\n    <tr>\n      <th>vehicle</th>\n      <th>driver</th>\n      <th>episodestart</th>\n      <th>timestamp</th>\n      <th></th>\n      <th></th>\n      <th></th>\n      <th></th>\n      <th></th>\n      <th></th>\n      <th></th>\n      <th></th>\n      <th></th>\n      <th></th>\n      <th></th>\n      <th></th>\n      <th></th>\n      <th></th>\n      <th></th>\n      <th></th>\n    </tr>\n  </thead>\n  <tbody>\n    <tr>\n      <th rowspan=\"5\" valign=\"top\">VB7</th>\n      <th rowspan=\"5\" valign=\"top\">wang-cheng</th>\n      <th rowspan=\"5\" valign=\"top\">2023-12-12 19:57:30.449665</th>\n      <th>2023-12-12 20:57:30.400215</th>\n      <td>8.0</td>\n      <td>9.0</td>\n      <td>10.0</td>\n      <td>11.0</td>\n      <td>4.0</td>\n      <td>5.0</td>\n      <td>6.0</td>\n      <td>7.0</td>\n      <td>2023-12-12 19:57:30.400574</td>\n      <td>2023-12-12 19:57:30.420574</td>\n      <td>2023-12-12 19:57:30.440574</td>\n      <td>2023-12-12 19:57:30.460574</td>\n      <td>0.0</td>\n      <td>1.0</td>\n      <td>2.0</td>\n      <td>3.0</td>\n    </tr>\n    <tr>\n      <th>2023-12-12 21:57:30.400215</th>\n      <td>8.0</td>\n      <td>9.0</td>\n      <td>10.0</td>\n      <td>11.0</td>\n      <td>4.0</td>\n      <td>5.0</td>\n      <td>6.0</td>\n      <td>7.0</td>\n      <td>2023-12-12 19:57:30.400574</td>\n      <td>2023-12-12 19:57:30.420574</td>\n      <td>2023-12-12 19:57:30.440574</td>\n      <td>2023-12-12 19:57:30.460574</td>\n      <td>0.0</td>\n      <td>1.0</td>\n      <td>2.0</td>\n      <td>3.0</td>\n    </tr>\n    <tr>\n      <th>2023-12-12 22:57:30.400215</th>\n      <td>8.0</td>\n      <td>9.0</td>\n      <td>10.0</td>\n      <td>11.0</td>\n      <td>4.0</td>\n      <td>5.0</td>\n      <td>6.0</td>\n      <td>7.0</td>\n      <td>2023-12-12 19:57:30.400574</td>\n      <td>2023-12-12 19:57:30.420574</td>\n      <td>2023-12-12 19:57:30.440574</td>\n      <td>2023-12-12 19:57:30.460574</td>\n      <td>0.0</td>\n      <td>1.0</td>\n      <td>2.0</td>\n      <td>3.0</td>\n    </tr>\n    <tr>\n      <th>2023-12-12 23:57:30.400215</th>\n      <td>8.0</td>\n      <td>9.0</td>\n      <td>10.0</td>\n      <td>11.0</td>\n      <td>4.0</td>\n      <td>5.0</td>\n      <td>6.0</td>\n      <td>7.0</td>\n      <td>2023-12-12 19:57:30.400574</td>\n      <td>2023-12-12 19:57:30.420574</td>\n      <td>2023-12-12 19:57:30.440574</td>\n      <td>2023-12-12 19:57:30.460574</td>\n      <td>0.0</td>\n      <td>1.0</td>\n      <td>2.0</td>\n      <td>3.0</td>\n    </tr>\n    <tr>\n      <th>2023-12-13 00:57:30.400215</th>\n      <td>8.0</td>\n      <td>9.0</td>\n      <td>10.0</td>\n      <td>11.0</td>\n      <td>4.0</td>\n      <td>5.0</td>\n      <td>6.0</td>\n      <td>7.0</td>\n      <td>2023-12-12 19:57:30.400574</td>\n      <td>2023-12-12 19:57:30.420574</td>\n      <td>2023-12-12 19:57:30.440574</td>\n      <td>2023-12-12 19:57:30.460574</td>\n      <td>0.0</td>\n      <td>1.0</td>\n      <td>2.0</td>\n      <td>3.0</td>\n    </tr>\n  </tbody>\n</table>\n</div>",
      "text/plain": "rows                                                                     brake  \\\nidx                                                                          0   \nvehicle driver     episodestart               timestamp                          \nVB7     wang-cheng 2023-12-12 19:57:30.449665 2023-12-12 20:57:30.400215   8.0   \n                                              2023-12-12 21:57:30.400215   8.0   \n                                              2023-12-12 22:57:30.400215   8.0   \n                                              2023-12-12 23:57:30.400215   8.0   \n                                              2023-12-13 00:57:30.400215   8.0   \n\nrows                                                                           \\\nidx                                                                         1   \nvehicle driver     episodestart               timestamp                         \nVB7     wang-cheng 2023-12-12 19:57:30.449665 2023-12-12 20:57:30.400215  9.0   \n                                              2023-12-12 21:57:30.400215  9.0   \n                                              2023-12-12 22:57:30.400215  9.0   \n                                              2023-12-12 23:57:30.400215  9.0   \n                                              2023-12-13 00:57:30.400215  9.0   \n\nrows                                                                            \\\nidx                                                                          2   \nvehicle driver     episodestart               timestamp                          \nVB7     wang-cheng 2023-12-12 19:57:30.449665 2023-12-12 20:57:30.400215  10.0   \n                                              2023-12-12 21:57:30.400215  10.0   \n                                              2023-12-12 22:57:30.400215  10.0   \n                                              2023-12-12 23:57:30.400215  10.0   \n                                              2023-12-13 00:57:30.400215  10.0   \n\nrows                                                                            \\\nidx                                                                          3   \nvehicle driver     episodestart               timestamp                          \nVB7     wang-cheng 2023-12-12 19:57:30.449665 2023-12-12 20:57:30.400215  11.0   \n                                              2023-12-12 21:57:30.400215  11.0   \n                                              2023-12-12 22:57:30.400215  11.0   \n                                              2023-12-12 23:57:30.400215  11.0   \n                                              2023-12-13 00:57:30.400215  11.0   \n\nrows                                                                     thrust  \\\nidx                                                                           0   \nvehicle driver     episodestart               timestamp                           \nVB7     wang-cheng 2023-12-12 19:57:30.449665 2023-12-12 20:57:30.400215    4.0   \n                                              2023-12-12 21:57:30.400215    4.0   \n                                              2023-12-12 22:57:30.400215    4.0   \n                                              2023-12-12 23:57:30.400215    4.0   \n                                              2023-12-13 00:57:30.400215    4.0   \n\nrows                                                                           \\\nidx                                                                         1   \nvehicle driver     episodestart               timestamp                         \nVB7     wang-cheng 2023-12-12 19:57:30.449665 2023-12-12 20:57:30.400215  5.0   \n                                              2023-12-12 21:57:30.400215  5.0   \n                                              2023-12-12 22:57:30.400215  5.0   \n                                              2023-12-12 23:57:30.400215  5.0   \n                                              2023-12-13 00:57:30.400215  5.0   \n\nrows                                                                           \\\nidx                                                                         2   \nvehicle driver     episodestart               timestamp                         \nVB7     wang-cheng 2023-12-12 19:57:30.449665 2023-12-12 20:57:30.400215  6.0   \n                                              2023-12-12 21:57:30.400215  6.0   \n                                              2023-12-12 22:57:30.400215  6.0   \n                                              2023-12-12 23:57:30.400215  6.0   \n                                              2023-12-13 00:57:30.400215  6.0   \n\nrows                                                                           \\\nidx                                                                         3   \nvehicle driver     episodestart               timestamp                         \nVB7     wang-cheng 2023-12-12 19:57:30.449665 2023-12-12 20:57:30.400215  7.0   \n                                              2023-12-12 21:57:30.400215  7.0   \n                                              2023-12-12 22:57:30.400215  7.0   \n                                              2023-12-12 23:57:30.400215  7.0   \n                                              2023-12-13 00:57:30.400215  7.0   \n\nrows                                                                                        timestep  \\\nidx                                                                                                0   \nvehicle driver     episodestart               timestamp                                                \nVB7     wang-cheng 2023-12-12 19:57:30.449665 2023-12-12 20:57:30.400215  2023-12-12 19:57:30.400574   \n                                              2023-12-12 21:57:30.400215  2023-12-12 19:57:30.400574   \n                                              2023-12-12 22:57:30.400215  2023-12-12 19:57:30.400574   \n                                              2023-12-12 23:57:30.400215  2023-12-12 19:57:30.400574   \n                                              2023-12-13 00:57:30.400215  2023-12-12 19:57:30.400574   \n\nrows                                                                                                  \\\nidx                                                                                                1   \nvehicle driver     episodestart               timestamp                                                \nVB7     wang-cheng 2023-12-12 19:57:30.449665 2023-12-12 20:57:30.400215  2023-12-12 19:57:30.420574   \n                                              2023-12-12 21:57:30.400215  2023-12-12 19:57:30.420574   \n                                              2023-12-12 22:57:30.400215  2023-12-12 19:57:30.420574   \n                                              2023-12-12 23:57:30.400215  2023-12-12 19:57:30.420574   \n                                              2023-12-13 00:57:30.400215  2023-12-12 19:57:30.420574   \n\nrows                                                                                                  \\\nidx                                                                                                2   \nvehicle driver     episodestart               timestamp                                                \nVB7     wang-cheng 2023-12-12 19:57:30.449665 2023-12-12 20:57:30.400215  2023-12-12 19:57:30.440574   \n                                              2023-12-12 21:57:30.400215  2023-12-12 19:57:30.440574   \n                                              2023-12-12 22:57:30.400215  2023-12-12 19:57:30.440574   \n                                              2023-12-12 23:57:30.400215  2023-12-12 19:57:30.440574   \n                                              2023-12-13 00:57:30.400215  2023-12-12 19:57:30.440574   \n\nrows                                                                                                  \\\nidx                                                                                                3   \nvehicle driver     episodestart               timestamp                                                \nVB7     wang-cheng 2023-12-12 19:57:30.449665 2023-12-12 20:57:30.400215  2023-12-12 19:57:30.460574   \n                                              2023-12-12 21:57:30.400215  2023-12-12 19:57:30.460574   \n                                              2023-12-12 22:57:30.400215  2023-12-12 19:57:30.460574   \n                                              2023-12-12 23:57:30.400215  2023-12-12 19:57:30.460574   \n                                              2023-12-13 00:57:30.400215  2023-12-12 19:57:30.460574   \n\nrows                                                                     velocity  \\\nidx                                                                             0   \nvehicle driver     episodestart               timestamp                             \nVB7     wang-cheng 2023-12-12 19:57:30.449665 2023-12-12 20:57:30.400215      0.0   \n                                              2023-12-12 21:57:30.400215      0.0   \n                                              2023-12-12 22:57:30.400215      0.0   \n                                              2023-12-12 23:57:30.400215      0.0   \n                                              2023-12-13 00:57:30.400215      0.0   \n\nrows                                                                           \\\nidx                                                                         1   \nvehicle driver     episodestart               timestamp                         \nVB7     wang-cheng 2023-12-12 19:57:30.449665 2023-12-12 20:57:30.400215  1.0   \n                                              2023-12-12 21:57:30.400215  1.0   \n                                              2023-12-12 22:57:30.400215  1.0   \n                                              2023-12-12 23:57:30.400215  1.0   \n                                              2023-12-13 00:57:30.400215  1.0   \n\nrows                                                                           \\\nidx                                                                         2   \nvehicle driver     episodestart               timestamp                         \nVB7     wang-cheng 2023-12-12 19:57:30.449665 2023-12-12 20:57:30.400215  2.0   \n                                              2023-12-12 21:57:30.400215  2.0   \n                                              2023-12-12 22:57:30.400215  2.0   \n                                              2023-12-12 23:57:30.400215  2.0   \n                                              2023-12-13 00:57:30.400215  2.0   \n\nrows                                                                           \nidx                                                                         3  \nvehicle driver     episodestart               timestamp                        \nVB7     wang-cheng 2023-12-12 19:57:30.449665 2023-12-12 20:57:30.400215  3.0  \n                                              2023-12-12 21:57:30.400215  3.0  \n                                              2023-12-12 22:57:30.400215  3.0  \n                                              2023-12-12 23:57:30.400215  3.0  \n                                              2023-12-13 00:57:30.400215  3.0  "
     },
     "execution_count": null,
     "metadata": {},
     "output_type": "execute_result"
    }
   ],
   "source": [
    "#| hide\n",
    "df = generate_eos_df()\n",
    "df[\"state\"]"
   ]
  },
  {
   "cell_type": "code",
   "execution_count": null,
   "metadata": {},
   "outputs": [
    {
     "data": {
      "text/html": "<div>\n<style scoped>\n    .dataframe tbody tr th:only-of-type {\n        vertical-align: middle;\n    }\n\n    .dataframe tbody tr th {\n        vertical-align: top;\n    }\n\n    .dataframe thead th {\n        text-align: right;\n    }\n</style>\n<table border=\"1\" class=\"dataframe\">\n  <thead>\n    <tr style=\"text-align: right;\">\n      <th></th>\n      <th>timestep</th>\n      <th>velocity</th>\n      <th>thrust</th>\n      <th>brake</th>\n    </tr>\n  </thead>\n  <tbody>\n    <tr>\n      <th>0</th>\n      <td>2023-12-12T19:57:30.400574000</td>\n      <td>0.0</td>\n      <td>4.0</td>\n      <td>8.0</td>\n    </tr>\n    <tr>\n      <th>1</th>\n      <td>2023-12-12T19:57:30.420574000</td>\n      <td>1.0</td>\n      <td>5.0</td>\n      <td>9.0</td>\n    </tr>\n    <tr>\n      <th>2</th>\n      <td>2023-12-12T19:57:30.440574000</td>\n      <td>2.0</td>\n      <td>6.0</td>\n      <td>10.0</td>\n    </tr>\n    <tr>\n      <th>3</th>\n      <td>2023-12-12T19:57:30.460574000</td>\n      <td>3.0</td>\n      <td>7.0</td>\n      <td>11.0</td>\n    </tr>\n  </tbody>\n</table>\n</div>",
      "text/plain": "                        timestep velocity thrust brake\n0  2023-12-12T19:57:30.400574000      0.0    4.0   8.0\n1  2023-12-12T19:57:30.420574000      1.0    5.0   9.0\n2  2023-12-12T19:57:30.440574000      2.0    6.0  10.0\n3  2023-12-12T19:57:30.460574000      3.0    7.0  11.0"
     },
     "execution_count": null,
     "metadata": {},
     "output_type": "execute_result"
    }
   ],
   "source": [
    "#| hide\n",
    "state = df['state'][[\"timestep\", \"velocity\", \"thrust\", \"brake\"]].iloc[0]\n",
    "# state = df['state'][\"timestep\"]\n",
    "# state[\"timestep\"].values\n",
    "state = pd.DataFrame([state[\"timestep\"].values, state[\"velocity\"].values, state[\"thrust\"].values, state[\"brake\"].values]).T\n",
    "state.columns = [\"timestep\", \"velocity\", \"thrust\", \"brake\"]\n",
    "state"
   ]
  },
  {
   "cell_type": "code",
   "execution_count": null,
   "metadata": {},
   "outputs": [
    {
     "data": {
      "text/plain": "rows      idx\nbrake     0                                8.0\n          1                                9.0\n          2                               10.0\n          3                               11.0\nthrust    0                                4.0\n          1                                5.0\n          2                                6.0\n          3                                7.0\ntimestep  0      2023-12-12T19:57:30.400574000\n          1      2023-12-12T19:57:30.420574000\n          2      2023-12-12T19:57:30.440574000\n          3      2023-12-12T19:57:30.460574000\nvelocity  0                                0.0\n          1                                1.0\n          2                                2.0\n          3                                3.0\nName: state, dtype: object"
     },
     "execution_count": null,
     "metadata": {},
     "output_type": "execute_result"
    }
   ],
   "source": [
    "#| hide\n",
    "state_ser = state.stack().swaplevel(0, 1)\n",
    "state_ser.name = \"state\"\n",
    "state_ser.index.names = [\"rows\", \"idx\"]\n",
    "state_ser.sort_index(inplace=True)\n",
    "state_ser"
   ]
  },
  {
   "cell_type": "code",
   "execution_count": null,
   "metadata": {},
   "outputs": [],
   "source": [
    "#| hide\n",
    "tz = ZoneInfo(\"Asia/Shanghai\")\n",
    "# state = df['state'].stack\n",
    "ser_state, row_start = assemble_state_ser(state, tz)"
   ]
  },
  {
   "cell_type": "code",
   "execution_count": null,
   "metadata": {},
   "outputs": [
    {
     "data": {
      "text/plain": "rows      idx\nbrake     0                                8.0\n          1                                9.0\n          2                               10.0\n          3                               11.0\nthrust    0                                4.0\n          1                                5.0\n          2                                6.0\n          3                                7.0\ntimestep  0      2023-12-12T19:57:30.400574000\n          1      2023-12-12T19:57:30.420574000\n          2      2023-12-12T19:57:30.440574000\n          3      2023-12-12T19:57:30.460574000\nvelocity  0                                0.0\n          1                                1.0\n          2                                2.0\n          3                                3.0\nName: state, dtype: object"
     },
     "execution_count": null,
     "metadata": {},
     "output_type": "execute_result"
    }
   ],
   "source": [
    "#| hide\n",
    "assemble_state_ser(state, tz)[0]"
   ]
  },
  {
   "cell_type": "code",
   "execution_count": null,
   "metadata": {},
   "outputs": [],
   "source": [
    "assert assemble_state_ser(state, tz)[1] == 0"
   ]
  },
  {
   "cell_type": "code",
   "execution_count": null,
   "metadata": {},
   "outputs": [],
   "source": [
    "assert isinstance(assemble_state_ser(state, tz)[0], pd.Series) == True"
   ]
  },
  {
   "cell_type": "code",
   "execution_count": null,
   "metadata": {},
   "outputs": [],
   "source": [
    "from fastcore.test import *"
   ]
  },
  {
   "cell_type": "code",
   "execution_count": null,
   "metadata": {},
   "outputs": [],
   "source": [
    "test_eq(isinstance(assemble_state_ser(state, tz)[0], pd.Series), True)"
   ]
  },
  {
   "cell_type": "code",
   "execution_count": null,
   "metadata": {},
   "outputs": [],
   "source": [
    "#| hide\n",
    "import nbdev; nbdev.nbdev_export()"
   ]
  }
 ],
 "metadata": {
  "kernelspec": {
   "display_name": "python3",
   "language": "python",
   "name": "python3"
  }
 },
 "nbformat": 4,
 "nbformat_minor": 4
}
