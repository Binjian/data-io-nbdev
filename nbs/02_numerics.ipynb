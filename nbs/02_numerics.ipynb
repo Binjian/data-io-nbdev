{
 "cells": [
  {
   "cell_type": "markdown",
   "metadata": {},
   "source": [
    "# numerics \n",
    "\n",
    "> numerics module for numpy and pandas related data processing "
   ]
  },
  {
   "cell_type": "code",
   "execution_count": null,
   "metadata": {},
   "outputs": [],
   "source": [
    "#| default_exp numerics"
   ]
  },
  {
   "cell_type": "code",
   "execution_count": null,
   "metadata": {},
   "outputs": [],
   "source": [
    "#| hide\n",
    "from nbdev.showdoc import *"
   ]
  },
  {
   "cell_type": "code",
   "execution_count": null,
   "metadata": {},
   "outputs": [
    {
     "name": "stderr",
     "output_type": "stream",
     "text": [
      "2023-12-08 20:06:40.792276: E tensorflow/compiler/xla/stream_executor/cuda/cuda_dnn.cc:9342] Unable to register cuDNN factory: Attempting to register factory for plugin cuDNN when one has already been registered\n",
      "2023-12-08 20:06:40.792311: E tensorflow/compiler/xla/stream_executor/cuda/cuda_fft.cc:609] Unable to register cuFFT factory: Attempting to register factory for plugin cuFFT when one has already been registered\n",
      "2023-12-08 20:06:40.792319: E tensorflow/compiler/xla/stream_executor/cuda/cuda_blas.cc:1518] Unable to register cuBLAS factory: Attempting to register factory for plugin cuBLAS when one has already been registered\n",
      "2023-12-08 20:06:40.797752: I tensorflow/core/platform/cpu_feature_guard.cc:182] This TensorFlow binary is optimized to use available CPU instructions in performance-critical operations.\n",
      "To enable the following instructions: SSE4.1 SSE4.2 AVX AVX2 FMA, in other operations, rebuild TensorFlow with the appropriate compiler flags.\n"
     ]
    }
   ],
   "source": [
    "#| export\n",
    "import math\n",
    "from datetime import datetime\n",
    "from functools import reduce\n",
    "from typing import Dict, List, Optional, Tuple, Union, cast\n",
    "from zoneinfo import ZoneInfo\n",
    "import numpy as np\n",
    "import pandas as pd\n",
    "import tensorflow as tf"
   ]
  },
  {
   "cell_type": "code",
   "execution_count": null,
   "metadata": {},
   "outputs": [],
   "source": [
    "#| export\n",
    "def assemble_state_ser(\n",
    "    state_columns: pd.DataFrame, tz: ZoneInfo\n",
    ") -> Tuple[pd.Series, int]:\n",
    "    \"\"\"\n",
    "    assemble state df from state_columns dataframe\n",
    "    order is vital for the model:\n",
    "    \"timestep, velocity, thrust, brake\"\n",
    "    contiguous storage in each measurement\n",
    "    due to sort_index, output:\n",
    "    [col0: brake, col1: thrust, col2: timestep, col3: velocity]\n",
    "    return:\n",
    "    state: pd.Series\n",
    "    table_row_start: int\n",
    "    \"\"\"\n",
    "\n",
    "    # state_columns['timestep'] = pd.to_datetime(datetime.now().timestamp(), unit='us').tz_localize(tz)\n",
    "    state: pd.Series = cast(\n",
    "        pd.Series,\n",
    "        (state_columns.stack().swaplevel(0, 1)),\n",
    "    )\n",
    "    state.name = \"state\"\n",
    "    state.index.names = [\"rows\", \"idx\"]\n",
    "    state.sort_index(\n",
    "        inplace=True\n",
    "    )  # sort by rows and idx (brake, thrust, timestep, velocity)\n",
    "    # str_as_type = f\"datetime64[us,{tz.key}]\"  # type: ignore\n",
    "    # state['timestep'].astype(str_as_type, copy=False)\n",
    "\n",
    "    vel_stats = state[\"velocity\"].astype(\"float\").describe()\n",
    "\n",
    "    # 0~20km/h; 7~30km/h; 10~40km/h; 20~50km/h; ...\n",
    "    # average concept\n",
    "    # 10; 18; 25; 35; 45; 55; 65; 75; 85; 95; 105\n",
    "    #   13; 18; 22; 27; 32; 37; 42; 47; 52; 57; 62;\n",
    "    # here upper bound rule adopted\n",
    "    if vel_stats[\"max\"] < 20:\n",
    "        table_row_start = 0\n",
    "    elif vel_stats[\"max\"] < 30:\n",
    "        table_row_start = 1\n",
    "    elif vel_stats[\"max\"] < 120:\n",
    "        table_row_start = math.floor((vel_stats[\"max\"] - 30) / 10) + 2\n",
    "    else:\n",
    "        table_row_start = 16  # cycle higher than 120km/h!\n",
    "    # get the row of the table\n",
    "\n",
    "    return state, table_row_start"
   ]
  },
  {
   "cell_type": "code",
   "execution_count": null,
   "metadata": {},
   "outputs": [
    {
     "name": "stderr",
     "output_type": "stream",
     "text": [
      "2023-12-08 20:06:42.233027: I tensorflow/compiler/xla/stream_executor/cuda/cuda_gpu_executor.cc:894] successful NUMA node read from SysFS had negative value (-1), but there must be at least one NUMA node, so returning NUMA node zero. See more at https://github.com/torvalds/linux/blob/v6.0/Documentation/ABI/testing/sysfs-bus-pci#L344-L355\n",
      "2023-12-08 20:06:42.260295: I tensorflow/compiler/xla/stream_executor/cuda/cuda_gpu_executor.cc:894] successful NUMA node read from SysFS had negative value (-1), but there must be at least one NUMA node, so returning NUMA node zero. See more at https://github.com/torvalds/linux/blob/v6.0/Documentation/ABI/testing/sysfs-bus-pci#L344-L355\n",
      "2023-12-08 20:06:42.260537: I tensorflow/compiler/xla/stream_executor/cuda/cuda_gpu_executor.cc:894] successful NUMA node read from SysFS had negative value (-1), but there must be at least one NUMA node, so returning NUMA node zero. See more at https://github.com/torvalds/linux/blob/v6.0/Documentation/ABI/testing/sysfs-bus-pci#L344-L355\n"
     ]
    }
   ],
   "source": [
    "#| hide\n",
    "from data_io_nbdev.utils import generate_eos_df, generate_state"
   ]
  },
  {
   "cell_type": "code",
   "execution_count": null,
   "metadata": {},
   "outputs": [
    {
     "data": {
      "text/html": "<div>\n<style scoped>\n    .dataframe tbody tr th:only-of-type {\n        vertical-align: middle;\n    }\n\n    .dataframe tbody tr th {\n        vertical-align: top;\n    }\n\n    .dataframe thead tr th {\n        text-align: left;\n    }\n\n    .dataframe thead tr:last-of-type th {\n        text-align: right;\n    }\n</style>\n<table border=\"1\" class=\"dataframe\">\n  <thead>\n    <tr>\n      <th></th>\n      <th></th>\n      <th></th>\n      <th>rows</th>\n      <th colspan=\"4\" halign=\"left\">brake</th>\n      <th colspan=\"4\" halign=\"left\">thrust</th>\n      <th colspan=\"4\" halign=\"left\">timestep</th>\n      <th colspan=\"4\" halign=\"left\">velocity</th>\n    </tr>\n    <tr>\n      <th></th>\n      <th></th>\n      <th></th>\n      <th>idx</th>\n      <th>0</th>\n      <th>1</th>\n      <th>2</th>\n      <th>3</th>\n      <th>0</th>\n      <th>1</th>\n      <th>2</th>\n      <th>3</th>\n      <th>0</th>\n      <th>1</th>\n      <th>2</th>\n      <th>3</th>\n      <th>0</th>\n      <th>1</th>\n      <th>2</th>\n      <th>3</th>\n    </tr>\n    <tr>\n      <th>vehicle</th>\n      <th>driver</th>\n      <th>episodestart</th>\n      <th>timestamp</th>\n      <th></th>\n      <th></th>\n      <th></th>\n      <th></th>\n      <th></th>\n      <th></th>\n      <th></th>\n      <th></th>\n      <th></th>\n      <th></th>\n      <th></th>\n      <th></th>\n      <th></th>\n      <th></th>\n      <th></th>\n      <th></th>\n    </tr>\n  </thead>\n  <tbody>\n    <tr>\n      <th rowspan=\"5\" valign=\"top\">VB7</th>\n      <th rowspan=\"5\" valign=\"top\">wang-cheng</th>\n      <th rowspan=\"5\" valign=\"top\">2023-12-08 20:06:42.415823</th>\n      <th>2023-12-08 21:06:42.387738</th>\n      <td>8.0</td>\n      <td>9.0</td>\n      <td>10.0</td>\n      <td>11.0</td>\n      <td>4.0</td>\n      <td>5.0</td>\n      <td>6.0</td>\n      <td>7.0</td>\n      <td>2023-12-08 20:06:42.388113</td>\n      <td>2023-12-08 20:06:42.408113</td>\n      <td>2023-12-08 20:06:42.428113</td>\n      <td>2023-12-08 20:06:42.448113</td>\n      <td>0.0</td>\n      <td>1.0</td>\n      <td>2.0</td>\n      <td>3.0</td>\n    </tr>\n    <tr>\n      <th>2023-12-08 22:06:42.387738</th>\n      <td>8.0</td>\n      <td>9.0</td>\n      <td>10.0</td>\n      <td>11.0</td>\n      <td>4.0</td>\n      <td>5.0</td>\n      <td>6.0</td>\n      <td>7.0</td>\n      <td>2023-12-08 20:06:42.388113</td>\n      <td>2023-12-08 20:06:42.408113</td>\n      <td>2023-12-08 20:06:42.428113</td>\n      <td>2023-12-08 20:06:42.448113</td>\n      <td>0.0</td>\n      <td>1.0</td>\n      <td>2.0</td>\n      <td>3.0</td>\n    </tr>\n    <tr>\n      <th>2023-12-08 23:06:42.387738</th>\n      <td>8.0</td>\n      <td>9.0</td>\n      <td>10.0</td>\n      <td>11.0</td>\n      <td>4.0</td>\n      <td>5.0</td>\n      <td>6.0</td>\n      <td>7.0</td>\n      <td>2023-12-08 20:06:42.388113</td>\n      <td>2023-12-08 20:06:42.408113</td>\n      <td>2023-12-08 20:06:42.428113</td>\n      <td>2023-12-08 20:06:42.448113</td>\n      <td>0.0</td>\n      <td>1.0</td>\n      <td>2.0</td>\n      <td>3.0</td>\n    </tr>\n    <tr>\n      <th>2023-12-09 00:06:42.387738</th>\n      <td>8.0</td>\n      <td>9.0</td>\n      <td>10.0</td>\n      <td>11.0</td>\n      <td>4.0</td>\n      <td>5.0</td>\n      <td>6.0</td>\n      <td>7.0</td>\n      <td>2023-12-08 20:06:42.388113</td>\n      <td>2023-12-08 20:06:42.408113</td>\n      <td>2023-12-08 20:06:42.428113</td>\n      <td>2023-12-08 20:06:42.448113</td>\n      <td>0.0</td>\n      <td>1.0</td>\n      <td>2.0</td>\n      <td>3.0</td>\n    </tr>\n    <tr>\n      <th>2023-12-09 01:06:42.387738</th>\n      <td>8.0</td>\n      <td>9.0</td>\n      <td>10.0</td>\n      <td>11.0</td>\n      <td>4.0</td>\n      <td>5.0</td>\n      <td>6.0</td>\n      <td>7.0</td>\n      <td>2023-12-08 20:06:42.388113</td>\n      <td>2023-12-08 20:06:42.408113</td>\n      <td>2023-12-08 20:06:42.428113</td>\n      <td>2023-12-08 20:06:42.448113</td>\n      <td>0.0</td>\n      <td>1.0</td>\n      <td>2.0</td>\n      <td>3.0</td>\n    </tr>\n  </tbody>\n</table>\n</div>",
      "text/plain": "rows                                                                     brake  \\\nidx                                                                          0   \nvehicle driver     episodestart               timestamp                          \nVB7     wang-cheng 2023-12-08 20:06:42.415823 2023-12-08 21:06:42.387738   8.0   \n                                              2023-12-08 22:06:42.387738   8.0   \n                                              2023-12-08 23:06:42.387738   8.0   \n                                              2023-12-09 00:06:42.387738   8.0   \n                                              2023-12-09 01:06:42.387738   8.0   \n\nrows                                                                           \\\nidx                                                                         1   \nvehicle driver     episodestart               timestamp                         \nVB7     wang-cheng 2023-12-08 20:06:42.415823 2023-12-08 21:06:42.387738  9.0   \n                                              2023-12-08 22:06:42.387738  9.0   \n                                              2023-12-08 23:06:42.387738  9.0   \n                                              2023-12-09 00:06:42.387738  9.0   \n                                              2023-12-09 01:06:42.387738  9.0   \n\nrows                                                                            \\\nidx                                                                          2   \nvehicle driver     episodestart               timestamp                          \nVB7     wang-cheng 2023-12-08 20:06:42.415823 2023-12-08 21:06:42.387738  10.0   \n                                              2023-12-08 22:06:42.387738  10.0   \n                                              2023-12-08 23:06:42.387738  10.0   \n                                              2023-12-09 00:06:42.387738  10.0   \n                                              2023-12-09 01:06:42.387738  10.0   \n\nrows                                                                            \\\nidx                                                                          3   \nvehicle driver     episodestart               timestamp                          \nVB7     wang-cheng 2023-12-08 20:06:42.415823 2023-12-08 21:06:42.387738  11.0   \n                                              2023-12-08 22:06:42.387738  11.0   \n                                              2023-12-08 23:06:42.387738  11.0   \n                                              2023-12-09 00:06:42.387738  11.0   \n                                              2023-12-09 01:06:42.387738  11.0   \n\nrows                                                                     thrust  \\\nidx                                                                           0   \nvehicle driver     episodestart               timestamp                           \nVB7     wang-cheng 2023-12-08 20:06:42.415823 2023-12-08 21:06:42.387738    4.0   \n                                              2023-12-08 22:06:42.387738    4.0   \n                                              2023-12-08 23:06:42.387738    4.0   \n                                              2023-12-09 00:06:42.387738    4.0   \n                                              2023-12-09 01:06:42.387738    4.0   \n\nrows                                                                           \\\nidx                                                                         1   \nvehicle driver     episodestart               timestamp                         \nVB7     wang-cheng 2023-12-08 20:06:42.415823 2023-12-08 21:06:42.387738  5.0   \n                                              2023-12-08 22:06:42.387738  5.0   \n                                              2023-12-08 23:06:42.387738  5.0   \n                                              2023-12-09 00:06:42.387738  5.0   \n                                              2023-12-09 01:06:42.387738  5.0   \n\nrows                                                                           \\\nidx                                                                         2   \nvehicle driver     episodestart               timestamp                         \nVB7     wang-cheng 2023-12-08 20:06:42.415823 2023-12-08 21:06:42.387738  6.0   \n                                              2023-12-08 22:06:42.387738  6.0   \n                                              2023-12-08 23:06:42.387738  6.0   \n                                              2023-12-09 00:06:42.387738  6.0   \n                                              2023-12-09 01:06:42.387738  6.0   \n\nrows                                                                           \\\nidx                                                                         3   \nvehicle driver     episodestart               timestamp                         \nVB7     wang-cheng 2023-12-08 20:06:42.415823 2023-12-08 21:06:42.387738  7.0   \n                                              2023-12-08 22:06:42.387738  7.0   \n                                              2023-12-08 23:06:42.387738  7.0   \n                                              2023-12-09 00:06:42.387738  7.0   \n                                              2023-12-09 01:06:42.387738  7.0   \n\nrows                                                                                        timestep  \\\nidx                                                                                                0   \nvehicle driver     episodestart               timestamp                                                \nVB7     wang-cheng 2023-12-08 20:06:42.415823 2023-12-08 21:06:42.387738  2023-12-08 20:06:42.388113   \n                                              2023-12-08 22:06:42.387738  2023-12-08 20:06:42.388113   \n                                              2023-12-08 23:06:42.387738  2023-12-08 20:06:42.388113   \n                                              2023-12-09 00:06:42.387738  2023-12-08 20:06:42.388113   \n                                              2023-12-09 01:06:42.387738  2023-12-08 20:06:42.388113   \n\nrows                                                                                                  \\\nidx                                                                                                1   \nvehicle driver     episodestart               timestamp                                                \nVB7     wang-cheng 2023-12-08 20:06:42.415823 2023-12-08 21:06:42.387738  2023-12-08 20:06:42.408113   \n                                              2023-12-08 22:06:42.387738  2023-12-08 20:06:42.408113   \n                                              2023-12-08 23:06:42.387738  2023-12-08 20:06:42.408113   \n                                              2023-12-09 00:06:42.387738  2023-12-08 20:06:42.408113   \n                                              2023-12-09 01:06:42.387738  2023-12-08 20:06:42.408113   \n\nrows                                                                                                  \\\nidx                                                                                                2   \nvehicle driver     episodestart               timestamp                                                \nVB7     wang-cheng 2023-12-08 20:06:42.415823 2023-12-08 21:06:42.387738  2023-12-08 20:06:42.428113   \n                                              2023-12-08 22:06:42.387738  2023-12-08 20:06:42.428113   \n                                              2023-12-08 23:06:42.387738  2023-12-08 20:06:42.428113   \n                                              2023-12-09 00:06:42.387738  2023-12-08 20:06:42.428113   \n                                              2023-12-09 01:06:42.387738  2023-12-08 20:06:42.428113   \n\nrows                                                                                                  \\\nidx                                                                                                3   \nvehicle driver     episodestart               timestamp                                                \nVB7     wang-cheng 2023-12-08 20:06:42.415823 2023-12-08 21:06:42.387738  2023-12-08 20:06:42.448113   \n                                              2023-12-08 22:06:42.387738  2023-12-08 20:06:42.448113   \n                                              2023-12-08 23:06:42.387738  2023-12-08 20:06:42.448113   \n                                              2023-12-09 00:06:42.387738  2023-12-08 20:06:42.448113   \n                                              2023-12-09 01:06:42.387738  2023-12-08 20:06:42.448113   \n\nrows                                                                     velocity  \\\nidx                                                                             0   \nvehicle driver     episodestart               timestamp                             \nVB7     wang-cheng 2023-12-08 20:06:42.415823 2023-12-08 21:06:42.387738      0.0   \n                                              2023-12-08 22:06:42.387738      0.0   \n                                              2023-12-08 23:06:42.387738      0.0   \n                                              2023-12-09 00:06:42.387738      0.0   \n                                              2023-12-09 01:06:42.387738      0.0   \n\nrows                                                                           \\\nidx                                                                         1   \nvehicle driver     episodestart               timestamp                         \nVB7     wang-cheng 2023-12-08 20:06:42.415823 2023-12-08 21:06:42.387738  1.0   \n                                              2023-12-08 22:06:42.387738  1.0   \n                                              2023-12-08 23:06:42.387738  1.0   \n                                              2023-12-09 00:06:42.387738  1.0   \n                                              2023-12-09 01:06:42.387738  1.0   \n\nrows                                                                           \\\nidx                                                                         2   \nvehicle driver     episodestart               timestamp                         \nVB7     wang-cheng 2023-12-08 20:06:42.415823 2023-12-08 21:06:42.387738  2.0   \n                                              2023-12-08 22:06:42.387738  2.0   \n                                              2023-12-08 23:06:42.387738  2.0   \n                                              2023-12-09 00:06:42.387738  2.0   \n                                              2023-12-09 01:06:42.387738  2.0   \n\nrows                                                                           \nidx                                                                         3  \nvehicle driver     episodestart               timestamp                        \nVB7     wang-cheng 2023-12-08 20:06:42.415823 2023-12-08 21:06:42.387738  3.0  \n                                              2023-12-08 22:06:42.387738  3.0  \n                                              2023-12-08 23:06:42.387738  3.0  \n                                              2023-12-09 00:06:42.387738  3.0  \n                                              2023-12-09 01:06:42.387738  3.0  "
     },
     "execution_count": null,
     "metadata": {},
     "output_type": "execute_result"
    }
   ],
   "source": [
    "#| hide\n",
    "df = generate_eos_df()\n",
    "df[\"state\"]"
   ]
  },
  {
   "cell_type": "code",
   "execution_count": null,
   "metadata": {},
   "outputs": [
    {
     "data": {
      "text/html": "<div>\n<style scoped>\n    .dataframe tbody tr th:only-of-type {\n        vertical-align: middle;\n    }\n\n    .dataframe tbody tr th {\n        vertical-align: top;\n    }\n\n    .dataframe thead th {\n        text-align: right;\n    }\n</style>\n<table border=\"1\" class=\"dataframe\">\n  <thead>\n    <tr style=\"text-align: right;\">\n      <th></th>\n      <th>timestep</th>\n      <th>velocity</th>\n      <th>thrust</th>\n      <th>brake</th>\n    </tr>\n  </thead>\n  <tbody>\n    <tr>\n      <th>0</th>\n      <td>2023-12-08T20:06:42.388113000</td>\n      <td>0.0</td>\n      <td>4.0</td>\n      <td>8.0</td>\n    </tr>\n    <tr>\n      <th>1</th>\n      <td>2023-12-08T20:06:42.408113000</td>\n      <td>1.0</td>\n      <td>5.0</td>\n      <td>9.0</td>\n    </tr>\n    <tr>\n      <th>2</th>\n      <td>2023-12-08T20:06:42.428113000</td>\n      <td>2.0</td>\n      <td>6.0</td>\n      <td>10.0</td>\n    </tr>\n    <tr>\n      <th>3</th>\n      <td>2023-12-08T20:06:42.448113000</td>\n      <td>3.0</td>\n      <td>7.0</td>\n      <td>11.0</td>\n    </tr>\n  </tbody>\n</table>\n</div>",
      "text/plain": "                        timestep velocity thrust brake\n0  2023-12-08T20:06:42.388113000      0.0    4.0   8.0\n1  2023-12-08T20:06:42.408113000      1.0    5.0   9.0\n2  2023-12-08T20:06:42.428113000      2.0    6.0  10.0\n3  2023-12-08T20:06:42.448113000      3.0    7.0  11.0"
     },
     "execution_count": null,
     "metadata": {},
     "output_type": "execute_result"
    }
   ],
   "source": [
    "#| hide\n",
    "state = df['state'][[\"timestep\", \"velocity\", \"thrust\", \"brake\"]].iloc[0]\n",
    "# state = df['state'][\"timestep\"]\n",
    "# state[\"timestep\"].values\n",
    "state = pd.DataFrame([state[\"timestep\"].values, state[\"velocity\"].values, state[\"thrust\"].values, state[\"brake\"].values]).T\n",
    "state.columns = [\"timestep\", \"velocity\", \"thrust\", \"brake\"]\n",
    "state"
   ]
  },
  {
   "cell_type": "code",
   "execution_count": null,
   "metadata": {},
   "outputs": [
    {
     "data": {
      "text/plain": "rows      idx\nbrake     0                                8.0\n          1                                9.0\n          2                               10.0\n          3                               11.0\nthrust    0                                4.0\n          1                                5.0\n          2                                6.0\n          3                                7.0\ntimestep  0      2023-12-08T20:06:42.388113000\n          1      2023-12-08T20:06:42.408113000\n          2      2023-12-08T20:06:42.428113000\n          3      2023-12-08T20:06:42.448113000\nvelocity  0                                0.0\n          1                                1.0\n          2                                2.0\n          3                                3.0\nName: state, dtype: object"
     },
     "execution_count": null,
     "metadata": {},
     "output_type": "execute_result"
    }
   ],
   "source": [
    "#| hide\n",
    "state_ser = state.stack().swaplevel(0, 1)\n",
    "state_ser.name = \"state\"\n",
    "state_ser.index.names = [\"rows\", \"idx\"]\n",
    "state_ser.sort_index(inplace=True)\n",
    "state_ser"
   ]
  },
  {
   "cell_type": "code",
   "execution_count": null,
   "metadata": {},
   "outputs": [],
   "source": [
    "#| hide\n",
    "tz = ZoneInfo(\"Asia/Shanghai\")\n",
    "# state = df['state'].stack\n",
    "ser_state, row_start = assemble_state_ser(state, tz)"
   ]
  },
  {
   "cell_type": "code",
   "execution_count": null,
   "metadata": {},
   "outputs": [
    {
     "data": {
      "text/plain": "rows      idx\nbrake     0                                8.0\n          1                                9.0\n          2                               10.0\n          3                               11.0\nthrust    0                                4.0\n          1                                5.0\n          2                                6.0\n          3                                7.0\ntimestep  0      2023-12-08T20:06:42.388113000\n          1      2023-12-08T20:06:42.408113000\n          2      2023-12-08T20:06:42.428113000\n          3      2023-12-08T20:06:42.448113000\nvelocity  0                                0.0\n          1                                1.0\n          2                                2.0\n          3                                3.0\nName: state, dtype: object"
     },
     "execution_count": null,
     "metadata": {},
     "output_type": "execute_result"
    }
   ],
   "source": [
    "#| hide\n",
    "assemble_state_ser(state, tz)[0]"
   ]
  },
  {
   "cell_type": "code",
   "execution_count": null,
   "metadata": {},
   "outputs": [],
   "source": [
    "assert assemble_state_ser(state, tz)[1] == 0"
   ]
  },
  {
   "cell_type": "code",
   "execution_count": null,
   "metadata": {},
   "outputs": [],
   "source": [
    "assert isinstance(assemble_state_ser(state, tz)[0], pd.Series) == True"
   ]
  },
  {
   "cell_type": "code",
   "execution_count": null,
   "metadata": {},
   "outputs": [],
   "source": [
    "from fastcore.test import *"
   ]
  },
  {
   "cell_type": "code",
   "execution_count": null,
   "metadata": {},
   "outputs": [],
   "source": [
    "test_eq(isinstance(assemble_state_ser(state, tz)[0], pd.Series), True)"
   ]
  },
  {
   "cell_type": "code",
   "execution_count": null,
   "metadata": {},
   "outputs": [],
   "source": [
    "#| hide\n",
    "import nbdev; nbdev.nbdev_export()"
   ]
  }
 ],
 "metadata": {
  "kernelspec": {
   "display_name": "python3",
   "language": "python",
   "name": "python3"
  }
 },
 "nbformat": 4,
 "nbformat_minor": 4
}
