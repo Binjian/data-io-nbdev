{
 "cells": [
  {
   "cell_type": "markdown",
   "id": "37de43294f43e9f0",
   "metadata": {},
   "source": [
    "# database \n",
    "\n",
    "> database configurations "
   ]
  },
  {
   "cell_type": "code",
   "execution_count": null,
   "id": "920020c6b8d8c171",
   "metadata": {},
   "outputs": [],
   "source": [
    "#| default_exp config.db"
   ]
  },
  {
   "cell_type": "code",
   "execution_count": null,
   "id": "ca3bde3a7b1be6c8",
   "metadata": {},
   "outputs": [],
   "source": [
    "#| export\n",
    "from __future__ import annotations\n",
    "import re\n",
    "from collections import namedtuple"
   ]
  },
  {
   "cell_type": "code",
   "execution_count": null,
   "id": "8b0c8de51b67b2da",
   "metadata": {},
   "outputs": [],
   "source": [
    "#| export\n",
    "# Define TypedDict for type hinting of typed collections: records and episodes\n",
    "RE_DB_KEY = r\"^[A-Za-z]\\w*:\\w+@\\d{1,3}\\.\\d{1,3}\\.\\d{1,3}\\.\\d{1,3}:\\d{1,5}\""
   ]
  },
  {
   "cell_type": "code",
   "execution_count": null,
   "id": "380c54e0e38defbb",
   "metadata": {},
   "outputs": [],
   "source": [
    "#| export\n",
    "DBConfig = namedtuple(\n",
    "    \"DBConfig\",\n",
    "    [\n",
    "        \"server_name\",  # name of the server\n",
    "        \"database_name\",  # name of the database\n",
    "        \"collection_name\",  # name of the collection\n",
    "        \"host\",  # host name for the database server\n",
    "        \"port\",  # port for the database server\n",
    "        \"user_name\",  # username for the database server\n",
    "        \"password\",  # password for the database server\n",
    "        \"proxy\",  # proxy for the database server\n",
    "        \"type\",  # type of the collection # : Record or Episode, default as RECORD, can be changed to EPISODE at runtime\n",
    "    ],\n",
    ")"
   ]
  },
  {
   "cell_type": "code",
   "execution_count": null,
   "id": "2b1ca007d1c88e34",
   "metadata": {},
   "outputs": [],
   "source": [
    "#| export\n",
    "db_config_list = [\n",
    "    DBConfig(\n",
    "        server_name=\"default\",  # name of the database\n",
    "        database_name=\"eos\",  # name of the database\n",
    "        collection_name=\"coll_records\",  # name of the collection\n",
    "        host=\"127.0.0.1\",  # url for the database server\n",
    "        port=\"27017\",  # port for the database server\n",
    "        user_name=\"\",  # username for the database server\n",
    "        password=\"\",  # password for the database server\n",
    "        proxy=\"\",  # proxy for the database server\n",
    "        type=\"RECORD\",\n",
    "    ),\n",
    "    DBConfig(\n",
    "        server_name=\"mongo_local\",  # name of the database\n",
    "        database_name=\"eos_dill\",  # name of the database\n",
    "        collection_name=\"coll_episodes\",  # name of the collection\n",
    "        host=\"127.0.0.1\",  # url for the database server\n",
    "        port=\"27017\",  # port for the database server\n",
    "        user_name=\"\",  # username for the database server\n",
    "        password=\"\",  # password for the database server\n",
    "        proxy=\"\",  # proxy for the database server\n",
    "        type=\"RECORD\",\n",
    "    ),\n",
    "    DBConfig(\n",
    "        server_name=\"mongo_record\",  # name of the database\n",
    "        database_name=\"eos_dill\",  # name of the database\n",
    "        collection_name=\"coll_record_zone2\",  # name of the collection\n",
    "        host=\"127.0.0.1\",  # url for the database server\n",
    "        port=\"27017\",  # port for the database server\n",
    "        user_name=\"\",  # username for the database server\n",
    "        password=\"\",  # password for the database server\n",
    "        proxy=\"\",  # proxy for the database server\n",
    "        type=\"RECORD\",\n",
    "    ),\n",
    "    DBConfig(\n",
    "        server_name=\"mongo_episode\",  # name of the database\n",
    "        database_name=\"eos\",  # name of the database\n",
    "        collection_name=\"coll_episode\",  # name of the collection\n",
    "        host=\"127.0.0.1\",  # url for the database server\n",
    "        port=\"27017\",  # port for the database server\n",
    "        user_name=\"\",  # username for the database server\n",
    "        password=\"\",  # password for the database server\n",
    "        proxy=\"\",  # proxy for the database server\n",
    "        type=\"EPISODE\",\n",
    "    ),\n",
    "    DBConfig(\n",
    "        server_name=\"mongo_episode_road\",  # name of the database\n",
    "        database_name=\"eos\",  # name of the database\n",
    "        collection_name=\"coll_episode_road\",  # name of the collection\n",
    "        host=\"127.0.0.1\",  # url for the database server\n",
    "        port=\"27017\",  # port for the database server\n",
    "        user_name=\"\",  # username for the database server\n",
    "        password=\"\",  # password for the database server\n",
    "        proxy=\"\",  # proxy for the database server\n",
    "        type=\"EPISODE\",\n",
    "    ),\n",
    "    DBConfig(\n",
    "        server_name=\"mongo_ivy\",  # name of the database\n",
    "        database_name=\"eos\",  # name of the database\n",
    "        collection_name=\"collection\",  # name of the collection\n",
    "        host=\"10.10.10.31\",  # url for the database server\n",
    "        port=\"27017\",  # port for the database server\n",
    "        user_name=\"\",  # username for the database server\n",
    "        password=\"\",  # password for the database server\n",
    "        proxy=\"\",  # proxy for the database server\n",
    "        type=\"RECORD\",\n",
    "    ),\n",
    "    DBConfig(\n",
    "        server_name=\"mongo_dill\",  # name of the database\n",
    "        database_name=\"eos\",  # name of the database\n",
    "        collection_name=\"collection\",  # name of the collection\n",
    "        host=\"10.10.10.23\",  # url for the database server\n",
    "        port=\"27017\",  # port for the database server\n",
    "        user_name=\"\",  # username for the database server\n",
    "        password=\"\",  # password for the database server\n",
    "        proxy=\"\",  # proxy for the database server\n",
    "        type=\"RECORD\",\n",
    "    ),\n",
    "    DBConfig(\n",
    "        server_name=\"mongo_intra_sloppy\",  # name of the database\n",
    "        database_name=\"eos\",  # name of the database\n",
    "        collection_name=\"collection\",  # name of the collection\n",
    "        host=\"10.0.64.64\",  # url for the database server\n",
    "        port=\"30116\",  # port for the database server\n",
    "        user_name=\"root\",  # username for the database server\n",
    "        password=\"Newrizon123\",  # password for the database server\n",
    "        proxy=\"\",  # proxy for the database server\n",
    "        type=\"RECORD\",\n",
    "    ),\n",
    "    DBConfig(\n",
    "        server_name=\"mongo_cloud\",  # name of the database\n",
    "        database_name=\"eos\",  # name of the database\n",
    "        collection_name=\"collection\",  # name of the collection\n",
    "        host=\"10.10.0.7\",  # url for the database server\n",
    "        port=\"30116\",  # port for the database server\n",
    "        user_name=\"\",  # username for the database server\n",
    "        password=\"\",  # password for the database server\n",
    "        proxy=\"\",  # proxy for the database server\n",
    "        type=\"RECORD\",\n",
    "    ),\n",
    "    DBConfig(\n",
    "        server_name=\"mongo_cluster\",  # name of the database\n",
    "        database_name=\"eos\",  # name of the database\n",
    "        collection_name=\"collection\",  # name of the collection\n",
    "        host=\"10.10.0.4\",  # url for the database server\n",
    "        port=\"23000\",  # port for the database server\n",
    "        user_name=\"admin\",  # username for the database server\n",
    "        password=\"ty02ydhVqDj3QFjT\",  # password for the database server\n",
    "        proxy=\"\",  # proxy for the database server\n",
    "        type=\"RECORD\",\n",
    "    ),\n",
    "    DBConfig(\n",
    "        server_name=\"mongo_cluster_intra\",  # name of the database\n",
    "        database_name=\"eos\",  # name of the database\n",
    "        collection_name=\"collection\",  # name of the collection\n",
    "        host=\"10.0.48.115\",  # url for the database server\n",
    "        port=\"23000\",  # port for the database server\n",
    "        user_name=\"admin\",  # username for the database server\n",
    "        password=\"ty02ydhVqDj3QFjT\",  # password for the database server\n",
    "        proxy=\"\",  # proxy for the database server\n",
    "        type=\"RECORD\",\n",
    "    ),\n",
    "    DBConfig(\n",
    "        server_name=\"hostdb\",  # name of the database, in the same bridge network of the docker host\n",
    "        database_name=\"eos\",  # name of the database\n",
    "        collection_name=\"collection\",  # name of the collection\n",
    "        host=\"hostdb\",  # url for the database server\n",
    "        port=\"27017\",  # port for the database server\n",
    "        user_name=\"\",  # username for the database server\n",
    "        password=\"\",  # password for the database server\n",
    "        proxy=\"\",  # proxy for the database server\n",
    "        type=\"RECORD\",\n",
    "    ),\n",
    "]"
   ]
  },
  {
   "cell_type": "code",
   "execution_count": null,
   "id": "2ccc5a982822ae4b",
   "metadata": {},
   "outputs": [],
   "source": [
    "#| hide\n",
    "from pprint import pprint"
   ]
  },
  {
   "cell_type": "code",
   "execution_count": null,
   "id": "877ebc1b0a748747",
   "metadata": {},
   "outputs": [],
   "source": [
    "#| hide\n",
    "from pprint import pprint"
   ]
  },
  {
   "cell_type": "code",
   "execution_count": null,
   "id": "877ebc1b0a748747",
   "metadata": {},
   "outputs": [
    {
     "name": "stdout",
     "output_type": "stream",
     "text": [
      "[DBConfig(server_name='default', database_name='eos', collection_name='coll_records', host='127.0.0.1', port='27017', user_name='', password='', proxy='', type='RECORD'),\n",
      " DBConfig(server_name='mongo_local', database_name='eos_dill', collection_name='coll_episodes', host='127.0.0.1', port='27017', user_name='', password='', proxy='', type='RECORD'),\n",
      " DBConfig(server_name='mongo_record', database_name='eos_dill', collection_name='coll_record_zone2', host='127.0.0.1', port='27017', user_name='', password='', proxy='', type='RECORD'),\n",
      " DBConfig(server_name='mongo_episode', database_name='eos', collection_name='coll_episode', host='127.0.0.1', port='27017', user_name='', password='', proxy='', type='EPISODE'),\n",
      " DBConfig(server_name='mongo_episode_road', database_name='eos', collection_name='coll_episode_road', host='127.0.0.1', port='27017', user_name='', password='', proxy='', type='EPISODE'),\n",
      " DBConfig(server_name='mongo_ivy', database_name='eos', collection_name='collection', host='10.10.10.31', port='27017', user_name='', password='', proxy='', type='RECORD'),\n",
      " DBConfig(server_name='mongo_dill', database_name='eos', collection_name='collection', host='10.10.10.23', port='27017', user_name='', password='', proxy='', type='RECORD'),\n",
      " DBConfig(server_name='mongo_intra_sloppy', database_name='eos', collection_name='collection', host='10.0.64.64', port='30116', user_name='root', password='Newrizon123', proxy='', type='RECORD'),\n",
      " DBConfig(server_name='mongo_cloud', database_name='eos', collection_name='collection', host='10.10.0.7', port='30116', user_name='', password='', proxy='', type='RECORD'),\n",
      " DBConfig(server_name='mongo_cluster', database_name='eos', collection_name='collection', host='10.10.0.4', port='23000', user_name='admin', password='ty02ydhVqDj3QFjT', proxy='', type='RECORD'),\n",
      " DBConfig(server_name='mongo_cluster_intra', database_name='eos', collection_name='collection', host='10.0.48.115', port='23000', user_name='admin', password='ty02ydhVqDj3QFjT', proxy='', type='RECORD'),\n",
      " DBConfig(server_name='hostdb', database_name='eos', collection_name='collection', host='hostdb', port='27017', user_name='', password='', proxy='', type='RECORD')]\n"
     ]
    }
   ],
   "source": [
    "#| output: true\n",
    "pprint(db_config_list)"
   ]
  },
  {
   "cell_type": "code",
   "execution_count": null,
   "id": "f857aa58dfdc4ce5",
   "metadata": {},
   "outputs": [],
   "source": [
    "#| export\n",
    "db_config_servers_by_name = dict(\n",
    "    zip([db_config.server_name for db_config in db_config_list], db_config_list)\n",
    ")\n",
    "db_config_servers_by_host = dict(\n",
    "    zip([db_config.host for db_config in db_config_list], db_config_list)\n",
    ")"
   ]
  },
  {
   "cell_type": "code",
   "execution_count": null,
   "id": "49a7988d74ad5f34",
   "metadata": {},
   "outputs": [
    {
     "name": "stdout",
     "output_type": "stream",
     "text": [
      "{'default': DBConfig(server_name='default', database_name='eos', collection_name='coll_records', host='127.0.0.1', port='27017', user_name='', password='', proxy='', type='RECORD'),\n",
      " 'hostdb': DBConfig(server_name='hostdb', database_name='eos', collection_name='collection', host='hostdb', port='27017', user_name='', password='', proxy='', type='RECORD'),\n",
      " 'mongo_cloud': DBConfig(server_name='mongo_cloud', database_name='eos', collection_name='collection', host='10.10.0.7', port='30116', user_name='', password='', proxy='', type='RECORD'),\n",
      " 'mongo_cluster': DBConfig(server_name='mongo_cluster', database_name='eos', collection_name='collection', host='10.10.0.4', port='23000', user_name='admin', password='ty02ydhVqDj3QFjT', proxy='', type='RECORD'),\n",
      " 'mongo_cluster_intra': DBConfig(server_name='mongo_cluster_intra', database_name='eos', collection_name='collection', host='10.0.48.115', port='23000', user_name='admin', password='ty02ydhVqDj3QFjT', proxy='', type='RECORD'),\n",
      " 'mongo_dill': DBConfig(server_name='mongo_dill', database_name='eos', collection_name='collection', host='10.10.10.23', port='27017', user_name='', password='', proxy='', type='RECORD'),\n",
      " 'mongo_episode': DBConfig(server_name='mongo_episode', database_name='eos', collection_name='coll_episode', host='127.0.0.1', port='27017', user_name='', password='', proxy='', type='EPISODE'),\n",
      " 'mongo_episode_road': DBConfig(server_name='mongo_episode_road', database_name='eos', collection_name='coll_episode_road', host='127.0.0.1', port='27017', user_name='', password='', proxy='', type='EPISODE'),\n",
      " 'mongo_intra_sloppy': DBConfig(server_name='mongo_intra_sloppy', database_name='eos', collection_name='collection', host='10.0.64.64', port='30116', user_name='root', password='Newrizon123', proxy='', type='RECORD'),\n",
      " 'mongo_ivy': DBConfig(server_name='mongo_ivy', database_name='eos', collection_name='collection', host='10.10.10.31', port='27017', user_name='', password='', proxy='', type='RECORD'),\n",
      " 'mongo_local': DBConfig(server_name='mongo_local', database_name='eos_dill', collection_name='coll_episodes', host='127.0.0.1', port='27017', user_name='', password='', proxy='', type='RECORD'),\n",
      " 'mongo_record': DBConfig(server_name='mongo_record', database_name='eos_dill', collection_name='coll_record_zone2', host='127.0.0.1', port='27017', user_name='', password='', proxy='', type='RECORD')}\n"
     ]
    }
   ],
   "source": [
    "#| output: true\n",
    "pprint(db_config_servers_by_name)"
   ]
  },
  {
   "cell_type": "code",
   "execution_count": null,
   "id": "7332ac187e0762e7",
   "metadata": {},
   "outputs": [
    {
     "name": "stdout",
     "output_type": "stream",
     "text": [
      "{'10.0.48.115': DBConfig(server_name='mongo_cluster_intra', database_name='eos', collection_name='collection', host='10.0.48.115', port='23000', user_name='admin', password='ty02ydhVqDj3QFjT', proxy='', type='RECORD'),\n",
      " '10.0.64.64': DBConfig(server_name='mongo_intra_sloppy', database_name='eos', collection_name='collection', host='10.0.64.64', port='30116', user_name='root', password='Newrizon123', proxy='', type='RECORD'),\n",
      " '10.10.0.4': DBConfig(server_name='mongo_cluster', database_name='eos', collection_name='collection', host='10.10.0.4', port='23000', user_name='admin', password='ty02ydhVqDj3QFjT', proxy='', type='RECORD'),\n",
      " '10.10.0.7': DBConfig(server_name='mongo_cloud', database_name='eos', collection_name='collection', host='10.10.0.7', port='30116', user_name='', password='', proxy='', type='RECORD'),\n",
      " '10.10.10.23': DBConfig(server_name='mongo_dill', database_name='eos', collection_name='collection', host='10.10.10.23', port='27017', user_name='', password='', proxy='', type='RECORD'),\n",
      " '10.10.10.31': DBConfig(server_name='mongo_ivy', database_name='eos', collection_name='collection', host='10.10.10.31', port='27017', user_name='', password='', proxy='', type='RECORD'),\n",
      " '127.0.0.1': DBConfig(server_name='mongo_episode_road', database_name='eos', collection_name='coll_episode_road', host='127.0.0.1', port='27017', user_name='', password='', proxy='', type='EPISODE'),\n",
      " 'hostdb': DBConfig(server_name='hostdb', database_name='eos', collection_name='collection', host='hostdb', port='27017', user_name='', password='', proxy='', type='RECORD')}\n"
     ]
    }
   ],
   "source": [
    "#| output: true\n",
    "pprint(db_config_servers_by_host)"
   ]
  },
  {
   "cell_type": "code",
   "execution_count": null,
   "id": "d7572efca7b4978a",
   "metadata": {},
   "outputs": [],
   "source": [
    "#| export\n",
    "def get_db_config(\n",
    "    db_key: str,  # string for db server name or format \"usr:password@host:port\"\n",
    ") -> DBConfig:  # DBConfig object\n",
    "    \"\"\"Get the db config.\n",
    "\n",
    "    Args:\n",
    "        db_key (str): string for db server name or format \"usr:password@host:port\"\n",
    "\n",
    "    Returns:\n",
    "        dict: db_config\n",
    "    \"\"\"\n",
    "\n",
    "    # p is the validation pattern for pool_key as mongodb login string \"usr:password@host:port\"\n",
    "    login_p = re.compile(RE_DB_KEY)\n",
    "    assert \"mongo\" in db_key or login_p.match(db_key), (\n",
    "        f\"Wrong format for db key {db_key}! \"\n",
    "        'It should be either the name of the db server (containing substring \"mongo\") or '\n",
    "        'the format \"usr:password@host:port\"'\n",
    "    )\n",
    "\n",
    "    # db_config = DBConfig()\n",
    "    if \"mongo\" in db_key.lower():\n",
    "        db_config = db_config_servers_by_name.get(db_key)\n",
    "        assert db_config is not None, f\"No database found for db_key {db_key}!\"\n",
    "    else:\n",
    "        # if not given as name then parse the format \"usr:password@host:port\"\n",
    "        account_server = [s.split(\":\") for s in db_key.split(\"@\")]\n",
    "        flat_account_server = [s for sg in account_server for s in sg]\n",
    "        assert (len(account_server) == 1 and len(flat_account_server) == 2) or (\n",
    "            len(account_server) == 2 and len(flat_account_server) == 4\n",
    "        ), f\"Wrong format for db key {db_key}!\"\n",
    "        if len(account_server) == 1:\n",
    "            db_config = db_config_servers_by_host.get(flat_account_server[0])\n",
    "            assert (\n",
    "                db_config is not None and db_config.port == flat_account_server[1]\n",
    "            ), f\"Config mismatch for db key {db_key}!\"\n",
    "\n",
    "        else:\n",
    "            db_config = db_config_servers_by_host.get(flat_account_server[2])\n",
    "            assert (\n",
    "                db_config is not None\n",
    "                and db_config.port == flat_account_server[3]\n",
    "                and db_config.user_name == flat_account_server[0]\n",
    "                and db_config.password == flat_account_server[1]\n",
    "            ), f\"Config mismatch for db server {db_key}!\"\n",
    "\n",
    "    assert type(db_config) is DBConfig, f\"Wrong type for db_config {db_config}!\"\n",
    "    return db_config"
   ]
  },
  {
   "cell_type": "code",
   "execution_count": null,
   "id": "777bed1ae9acd3af",
   "metadata": {},
   "outputs": [],
   "source": [
    "#| hide\n",
    "import nbdev; nbdev.nbdev_export()"
   ]
  }
 ],
 "metadata": {
  "jupytext": {
   "cell_metadata_filter": "-all",
   "main_language": "python",
   "notebook_metadata_filter": "-all"
  },
  "kernelspec": {
   "display_name": "python3",
   "language": "python",
   "name": "python3"
  }
 },
 "nbformat": 4,
 "nbformat_minor": 5
}
