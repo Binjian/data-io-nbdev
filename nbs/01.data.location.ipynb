{
 "cells": [
  {
   "cell_type": "markdown",
   "id": "11cd6dfc46570420",
   "metadata": {},
   "source": [
    "# data location\n",
    "\n",
    "> data structures for location"
   ]
  },
  {
   "cell_type": "code",
   "execution_count": 1,
   "id": "883c741a74788b85",
   "metadata": {
    "ExecuteTime": {
     "end_time": "2023-12-11T09:29:45.638145257Z",
     "start_time": "2023-12-11T09:29:45.636890172Z"
    }
   },
   "outputs": [],
   "source": [
    "#| default_exp data.location"
   ]
  },
  {
   "cell_type": "code",
   "execution_count": 2,
   "id": "9479af51217b7704",
   "metadata": {
    "ExecuteTime": {
     "end_time": "2023-12-11T09:29:45.707948983Z",
     "start_time": "2023-12-11T09:29:45.643140818Z"
    }
   },
   "outputs": [],
   "source": [
    "#| export\n",
    "from pydantic import BaseModel, ConfigDict, field_serializer\n",
    "from ordered_set import OrderedSet\n",
    "from zoneinfo import ZoneInfo\n",
    "from data_io_nbdev.data.time import timezones"
   ]
  },
  {
   "cell_type": "code",
   "execution_count": 3,
   "id": "6e71ac0106e56c3b",
   "metadata": {
    "ExecuteTime": {
     "end_time": "2023-12-11T09:29:45.752359080Z",
     "start_time": "2023-12-11T09:29:45.751771508Z"
    }
   },
   "outputs": [],
   "source": [
    "#| export\n",
    "LocationCat = OrderedSet(\n",
    "    [\n",
    "        \"jiangyin\",\n",
    "        \"shanghai\",\n",
    "        \"anting\",\n",
    "        \"unknown\",\n",
    "    ]\n",
    ")\n"
   ]
  },
  {
   "cell_type": "code",
   "execution_count": 4,
   "id": "74dedb245c90a7f5",
   "metadata": {
    "ExecuteTime": {
     "end_time": "2023-12-11T09:29:45.752855983Z",
     "start_time": "2023-12-11T09:29:45.751963628Z"
    }
   },
   "outputs": [],
   "source": [
    "#| export\n",
    "class EosLocation(BaseModel):\n",
    "    model_config = ConfigDict(arbitrary_types_allowed=True)\n",
    "\n",
    "    abbr: str\n",
    "    name: str\n",
    "    cname: str\n",
    "    tz: ZoneInfo\n",
    "\n",
    "    @field_serializer('tz')\n",
    "    def serialize_tz(self, tz: ZoneInfo, _info):\n",
    "        return tz.key\n"
   ]
  },
  {
   "cell_type": "code",
   "execution_count": 5,
   "id": "9713ee1e2355eb35",
   "metadata": {
    "ExecuteTime": {
     "end_time": "2023-12-11T09:29:45.753500111Z",
     "start_time": "2023-12-11T09:29:45.752045011Z"
    }
   },
   "outputs": [],
   "source": [
    "#| export\n",
    "locations = [\n",
    "    EosLocation(\n",
    "        abbr=\"jy\",\n",
    "        name=\"Jiangyin\",\n",
    "        cname=\"江阴\",\n",
    "        tz=timezones[\"sh\"],\n",
    "    ),\n",
    "    EosLocation(\n",
    "        abbr=\"hq\",\n",
    "        name=\"Hongqiao\",\n",
    "        cname=\"虹桥\",\n",
    "        tz=timezones[\"sh\"],\n",
    "    ),\n",
    "    EosLocation(\n",
    "        abbr=\"sh\",\n",
    "        name=\"Shanghai\",\n",
    "        cname=\"上海\",\n",
    "        tz=timezones[\"sh\"],\n",
    "    ),\n",
    "    EosLocation(\n",
    "        abbr=\"at\",\n",
    "        name=\"Anting\",\n",
    "        cname=\"安亭\",\n",
    "        tz=timezones[\"sh\"],\n",
    "    ),\n",
    "    EosLocation(\n",
    "        abbr=\"sp\",\n",
    "        name=\"Sao_Paulo\",\n",
    "        cname=\"圣保罗\",\n",
    "        tz=timezones[\"sp\"],\n",
    "    ),\n",
    "    EosLocation(\n",
    "        abbr=\"la\",\n",
    "        name=\"Los_Angeles\",\n",
    "        cname=\"洛杉矶\",\n",
    "        tz=timezones[\"la\"],\n",
    "    ),\n",
    "    EosLocation(\n",
    "        abbr=\"ny\",\n",
    "        name=\"New_York\",\n",
    "        cname=\"纽约\",\n",
    "        tz=timezones[\"ny\"],\n",
    "    ),\n",
    "    EosLocation(\n",
    "        abbr=\"xj\",\n",
    "        name=\"Urumqi\",\n",
    "        cname=\"乌鲁木齐\",\n",
    "        tz=timezones[\"xj\"],\n",
    "    ),\n",
    "    EosLocation(\n",
    "        abbr=\"bl\",\n",
    "        name=\"Berlin\",\n",
    "        cname=\"柏林\",\n",
    "        tz=timezones[\"bl\"],\n",
    "    ),\n",
    "    EosLocation(\n",
    "        abbr=\"ld\",\n",
    "        name=\"London\",\n",
    "        cname=\"伦敦\",\n",
    "        tz=timezones[\"ld\"],\n",
    "    ),\n",
    "    EosLocation(\n",
    "        abbr=\"sy\",\n",
    "        name=\"Sydney\",\n",
    "        cname=\"悉尼\",\n",
    "        tz=timezones[\"sy\"],\n",
    "    ),\n",
    "    EosLocation(\n",
    "        abbr=\"jp\",\n",
    "        name=\"Tokyo\",\n",
    "        cname=\"东京\",\n",
    "        tz=timezones[\"jp\"],\n",
    "    ),\n",
    "    EosLocation(\n",
    "        abbr=\"hk\",\n",
    "        name=\"Hong_Kong\",\n",
    "        cname=\"香港\",\n",
    "        tz=timezones[\"hk\"],\n",
    "    ),\n",
    "    EosLocation(\n",
    "        abbr=\"rj\",\n",
    "        name=\"Rio_de_Janeiro\",\n",
    "        cname=\"里约热内卢\",\n",
    "        tz=timezones[\"rj\"],\n",
    "    ),\n",
    "    EosLocation(\n",
    "        abbr=\"unknown\",\n",
    "        name=\"unknown\",\n",
    "        cname=\"未知\",\n",
    "        tz=timezones[\"utc\"],\n",
    "    )\n",
    "]"
   ]
  },
  {
   "cell_type": "code",
   "execution_count": 6,
   "id": "899c61259907f0d1",
   "metadata": {
    "ExecuteTime": {
     "end_time": "2023-12-11T09:29:45.754105948Z",
     "start_time": "2023-12-11T09:29:45.752124821Z"
    }
   },
   "outputs": [],
   "source": [
    "#| export\n",
    "locations_by_abbr = dict(zip([location.abbr for location in locations], locations))\n"
   ]
  },
  {
   "cell_type": "code",
   "execution_count": 7,
   "id": "5a0a0ca124fe3591",
   "metadata": {
    "ExecuteTime": {
     "end_time": "2023-12-11T09:29:45.759256229Z",
     "start_time": "2023-12-11T09:29:45.754010469Z"
    }
   },
   "outputs": [],
   "source": [
    "#| export\n",
    "# since ZoneInfo is hashable, we can use it as key! one to many mapping! among all the tz, the last is the output\n",
    "locations_from_tz = dict(zip([location.tz for location in locations], locations))"
   ]
  },
  {
   "cell_type": "code",
   "execution_count": 8,
   "id": "533986394be3d99e",
   "metadata": {
    "ExecuteTime": {
     "end_time": "2023-12-11T09:29:45.885251155Z",
     "start_time": "2023-12-11T09:29:45.760144997Z"
    }
   },
   "outputs": [],
   "source": [
    "#| hide\n",
    "import nbdev; nbdev.nbdev_export()\n"
   ]
  }
 ],
 "metadata": {
  "jupytext": {
   "cell_metadata_filter": "-all",
   "main_language": "python",
   "notebook_metadata_filter": "-all"
  },
  "kernelspec": {
   "display_name": "python3",
   "language": "python",
   "name": "python3"
  }
 },
 "nbformat": 4,
 "nbformat_minor": 5
}
