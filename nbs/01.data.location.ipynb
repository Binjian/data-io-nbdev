{
 "cells": [
  {
   "cell_type": "markdown",
   "id": "11cd6dfc46570420",
   "metadata": {},
   "source": [
    "# data location\n",
    "\n",
    "> data structures for location"
   ]
  },
  {
   "cell_type": "code",
   "execution_count": null,
   "id": "883c741a74788b85",
   "metadata": {},
   "outputs": [],
   "source": [
    "#| default_exp data.location"
   ]
  },
  {
   "cell_type": "code",
   "execution_count": null,
   "id": "9479af51217b7704",
   "metadata": {},
   "outputs": [],
   "source": [
    "#| export\n",
    "from pydantic import BaseModel, ConfigDict, field_serializer\n",
    "from ordered_set import OrderedSet\n",
    "from zoneinfo import ZoneInfo\n",
    "from data_io_nbdev.data.time import timezones"
   ]
  },
  {
   "cell_type": "markdown",
   "id": "b29ca40f2310340a",
   "metadata": {},
   "source": [
    "## Location category"
   ]
  },
  {
   "cell_type": "code",
   "execution_count": null,
   "id": "eda17426a80141cd",
   "metadata": {},
   "outputs": [],
   "source": [
    "#| hide\n",
    "from nbdev.showdoc import *"
   ]
  },
  {
   "cell_type": "code",
   "execution_count": null,
   "id": "b22ece5415af1bcd",
   "metadata": {},
   "outputs": [],
   "source": [
    "#| export\n",
    "from fastcore.utils import *"
   ]
  },
  {
   "cell_type": "code",
   "execution_count": null,
   "id": "6e71ac0106e56c3b",
   "metadata": {},
   "outputs": [],
   "source": [
    "#| export\n",
    "LocationCat = OrderedSet(\n",
    "    [\n",
    "        \"jiangyin\",  # Location cat for Jiangyin\n",
    "        \"shanghai\",  # Location cat for Shanghai\n",
    "        \"anting\",  # Location cat for Anting\n",
    "        \"unknown\",  # Location cat for unknown\n",
    "    ]\n",
    ")\n"
   ]
  },
  {
   "cell_type": "code",
   "execution_count": null,
   "id": "6180b4d91ca7ccdb",
   "metadata": {},
   "outputs": [],
   "source": [
    "LocationCat"
   ]
  },
  {
   "cell_type": "markdown",
   "id": "cb1134c2004faa9a",
   "metadata": {},
   "source": [
    "## location class"
   ]
  },
  {
   "cell_type": "code",
   "execution_count": null,
   "id": "5fdf47aa4a904e2d",
   "metadata": {},
   "outputs": [],
   "source": [
    "#| export\n",
    "class EosLocation(BaseModel):\n",
    "    \"\"\"\n",
    "    location class for eos, `abbr`, `name`, `cname`, `tz` are required\n",
    "        \n",
    "    args:\n",
    "    \n",
    "        abbr: abbreviation\n",
    "        name: name\n",
    "        cname: chinese name\n",
    "        tz: timezone\n",
    "        \n",
    "    return:\n",
    "            EosLocation\n",
    "    \"\"\"\n",
    "    model_config = ConfigDict(arbitrary_types_allowed=True)\n",
    "\n",
    "    abbr: str  # abbreviation\n",
    "    name: str  # name\n",
    "    cname: str  # chinese name\n",
    "    tz: ZoneInfo  # timezone"
   ]
  },
  {
   "cell_type": "code",
   "execution_count": null,
   "id": "68233f43f274c87e",
   "metadata": {},
   "outputs": [],
   "source": [
    "show_doc(EosLocation)"
   ]
  },
  {
   "cell_type": "markdown",
   "id": "11f9e3d87d5f2449",
   "metadata": {},
   "source": [
    "### Location serialization"
   ]
  },
  {
   "cell_type": "code",
   "execution_count": null,
   "id": "74dedb245c90a7f5",
   "metadata": {},
   "outputs": [],
   "source": [
    "#| export\n",
    "\n",
    "@field_serializer('tz')\n",
    "@patch\n",
    "def serialize_tz(self:EosLocation,  #\n",
    "                 tz: ZoneInfo,  # timezone\n",
    "                 _info: str):  # other info\n",
    "    \"\"\"\n",
    "    serialize timezone to string\n",
    "    \n",
    "    args:\n",
    "    \n",
    "        tz: timezone\n",
    "        _info:  other info\n",
    "        \n",
    "    return:\n",
    "        \n",
    "            str\n",
    "        \n",
    "    \"\"\"\n",
    "    return tz.key\n"
   ]
  },
  {
   "cell_type": "code",
   "execution_count": null,
   "id": "9713ee1e2355eb35",
   "metadata": {},
   "outputs": [],
   "source": [
    "#| export\n",
    "locations = [\n",
    "    EosLocation(\n",
    "        abbr=\"jy\",\n",
    "        name=\"Jiangyin\",\n",
    "        cname=\"江阴\",\n",
    "        tz=timezones[\"sh\"],\n",
    "    ),\n",
    "    EosLocation(\n",
    "        abbr=\"hq\",\n",
    "        name=\"Hongqiao\",\n",
    "        cname=\"虹桥\",\n",
    "        tz=timezones[\"sh\"],\n",
    "    ),\n",
    "    EosLocation(\n",
    "        abbr=\"sh\",\n",
    "        name=\"Shanghai\",\n",
    "        cname=\"上海\",\n",
    "        tz=timezones[\"sh\"],\n",
    "    ),\n",
    "    EosLocation(\n",
    "        abbr=\"at\",\n",
    "        name=\"Anting\",\n",
    "        cname=\"安亭\",\n",
    "        tz=timezones[\"sh\"],\n",
    "    ),\n",
    "    EosLocation(\n",
    "        abbr=\"sp\",\n",
    "        name=\"Sao_Paulo\",\n",
    "        cname=\"圣保罗\",\n",
    "        tz=timezones[\"sp\"],\n",
    "    ),\n",
    "    EosLocation(\n",
    "        abbr=\"la\",\n",
    "        name=\"Los_Angeles\",\n",
    "        cname=\"洛杉矶\",\n",
    "        tz=timezones[\"la\"],\n",
    "    ),\n",
    "    EosLocation(\n",
    "        abbr=\"ny\",\n",
    "        name=\"New_York\",\n",
    "        cname=\"纽约\",\n",
    "        tz=timezones[\"ny\"],\n",
    "    ),\n",
    "    EosLocation(\n",
    "        abbr=\"xj\",\n",
    "        name=\"Urumqi\",\n",
    "        cname=\"乌鲁木齐\",\n",
    "        tz=timezones[\"xj\"],\n",
    "    ),\n",
    "    EosLocation(\n",
    "        abbr=\"bl\",\n",
    "        name=\"Berlin\",\n",
    "        cname=\"柏林\",\n",
    "        tz=timezones[\"bl\"],\n",
    "    ),\n",
    "    EosLocation(\n",
    "        abbr=\"ld\",\n",
    "        name=\"London\",\n",
    "        cname=\"伦敦\",\n",
    "        tz=timezones[\"ld\"],\n",
    "    ),\n",
    "    EosLocation(\n",
    "        abbr=\"sy\",\n",
    "        name=\"Sydney\",\n",
    "        cname=\"悉尼\",\n",
    "        tz=timezones[\"sy\"],\n",
    "    ),\n",
    "    EosLocation(\n",
    "        abbr=\"jp\",\n",
    "        name=\"Tokyo\",\n",
    "        cname=\"东京\",\n",
    "        tz=timezones[\"jp\"],\n",
    "    ),\n",
    "    EosLocation(\n",
    "        abbr=\"hk\",\n",
    "        name=\"Hong_Kong\",\n",
    "        cname=\"香港\",\n",
    "        tz=timezones[\"hk\"],\n",
    "    ),\n",
    "    EosLocation(\n",
    "        abbr=\"rj\",\n",
    "        name=\"Rio_de_Janeiro\",\n",
    "        cname=\"里约热内卢\",\n",
    "        tz=timezones[\"rj\"],\n",
    "    ),\n",
    "    EosLocation(\n",
    "        abbr=\"unknown\",\n",
    "        name=\"unknown\",\n",
    "        cname=\"未知\",\n",
    "        tz=timezones[\"utc\"],\n",
    "    )\n",
    "]"
   ]
  },
  {
   "cell_type": "code",
   "execution_count": null,
   "id": "899c61259907f0d1",
   "metadata": {},
   "outputs": [],
   "source": [
    "#| export\n",
    "locations_by_abbr = dict(zip([location.abbr for location in locations], locations))\n"
   ]
  },
  {
   "cell_type": "code",
   "execution_count": null,
   "id": "4dfbde9879e11a82",
   "metadata": {},
   "outputs": [],
   "source": [
    "locations_by_abbr"
   ]
  },
  {
   "cell_type": "code",
   "execution_count": null,
   "id": "5a0a0ca124fe3591",
   "metadata": {},
   "outputs": [],
   "source": [
    "#| export\n",
    "# since ZoneInfo is hashable, we can use it as key! one to many mapping! among all the tz, the last is the output\n",
    "locations_from_tz = dict(zip([location.tz for location in locations], locations))"
   ]
  },
  {
   "cell_type": "code",
   "execution_count": null,
   "id": "255d914dfb910266",
   "metadata": {},
   "outputs": [],
   "source": [
    "locations_from_tz"
   ]
  },
  {
   "cell_type": "code",
   "execution_count": null,
   "id": "533986394be3d99e",
   "metadata": {},
   "outputs": [],
   "source": [
    "#| hide\n",
    "import nbdev; nbdev.nbdev_export()\n"
   ]
  }
 ],
 "metadata": {
  "jupytext": {
   "cell_metadata_filter": "-all",
   "main_language": "python",
   "notebook_metadata_filter": "-all"
  },
  "kernelspec": {
   "display_name": "python3",
   "language": "python",
   "name": "python3"
  }
 },
 "nbformat": 4,
 "nbformat_minor": 5
}
