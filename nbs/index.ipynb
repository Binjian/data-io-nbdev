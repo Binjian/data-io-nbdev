{
 "cells": [
  {
   "cell_type": "markdown",
   "metadata": {},
   "source": [
    "# tspace\n",
    "\n",
    "> Time sequence data pipleline framework </br>for deep reinforcement learning"
   ]
  },
  {
   "cell_type": "code",
   "execution_count": null,
   "metadata": {},
   "outputs": [],
   "source": [
    "#| hide\n",
    "from tspace.core import *"
   ]
  },
  {
   "cell_type": "markdown",
   "metadata": {},
   "source": [
    "# Overview"
   ]
  },
  {
   "cell_type": "markdown",
   "metadata": {},
   "source": [
    "\n",
    "tspace is an data pipleline framework for deep reinforcement learning  with IO interface, processing and configuration. The current code base depicts an automotive implementation. The main features are:\n",
    "\n",
    "- working both training and inferrence mode\n",
    "  - cascaded threading pools for scheduling of [ETL](https://en.wikipedia.org/wiki/Extract,_transform,_load) and ML pipelines\n",
    "  - online and offline training\n",
    "  - local and distributed training\n",
    "- supporting for multiple models\n",
    "  - reinforcement learning models with DDPG \n",
    "  - time sequence processing with recurrent models\n",
    "- data pipelines compatible to both ETL and ML dataflow \n",
    "  - Support for multiple data sources (local CAN or remote cloud object storage)\n",
    "  - Stateful time sequence processing with sequential model\n",
    "  - Support both NoSQL database, local and cloud data storage"
   ]
  },
  {
   "cell_type": "code",
   "execution_count": null,
   "metadata": {},
   "outputs": [],
   "source": [
    "#| hide\n",
    "\n",
    "draft = '''\n",
    "Markdown\n",
    "\n",
    "tspace is an data pipleline framework for deep reinforcement learning  with IO interface, processing and configuration. The main features are:\n",
    "\n",
    "- Working in training and inferrence mode\n",
    "  - logging and monitoring with cutelog or TUI interface\n",
    "  - cascaded threading pool for well-structured Scheduling of [ETL](https://en.wikipedia.org/wiki/Extract,_transform,_load) and ML pipelines\n",
    "  - Customized Exception handling\n",
    "  - Graceful shutdown\n",
    "  - online and offline training\n",
    "  - local and distributed training\n",
    "- Support for multiple models\n",
    "  - reinforcement learning models with DDPG \n",
    "  - time sequence models with LSTM and Transformer\n",
    "- Data pipeline compatible to both ETL and ML dataflow \n",
    "  - Support for multiple data sources (local CAN or remote cloud object storage)\n",
    "  - Support both NoSQL database and local or cloud data storage through Dask with Parquet and Avro interface\n",
    "  - Full Pandas DataFrame support with raw json codecs\n",
    "  - Configuration system for vehicles, drivers, data sites, neural network hyperparameters, database, HMI types, etc\n",
    "  - Timezone aware time sequence data processing\n",
    "  - Data object meta-info processing and storage linked to configuration system\n",
    "  - Stateful time sequence processing with sequential model\n",
    "  - Type hint for data processing and configuration\n",
    "  - Pydantic integration\n",
    "'''\n"
   ]
  },
  {
   "cell_type": "markdown",
   "metadata": {},
   "source": [
    "<img src=\"res/tspace_overview.svg\" alt=\"Overview of tspace architecture\" width=\"80%\">"
   ]
  },
  {
   "cell_type": "markdown",
   "metadata": {},
   "source": [
    "The diagram shows the basic architure of tspace. The main components are:\n",
    "\n",
    "- **`Avatar`**: orchestrates the whole ETL and ML workflow. \n",
    "  - It configure RemoteCAN, Cruncher, Agent, Model, Database, Pipeline. \n",
    "  - It also manages the scheduling of the workflow threads.\n",
    "- **KvaserCAN** composes of\n",
    "  - `Kvaser`: \n",
    "  - `send_float_array`:\n",
    "  - `udp_context`:\n",
    "- **RemoteCAN**:\n",
    "  - `Cloud` select local udp with `Cloud.hmi_capture_from_udp` or remote hmi with `Cloud.hmi_capture_from_rmq` or none in pure inference mode with `Cloud.hmi_capture_from_dummy`\n",
    "  - `RemoteCanClient`\n",
    "- **Cruncher**:\n",
    "  - \n",
    "- **Agent**:\n",
    "- **Model**:\n",
    "- **Database**:\n",
    "- **Pipeline**:\n",
    "- **Config**:\n",
    "- **Sched** "
   ]
  },
  {
   "cell_type": "markdown",
   "metadata": {},
   "source": [
    "## TODO\n",
    "\n",
    "1. Add time sequence embedding database support with LanceDB for TimeGPT\n",
    "2. Batch mode for large scale inference and training with Unit of Work pattern"
   ]
  },
  {
   "cell_type": "markdown",
   "metadata": {},
   "source": [
    "# How to use"
   ]
  },
  {
   "cell_type": "markdown",
   "metadata": {},
   "source": [
    "## Install"
   ]
  },
  {
   "cell_type": "markdown",
   "metadata": {},
   "source": [
    "```sh\n",
    "pip install tspace\n",
    "```"
   ]
  },
  {
   "cell_type": "code",
   "execution_count": null,
   "metadata": {},
   "outputs": [],
   "source": [
    "#| hide\n",
    "import nbdev \n",
    "nbdev.nbdev_export()"
   ]
  }
 ],
 "metadata": {
  "kernelspec": {
   "display_name": "python3",
   "language": "python",
   "name": "python3"
  }
 },
 "nbformat": 4,
 "nbformat_minor": 4
}
