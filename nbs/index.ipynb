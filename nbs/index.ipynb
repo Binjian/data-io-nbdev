{
 "cells": [
  {
   "cell_type": "markdown",
   "metadata": {},
   "source": [
    "# tspace\n",
    "\n",
    "> Time sequence data pipleline framework </br>for deep reinforcement learning"
   ]
  },
  {
   "cell_type": "code",
   "execution_count": null,
   "metadata": {},
   "outputs": [],
   "source": [
    "#| hide\n",
    "from tspace.core import *"
   ]
  },
  {
   "cell_type": "markdown",
   "metadata": {},
   "source": [
    "# Overview"
   ]
  },
  {
   "cell_type": "markdown",
   "metadata": {},
   "source": [
    "\n",
    "tspace is an data pipleline framework for deep reinforcement learning  with IO interface, processing and configuration. The main features are:\n",
    "\n",
    "- Working in training and inferrence mode\n",
    "  - logging and monitoring with cutelog or TUI interface\n",
    "  - cascaded threading pool for well-structured Scheduling of [ETL](https://en.wikipedia.org/wiki/Extract,_transform,_load) and ML pipelines\n",
    "  - Customized Exception handling\n",
    "  - Graceful shutdown\n",
    "  - online and offline training\n",
    "  - local and distributed training\n",
    "- Support for multiple models\n",
    "  - reinforcement learning models with DDPG \n",
    "  - time sequence models with LSTM and Transformer\n",
    "- Data pipeline compatible to both ETL and ML dataflow \n",
    "  - Support for multiple data sources (local CAN or remote cloud object storage)\n",
    "  - Support both NoSQL database and local or cloud data storage through Dask with Parquet and Avro interface\n",
    "  - Full Pandas DataFrame support with raw json codecs\n",
    "  - Configuration system for vehicles, drivers, data sites, neural network hyperparameters, database, HMI types, etc\n",
    "  - Timezone aware time sequence data processing\n",
    "  - Data object meta-info processing and storage linked to configuration system\n",
    "  - Stateful time sequence processing with sequential model\n",
    "  - Type hint for data processing and configuration\n",
    "  - Pydantic integration"
   ]
  },
  {
   "cell_type": "markdown",
   "metadata": {},
   "source": [
    "<img src=\"res/tspace_overview.svg\" alt=\"Overview of tspace architecture\" width=\"80%\">"
   ]
  },
  {
   "cell_type": "markdown",
   "metadata": {},
   "source": [
    "The diagram shows the basic architure of tspace. The main components are:\n",
    "\n",
    "- **Avatar**: orchestrates the whole ETL and ML workflow\n",
    "  - \n",
    "- **Data Object**: The data object is a container for the data. It contains the raw data, the metainfo and the configuration. The data object is passed through the data pipeline and can be modified by the processing components.\n",
    "- **Data Pipeline**: The data pipeline is a sequence of processing components. Each processing component takes a data object as input and returns a data object as output. The data pipeline is responsible for transforming the data object into a format that can be used by the machine learning model.\n",
    "- **Machine Learning Model**: The machine learning model is responsible for training and inferencing. It takes the data object as input and returns a prediction as output. The machine learning model can be a reinforcement learning model, a time sequence model or any other type of model.\n",
    "- **Configuration System**: The configuration system is responsible for storing and managing the configuration of the data pipeline, the machine learning model and other components. The configuration system is used to configure the data pipeline, the machine learning model and other components.\n",
    "- **Logging and Monitoring**: The logging and monitoring component is responsible for logging and monitoring the data pipeline, the machine learning model and other components. It provides real-time feedback on the performance of the data pipeline and the machine learning model.\n",
    "- **Exception Handling**: The exception handling component is responsible for handling exceptions that occur during the execution of the data pipeline, the machine learning model and other components. It provides a mechanism for gracefully handling errors and recovering from failures."
   ]
  },
  {
   "cell_type": "markdown",
   "metadata": {},
   "source": [
    "## TODO\n",
    "\n",
    "1. Add time sequence embedding database support with LanceDB for TimeGPT\n",
    "2. Batch mode for large scale inference and training with Unit of Work pattern"
   ]
  },
  {
   "cell_type": "markdown",
   "metadata": {},
   "source": [
    "# How to use"
   ]
  },
  {
   "cell_type": "markdown",
   "metadata": {},
   "source": [
    "## Install"
   ]
  },
  {
   "cell_type": "markdown",
   "metadata": {},
   "source": [
    "```sh\n",
    "pip install tspace\n",
    "```"
   ]
  },
  {
   "cell_type": "code",
   "execution_count": null,
   "metadata": {},
   "outputs": [],
   "source": [
    "#| hide\n",
    "import nbdev \n",
    "nbdev.nbdev_export()"
   ]
  }
 ],
 "metadata": {
  "kernelspec": {
   "display_name": "python3",
   "language": "python",
   "name": "python3"
  }
 },
 "nbformat": 4,
 "nbformat_minor": 4
}
