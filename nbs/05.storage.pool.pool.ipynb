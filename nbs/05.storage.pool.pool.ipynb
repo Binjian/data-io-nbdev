{
 "cells": [
  {
   "cell_type": "code",
   "execution_count": null,
   "id": "5cc31bf5f98f8a96",
   "metadata": {},
   "outputs": [
    {
     "name": "stdout",
     "output_type": "stream",
     "text": [
      "The autoreload extension is already loaded. To reload it, use:\n",
      "  %reload_ext autoreload\n"
     ]
    }
   ],
   "source": [
    "%load_ext autoreload\n",
    "%autoreload 2"
   ]
  },
  {
   "cell_type": "markdown",
   "id": "185546edf4f95164",
   "metadata": {},
   "source": [
    "# Pool\n",
    "\n",
    "> ABC Pool"
   ]
  },
  {
   "cell_type": "code",
   "execution_count": null,
   "id": "c8b8a1fda7023097",
   "metadata": {},
   "outputs": [],
   "source": [
    "#| default_exp storage.pool.pool"
   ]
  },
  {
   "cell_type": "code",
   "execution_count": null,
   "id": "3563b2d0cff75ef8",
   "metadata": {},
   "outputs": [],
   "source": [
    "#| export\n",
    "from __future__ import annotations"
   ]
  },
  {
   "cell_type": "code",
   "execution_count": null,
   "id": "d3f9f3700702fba3",
   "metadata": {},
   "outputs": [],
   "source": [
    "#| export\n",
    "import abc\n",
    "import weakref\n",
    "from dataclasses import dataclass\n",
    "from typing import Any, ClassVar, Generic, Optional, Union, get_args, get_origin\n",
    "import pandas as pd"
   ]
  },
  {
   "cell_type": "code",
   "execution_count": null,
   "id": "12afd5e6352e18d1",
   "metadata": {},
   "outputs": [],
   "source": [
    "#| export\n",
    "from data_io_nbdev.data.core import ItemT, PoolQuery"
   ]
  },
  {
   "cell_type": "code",
   "execution_count": null,
   "id": "3cfea5050b103695",
   "metadata": {},
   "outputs": [],
   "source": [
    "#| export\n",
    "@dataclass\n",
    "class Pool(abc.ABC, Generic[ItemT]):\n",
    "    \"\"\"\n",
    "    The abstract storage for pooling the real-time data from the cloud.\n",
    "\n",
    "    Pool provides the following features:\n",
    "\n",
    "        - load(): initialize the pool interface\n",
    "        - close(): destructor\n",
    "        - store(): Store the data in the pool\n",
    "        - delete(id): remove the data with id in the pool\n",
    "        - find(id): Get the data from the pool\n",
    "        - sample(size, query: Optional[dict]=None): Sample a batch of data from the pool\n",
    "        - count(query: Optional[dict] = None): Count the number of data in the pool\n",
    "\n",
    "    Attributes:\n",
    "        - _type_T: the type of the data stored in the pool\n",
    "        - _cnt: the number of records in the pool\n",
    "\n",
    "\n",
    "\n",
    "    \"\"\"\n",
    "\n",
    "    _type_T: ClassVar[str] = \"\"\n",
    "    _cnt: int = 0  # number of records in the pool. Calling count() is expensive and it will update this.\n",
    "\n",
    "    def __init_subclass__(cls):\n",
    "        \"\"\"get the concrete type in derived class\"\"\"\n",
    "        cls._type_T = get_args(cls.__orig_bases__[0])[0].__name__  # type: ignore\n",
    "        # print(get_origin(cls.__orig_bases__[0]).__name__)\n",
    "        # print(cls.__bases__[0].__name__)  # type: ignore\n",
    "\n",
    "        # print(\n",
    "        #     f\"Pool.__init_subclass__(): {cls._type_T} in {cls.__name__} from {cls.__base__.__name__}\"\n",
    "        # )\n",
    "\n",
    "    def __post_init__(self):\n",
    "        \"\"\"User weakref finalizer to make sure close is called when the object is destroyed\"\"\"\n",
    "        self._finalizer = weakref.finalize(self, self.close)\n",
    "\n",
    "    @abc.abstractmethod\n",
    "    def load(self):\n",
    "        \"\"\"Initialize the pool interface\n",
    "\n",
    "        This function should:\n",
    "            - connect to db\n",
    "            - init\n",
    "        \"\"\"\n",
    "\n",
    "    @abc.abstractmethod\n",
    "    def close(self):\n",
    "        \"\"\"close the pool, for destructor\"\"\"\n",
    "\n",
    "    @abc.abstractmethod\n",
    "    def store(self, item: ItemT):\n",
    "        \"\"\"Deposit an item (record) into the pool\"\"\"\n",
    "\n",
    "    @abc.abstractmethod\n",
    "    def delete(self, idx):\n",
    "        \"\"\"delete an itme by id or name.\"\"\"\n",
    "\n",
    "    @abc.abstractmethod\n",
    "    def _count(self, query: Optional[PoolQuery] = None) -> int:\n",
    "        \"\"\"\n",
    "        Count the number of records in the db.\n",
    "\n",
    "        query = {\n",
    "            vehicle_id: str = \"VB7\",\n",
    "            driver_id: str = \"longfei-zheng\",\n",
    "            dt_start: datetime = None,\n",
    "            dt_end: datetime = None,\n",
    "            }\n",
    "        \"\"\"\n",
    "\n",
    "    @property\n",
    "    def cnt(self) -> int:\n",
    "        \"\"\"Number of records in the pool\"\"\"\n",
    "        return self._cnt\n",
    "\n",
    "    @cnt.setter\n",
    "    def cnt(self, value: int):\n",
    "        self._cnt = value\n",
    "\n",
    "    @abc.abstractmethod\n",
    "    def find(self, query: PoolQuery) -> Any:\n",
    "        \"\"\"Find an item by id or name.\"\"\"\n",
    "\n",
    "    @abc.abstractmethod\n",
    "    def sample(\n",
    "        self,\n",
    "        size: int,  # number of required samples\n",
    "        *,\n",
    "        query: Optional[PoolQuery] = None,  # query to filter the records\n",
    "    ) -> Optional[\n",
    "        Union[pd.DataFrame, list[ItemT]]\n",
    "    ]:  # return either a Pandas Dataframe or a list of records\n",
    "        \"\"\"Sample a size of records from the pool.\n",
    "\n",
    "        Args:\n",
    "\n",
    "            size: desired size of the samples\n",
    "            rule: an optional dictionary specifying a rule or a pipeline in mongodb\n",
    "            query: query to filter the records\n",
    "            vehicle_id: str = \"VB7\",\n",
    "            driver_id: str = \"longfei-zheng\",\n",
    "            dt_start: datetime = None,\n",
    "            dt_end: datetime = None,\n",
    "            }\n",
    "        \"\"\"\n",
    "\n",
    "    @abc.abstractmethod\n",
    "    def __iter__(self) -> Any:\n",
    "        \"\"\"\n",
    "        Iterate over the pool.\n",
    "        \"\"\"\n",
    "\n",
    "    def __getitem__(self, query: PoolQuery) -> Any:\n",
    "        \"\"\"\n",
    "        Get an item by id or name.\n",
    "        \"\"\"\n",
    "        return self.find(query)\n",
    "\n",
    "    def __len__(self):\n",
    "        return self.cnt()\n",
    "\n",
    "    def __repr__(self):\n",
    "        return f\"Pool(length: {self.cnt()})\""
   ]
  },
  {
   "cell_type": "code",
   "execution_count": null,
   "id": "74b36522500fd265",
   "metadata": {},
   "outputs": [],
   "source": [
    "#| hide\n",
    "from nbdev.showdoc import *"
   ]
  },
  {
   "cell_type": "code",
   "execution_count": null,
   "id": "f57f8b0e71b5a2fa",
   "metadata": {},
   "outputs": [
    {
     "data": {
      "text/markdown": "---\n\n[source](https://github.com/Binjian/data-io-nbdev/tree/main/blob/main/data_io_nbdev/storage/pool/pool.py#L58){target=\"_blank\" style=\"float:right; font-size:smaller\"}\n\n### Pool.load\n\n>      Pool.load ()\n\nInitialize the pool interface\n\nThis function should:\n    - connect to db\n    - init",
      "text/plain": "---\n\n[source](https://github.com/Binjian/data-io-nbdev/tree/main/blob/main/data_io_nbdev/storage/pool/pool.py#L58){target=\"_blank\" style=\"float:right; font-size:smaller\"}\n\n### Pool.load\n\n>      Pool.load ()\n\nInitialize the pool interface\n\nThis function should:\n    - connect to db\n    - init"
     },
     "execution_count": null,
     "metadata": {},
     "output_type": "execute_result"
    }
   ],
   "source": [
    "show_doc(Pool.load)"
   ]
  },
  {
   "cell_type": "code",
   "execution_count": null,
   "id": "dbed6d20afc83459",
   "metadata": {},
   "outputs": [
    {
     "data": {
      "text/markdown": "---\n\n[source](https://github.com/Binjian/data-io-nbdev/tree/main/blob/main/data_io_nbdev/storage/pool/pool.py#L67){target=\"_blank\" style=\"float:right; font-size:smaller\"}\n\n### Pool.close\n\n>      Pool.close ()\n\nclose the pool, for destructor",
      "text/plain": "---\n\n[source](https://github.com/Binjian/data-io-nbdev/tree/main/blob/main/data_io_nbdev/storage/pool/pool.py#L67){target=\"_blank\" style=\"float:right; font-size:smaller\"}\n\n### Pool.close\n\n>      Pool.close ()\n\nclose the pool, for destructor"
     },
     "execution_count": null,
     "metadata": {},
     "output_type": "execute_result"
    }
   ],
   "source": [
    "show_doc(Pool.close)"
   ]
  },
  {
   "cell_type": "code",
   "execution_count": null,
   "id": "34bdd46798faf220",
   "metadata": {},
   "outputs": [
    {
     "data": {
      "text/markdown": "---\n\n[source](https://github.com/Binjian/data-io-nbdev/tree/main/blob/main/data_io_nbdev/storage/pool/pool.py#L71){target=\"_blank\" style=\"float:right; font-size:smaller\"}\n\n### Pool.store\n\n>      Pool.store (item:~ItemT)\n\nDeposit an item (record) into the pool",
      "text/plain": "---\n\n[source](https://github.com/Binjian/data-io-nbdev/tree/main/blob/main/data_io_nbdev/storage/pool/pool.py#L71){target=\"_blank\" style=\"float:right; font-size:smaller\"}\n\n### Pool.store\n\n>      Pool.store (item:~ItemT)\n\nDeposit an item (record) into the pool"
     },
     "execution_count": null,
     "metadata": {},
     "output_type": "execute_result"
    }
   ],
   "source": [
    "show_doc(Pool.store)"
   ]
  },
  {
   "cell_type": "code",
   "execution_count": null,
   "id": "c7857117179c4edc",
   "metadata": {},
   "outputs": [
    {
     "data": {
      "text/markdown": "---\n\n[source](https://github.com/Binjian/data-io-nbdev/tree/main/blob/main/data_io_nbdev/storage/pool/pool.py#L75){target=\"_blank\" style=\"float:right; font-size:smaller\"}\n\n### Pool.delete\n\n>      Pool.delete (idx)\n\ndelete an itme by id or name.",
      "text/plain": "---\n\n[source](https://github.com/Binjian/data-io-nbdev/tree/main/blob/main/data_io_nbdev/storage/pool/pool.py#L75){target=\"_blank\" style=\"float:right; font-size:smaller\"}\n\n### Pool.delete\n\n>      Pool.delete (idx)\n\ndelete an itme by id or name."
     },
     "execution_count": null,
     "metadata": {},
     "output_type": "execute_result"
    }
   ],
   "source": [
    "show_doc(Pool.delete)   "
   ]
  },
  {
   "cell_type": "code",
   "execution_count": null,
   "id": "588e2b81cc954511",
   "metadata": {},
   "outputs": [
    {
     "data": {
      "text/markdown": "---\n\n[source](https://github.com/Binjian/data-io-nbdev/tree/main/blob/main/data_io_nbdev/storage/pool/pool.py#L79){target=\"_blank\" style=\"float:right; font-size:smaller\"}\n\n### Pool._count\n\n>      Pool._count (query:Optional[data_io_nbdev.data.core.PoolQuery]=None)\n\nCount the number of records in the db.\n\nquery = {\n    vehicle_id: str = \"VB7\",\n    driver_id: str = \"longfei-zheng\",\n    dt_start: datetime = None,\n    dt_end: datetime = None,\n    }",
      "text/plain": "---\n\n[source](https://github.com/Binjian/data-io-nbdev/tree/main/blob/main/data_io_nbdev/storage/pool/pool.py#L79){target=\"_blank\" style=\"float:right; font-size:smaller\"}\n\n### Pool._count\n\n>      Pool._count (query:Optional[data_io_nbdev.data.core.PoolQuery]=None)\n\nCount the number of records in the db.\n\nquery = {\n    vehicle_id: str = \"VB7\",\n    driver_id: str = \"longfei-zheng\",\n    dt_start: datetime = None,\n    dt_end: datetime = None,\n    }"
     },
     "execution_count": null,
     "metadata": {},
     "output_type": "execute_result"
    }
   ],
   "source": [
    "show_doc(Pool._count)"
   ]
  },
  {
   "cell_type": "code",
   "execution_count": null,
   "id": "450a21e386f3d019",
   "metadata": {},
   "outputs": [
    {
     "data": {
      "text/markdown": "---\n\n[source](https://github.com/Binjian/data-io-nbdev/tree/main/blob/main/data_io_nbdev/storage/pool/pool.py#L101){target=\"_blank\" style=\"float:right; font-size:smaller\"}\n\n### Pool.find\n\n>      Pool.find (query:data_io_nbdev.data.core.PoolQuery)\n\nFind an item by id or name.",
      "text/plain": "---\n\n[source](https://github.com/Binjian/data-io-nbdev/tree/main/blob/main/data_io_nbdev/storage/pool/pool.py#L101){target=\"_blank\" style=\"float:right; font-size:smaller\"}\n\n### Pool.find\n\n>      Pool.find (query:data_io_nbdev.data.core.PoolQuery)\n\nFind an item by id or name."
     },
     "execution_count": null,
     "metadata": {},
     "output_type": "execute_result"
    }
   ],
   "source": [
    "show_doc(Pool.find)"
   ]
  },
  {
   "cell_type": "code",
   "execution_count": null,
   "id": "1f9d96195937a533",
   "metadata": {},
   "outputs": [
    {
     "data": {
      "text/markdown": "---\n\n[source](https://github.com/Binjian/data-io-nbdev/tree/main/blob/main/data_io_nbdev/storage/pool/pool.py#L105){target=\"_blank\" style=\"float:right; font-size:smaller\"}\n\n### Pool.sample\n\n>      Pool.sample (size:int,\n>                   query:Optional[data_io_nbdev.data.core.PoolQuery]=None)\n\nSample a size of records from the pool.\n\nArgs:\n\n    size: desired size of the samples\n    rule: an optional dictionary specifying a rule or a pipeline in mongodb\n    query: query to filter the records \n    vehicle_id: str = \"VB7\",\n    driver_id: str = \"longfei-zheng\",\n    dt_start: datetime = None,\n    dt_end: datetime = None,\n    }\n\n|    | **Type** | **Default** | **Details** |\n| -- | -------- | ----------- | ----------- |\n| size | int |  | number of required samples |\n| query | Optional[PoolQuery] | None |  |\n| **Returns** | **Optional[Union[pd.DataFrame, list[ItemT]]]** |  | **return either a Pandas Dataframe or a list of records** |",
      "text/plain": "---\n\n[source](https://github.com/Binjian/data-io-nbdev/tree/main/blob/main/data_io_nbdev/storage/pool/pool.py#L105){target=\"_blank\" style=\"float:right; font-size:smaller\"}\n\n### Pool.sample\n\n>      Pool.sample (size:int,\n>                   query:Optional[data_io_nbdev.data.core.PoolQuery]=None)\n\nSample a size of records from the pool.\n\nArgs:\n\n    size: desired size of the samples\n    rule: an optional dictionary specifying a rule or a pipeline in mongodb\n    query: query to filter the records \n    vehicle_id: str = \"VB7\",\n    driver_id: str = \"longfei-zheng\",\n    dt_start: datetime = None,\n    dt_end: datetime = None,\n    }\n\n|    | **Type** | **Default** | **Details** |\n| -- | -------- | ----------- | ----------- |\n| size | int |  | number of required samples |\n| query | Optional[PoolQuery] | None |  |\n| **Returns** | **Optional[Union[pd.DataFrame, list[ItemT]]]** |  | **return either a Pandas Dataframe or a list of records** |"
     },
     "execution_count": null,
     "metadata": {},
     "output_type": "execute_result"
    }
   ],
   "source": [
    "show_doc(Pool.sample)"
   ]
  },
  {
   "cell_type": "code",
   "execution_count": null,
   "id": "ef5cb3feefae0722",
   "metadata": {},
   "outputs": [
    {
     "data": {
      "text/markdown": "---\n\n[source](https://github.com/Binjian/data-io-nbdev/tree/main/blob/main/data_io_nbdev/storage/pool/pool.py#L128){target=\"_blank\" style=\"float:right; font-size:smaller\"}\n\n### Pool.__iter__\n\n>      Pool.__iter__ ()\n\nIterate over the pool.",
      "text/plain": "---\n\n[source](https://github.com/Binjian/data-io-nbdev/tree/main/blob/main/data_io_nbdev/storage/pool/pool.py#L128){target=\"_blank\" style=\"float:right; font-size:smaller\"}\n\n### Pool.__iter__\n\n>      Pool.__iter__ ()\n\nIterate over the pool."
     },
     "execution_count": null,
     "metadata": {},
     "output_type": "execute_result"
    }
   ],
   "source": [
    "show_doc(Pool.__iter__)"
   ]
  },
  {
   "cell_type": "code",
   "execution_count": null,
   "id": "82d4907c35c01942",
   "metadata": {},
   "outputs": [
    {
     "data": {
      "text/markdown": "---\n\n[source](https://github.com/Binjian/data-io-nbdev/tree/main/blob/main/data_io_nbdev/storage/pool/pool.py#L133){target=\"_blank\" style=\"float:right; font-size:smaller\"}\n\n### Pool.__getitem__\n\n>      Pool.__getitem__ (query:data_io_nbdev.data.core.PoolQuery)\n\nGet an item by id or name.",
      "text/plain": "---\n\n[source](https://github.com/Binjian/data-io-nbdev/tree/main/blob/main/data_io_nbdev/storage/pool/pool.py#L133){target=\"_blank\" style=\"float:right; font-size:smaller\"}\n\n### Pool.__getitem__\n\n>      Pool.__getitem__ (query:data_io_nbdev.data.core.PoolQuery)\n\nGet an item by id or name."
     },
     "execution_count": null,
     "metadata": {},
     "output_type": "execute_result"
    }
   ],
   "source": [
    "show_doc(Pool.__getitem__)"
   ]
  },
  {
   "cell_type": "code",
   "execution_count": null,
   "id": "243a4b3df324c7b",
   "metadata": {},
   "outputs": [
    {
     "data": {
      "text/markdown": "---\n\n[source](https://github.com/Binjian/data-io-nbdev/tree/main/blob/main/data_io_nbdev/storage/pool/pool.py#L139){target=\"_blank\" style=\"float:right; font-size:smaller\"}\n\n### Pool.__len__\n\n>      Pool.__len__ ()",
      "text/plain": "---\n\n[source](https://github.com/Binjian/data-io-nbdev/tree/main/blob/main/data_io_nbdev/storage/pool/pool.py#L139){target=\"_blank\" style=\"float:right; font-size:smaller\"}\n\n### Pool.__len__\n\n>      Pool.__len__ ()"
     },
     "execution_count": null,
     "metadata": {},
     "output_type": "execute_result"
    }
   ],
   "source": [
    "show_doc(Pool.__len__)"
   ]
  },
  {
   "cell_type": "code",
   "execution_count": null,
   "id": "2187efd9cd77bbe5",
   "metadata": {},
   "outputs": [
    {
     "data": {
      "text/markdown": "---\n\n[source](https://github.com/Binjian/data-io-nbdev/tree/main/blob/main/data_io_nbdev/storage/pool/pool.py#L142){target=\"_blank\" style=\"float:right; font-size:smaller\"}\n\n### Pool.__repr__\n\n>      Pool.__repr__ ()\n\nReturn repr(self).",
      "text/plain": "---\n\n[source](https://github.com/Binjian/data-io-nbdev/tree/main/blob/main/data_io_nbdev/storage/pool/pool.py#L142){target=\"_blank\" style=\"float:right; font-size:smaller\"}\n\n### Pool.__repr__\n\n>      Pool.__repr__ ()\n\nReturn repr(self)."
     },
     "execution_count": null,
     "metadata": {},
     "output_type": "execute_result"
    }
   ],
   "source": [
    "show_doc(Pool.__repr__)"
   ]
  },
  {
   "cell_type": "code",
   "execution_count": null,
   "id": "edd11e777801c6c4",
   "metadata": {},
   "outputs": [],
   "source": [
    "#| hide\n",
    "import nbdev; nbdev.nbdev_export()"
   ]
  }
 ],
 "metadata": {
  "jupytext": {
   "cell_metadata_filter": "-all",
   "main_language": "python",
   "notebook_metadata_filter": "-all"
  },
  "kernelspec": {
   "display_name": "python3",
   "language": "python",
   "name": "python3"
  }
 },
 "nbformat": 4,
 "nbformat_minor": 5
}
