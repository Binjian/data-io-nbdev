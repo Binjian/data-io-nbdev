{
 "cells": [
  {
   "cell_type": "code",
   "execution_count": null,
   "id": "fc19c6561bbef2b6",
   "metadata": {},
   "outputs": [],
   "source": [
    "%load_ext autoreload\n",
    "%autoreload 2"
   ]
  },
  {
   "cell_type": "markdown",
   "id": "57283cb03fe630e4",
   "metadata": {},
   "source": [
    "# decorator \n",
    "\n",
    "> customized decorators for module system programming"
   ]
  },
  {
   "cell_type": "code",
   "execution_count": null,
   "id": "9f916a144f710f5",
   "metadata": {},
   "outputs": [],
   "source": [
    "#| default_exp system.decorator"
   ]
  },
  {
   "cell_type": "code",
   "execution_count": null,
   "id": "1f7506822eab2637",
   "metadata": {},
   "outputs": [],
   "source": [
    "#| export\n",
    "import functools"
   ]
  },
  {
   "cell_type": "code",
   "execution_count": null,
   "id": "d25b9687",
   "metadata": {},
   "outputs": [],
   "source": [
    "#| export\n",
    "def prepend_string_arg(str_arg=\"TQD_trqTrqSetNormal_MAP_v\"):\n",
    "    \"\"\"\n",
    "    function decorator to prepend a string argument to a     function\n",
    "    \n",
    "    Parameters: \n",
    "    \n",
    "        str_arg (str): string argument to prepend\n",
    "        \n",
    "    Return:\n",
    "        \n",
    "            function: decorated function\n",
    "    \"\"\"\n",
    "    def decorate(func):\n",
    "        @functools.wraps(func)\n",
    "        def wrapper(*args, **kwargs):\n",
    "            __name__ = func.__name__\n",
    "            __doc__ = func.__doc__\n",
    "            return func(str_arg, *args, **kwargs)\n",
    "\n",
    "        return wrapper\n",
    "\n",
    "    return decorate"
   ]
  },
  {
   "cell_type": "code",
   "execution_count": null,
   "id": "da8d910c6c1442e5",
   "metadata": {},
   "outputs": [],
   "source": [
    "#| hide\n",
    "import nbdev; nbdev.nbdev_export()"
   ]
  }
 ],
 "metadata": {
  "jupytext": {
   "cell_metadata_filter": "-all",
   "main_language": "python",
   "notebook_metadata_filter": "-all"
  },
  "kernelspec": {
   "display_name": "python3",
   "language": "python",
   "name": "python3"
  }
 },
 "nbformat": 4,
 "nbformat_minor": 5
}
