{
 "cells": [
  {
   "cell_type": "code",
   "execution_count": null,
   "id": "3c6154fdd8619b40",
   "metadata": {},
   "outputs": [],
   "source": [
    "%load_ext autoreload\n",
    "%autoreload 2"
   ]
  },
  {
   "cell_type": "markdown",
   "id": "e26f7985e1a5ce84",
   "metadata": {},
   "source": [
    "# graceful killer\n",
    "\n",
    "> customized graceful killer for the system programming "
   ]
  },
  {
   "cell_type": "code",
   "execution_count": null,
   "id": "26fe8b9a0f42299c",
   "metadata": {},
   "outputs": [],
   "source": [
    "#| default_exp system.graceful_killer"
   ]
  },
  {
   "cell_type": "code",
   "execution_count": null,
   "id": "d233ddff",
   "metadata": {},
   "outputs": [],
   "source": [
    "#| export\n",
    "import signal\n",
    "from threading import Event"
   ]
  },
  {
   "cell_type": "code",
   "execution_count": null,
   "id": "665c58ba",
   "metadata": {},
   "outputs": [],
   "source": [
    "#| export\n",
    "class GracefulKiller:\n",
    "    exit: Event\n",
    "\n",
    "    def __init__(self, exit_evt: Event):\n",
    "        self.exit = exit_evt\n",
    "        signal.signal(signal.SIGINT, self.exit_gracefully)\n",
    "        signal.signal(signal.SIGTERM, self.exit_gracefully)\n",
    "        signal.signal(signal.SIGHUP, self.exit_gracefully)\n",
    "\n",
    "    def exit_gracefully(self, signum, frame):\n",
    "        print(f\"Received signal {signum} on frame {frame}\")\n",
    "        if not self.exit.is_set():\n",
    "            print(f\"set exit event\")\n",
    "            self.exit.set()\n",
    "        else:\n",
    "            print(f\"exit event already set\")"
   ]
  },
  {
   "cell_type": "code",
   "execution_count": null,
   "id": "78d2839011bbfd00",
   "metadata": {},
   "outputs": [],
   "source": [
    "#| hide\n",
    "import nbdev; nbdev.nbdev_export()"
   ]
  }
 ],
 "metadata": {
  "jupytext": {
   "cell_metadata_filter": "-all",
   "main_language": "python",
   "notebook_metadata_filter": "-all"
  },
  "kernelspec": {
   "display_name": "python3",
   "language": "python",
   "name": "python3"
  }
 },
 "nbformat": 4,
 "nbformat_minor": 5
}
