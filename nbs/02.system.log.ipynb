{
 "cells": [
  {
   "cell_type": "code",
   "execution_count": null,
   "id": "406906ac207d7880",
   "metadata": {},
   "outputs": [],
   "source": [
    "%load_ext autoreload\n",
    "%autoreload 2"
   ]
  },
  {
   "cell_type": "markdown",
   "id": "4b44ea08ffb93b2d",
   "metadata": {},
   "source": [
    "# log\n",
    "\n",
    "> customized logging service for the system programming \n"
   ]
  },
  {
   "cell_type": "code",
   "execution_count": null,
   "id": "95161edb59b94f18",
   "metadata": {},
   "outputs": [],
   "source": [
    "#| default_exp system.log"
   ]
  },
  {
   "cell_type": "code",
   "execution_count": null,
   "id": "8a15305a",
   "metadata": {},
   "outputs": [],
   "source": [
    "#| export\n",
    "import inspect\n",
    "from typing import Tuple"
   ]
  },
  {
   "cell_type": "code",
   "execution_count": null,
   "id": "e6660dcb",
   "metadata": {},
   "outputs": [],
   "source": [
    "#| export\n",
    "# Logging Service Initialization\n",
    "import logging\n",
    "from zoneinfo import ZoneInfo"
   ]
  },
  {
   "cell_type": "code",
   "execution_count": null,
   "id": "f26c6668",
   "metadata": {},
   "outputs": [],
   "source": [
    "#| export\n",
    "# system imports\n",
    "import os\n",
    "from pathlib import Path, PurePosixPath\n",
    "from logging.handlers import SocketHandler"
   ]
  },
  {
   "cell_type": "code",
   "execution_count": null,
   "id": "02e1003b",
   "metadata": {},
   "outputs": [],
   "source": [
    "#| export\n",
    "from pythonjsonlogger import jsonlogger\n",
    "import pandas as pd"
   ]
  },
  {
   "cell_type": "code",
   "execution_count": null,
   "id": "91e8fd6e42eaffe2",
   "metadata": {},
   "outputs": [],
   "source": [
    "#| export\n",
    "\n",
    "# logging.basicConfig(level=logging.DEBUG, format=fmt)\n",
    "mpl_logger = logging.getLogger(\"matplotlib.font_manager\")\n",
    "mpl_logger.disabled = True"
   ]
  },
  {
   "cell_type": "code",
   "execution_count": null,
   "id": "92e670d1",
   "metadata": {},
   "outputs": [],
   "source": [
    "#| export\n",
    "def set_root_logger(\n",
    "    name: str,  # name of the root logger\n",
    "    data_root: Path,  # root path of the data\n",
    "    agent: str,  # agent name, ie. \"DDPG\"/\"RDPG\"\n",
    "    tz: ZoneInfo,  # time zone of the logging\n",
    "    truck: str,  # truck name, ie. \"VB7\"\n",
    "    driver: str,  # driver name, ie. \"wang-cheng\"\n",
    ") -> Tuple[logging.Logger, dict]:  # return the logger and the dict_logger\n",
    "    \"\"\"\n",
    "    Set the root logger for the system\n",
    "    \"\"\"\n",
    "\n",
    "    logger = logging.getLogger(name)\n",
    "    logger.propagate = False\n",
    "\n",
    "    dict_logger = {\"user\": inspect.currentframe().f_code.co_name}  # type: ignore\n",
    "    log_root = data_root / \"py_logs\"\n",
    "    try:\n",
    "        os.makedirs(log_root)\n",
    "    except FileExistsError:\n",
    "        print(\"User folder exists, just resume!\")\n",
    "\n",
    "    log_file_name = log_root.joinpath(\n",
    "        \"eos-rt-\"\n",
    "        + str(agent)\n",
    "        + \"-\"\n",
    "        + truck\n",
    "        + \"-\"\n",
    "        + driver\n",
    "        + \"-\"\n",
    "        + pd.Timestamp.now(tz).isoformat()  # .replace(\":\", \"-\")\n",
    "        + \".log\"\n",
    "    )\n",
    "    fmt = \"%(asctime)s-%(name)s-%(levelname)s-%(module)s-%(threadName)s-%(funcName)s)-%(lineno)d): %(message)s\"\n",
    "    formatter = logging.Formatter(fmt)\n",
    "    logging.basicConfig(\n",
    "        format=fmt,\n",
    "        datefmt=\"%Y-%m-%dT%H:%M:%S.%f\",\n",
    "    )\n",
    "    json_file_formatter = jsonlogger.JsonFormatter(\n",
    "        \"%(created)f %(asctime)s %(name)s \"\n",
    "        \"%(levelname)s %(module)s %(threadName)s %(funcName)s) %(lineno)d) %(message)s\"\n",
    "    )\n",
    "\n",
    "    file_handler = logging.FileHandler(log_file_name)\n",
    "    file_handler.setLevel(logging.DEBUG)\n",
    "    file_handler.setFormatter(json_file_formatter)\n",
    "    # str_file_name = PurePosixPath(log_file_name).stem + \".json\"\n",
    "    str_file_name = log_root.joinpath(PurePosixPath(log_file_name).stem + \".json\")\n",
    "    str_handler = logging.FileHandler(str_file_name, mode=\"a\")\n",
    "    str_handler.setLevel(logging.DEBUG)\n",
    "    str_handler.setFormatter(json_file_formatter)\n",
    "\n",
    "    char_handler = logging.StreamHandler()\n",
    "    char_handler.setLevel(logging.DEBUG)\n",
    "    char_handler.setFormatter(formatter)\n",
    "    #  Cutelog socket\n",
    "    socket_handler = SocketHandler(\"127.0.0.1\", 19996)\n",
    "    socket_handler.setFormatter(formatter)\n",
    "\n",
    "    logger.addHandler(file_handler)\n",
    "    logger.addHandler(str_handler)\n",
    "    logger.addHandler(char_handler)\n",
    "    logger.addHandler(socket_handler)\n",
    "\n",
    "    logger.setLevel(logging.DEBUG)\n",
    "\n",
    "    # tf_logger = tf.set_root_logger()\n",
    "    # tf_logger.addHandler(file_handler)\n",
    "    # tf_logger.addHandler(char_handler)\n",
    "    # tf_logger.addHandler(socket_handler)\n",
    "    # tf_logger.addHandler(str_handler)\n",
    "    return logger, dict_logger"
   ]
  },
  {
   "cell_type": "code",
   "execution_count": null,
   "id": "1ef906d0313cc72c",
   "metadata": {},
   "outputs": [],
   "source": [
    "#| hide\n",
    "import nbdev; nbdev.nbdev_export()\n"
   ]
  }
 ],
 "metadata": {
  "jupytext": {
   "cell_metadata_filter": "-all",
   "main_language": "python",
   "notebook_metadata_filter": "-all"
  },
  "kernelspec": {
   "display_name": "python3",
   "language": "python",
   "name": "python3"
  }
 },
 "nbformat": 4,
 "nbformat_minor": 5
}
