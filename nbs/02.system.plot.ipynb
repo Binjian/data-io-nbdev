{
 "cells": [
  {
   "cell_type": "code",
   "execution_count": null,
   "id": "809490cdb9a49f61",
   "metadata": {},
   "outputs": [],
   "source": [
    "%load_ext autoreload\n",
    "%autoreload 2"
   ]
  },
  {
   "cell_type": "markdown",
   "id": "6ad690be64157526",
   "metadata": {},
   "source": [
    "# plot\n",
    "\n",
    "> customized plotting service for the system programming "
   ]
  },
  {
   "cell_type": "code",
   "execution_count": null,
   "id": "396b9caf57938f38",
   "metadata": {},
   "outputs": [],
   "source": [
    "#| default_exp system.plot"
   ]
  },
  {
   "cell_type": "code",
   "execution_count": null,
   "id": "f84526587d4efc8",
   "metadata": {},
   "outputs": [],
   "source": [
    "#| export\n",
    "# system import\n",
    "import io"
   ]
  },
  {
   "cell_type": "code",
   "execution_count": null,
   "id": "cb8ca0c84fedd49b",
   "metadata": {},
   "outputs": [],
   "source": [
    "#| export\n",
    "# third party import\n",
    "import matplotlib.pyplot as plt\n",
    "import pandas as pd\n",
    "import tensorflow as tf"
   ]
  },
  {
   "cell_type": "code",
   "execution_count": null,
   "id": "b20a0516c626ae9d",
   "metadata": {},
   "outputs": [],
   "source": [
    "#| export\n",
    "def plot_3d_figure(table: pd.DataFrame):\n",
    "    \"\"\"Create a matplotlib 3d figure\n",
    "\n",
    "     export and save in log\n",
    "\n",
    "    Parameter:\n",
    "\n",
    "        table: pd.DataFrame with 3 columns: throttle, speed, torque\n",
    "\n",
    "    Return:\n",
    "\n",
    "            fig: matplotlib figure\n",
    "    \"\"\"\n",
    "\n",
    "    df = table.unstack().reset_index()\n",
    "    df.columns = pd.Index([\"throttle\", \"speed\", \"torque\"])\n",
    "\n",
    "    fig = plt.figure(visible=False)\n",
    "    ax = fig.add_subplot(projection=\"3d\")\n",
    "    surf = ax.plot_trisurf(  # type: ignore\n",
    "        df[\"throttle\"],\n",
    "        df[\"speed\"],\n",
    "        df[\"torque\"],\n",
    "        cmap=plt.get_cmap(\"YlGnBu\"),\n",
    "        linewidth=5,\n",
    "    )\n",
    "    fig.colorbar(surf, shrink=0.5, aspect=5)\n",
    "    ax.view_init(elev=30, azim=175)  # type: ignore\n",
    "\n",
    "    return fig\n",
    "    # plt.show()\n",
    "    # time.sleep(5)"
   ]
  },
  {
   "cell_type": "code",
   "execution_count": null,
   "id": "2359d24a35ed566c",
   "metadata": {},
   "outputs": [],
   "source": [
    "#| export\n",
    "def plot_to_image(figure):\n",
    "    \"\"\"Converts the matplotlib plot specified by 'figure' to a PNG image and\n",
    "    returns it.\n",
    "\n",
    "    The supplied figure is closed and inaccessible after this call.\n",
    "\n",
    "    Parameter:\n",
    "\n",
    "            figure: matplotlib figure\n",
    "\n",
    "    Return:\n",
    "\n",
    "                image: tf.Tensor\n",
    "    \"\"\"\n",
    "    # Save the plot to a PNG in memory.\n",
    "    buf = io.BytesIO()\n",
    "    plt.savefig(buf, format=\"png\")\n",
    "    # Closing the figure prevents it from being displayed directly inside\n",
    "    # the notebook.\n",
    "    plt.close(figure)\n",
    "    buf.seek(0)\n",
    "    # Convert PNG buffer to TF image\n",
    "    image = tf.image.decode_png(buf.getvalue(), channels=4)\n",
    "    # Add the batch dimension\n",
    "    image = tf.expand_dims(image, 0)\n",
    "    return image"
   ]
  },
  {
   "cell_type": "code",
   "execution_count": null,
   "id": "ef21dad1a99079e4",
   "metadata": {},
   "outputs": [],
   "source": [
    "#| hide\n",
    "import nbdev; nbdev.nbdev_export()\n"
   ]
  }
 ],
 "metadata": {
  "jupytext": {
   "cell_metadata_filter": "-all",
   "main_language": "python",
   "notebook_metadata_filter": "-all"
  },
  "kernelspec": {
   "display_name": "python3",
   "language": "python",
   "name": "python3"
  }
 },
 "nbformat": 4,
 "nbformat_minor": 5
}
