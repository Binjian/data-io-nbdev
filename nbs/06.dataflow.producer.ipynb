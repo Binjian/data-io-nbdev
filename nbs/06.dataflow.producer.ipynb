{
 "cells": [
  {
   "cell_type": "code",
   "execution_count": null,
   "id": "46b34eb4b7acf8ea",
   "metadata": {},
   "outputs": [],
   "source": [
    "%load_ext autoreload\n",
    "%autoreload 2"
   ]
  },
  {
   "cell_type": "markdown",
   "id": "244773bd32a11d34",
   "metadata": {},
   "source": [
    "# Producer\n",
    "\n",
    "> ABC Producer\n",
    "> Producer produce data into the pipeline\n",
    "> It's a source module in the pipeline. \n",
    "> It provides the unified interface for data capturing units"
   ]
  },
  {
   "cell_type": "code",
   "execution_count": null,
   "id": "45b125419459d39e",
   "metadata": {},
   "outputs": [],
   "source": [
    "#| default_exp dataflow.producer"
   ]
  },
  {
   "cell_type": "code",
   "execution_count": null,
   "id": "69a75cc9f588359b",
   "metadata": {},
   "outputs": [],
   "source": [
    "#| export\n",
    "import abc\n",
    "from threading import Event\n",
    "from dataclasses import dataclass\n",
    "from typing import Optional, TypeVar, Generic"
   ]
  },
  {
   "cell_type": "code",
   "execution_count": null,
   "id": "36743fb13a76d32f",
   "metadata": {},
   "outputs": [],
   "source": [
    "#| export\n",
    "from data_io_nbdev.dataflow.pipeline.queue import Pipeline  # type: ignore\n",
    "from data_io_nbdev.dataflow.pipeline.deque import PipelineDQ  # type: ignore"
   ]
  },
  {
   "cell_type": "code",
   "execution_count": null,
   "id": "cfaa79607e063fec",
   "metadata": {},
   "outputs": [],
   "source": [
    "#| export\n",
    "T_RAW = TypeVar(\"T_RAW\")  # Generic type for raw data\n",
    "T_HMI = TypeVar(\"T_HMI\")  # Generic type for HMI data"
   ]
  },
  {
   "cell_type": "code",
   "execution_count": null,
   "id": "7cc1672bfe7650c4",
   "metadata": {},
   "outputs": [],
   "source": [
    "#| export\n",
    "@dataclass\n",
    "class Producer(\n",
    "    abc.ABC, Generic[T_RAW, T_HMI]\n",
    "):  # Pycharm false positive warning for non-unique generic type\n",
    "    \"\"\"Producer produce data into the pipeline. It provides the unified interface for data capturing interface produce()\"\"\"\n",
    "\n",
    "    def __post_init__(self):\n",
    "        super().__init__()\n",
    "\n",
    "    @abc.abstractmethod\n",
    "    def produce(\n",
    "        self,\n",
    "        raw_pipeline: PipelineDQ[\n",
    "            T_RAW\n",
    "        ],  # Raw pipeline is deque to keep data fresh and ignore stale data, such as one with dict[str,str]\n",
    "        hmi_pipeline: Optional[\n",
    "            Pipeline[T_HMI]\n",
    "        ] = None,  # HMI pipeline is Queue, such as one with str\n",
    "        exit_event: Optional[Event] = None,\n",
    "    ):\n",
    "        \"\"\"\n",
    "        Produce data into the pipeline\n",
    "        \"\"\"\n",
    "        pass"
   ]
  },
  {
   "cell_type": "code",
   "execution_count": null,
   "id": "9dc72639324c544c",
   "metadata": {},
   "outputs": [],
   "source": [
    "#| hide\n",
    "from nbdev.showdoc import *"
   ]
  },
  {
   "cell_type": "code",
   "execution_count": null,
   "id": "cf19962e1834fd98",
   "metadata": {},
   "outputs": [
    {
     "data": {
      "text/markdown": "---\n\n### Producer.produce\n\n>      Producer.produce\n>                        (raw_pipeline:data_io_nbdev.dataflow.pipeline.deque.Pip\n>                        elineDQ[~T_RAW], hmi_pipeline:Optional[data_io_nbdev.da\n>                        taflow.pipeline.queue.Pipeline[~T_HMI]]=None,\n>                        exit_event:Optional[threading.Event]=None)\n\nProduce data into the pipeline\n\n|    | **Type** | **Default** | **Details** |\n| -- | -------- | ----------- | ----------- |\n| raw_pipeline | PipelineDQ |  |  |\n| hmi_pipeline | Optional | None | Raw pipeline is deque to keep data fresh and ignore stale data, such as one with dict[str,str] |\n| exit_event | Optional | None | HMI pipeline is Queue, such as one with str |",
      "text/plain": "---\n\n### Producer.produce\n\n>      Producer.produce\n>                        (raw_pipeline:data_io_nbdev.dataflow.pipeline.deque.Pip\n>                        elineDQ[~T_RAW], hmi_pipeline:Optional[data_io_nbdev.da\n>                        taflow.pipeline.queue.Pipeline[~T_HMI]]=None,\n>                        exit_event:Optional[threading.Event]=None)\n\nProduce data into the pipeline\n\n|    | **Type** | **Default** | **Details** |\n| -- | -------- | ----------- | ----------- |\n| raw_pipeline | PipelineDQ |  |  |\n| hmi_pipeline | Optional | None | Raw pipeline is deque to keep data fresh and ignore stale data, such as one with dict[str,str] |\n| exit_event | Optional | None | HMI pipeline is Queue, such as one with str |"
     },
     "execution_count": null,
     "metadata": {},
     "output_type": "execute_result"
    }
   ],
   "source": [
    "show_doc(Producer.produce)"
   ]
  },
  {
   "cell_type": "code",
   "execution_count": null,
   "id": "e27e46c39406cd4a",
   "metadata": {},
   "outputs": [],
   "source": [
    "#| hide\n",
    "import nbdev; nbdev.nbdev_export()"
   ]
  }
 ],
 "metadata": {
  "jupytext": {
   "cell_metadata_filter": "-all",
   "main_language": "python",
   "notebook_metadata_filter": "-all"
  },
  "kernelspec": {
   "display_name": "python3",
   "language": "python",
   "name": "python3"
  }
 },
 "nbformat": 4,
 "nbformat_minor": 5
}
