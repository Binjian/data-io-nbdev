{
 "cells": [
  {
   "cell_type": "code",
   "execution_count": 1,
   "outputs": [],
   "source": [
    "%load_ext autoreload\n",
    "%autoreload 2"
   ],
   "metadata": {
    "collapsed": false,
    "ExecuteTime": {
     "end_time": "2023-12-19T12:16:27.640244812Z",
     "start_time": "2023-12-19T12:16:27.631875918Z"
    }
   },
   "id": "39766f72a3dd5bf7"
  },
  {
   "cell_type": "markdown",
   "source": [
    "# tbox interface\n",
    "\n",
    "> interface for getting data from tbox"
   ],
   "metadata": {
    "collapsed": false
   },
   "id": "5c989f71b55a6204"
  },
  {
   "cell_type": "code",
   "execution_count": 2,
   "outputs": [],
   "source": [
    "#| default_exp conn.tbox"
   ],
   "metadata": {
    "collapsed": false,
    "ExecuteTime": {
     "end_time": "2023-12-19T12:16:27.653298332Z",
     "start_time": "2023-12-19T12:16:27.640493612Z"
    }
   },
   "id": "88fae57f2fe6257d"
  },
  {
   "cell_type": "code",
   "execution_count": 3,
   "outputs": [],
   "source": [
    "#| export\n",
    "import argparse\n",
    "import json\n",
    "import struct\n",
    "import subprocess\n",
    "import pandas as pd\n",
    "from collections import UserDict\n",
    "from dataclasses import dataclass, field\n",
    "from typing import Optional"
   ],
   "metadata": {
    "collapsed": false,
    "ExecuteTime": {
     "end_time": "2023-12-19T12:16:27.871436890Z",
     "start_time": "2023-12-19T12:16:27.653425242Z"
    }
   },
   "id": "b7f8c2a87f6ea95"
  },
  {
   "cell_type": "code",
   "execution_count": 4,
   "outputs": [],
   "source": [
    "#| export\n",
    "from data_io_nbdev.system.decorator import prepend_string_arg"
   ],
   "metadata": {
    "collapsed": false,
    "ExecuteTime": {
     "end_time": "2023-12-19T12:16:27.914269211Z",
     "start_time": "2023-12-19T12:16:27.913262189Z"
    }
   },
   "id": "1fca3daefe1b1c0e"
  },
  {
   "cell_type": "code",
   "execution_count": 5,
   "outputs": [],
   "source": [
    "#| export\n",
    "@dataclass(kw_only=True)\n",
    "class TBoxCanException(Exception):\n",
    "    \"\"\"Base class for all TBox CAN exceptions (Kvaser exceptions).\n",
    "\n",
    "    Args:\n",
    "        \n",
    "        err_code (int): error code\n",
    "        extra_msg (str): extra message\n",
    "        codes (UserDict): error code and message mapping\n",
    "    \"\"\"\n",
    "    \n",
    "    err_code: Optional[int] = 0  # default exception is unknown connection error\n",
    "    extra_msg: Optional[str] = None\n",
    "    codes: UserDict = field(default_factory=UserDict)\n",
    "\n",
    "    def __post_init__(self):\n",
    "        self.codes = UserDict(  # class attribute, if not given use the default\n",
    "            {\n",
    "                0: \"success\",\n",
    "                1: \"xcp download failure\",\n",
    "                2: \"xcp internal error\",\n",
    "                3: \"network_unknown_error\",\n",
    "                4: \"xcp flashing timeout\",\n",
    "            }\n",
    "        )\n",
    "        # print(\n",
    "        #     f\"{{\\'header\\': \\'err_code\\': \\'{self.err_code}\\', \"\n",
    "        #     f\"\\'msg\\': \\'{self.codes[self.err_code]}\\', \"\n",
    "        #     f\"\\'extra_msg\\': \\'{self.extra_msg}\\'}}\"\n",
    "        # "
   ],
   "metadata": {
    "collapsed": false,
    "ExecuteTime": {
     "end_time": "2023-12-19T12:16:27.915333330Z",
     "start_time": "2023-12-19T12:16:27.913527150Z"
    }
   },
   "id": "e98c0802731cf47e"
  },
  {
   "cell_type": "code",
   "execution_count": 6,
   "outputs": [],
   "source": [
    "#| export\n",
    "g_tbox_sim_path = \"/home/user/work/045b_demo/tbox-simulator\"\n",
    "g_input_json_path = \"\"\n",
    "g_output_json_path = \"\"\n",
    "g_download_script_diffon = \"\"\n",
    "g_download_script_diffoff = \"\""
   ],
   "metadata": {
    "collapsed": false,
    "ExecuteTime": {
     "end_time": "2023-12-19T12:16:27.915920640Z",
     "start_time": "2023-12-19T12:16:27.913632799Z"
    }
   },
   "id": "33dc9defa98fec0b"
  },
  {
   "cell_type": "code",
   "execution_count": 7,
   "outputs": [],
   "source": [
    "#| export\n",
    "def set_tbox_sim_path(tbox_sim_path):\n",
    "    global g_input_json_path\n",
    "    global g_output_json_path\n",
    "    global g_download_script_diffon\n",
    "    global g_download_script_diffoff\n",
    "    input_json_path = \"/xcp_driver/json/example.json\"\n",
    "    output_json_path = \"/xcp_driver/json/download.json\"\n",
    "    download_script_diffon = \"/xcp_driver/scripts/download_diffon.sh\"\n",
    "    download_script_diffoff = \"/xcp_driver/scripts/download_diffoff.sh\"\n",
    "    g_input_json_path = tbox_sim_path + input_json_path\n",
    "    g_output_json_path = tbox_sim_path + output_json_path\n",
    "    g_download_script_diffon = tbox_sim_path + download_script_diffon\n",
    "    g_download_script_diffoff = tbox_sim_path + download_script_diffoff"
   ],
   "metadata": {
    "collapsed": false,
    "ExecuteTime": {
     "end_time": "2023-12-19T12:16:27.916525662Z",
     "start_time": "2023-12-19T12:16:27.913727258Z"
    }
   },
   "id": "9b79c8903da6bc0f"
  },
  {
   "cell_type": "code",
   "execution_count": 8,
   "outputs": [],
   "source": [
    "#| export\n",
    "set_tbox_sim_path(g_tbox_sim_path)"
   ],
   "metadata": {
    "collapsed": false,
    "ExecuteTime": {
     "end_time": "2023-12-19T12:16:27.917297500Z",
     "start_time": "2023-12-19T12:16:27.913818269Z"
    }
   },
   "id": "fc3115d8fe4fdb72"
  },
  {
   "cell_type": "code",
   "execution_count": 9,
   "outputs": [],
   "source": [
    "#| export\n",
    "def float_to_hex(value):\n",
    "    h = hex(struct.unpack(\">I\", struct.pack(\"<f\", value))[0])\n",
    "    return h"
   ],
   "metadata": {
    "collapsed": false,
    "ExecuteTime": {
     "end_time": "2023-12-19T12:16:27.924737820Z",
     "start_time": "2023-12-19T12:16:27.916847760Z"
    }
   },
   "id": "6ea81b1fab12aaf9"
  },
  {
   "cell_type": "code",
   "execution_count": 10,
   "outputs": [],
   "source": [
    "#| export\n",
    "def hex_to_float(value):\n",
    "    return float(struct.unpack(\">f\", struct.pack(\"<I\", value))[0])"
   ],
   "metadata": {
    "collapsed": false,
    "ExecuteTime": {
     "end_time": "2023-12-19T12:16:27.933067778Z",
     "start_time": "2023-12-19T12:16:27.925723822Z"
    }
   },
   "id": "45647d0c84cc13a4"
  },
  {
   "cell_type": "code",
   "execution_count": 11,
   "outputs": [],
   "source": [
    "#| export\n",
    "def float_array_to_buffer(float_array):\n",
    "    buffer_value = \"\"\n",
    "    for i in range(len(float_array)):\n",
    "        hex_str = float_to_hex(float_array[i])[2:]\n",
    "        if len(hex_str) < 8:\n",
    "            diff = 8 - len(hex_str)\n",
    "            hex_str = \"0\" * diff + hex_str\n",
    "        buffer_value = buffer_value + hex_str\n",
    "    return buffer_value"
   ],
   "metadata": {
    "collapsed": false,
    "ExecuteTime": {
     "end_time": "2023-12-19T12:16:27.945891525Z",
     "start_time": "2023-12-19T12:16:27.934916690Z"
    }
   },
   "id": "f2409f8fc32a4061"
  },
  {
   "cell_type": "code",
   "execution_count": 12,
   "outputs": [],
   "source": [
    "#| export\n",
    "def parse_arg():\n",
    "    parser = argparse.ArgumentParser()\n",
    "\n",
    "    parser.add_argument(\"example_json\", help=\"example json file path\")\n",
    "    parser.add_argument(\n",
    "        \"-o\",\n",
    "        \"--output\",\n",
    "        help=\"<Required> output json file name\",\n",
    "        required=True,\n",
    "    )\n",
    "    args = parser.parse_args()\n",
    "    return args"
   ],
   "metadata": {
    "collapsed": false,
    "ExecuteTime": {
     "end_time": "2023-12-19T12:16:27.989346471Z",
     "start_time": "2023-12-19T12:16:27.945904850Z"
    }
   },
   "id": "2a3ccb5a4bc64827"
  },
  {
   "cell_type": "code",
   "execution_count": 13,
   "outputs": [],
   "source": [
    "#| export\n",
    "def write_json(output_json_path, example_json_path, data):\n",
    "    # 1 read example json\n",
    "    f = open(example_json_path, \"r\")\n",
    "    json_obj = json.load(f)\n",
    "    f.close()\n",
    "    # 2 write values to json object\n",
    "    for item in data:\n",
    "        name = item[\"name\"]\n",
    "        value = item[\"value\"]\n",
    "        for i in range(len(json_obj[\"data\"])):\n",
    "            if json_obj[\"data\"][i][\"name\"] == name:\n",
    "                dim = json_obj[\"data\"][i][\"dim\"]\n",
    "                value_length = int(json_obj[\"data\"][i][\"value_length\"])\n",
    "                length = 1\n",
    "                for d in dim:\n",
    "                    length = length * int(d)\n",
    "                if len(value) != length * value_length * 2:\n",
    "                    print(len(value))\n",
    "                    print(length * value_length * 2)\n",
    "                    print(\"value length does not match\")\n",
    "                    return\n",
    "                json_obj[\"data\"][i][\"value\"] = value\n",
    "    # 3 write output json\n",
    "    f = open(output_json_path, \"w\")\n",
    "    json_str = json.dumps(json_obj)\n",
    "    f.write(json_str)\n",
    "    f.close()"
   ],
   "metadata": {
    "collapsed": false,
    "ExecuteTime": {
     "end_time": "2023-12-19T12:16:27.990252783Z",
     "start_time": "2023-12-19T12:16:27.989326714Z"
    }
   },
   "id": "421723e6181989c3"
  },
  {
   "cell_type": "code",
   "execution_count": 14,
   "outputs": [],
   "source": [
    "#| export\n",
    "@prepend_string_arg(\"TQD_trqTrqSetNormal_MAP_v\")\n",
    "def send_float_array(name: str,  # string for the CAN message name\n",
    "                    float_df: pd.DataFrame,  # the torque table to be flashed onto VBU \n",
    "                    sw_diff: bool = False  # whether to use diff mode to accelerate flashing\n",
    "                    ) -> None:\n",
    "    \"\"\"\n",
    "    send float array to tbox simulator\n",
    "   \n",
    "    the decorator prepend_string_arg is to set the default CAN ID for flashing torque table \n",
    "    send_float_array(name, float_array, sw_diff) --> send_float_array(float_array, sw_diff)\n",
    "    \"\"\"\n",
    "\n",
    "    float_array = float_df.to_numpy().reshape(-1).tolist()\n",
    "    value_str = float_array_to_buffer(float_array)\n",
    "    data = [{\"name\": name, \"value\": value_str}]\n",
    "    write_json(g_output_json_path, g_input_json_path, data)\n",
    "    try:\n",
    "        if sw_diff:\n",
    "            xcp_download = subprocess.run([g_download_script_diffon], timeout=3, check=True)\n",
    "        else:\n",
    "            xcp_download = subprocess.run([g_download_script_diffoff], timeout=5)\n",
    "    except subprocess.TimeoutExpired as exc:\n",
    "        raise TBoxCanException(\n",
    "            err_code=4,\n",
    "            extra_msg=\"xcp download timeout\",\n",
    "        )\n",
    "    except subprocess.CalledProcessError as e:\n",
    "        raise TBoxCanException(\n",
    "            err_code=2,\n",
    "            extra_msg=f\"xcp download failed: {e}\",\n",
    "        )\n",
    "    except Exception as e:\n",
    "        raise TBoxCanException(\n",
    "            err_code=1,\n",
    "            extra_msg=f\"xcp download failed: {e}\",\n",
    "        )\n",
    "\n",
    "    # # print(\"The exit code was: %d\" % xcp_download.returncode)\n",
    "    # if xcp_download.returncode != 0:\n",
    "    #     raise TBoxCanException(\n",
    "    #         err_code=1,\n",
    "    #         extra_msg=\"xcp download failed\",\n",
    "    #     )"
   ],
   "metadata": {
    "collapsed": false,
    "ExecuteTime": {
     "end_time": "2023-12-19T12:16:27.990689688Z",
     "start_time": "2023-12-19T12:16:27.989540848Z"
    }
   },
   "id": "3e2a85d60e61efba"
  },
  {
   "cell_type": "markdown",
   "id": "1b6e1f42",
   "metadata": {},
   "source": [
    "Test can only be run in the vehicle with real hardware   \n",
    "value = [99.0] * 21 * 17\n",
    "send_float_array('TQD_trqTrqSetECO_MAP_v', value)"
   ]
  },
  {
   "cell_type": "code",
   "execution_count": 15,
   "outputs": [],
   "source": [
    "#| hide\n",
    "from nbdev.showdoc import *"
   ],
   "metadata": {
    "collapsed": false,
    "ExecuteTime": {
     "end_time": "2023-12-19T12:16:28.092207599Z",
     "start_time": "2023-12-19T12:16:27.989666005Z"
    }
   },
   "id": "da4bc026437b886c"
  },
  {
   "cell_type": "code",
   "execution_count": 16,
   "outputs": [
    {
     "data": {
      "text/plain": "---\n\n### send_float_array\n\n>      send_float_array (name:str, float_df:pandas.core.frame.DataFrame,\n>                        sw_diff:bool=False)\n\nsend float array to tbox simulator\n\nthe decorator prepend_string_arg is to set the default CAN ID for flashing torque table \nsend_float_array(name, float_array, sw_diff) --> send_float_array(float_array, sw_diff)\n\n|    | **Type** | **Default** | **Details** |\n| -- | -------- | ----------- | ----------- |\n| name | str |  | string for the CAN message name |\n| float_df | DataFrame |  | the torque table to be flashed onto VBU |\n| sw_diff | bool | False | whether to use diff mode to accelerate flashing |\n| **Returns** | **None** |  |  |",
      "text/markdown": "---\n\n### send_float_array\n\n>      send_float_array (name:str, float_df:pandas.core.frame.DataFrame,\n>                        sw_diff:bool=False)\n\nsend float array to tbox simulator\n\nthe decorator prepend_string_arg is to set the default CAN ID for flashing torque table \nsend_float_array(name, float_array, sw_diff) --> send_float_array(float_array, sw_diff)\n\n|    | **Type** | **Default** | **Details** |\n| -- | -------- | ----------- | ----------- |\n| name | str |  | string for the CAN message name |\n| float_df | DataFrame |  | the torque table to be flashed onto VBU |\n| sw_diff | bool | False | whether to use diff mode to accelerate flashing |\n| **Returns** | **None** |  |  |"
     },
     "execution_count": 16,
     "metadata": {},
     "output_type": "execute_result"
    }
   ],
   "source": [
    "show_doc(send_float_array)"
   ],
   "metadata": {
    "collapsed": false,
    "ExecuteTime": {
     "end_time": "2023-12-19T12:16:28.137713318Z",
     "start_time": "2023-12-19T12:16:28.094061760Z"
    }
   },
   "id": "af07cef2d42c51bd"
  },
  {
   "cell_type": "code",
   "execution_count": 17,
   "outputs": [],
   "source": [
    "#| hide\n",
    "import nbdev; nbdev.nbdev_export()"
   ],
   "metadata": {
    "collapsed": false,
    "ExecuteTime": {
     "end_time": "2023-12-19T12:16:30.240586529Z",
     "start_time": "2023-12-19T12:16:28.137430634Z"
    }
   },
   "id": "d8f2e937b0fb84f6"
  }
 ],
 "metadata": {
  "jupytext": {
   "cell_metadata_filter": "-all",
   "executable": "/usr/bin/env python3",
   "main_language": "python",
   "notebook_metadata_filter": "-all"
  },
  "kernelspec": {
   "name": "python3",
   "language": "python",
   "display_name": "Python 3 (ipykernel)"
  }
 },
 "nbformat": 4,
 "nbformat_minor": 5
}
