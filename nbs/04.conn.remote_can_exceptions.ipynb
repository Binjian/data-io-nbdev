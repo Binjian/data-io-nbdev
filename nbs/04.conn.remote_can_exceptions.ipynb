{
 "cells": [
  {
   "cell_type": "markdown",
   "id": "bd6a934383f94d7c",
   "metadata": {},
   "source": [
    "#  Exceptions\n",
    "\n",
    "> Customized Exceptions for RemoteCAN"
   ]
  },
  {
   "cell_type": "code",
   "execution_count": null,
   "id": "1d366e784e9b6bc2",
   "metadata": {},
   "outputs": [],
   "source": [
    "#| default_exp conn.remotecan.exceptions"
   ]
  },
  {
   "cell_type": "code",
   "execution_count": null,
   "id": "4e1b4f435599fd1c",
   "metadata": {},
   "outputs": [],
   "source": [
    "#| export\n",
    "from collections import UserDict\n",
    "from dataclasses import dataclass\n",
    "from typing import Optional"
   ]
  },
  {
   "cell_type": "code",
   "execution_count": null,
   "id": "1d09d6b339b743bd",
   "metadata": {},
   "outputs": [],
   "source": [
    "#| export\n",
    "@dataclass(kw_only=True)\n",
    "class RemoteCanException(Exception):\n",
    "    \"\"\"Base class for all remote CAN exceptions.\"\"\"\n",
    "\n",
    "    err_code: Optional[int] = 1001  # default exception is unknown connection error\n",
    "    extra_msg: Optional[str] = None\n",
    "    codes: Optional[UserDict] = None  # = field(default_factory=UserDict)\n",
    "\n",
    "    def __post_init__(self):\n",
    "        self.codes = UserDict(  # class attribute, if not given use the default\n",
    "            {\n",
    "                0: \"success\",\n",
    "                1: \"client_cannot_connect_to_server\",\n",
    "                2: \"ai_mode_shutdown\",\n",
    "                1000: \"network_connection_error\",\n",
    "                1001: \"network_unknown_error\",\n",
    "                1002: \"network_timeout\",\n",
    "                -1: \"tsp_internal_error\",\n",
    "                202: \"tsp_no_API_exist\",\n",
    "                206: \"tsp_parameter_wrong\",\n",
    "                301: \"tsp_out_of_time\",\n",
    "                302: \"tsp_command_execute_error\",\n",
    "                303: \"tsp_car_not_registered\",\n",
    "                304: \"tsp_car_offline\",\n",
    "                310: \"tsp_internal_exception_error\",\n",
    "                311: \"tsp_tbox_returned_error\",\n",
    "                3000: \"tsp_return_result_is_not_dictionary\",\n",
    "                3001: \"tsp_return_result_has_no_oss_link\",\n",
    "                2000: \"uds_version_failed\",\n",
    "                2001: \"ab_torque_switch_failed\",\n",
    "                2002: \"oss_data_not_enough\",\n",
    "                2003: \"torque_shape_error\",\n",
    "                2004: \"torque_range_error\",\n",
    "                2005: \"remote_can_unknown_format\",\n",
    "            }\n",
    "        )\n",
    "        # print(\n",
    "        #     f\"{{\\'header\\': \\'err_code\\': \\'{self.err_code}\\', \"\n",
    "        #     f\"\\'msg\\': \\'{self.codes[self.err_code]}\\', \"\n",
    "        #     f\"\\'extra_msg\\': \\'{self.extra_msg}\\'}}\"\n",
    "        # )"
   ]
  },
  {
   "cell_type": "code",
   "execution_count": null,
   "id": "bbe9786894224a47",
   "metadata": {},
   "outputs": [
    {
     "name": "stdout",
     "output_type": "stream",
     "text": [
      "{-1: 'tsp_internal_error',\n",
      " 0: 'success',\n",
      " 1: 'client_cannot_connect_to_server',\n",
      " 2: 'ai_mode_shutdown',\n",
      " 202: 'tsp_no_API_exist',\n",
      " 206: 'tsp_parameter_wrong',\n",
      " 301: 'tsp_out_of_time',\n",
      " 302: 'tsp_command_execute_error',\n",
      " 303: 'tsp_car_not_registered',\n",
      " 304: 'tsp_car_offline',\n",
      " 310: 'tsp_internal_exception_error',\n",
      " 311: 'tsp_tbox_returned_error',\n",
      " 1000: 'network_connection_error',\n",
      " 1001: 'network_unknown_error',\n",
      " 1002: 'network_timeout',\n",
      " 2000: 'uds_version_failed',\n",
      " 2001: 'ab_torque_switch_failed',\n",
      " 2002: 'oss_data_not_enough',\n",
      " 2003: 'torque_shape_error',\n",
      " 2004: 'torque_range_error',\n",
      " 2005: 'remote_can_unknown_format',\n",
      " 3000: 'tsp_return_result_is_not_dictionary',\n",
      " 3001: 'tsp_return_result_has_no_oss_link'}\n"
     ]
    }
   ],
   "source": [
    "#|output: true\n",
    "@dataclass(kw_only=True)\n",
    "class RemoteCanException(Exception):\n",
    "    \"\"\"Base class for all remote CAN exceptions.\"\"\"\n",
    "\n",
    "    err_code: Optional[int] = 1001  # default exception is unknown connection error\n",
    "    extra_msg: Optional[str] = None\n",
    "    codes: Optional[UserDict] = None  # = field(default_factory=UserDict)\n",
    "\n",
    "    def __post_init__(self):\n",
    "        self.codes = UserDict(  # class attribute, if not given use the default\n",
    "            {\n",
    "                0: \"success\",\n",
    "                1: \"client_cannot_connect_to_server\",\n",
    "                2: \"ai_mode_shutdown\",\n",
    "                1000: \"network_connection_error\",\n",
    "                1001: \"network_unknown_error\",\n",
    "                1002: \"network_timeout\",\n",
    "                -1: \"tsp_internal_error\",\n",
    "                202: \"tsp_no_API_exist\",\n",
    "                206: \"tsp_parameter_wrong\",\n",
    "                301: \"tsp_out_of_time\",\n",
    "                302: \"tsp_command_execute_error\",\n",
    "                303: \"tsp_car_not_registered\",\n",
    "                304: \"tsp_car_offline\",\n",
    "                310: \"tsp_internal_exception_error\",\n",
    "                311: \"tsp_tbox_returned_error\",\n",
    "                3000: \"tsp_return_result_is_not_dictionary\",\n",
    "                3001: \"tsp_return_result_has_no_oss_link\",\n",
    "                2000: \"uds_version_failed\",\n",
    "                2001: \"ab_torque_switch_failed\",\n",
    "                2002: \"oss_data_not_enough\",\n",
    "                2003: \"torque_shape_error\",\n",
    "                2004: \"torque_range_error\",\n",
    "                2005: \"remote_can_unknown_format\",\n",
    "            }\n",
    "        )\n",
    "        # print(\n",
    "        #     f\"{{\\'header\\': \\'err_code\\': \\'{self.err_code}\\', \"\n",
    "        #     f\"\\'msg\\': \\'{self.codes[self.err_code]}\\', \"\n",
    "        #     f\"\\'extra_msg\\': \\'{self.extra_msg}\\'}}\"\n",
    "        # )"
   ]
  },
  {
   "cell_type": "code",
   "execution_count": null,
   "id": "71716afa98b85575",
   "metadata": {},
   "outputs": [],
   "source": [
    "#| hide\n",
    "import nbdev; nbdev.nbdev_export()"
   ]
  }
 ],
 "metadata": {
  "jupytext": {
   "cell_metadata_filter": "-all",
   "main_language": "python",
   "notebook_metadata_filter": "-all"
  },
  "kernelspec": {
   "display_name": "python3",
   "language": "python",
   "name": "python3"
  }
 },
 "nbformat": 4,
 "nbformat_minor": 5
}
