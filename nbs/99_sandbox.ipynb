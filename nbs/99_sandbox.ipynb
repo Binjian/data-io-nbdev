{
 "cells": [
  {
   "cell_type": "code",
   "execution_count": null,
   "metadata": {},
   "outputs": [],
   "source": [
    "%load_ext autoreload\n",
    "%autoreload 2"
   ]
  },
  {
   "cell_type": "markdown",
   "metadata": {},
   "source": [
    "# sandbox \n",
    "\n",
    "> dataflow module for data pipeline processing "
   ]
  },
  {
   "cell_type": "code",
   "execution_count": null,
   "metadata": {},
   "outputs": [],
   "source": [
    "#| default_exp core"
   ]
  },
  {
   "cell_type": "code",
   "execution_count": null,
   "metadata": {},
   "outputs": [],
   "source": [
    "#| hide\n",
    "from nbdev.showdoc import *"
   ]
  },
  {
   "cell_type": "code",
   "execution_count": null,
   "metadata": {},
   "outputs": [],
   "source": [
    "#| export\n",
    "from typing import NamedTuple\n",
    "import pandas as pd"
   ]
  },
  {
   "cell_type": "code",
   "execution_count": null,
   "metadata": {},
   "outputs": [],
   "source": [
    "#| exports\n",
    "def say_hi(to: str):\n",
    "    \"\"\"\n",
    "    Say hello to somebody\n",
    "\n",
    "\n",
    "    Args:\n",
    "        to: somebody to say hello to\n",
    "    \"\"\"\n",
    "\n",
    "    return f\"Hi {to}!\""
   ]
  },
  {
   "cell_type": "code",
   "execution_count": null,
   "metadata": {},
   "outputs": [],
   "source": [
    "#| export\n",
    "def say_hello(to: str):\n",
    "    \"\"\"Say hello to somebody\"\"\"\n",
    "    return f\"Hello {to}!\""
   ]
  },
  {
   "cell_type": "code",
   "execution_count": null,
   "metadata": {},
   "outputs": [],
   "source": [
    "assert say_hello(\"Jeremy\")==\"Hello Jeremy!\""
   ]
  },
  {
   "cell_type": "code",
   "execution_count": null,
   "metadata": {},
   "outputs": [],
   "source": [
    "from fastcore.test import *"
   ]
  },
  {
   "cell_type": "code",
   "execution_count": null,
   "metadata": {},
   "outputs": [],
   "source": [
    "test_eq(say_hello(\"Jeremy\"), \"Hello Jeremy!\")"
   ]
  },
  {
   "cell_type": "code",
   "execution_count": null,
   "metadata": {},
   "outputs": [],
   "source": [
    "from IPython.display import display, SVG"
   ]
  },
  {
   "cell_type": "code",
   "execution_count": null,
   "metadata": {},
   "outputs": [],
   "source": [
    "display(SVG('<svg height=\"100\" xmlns=\"http://www.w3.org/2000/svg\"><circle cx=\"50\" cy=\"50\" r=\"40\"/></svg> '))"
   ]
  },
  {
   "cell_type": "markdown",
   "metadata": {},
   "source": [
    "## show a graph with mermaid"
   ]
  },
  {
   "cell_type": "markdown",
   "metadata": {},
   "source": [
    "```{mermaid}\n",
    "flowchart LR\n",
    "  A[Hard edge] --> B(Round edge)\n",
    "  B --> C{Decision}\n",
    "  C --> D[Result one]\n",
    "  C --> E[Result two]\n",
    "```"
   ]
  },
  {
   "cell_type": "markdown",
   "metadata": {},
   "source": [
    "```{dot}\n",
    "graph G {\n",
    "  layout=neato\n",
    "  run -- intr;\n",
    "  intr -- runbl;\n",
    "  runbl -- run;\n",
    "  run -- kernel;\n",
    "  kernel -- zombie;\n",
    "  kernel -- sleep;\n",
    "  kernel -- runmem;\n",
    "  sleep -- swap;\n",
    "  swap -- runswap;\n",
    "  runswap -- new;\n",
    "  runswap -- runmem;\n",
    "  new -- runmem;\n",
    "  sleep -- runmem;\n",
    "}\n",
    "```"
   ]
  },
  {
   "cell_type": "markdown",
   "metadata": {},
   "source": [
    "```{mermaid}\n",
    "sequenceDiagram\n",
    "  participant Alice\n",
    "  participant Bob\n",
    "  Alice->>John: Hello John, how are you?\n",
    "  loop Healthcheck\n",
    "    John->>John: Fight against hypochondria\n",
    "  end\n",
    "  Note right of John: Rational thoughts <br/>prevail!\n",
    "  John-->>Alice: Great!\n",
    "  John->>Bob: How about you?\n",
    "  Bob-->>John: Jolly good!\n",
    "```"
   ]
  },
  {
   "cell_type": "code",
   "execution_count": null,
   "metadata": {},
   "outputs": [],
   "source": [
    "#| hide\n",
    "import nbdev; nbdev.nbdev_export()"
   ]
  },
  {
   "cell_type": "markdown",
   "metadata": {},
   "source": [
    "## add a class"
   ]
  },
  {
   "cell_type": "code",
   "execution_count": null,
   "metadata": {},
   "outputs": [],
   "source": [
    "#| export\n",
    "class HelloSayer:\n",
    "    \"\"\"Say hello to `to` using `say_hello`\"\"\"\n",
    "\n",
    "    def __init__(self, to):\n",
    "        self.to = to\n",
    "\n",
    "    def say(self):\n",
    "        \"\"\"\n",
    "        Do the saying\n",
    "        \"\"\"\n",
    "        return say_hello(self.to)"
   ]
  },
  {
   "cell_type": "code",
   "execution_count": null,
   "metadata": {},
   "outputs": [],
   "source": [
    "show_doc(HelloSayer.say)"
   ]
  },
  {
   "cell_type": "code",
   "execution_count": null,
   "metadata": {},
   "outputs": [],
   "source": [
    "o = HelloSayer(\"Alexis\")\n",
    "o.say()"
   ]
  },
  {
   "cell_type": "code",
   "execution_count": null,
   "metadata": {},
   "outputs": [],
   "source": [
    "#| export\n",
    "def draw_n(\n",
    "    n: int, replace: bool = True  # Number of cards to draw  # Draw with replacement?\n",
    ") -> list:  # List of cards\n",
    "    \"Draw `n` cards.\"\n",
    "    return [1, 2, 3]"
   ]
  },
  {
   "cell_type": "code",
   "execution_count": null,
   "metadata": {},
   "outputs": [],
   "source": [
    "draw_n(3)"
   ]
  },
  {
   "cell_type": "code",
   "execution_count": null,
   "metadata": {},
   "outputs": [],
   "source": [
    "%debug"
   ]
  },
  {
   "cell_type": "code",
   "execution_count": null,
   "metadata": {},
   "outputs": [],
   "source": [
    "show_doc(draw_n)"
   ]
  },
  {
   "cell_type": "code",
   "execution_count": null,
   "metadata": {},
   "outputs": [],
   "source": [
    "#| export\n",
    "def draw_np(n: int, replace: bool = True) -> list:\n",
    "    \"\"\"\n",
    "    Draw `n` cards.\n",
    "\n",
    "    Parameters\n",
    "    ----------\n",
    "    n\n",
    "        Number of cards to draw\n",
    "    replace\n",
    "        Draw with replacement?\n",
    "\n",
    "    Returns\n",
    "    -------\n",
    "    cards\n",
    "        List of cards\n",
    "    \"\"\"\n",
    "    return [1, 2, 3]"
   ]
  },
  {
   "cell_type": "code",
   "execution_count": null,
   "metadata": {},
   "outputs": [],
   "source": [
    "show_doc(draw_np)"
   ]
  },
  {
   "cell_type": "code",
   "execution_count": null,
   "metadata": {},
   "outputs": [],
   "source": [
    "\n",
    "#| export\n",
    "class MP(NamedTuple):\n",
    "    \"\"\"\n",
    "    Motion power tuple\n",
    "\n",
    "    Parameters\n",
    "    ----------\n",
    "    timestep:\n",
    "        timestamp of the tuple\n",
    "    velocity:\n",
    "        velocity in m/s,\n",
    "    thrust:\n",
    "        thrust in percentage of full acc pedal,\n",
    "    brake:\n",
    "        brake in percentage of full brake pedal,\n",
    "    current:\n",
    "        current in A,\n",
    "    voltage:\n",
    "        voltage in V,\n",
    "\n",
    "    Returns\n",
    "    -------\n",
    "    MotionPower\n",
    "        motion power tuple\n",
    "    \"\"\"\n",
    "\n",
    "    timestep: pd.Timestamp  # timestamp of the tuple\n",
    "    velocity: float  # velocity in m/s\n",
    "    thrust: float  # thrust in percentage of full acc pedal\n",
    "    brake: float  # brake in percentage of full brake pedal\n",
    "    current: float  # current in A\n",
    "    voltage: float  # voltage in V"
   ]
  },
  {
   "cell_type": "code",
   "execution_count": null,
   "metadata": {},
   "outputs": [],
   "source": [
    "\n",
    "show_doc(MP)\n"
   ]
  },
  {
   "cell_type": "markdown",
   "metadata": {},
   "source": [
    "## add math"
   ]
  },
  {
   "cell_type": "markdown",
   "metadata": {},
   "source": [
    "$$\\sum_{i=1}^{k+1}i$$"
   ]
  },
  {
   "cell_type": "code",
   "execution_count": null,
   "metadata": {},
   "outputs": [],
   "source": [
    "#| hide\n",
    "import nbdev; nbdev.nbdev_export()"
   ]
  }
 ],
 "metadata": {
  "kernelspec": {
   "display_name": "python3",
   "language": "python",
   "name": "python3"
  }
 },
 "nbformat": 4,
 "nbformat_minor": 4
}
