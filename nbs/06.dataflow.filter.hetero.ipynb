{
 "cells": [
  {
   "cell_type": "code",
   "execution_count": null,
   "id": "7a8bd6db4913cdca",
   "metadata": {},
   "outputs": [],
   "source": [
    "%load_ext autoreload\n",
    "%autoreload 2"
   ]
  },
  {
   "cell_type": "markdown",
   "id": "21a677f8ba325a3f",
   "metadata": {},
   "source": [
    "# Heterofilter\n",
    "\n",
    "> HeteroFilter class\n",
    "> Hetereofilter is a filter that consumes data from a pipeline and produces data to another pipeline with a different type."
   ]
  },
  {
   "cell_type": "code",
   "execution_count": null,
   "id": "e43f7b7a460276f8",
   "metadata": {},
   "outputs": [],
   "source": [
    "#| default_exp dataflow.filter.hetero"
   ]
  },
  {
   "cell_type": "code",
   "execution_count": null,
   "id": "87ca4156f2021248",
   "metadata": {},
   "outputs": [],
   "source": [
    "#| export\n",
    "import abc\n",
    "from threading import Event\n",
    "from dataclasses import dataclass\n",
    "from typing import Optional, TypeVar, Generic"
   ]
  },
  {
   "cell_type": "code",
   "execution_count": null,
   "id": "766c070b762c3f65",
   "metadata": {},
   "outputs": [],
   "source": [
    "#| export\n",
    "from tspace.dataflow.pipeline.queue import Pipeline  # type: ignore\n",
    "from tspace.dataflow.pipeline.deque import PipelineDQ  # type: ignore"
   ]
  },
  {
   "cell_type": "code",
   "execution_count": null,
   "id": "cabdee29de772c6",
   "metadata": {},
   "outputs": [],
   "source": [
    "#| export\n",
    "T_I = TypeVar(\"T_I\")\n",
    "T_O = TypeVar(\"T_O\")"
   ]
  },
  {
   "cell_type": "code",
   "execution_count": null,
   "id": "eadafdd8372ef4ce",
   "metadata": {},
   "outputs": [],
   "source": [
    "#| export\n",
    "@dataclass\n",
    "class HeteroFilter(abc.ABC, Generic[T_I, T_O]):\n",
    "    \"\"\"Hetereofilter is a filter that consumes data from a pipeline and produces data to another pipeline with a different type.\"\"\"\n",
    "\n",
    "    def __post_init__(self):\n",
    "        super().__init__()\n",
    "\n",
    "    @abc.abstractmethod\n",
    "    def filter(\n",
    "        self,\n",
    "        in_pipeline: PipelineDQ[\n",
    "            T_I\n",
    "        ],  # deque[dict[str,str]] for vehicle_interface, Queue[pd.DataFrame] for crunchers\n",
    "        out_pipeline: Pipeline[T_O],  # output pipeline\n",
    "        start_event: Optional[Event],  # input event start\n",
    "        stop_event: Optional[Event],  # input event stop\n",
    "        interrupt_event: Optional[Event],  # input event interrupt\n",
    "        flash_event: Optional[Event],  # input event flash\n",
    "        exit_event: Optional[Event],  # input event exit\n",
    "    ) -> None:\n",
    "        \"\"\"\n",
    "        consume data into the pipeline, and produce data to the output pipeline\n",
    "        \"\"\"\n",
    "        pass"
   ]
  },
  {
   "cell_type": "code",
   "execution_count": null,
   "id": "158880f68999fb8c",
   "metadata": {},
   "outputs": [],
   "source": [
    "#| hide\n",
    "from nbdev.showdoc import *"
   ]
  },
  {
   "cell_type": "code",
   "execution_count": null,
   "id": "77f8b94978179734",
   "metadata": {},
   "outputs": [],
   "source": [
    "show_doc(HeteroFilter.filter)"
   ]
  },
  {
   "cell_type": "code",
   "execution_count": null,
   "id": "e57d342c07003b6a",
   "metadata": {},
   "outputs": [],
   "source": [
    "#| hide\n",
    "import nbdev; nbdev.nbdev_export()"
   ]
  }
 ],
 "metadata": {
  "jupytext": {
   "cell_metadata_filter": "-all",
   "main_language": "python",
   "notebook_metadata_filter": "-all"
  },
  "kernelspec": {
   "display_name": "python3",
   "language": "python",
   "name": "python3"
  }
 },
 "nbformat": 4,
 "nbformat_minor": 5
}
