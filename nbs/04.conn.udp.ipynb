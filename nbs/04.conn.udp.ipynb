{
 "cells": [
  {
   "cell_type": "markdown",
   "id": "6ad9e24e9959aaa9",
   "metadata": {},
   "source": [
    "# UDP\n",
    "\n",
    "> UDP context manager "
   ]
  },
  {
   "cell_type": "code",
   "execution_count": null,
   "id": "19ee755ead608b74",
   "metadata": {},
   "outputs": [],
   "source": [
    "#| default_exp conn.udp"
   ]
  },
  {
   "cell_type": "code",
   "execution_count": null,
   "id": "d19b82aa2a00ae9e",
   "metadata": {},
   "outputs": [],
   "source": [
    "#| export\n",
    "import glob\n",
    "import os\n",
    "import os.path\n",
    "from pathlib import Path\n",
    "import numpy as np\n",
    "import pandas as pd  # type: ignore\n",
    "from scipy import interpolate  # type: ignore"
   ]
  },
  {
   "cell_type": "code",
   "execution_count": null,
   "id": "e126e872becfe32e",
   "metadata": {},
   "outputs": [],
   "source": [
    "#| export\n",
    "import contextlib\n",
    "import socket\n",
    "from typing import Generator, Optional"
   ]
  },
  {
   "cell_type": "code",
   "execution_count": null,
   "id": "23ea55b3380b6793",
   "metadata": {},
   "outputs": [],
   "source": [
    "#| hide\n",
    "from nbdev.showdoc import *\n",
    "from fastcore.test import *"
   ]
  },
  {
   "cell_type": "code",
   "execution_count": null,
   "id": "46902b99c6ad89b5",
   "metadata": {},
   "outputs": [],
   "source": [
    "#| export\n",
    "@contextlib.contextmanager\n",
    "def udp_context(\n",
    "    host: str,  # host for udp socket\n",
    "    port: str,  # port for udp socket\n",
    "    timeout: Optional[float] = 5.0,  # timeout for udp socket\n",
    ") -> Generator[socket.socket, None, None]:  # Generator for udp socket\n",
    "    \"\"\"UDP context manager\"\"\"\n",
    "\n",
    "    try:\n",
    "        s = socket.socket(socket.AF_INET, socket.SOCK_DGRAM)\n",
    "    except socket.error:\n",
    "        raise Exception(\"Failed to create socket\")\n",
    "    socket.socket.settimeout(s, timeout)\n",
    "    s.bind((host, int(port)))\n",
    "\n",
    "    try:\n",
    "        yield s\n",
    "    except TimeoutError:\n",
    "        raise TimeoutError(f\"UDP Timeout error: {timeout} seconds\")\n",
    "    except Exception as e:\n",
    "        raise e\n",
    "    finally:\n",
    "        s.close()"
   ]
  },
  {
   "cell_type": "code",
   "execution_count": null,
   "id": "bc9c4dd73ebf6e7b",
   "metadata": {},
   "outputs": [
    {
     "data": {
      "text/markdown": "---\n\n[source](https://github.com/Binjian/data-io-nbdev/tree/main/blob/main/data_io_nbdev/config/udp.py#L22){target=\"_blank\" style=\"float:right; font-size:smaller\"}\n\n### udp_context\n\n>      udp_context (host:str, port:str, timeout:Optional[float]=5.0)\n\nUDP context manager\n\n|    | **Type** | **Default** | **Details** |\n| -- | -------- | ----------- | ----------- |\n| host | str |  | host for udp socket |\n| port | str |  | port for udp socket |\n| timeout | Optional | 5.0 | timeout for udp socket |\n| **Returns** | **Generator** |  | **Generator for udp socket** |",
      "text/plain": "---\n\n[source](https://github.com/Binjian/data-io-nbdev/tree/main/blob/main/data_io_nbdev/config/udp.py#L22){target=\"_blank\" style=\"float:right; font-size:smaller\"}\n\n### udp_context\n\n>      udp_context (host:str, port:str, timeout:Optional[float]=5.0)\n\nUDP context manager\n\n|    | **Type** | **Default** | **Details** |\n| -- | -------- | ----------- | ----------- |\n| host | str |  | host for udp socket |\n| port | str |  | port for udp socket |\n| timeout | Optional | 5.0 | timeout for udp socket |\n| **Returns** | **Generator** |  | **Generator for udp socket** |"
     },
     "execution_count": null,
     "metadata": {},
     "output_type": "execute_result"
    }
   ],
   "source": [
    "show_doc(udp_context)"
   ]
  },
  {
   "cell_type": "code",
   "execution_count": null,
   "id": "b89c8880daf038fc",
   "metadata": {},
   "outputs": [],
   "source": [
    "#| hide\n",
    "import nbdev; nbdev.nbdev_export()"
   ]
  }
 ],
 "metadata": {
  "jupytext": {
   "cell_metadata_filter": "-all",
   "main_language": "python",
   "notebook_metadata_filter": "-all"
  },
  "kernelspec": {
   "display_name": "python3",
   "language": "python",
   "name": "python3"
  }
 },
 "nbformat": 4,
 "nbformat_minor": 5
}
