{
 "cells": [
  {
   "cell_type": "markdown",
   "id": "6ad9e24e9959aaa9",
   "metadata": {},
   "source": [
    "# UDP\n",
    "\n",
    "> UDP context manager "
   ]
  },
  {
   "cell_type": "code",
   "execution_count": 8,
   "id": "19ee755ead608b74",
   "metadata": {
    "ExecuteTime": {
     "end_time": "2023-12-19T13:04:41.990078354Z",
     "start_time": "2023-12-19T13:04:41.966057075Z"
    }
   },
   "outputs": [],
   "source": [
    "#| default_exp conn.udp"
   ]
  },
  {
   "cell_type": "code",
   "execution_count": 9,
   "id": "d19b82aa2a00ae9e",
   "metadata": {
    "ExecuteTime": {
     "end_time": "2023-12-19T13:04:42.004591022Z",
     "start_time": "2023-12-19T13:04:41.991577089Z"
    }
   },
   "outputs": [],
   "source": [
    "#| export\n",
    "import glob\n",
    "import os\n",
    "import os.path\n",
    "from pathlib import Path\n",
    "import numpy as np\n",
    "import pandas as pd  # type: ignore\n",
    "from scipy import interpolate  # type: ignore"
   ]
  },
  {
   "cell_type": "code",
   "execution_count": 10,
   "id": "e126e872becfe32e",
   "metadata": {
    "ExecuteTime": {
     "end_time": "2023-12-19T13:04:42.004908264Z",
     "start_time": "2023-12-19T13:04:42.003829577Z"
    }
   },
   "outputs": [],
   "source": [
    "#| export\n",
    "import contextlib\n",
    "import socket\n",
    "from typing import Generator, Optional"
   ]
  },
  {
   "cell_type": "code",
   "execution_count": 11,
   "id": "23ea55b3380b6793",
   "metadata": {
    "ExecuteTime": {
     "end_time": "2023-12-19T13:04:42.006697542Z",
     "start_time": "2023-12-19T13:04:42.003998667Z"
    }
   },
   "outputs": [],
   "source": [
    "#| hide\n",
    "from nbdev.showdoc import *\n",
    "from fastcore.test import *"
   ]
  },
  {
   "cell_type": "code",
   "execution_count": 12,
   "id": "46902b99c6ad89b5",
   "metadata": {
    "ExecuteTime": {
     "end_time": "2023-12-19T13:04:42.049489882Z",
     "start_time": "2023-12-19T13:04:42.049060355Z"
    }
   },
   "outputs": [],
   "source": [
    "#| export\n",
    "@contextlib.contextmanager\n",
    "def udp_context(\n",
    "    host: str,  # host for udp socket\n",
    "    port: str,  # port for udp socket\n",
    "    timeout: Optional[float] = 5.0  # timeout for udp socket\n",
    ") -> Generator[socket.socket, None, None]:  # Generator for udp socket\n",
    "    \"\"\"UDP context manager\"\"\"\n",
    "\n",
    "    try:\n",
    "        s = socket.socket(socket.AF_INET, socket.SOCK_DGRAM)\n",
    "    except socket.error:\n",
    "        raise Exception(\"Failed to create socket\")\n",
    "    socket.socket.settimeout(s, timeout)\n",
    "    s.bind((host, int(port)))\n",
    "\n",
    "    try:\n",
    "        yield s\n",
    "    except TimeoutError:\n",
    "        raise TimeoutError(f\"UDP Timeout error: {timeout} seconds\")\n",
    "    except Exception as e:\n",
    "        raise e\n",
    "    finally:\n",
    "        s.close()"
   ]
  },
  {
   "cell_type": "code",
   "execution_count": 13,
   "id": "bc9c4dd73ebf6e7b",
   "metadata": {
    "ExecuteTime": {
     "end_time": "2023-12-19T13:04:42.050162765Z",
     "start_time": "2023-12-19T13:04:42.049199149Z"
    }
   },
   "outputs": [
    {
     "data": {
      "text/plain": "---\n\n[source](https://github.com/Binjian/data-io-nbdev/tree/main/blob/main/data_io_nbdev/config/udp.py#L22){target=\"_blank\" style=\"float:right; font-size:smaller\"}\n\n### udp_context\n\n>      udp_context (host:str, port:str, timeout:Optional[float]=5.0)\n\nUDP context manager\n\n|    | **Type** | **Default** | **Details** |\n| -- | -------- | ----------- | ----------- |\n| host | str |  | host for udp socket |\n| port | str |  | port for udp socket |\n| timeout | Optional | 5.0 | timeout for udp socket |\n| **Returns** | **Generator** |  | **Generator for udp socket** |",
      "text/markdown": "---\n\n[source](https://github.com/Binjian/data-io-nbdev/tree/main/blob/main/data_io_nbdev/config/udp.py#L22){target=\"_blank\" style=\"float:right; font-size:smaller\"}\n\n### udp_context\n\n>      udp_context (host:str, port:str, timeout:Optional[float]=5.0)\n\nUDP context manager\n\n|    | **Type** | **Default** | **Details** |\n| -- | -------- | ----------- | ----------- |\n| host | str |  | host for udp socket |\n| port | str |  | port for udp socket |\n| timeout | Optional | 5.0 | timeout for udp socket |\n| **Returns** | **Generator** |  | **Generator for udp socket** |"
     },
     "execution_count": 13,
     "metadata": {},
     "output_type": "execute_result"
    }
   ],
   "source": [
    "show_doc(udp_context)"
   ]
  },
  {
   "cell_type": "code",
   "execution_count": 14,
   "id": "b89c8880daf038fc",
   "metadata": {
    "ExecuteTime": {
     "end_time": "2023-12-19T13:04:43.980471318Z",
     "start_time": "2023-12-19T13:04:42.049305484Z"
    }
   },
   "outputs": [],
   "source": [
    "#| hide\n",
    "import nbdev; nbdev.nbdev_export()"
   ]
  }
 ],
 "metadata": {
  "jupytext": {
   "cell_metadata_filter": "-all",
   "main_language": "python",
   "notebook_metadata_filter": "-all"
  },
  "kernelspec": {
   "display_name": "python3",
   "language": "python",
   "name": "python3"
  }
 },
 "nbformat": 4,
 "nbformat_minor": 5
}
