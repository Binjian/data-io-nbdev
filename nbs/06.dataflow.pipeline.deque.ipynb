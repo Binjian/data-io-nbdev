{
 "cells": [
  {
   "cell_type": "code",
   "execution_count": null,
   "id": "885a6b0c5f5de047",
   "metadata": {},
   "outputs": [],
   "source": [
    "%load_ext autoreload\n",
    "%autoreload 2"
   ]
  },
  {
   "cell_type": "markdown",
   "id": "5bf3d2666faf2273",
   "metadata": {},
   "source": [
    "# Deque\n",
    "\n",
    "> ABC Pipeline with Deque\n",
    "> For processing unit"
   ]
  },
  {
   "cell_type": "code",
   "execution_count": null,
   "id": "17d83e5fbfbf6c2f",
   "metadata": {},
   "outputs": [],
   "source": [
    "#| default_exp dataflow.pipeline.deque"
   ]
  },
  {
   "cell_type": "code",
   "execution_count": null,
   "id": "7cd02b6d479b6af9",
   "metadata": {},
   "outputs": [],
   "source": [
    "#| export\n",
    "from collections import deque\n",
    "from typing import TypeVar"
   ]
  },
  {
   "cell_type": "code",
   "execution_count": null,
   "id": "d380a01f18447b56",
   "metadata": {},
   "outputs": [],
   "source": [
    "#| export\n",
    "T = TypeVar(\"T\")  # Generic type"
   ]
  },
  {
   "cell_type": "code",
   "execution_count": null,
   "id": "86e133ee79f728ec",
   "metadata": {},
   "outputs": [],
   "source": [
    "#| export\n",
    "class PipelineDQ(deque[T]):\n",
    "    \"\"\"Pipeline with Deque for double-ended processing unit in dataflow\"\"\"\n",
    "\n",
    "    def get_data(self) -> T:\n",
    "        \"\"\"\n",
    "        Get data from the pipeline\n",
    "\n",
    "        return:\n",
    "            data: data from the pipeline\n",
    "        \"\"\"\n",
    "        return self.pop()\n",
    "\n",
    "    def put_data(self, value: T):\n",
    "        \"\"\"\n",
    "        Put data into the pipeline\n",
    "\n",
    "        arg:\n",
    "\n",
    "            value: data to be put into the pipeline\n",
    "\n",
    "        return:\n",
    "\n",
    "            None\n",
    "        \"\"\"\n",
    "\n",
    "        self.append(value)\n",
    "\n",
    "    def clear(self):\n",
    "        \"\"\"\n",
    "        clear the pipeline (Deque)\n",
    "\n",
    "        `collection.deque` has a clear method. Just call it.\n",
    "        \"\"\"\n",
    "        self.clear()"
   ]
  },
  {
   "cell_type": "code",
   "execution_count": null,
   "id": "bb7b6fb3ea326637",
   "metadata": {},
   "outputs": [],
   "source": [
    "#| hide\n",
    "from nbdev.showdoc import *"
   ]
  },
  {
   "cell_type": "code",
   "execution_count": null,
   "id": "7a4193a129f3e79c",
   "metadata": {},
   "outputs": [],
   "source": [
    "show_doc(PipelineDQ.get_data)"
   ]
  },
  {
   "cell_type": "code",
   "execution_count": null,
   "id": "cc9b874400ebf70",
   "metadata": {},
   "outputs": [],
   "source": [
    "show_doc(PipelineDQ.put_data)"
   ]
  },
  {
   "cell_type": "code",
   "execution_count": null,
   "id": "e027d107b7da94e6",
   "metadata": {},
   "outputs": [],
   "source": []
  },
  {
   "cell_type": "code",
   "execution_count": null,
   "id": "9a8e4b224c3fe873",
   "metadata": {},
   "outputs": [],
   "source": [
    "show_doc(PipelineDQ.clear)"
   ]
  },
  {
   "cell_type": "code",
   "execution_count": null,
   "id": "4cc15680e1cfd939",
   "metadata": {},
   "outputs": [],
   "source": [
    "#| hide\n",
    "import nbdev; nbdev.nbdev_export()"
   ]
  }
 ],
 "metadata": {
  "jupytext": {
   "cell_metadata_filter": "-all",
   "main_language": "python",
   "notebook_metadata_filter": "-all"
  },
  "kernelspec": {
   "display_name": "python3",
   "language": "python",
   "name": "python3"
  }
 },
 "nbformat": 4,
 "nbformat_minor": 5
}
