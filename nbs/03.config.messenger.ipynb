{
 "cells": [
  {
   "cell_type": "markdown",
   "id": "339f0262f15e03d",
   "metadata": {},
   "source": [
    "#  messengers\n",
    "\n",
    "> messenger configurations "
   ]
  },
  {
   "cell_type": "code",
   "execution_count": null,
   "id": "68ada4087eeaff6e",
   "metadata": {},
   "outputs": [],
   "source": [
    "#| default_exp config.messengers"
   ]
  },
  {
   "cell_type": "code",
   "execution_count": null,
   "id": "a256040c28f2542e",
   "metadata": {},
   "outputs": [],
   "source": [
    "#| export\n",
    "\n",
    "from collections import namedtuple"
   ]
  },
  {
   "cell_type": "code",
   "execution_count": null,
   "id": "5ec89d0a2581809d",
   "metadata": {},
   "outputs": [],
   "source": [
    "#| hide\n",
    "from nbdev.showdoc import *\n",
    "from fastcore.test import *"
   ]
  },
  {
   "cell_type": "code",
   "execution_count": null,
   "id": "56163f879a83abe3",
   "metadata": {},
   "outputs": [],
   "source": [
    "#| export\n",
    "CANMessenger = namedtuple(\n",
    "    \"CANMessenger\",\n",
    "    [\n",
    "        \"server_name\",  # name of the can server\n",
    "        \"host\",  # url for the can server\n",
    "        \"port\",  # port for the can server\n",
    "        \"protocol\",  # protocol for the can server, for now either \"udp\" or \"tcp\"\n",
    "    ],  # \"protocol\" is used to differentiate between the two modes of communication \"cloud\" or \"local\"\n",
    ")"
   ]
  },
  {
   "cell_type": "code",
   "execution_count": null,
   "id": "85b1b1e9c27a6a03",
   "metadata": {},
   "outputs": [],
   "source": [
    "show_doc(CANMessenger)"
   ]
  },
  {
   "cell_type": "code",
   "execution_count": null,
   "id": "e068450d1b4f026c",
   "metadata": {},
   "outputs": [],
   "source": [
    "#| export\n",
    "TripMessenger = namedtuple(\n",
    "    \"TripMessenger\",\n",
    "    [\n",
    "        \"server_name\",  # name of the trip contol hmi server\n",
    "        \"host\",  # url for the trip server\n",
    "        \"port\",  # port for the trip server\n",
    "        \"protocol\",  # port for the trip server\n",
    "    ],\n",
    ")"
   ]
  },
  {
   "cell_type": "code",
   "execution_count": null,
   "id": "67070a5500d4fe0a",
   "metadata": {},
   "outputs": [],
   "source": [
    "show_doc(TripMessenger)"
   ]
  },
  {
   "cell_type": "code",
   "execution_count": null,
   "id": "7ae4b635b797f074",
   "metadata": {},
   "outputs": [],
   "source": [
    "#| export\n",
    "can_server_list = [\n",
    "    CANMessenger(\n",
    "        server_name=\"can_intra\",  # name of the can server\n",
    "        host=\"10.0.64.78\",  # url for the database server\n",
    "        port=\"5000\",  # port for the database server\n",
    "        protocol=\"tcp\",\n",
    "    ),\n",
    "    CANMessenger(\n",
    "        server_name=\"can_cloud\",  # name of the database\n",
    "        host=\"10.10.0.6\",  # url for the database server\n",
    "        port=\"30865\",  # port for the database server\n",
    "        protocol=\"tcp\",\n",
    "    ),\n",
    "    CANMessenger(\n",
    "        server_name=\"can_cloud_svc\",  # name of the database\n",
    "        host=\"remotecan.veos\",  # url for the database server\n",
    "        port=\"5000\",  # port for the database server\n",
    "        protocol=\"tcp\",\n",
    "    ),\n",
    "    CANMessenger(\n",
    "        server_name=\"can_udp_svc\",  # name of the database\n",
    "        host=\"127.0.0.1\",  # url for the database server\n",
    "        port=\"8002\",  # port for the database server\n",
    "        protocol=\"udp\",\n",
    "    ),\n",
    "]"
   ]
  },
  {
   "cell_type": "code",
   "execution_count": null,
   "id": "d1ed136ea0f8e28a",
   "metadata": {},
   "outputs": [],
   "source": [
    "#| output: true\n",
    "can_server_list"
   ]
  },
  {
   "cell_type": "code",
   "execution_count": null,
   "id": "37d6f18b1889047d",
   "metadata": {},
   "outputs": [],
   "source": [
    "#| export\n",
    "can_servers_by_name = dict(\n",
    "    zip([srv.server_name for srv in can_server_list], can_server_list)\n",
    ")"
   ]
  },
  {
   "cell_type": "code",
   "execution_count": null,
   "id": "49448c12ae5cdd93",
   "metadata": {},
   "outputs": [],
   "source": [
    "#| output: true\n",
    "can_servers_by_name"
   ]
  },
  {
   "cell_type": "code",
   "execution_count": null,
   "id": "c892b30f4fffcc1b",
   "metadata": {},
   "outputs": [],
   "source": [
    "#| export\n",
    "can_servers_by_host = dict(zip([srv.host for srv in can_server_list], can_server_list))"
   ]
  },
  {
   "cell_type": "code",
   "execution_count": null,
   "id": "ae6752409a4ea358",
   "metadata": {},
   "outputs": [],
   "source": [
    "#| output: true\n",
    "can_servers_by_host"
   ]
  },
  {
   "cell_type": "code",
   "execution_count": null,
   "id": "ac2db8dc53b67b26",
   "metadata": {},
   "outputs": [],
   "source": [
    "#| export\n",
    "trip_server_list = [\n",
    "    TripMessenger(\n",
    "        server_name=\"rocket_intra\",  # name of the database\n",
    "        host=\"10.0.64.78\",  # url for the database server\n",
    "        port=\"9876\",  # port for the database server\n",
    "        protocol=\"tcp\",\n",
    "    ),\n",
    "    TripMessenger(\n",
    "        server_name=\"rocket_cloud\",  # name of the database\n",
    "        host=\"10.0.64.122\",  # url for the database server\n",
    "        port=\"9876\",  # port for the database server\n",
    "        protocol=\"tcp\",\n",
    "    ),\n",
    "    TripMessenger(\n",
    "        server_name=\"rocket_cluster\",  # name of the database\n",
    "        host=\"10.10.0.13\",  # url for the database server\n",
    "        port=\"9876\",  # port for the database server\n",
    "        protocol=\"tcp\",\n",
    "    ),\n",
    "    TripMessenger(\n",
    "        server_name=\"local_udp\",  # name of the database\n",
    "        host=\"127.0.0.1\",  # url for the database server\n",
    "        port=\"8002\",  # port for the database server\n",
    "        protocol=\"udp\",\n",
    "    ),\n",
    "]"
   ]
  },
  {
   "cell_type": "code",
   "execution_count": null,
   "id": "8c2264a7dac85d5b",
   "metadata": {},
   "outputs": [],
   "source": [
    "#| output: true\n",
    "trip_server_list"
   ]
  },
  {
   "cell_type": "code",
   "execution_count": null,
   "id": "99d0c4dfc05729df",
   "metadata": {},
   "outputs": [],
   "source": [
    "#| export\n",
    "trip_servers_by_name = dict(\n",
    "    zip([srv.server_name for srv in trip_server_list], trip_server_list)\n",
    ")"
   ]
  },
  {
   "cell_type": "code",
   "execution_count": null,
   "id": "97b33a69e3446f70",
   "metadata": {},
   "outputs": [],
   "source": [
    "#| output: true\n",
    "trip_servers_by_name"
   ]
  },
  {
   "cell_type": "code",
   "execution_count": null,
   "id": "dd4c795caf411dc1",
   "metadata": {},
   "outputs": [],
   "source": [
    "#| export\n",
    "trip_servers_by_host = dict(\n",
    "    zip([srv.host for srv in trip_server_list], trip_server_list)\n",
    ")"
   ]
  },
  {
   "cell_type": "code",
   "execution_count": null,
   "id": "b8b8117f8816254",
   "metadata": {},
   "outputs": [],
   "source": [
    "#| output: true\n",
    "trip_servers_by_host"
   ]
  },
  {
   "cell_type": "code",
   "execution_count": null,
   "id": "cd5d32733ac6148e",
   "metadata": {},
   "outputs": [],
   "source": [
    "#| hide\n",
    "import nbdev; nbdev.nbdev_export()"
   ]
  }
 ],
 "metadata": {
  "jupytext": {
   "cell_metadata_filter": "-all",
   "main_language": "python",
   "notebook_metadata_filter": "-all"
  },
  "kernelspec": {
   "display_name": "python3",
   "language": "python",
   "name": "python3"
  }
 },
 "nbformat": 4,
 "nbformat_minor": 5
}
