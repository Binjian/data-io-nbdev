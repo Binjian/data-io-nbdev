{
 "cells": [
  {
   "cell_type": "code",
   "execution_count": null,
   "id": "9fe1159dbca92dc2",
   "metadata": {},
   "outputs": [],
   "source": [
    "%load_ext autoreload\n",
    "%autoreload 2"
   ]
  },
  {
   "cell_type": "markdown",
   "id": "11cd6dfc46570420",
   "metadata": {},
   "source": [
    "# data core\n",
    "\n",
    "> data core structures for eos"
   ]
  },
  {
   "cell_type": "code",
   "execution_count": null,
   "id": "883c741a74788b85",
   "metadata": {},
   "outputs": [],
   "source": [
    "#| default_exp data.core"
   ]
  },
  {
   "cell_type": "code",
   "execution_count": null,
   "id": "eacb411c586fde00",
   "metadata": {},
   "outputs": [],
   "source": [
    "#| export\n",
    "import re\n",
    "from configparser import ConfigParser\n",
    "from datetime import datetime\n",
    "from pathlib import Path\n",
    "from typing import Dict, List, NamedTuple, Optional, Tuple, TypeVar, Union, TypeAlias\n",
    "from zoneinfo import ZoneInfo  # type: ignore\n"
   ]
  },
  {
   "cell_type": "code",
   "execution_count": null,
   "id": "cc053c1c338badf4",
   "metadata": {},
   "outputs": [],
   "source": [
    "#| export\n",
    "import pandas as pd  # type: ignore\n",
    "from pydantic import BaseModel, Field, GetPydanticSchema  # type: ignore\n",
    "from pydantic.dataclasses import dataclass  # type: ignore\n",
    "from typing_extensions import TypedDict\n",
    "from data_io_nbdev.data.location import EosLocation\n"
   ]
  },
  {
   "cell_type": "code",
   "execution_count": null,
   "id": "57ddb98eeaab5c4e",
   "metadata": {},
   "outputs": [],
   "source": [
    "#| hide\n",
    "from nbdev.showdoc import *\n",
    "from fastcore.test import *"
   ]
  },
  {
   "cell_type": "code",
   "execution_count": null,
   "id": "6d8f7ccc7ee778c9",
   "metadata": {},
   "outputs": [],
   "source": [
    "#| export\n",
    "KvaserType: TypeAlias = dict[str, str]\n",
    "RCANType: TypeAlias = dict[str, dict[str, list[Union[str, list[list[str]]]]]]\n",
    "RawType: TypeAlias = Union[KvaserType, RCANType]\n"
   ]
  },
  {
   "cell_type": "code",
   "execution_count": null,
   "id": "456313379af09b1",
   "metadata": {},
   "outputs": [],
   "source": [
    "#| export\n",
    "#  Define TypedDict for type hinting of typed collections: records and episodes\n",
    "veos_lifetime_start_date: pd.Timestamp = pd.Timestamp(\n",
    "    ts_input=\"2021-01-01T00:00:00+08:00\", tz=\"Asia/Shanghai\"\n",
    ")\n",
    "veos_lifetime_end_date: pd.Timestamp = pd.Timestamp(\n",
    "    ts_input=\"2031-12-31T00:00:00+08:00\", tz=\"Asia/Shanghai\"\n",
    ")\n"
   ]
  },
  {
   "cell_type": "code",
   "execution_count": null,
   "id": "e02791da5e9e8b08",
   "metadata": {},
   "outputs": [
    {
     "data": {
      "text/plain": "Timestamp('2031-12-31 00:00:00+0800', tz='Asia/Shanghai')"
     },
     "execution_count": null,
     "metadata": {},
     "output_type": "execute_result"
    }
   ],
   "source": [
    "veos_lifetime_end_date"
   ]
  },
  {
   "cell_type": "code",
   "execution_count": null,
   "id": "74563e5a7fa7669b",
   "metadata": {},
   "outputs": [
    {
     "data": {
      "text/plain": "Timestamp('2031-12-31 00:00:00+0800', tz='Asia/Shanghai')"
     },
     "execution_count": null,
     "metadata": {},
     "output_type": "execute_result"
    }
   ],
   "source": [
    "veos_lifetime_end_date"
   ]
  },
  {
   "cell_type": "code",
   "execution_count": null,
   "id": "6e71ac0106e56c3b",
   "metadata": {},
   "outputs": [],
   "source": [
    "#| export\n",
    "class MotionPower(NamedTuple):\n",
    "    \"\"\"\n",
    "    Motion power tuple for raw data captured by Kvaser\n",
    "    \n",
    "    Attributes:\n",
    "        \n",
    "        timestep: timestamp of the tuple\n",
    "        velocity: velocity in m/s,\n",
    "        thrust: thrust in percentage of full acc pedal,\n",
    "        brake: brake in percentage of full brake pedal,\n",
    "        current: current in A,\n",
    "        voltage: voltage in V,\n",
    "    \n",
    "    return:\n",
    "    \n",
    "            MotionPower tuple    \n",
    "    \"\"\"\n",
    "    timestep: pd.Timestamp  # timestamp of the tuple\n",
    "    velocity: float  # velocity in m/s\n",
    "    thrust: float  # thrust in percentage of full acc pedal\n",
    "    brake: float  # brake in percentage of full brake pedal\n",
    "    current: float  # current in A\n",
    "    voltage: float  # voltage in V\n"
   ]
  },
  {
   "cell_type": "code",
   "execution_count": null,
   "id": "b4287c5e9599c2c4",
   "metadata": {},
   "outputs": [
    {
     "data": {
      "text/markdown": "---\n\n[source](https://github.com/Binjian/data-io-nbdev/tree/main/blob/main/data_io_nbdev/data/core.py#L43){target=\"_blank\" style=\"float:right; font-size:smaller\"}\n\n### MotionPower\n\n>      MotionPower (timestep:pandas._libs.tslibs.timestamps.Timestamp,\n>                   velocity:float, thrust:float, brake:float, current:float,\n>                   voltage:float)\n\nMotion power tuple for raw data captured by Kvaser\n\nAttributes:\n\n    timestep: timestamp of the tuple\n    velocity: velocity in m/s,\n    thrust: thrust in percentage of full acc pedal,\n    brake: brake in percentage of full brake pedal,\n    current: current in A,\n    voltage: voltage in V,\n\nreturn:\n\n        MotionPower tuple",
      "text/plain": "---\n\n[source](https://github.com/Binjian/data-io-nbdev/tree/main/blob/main/data_io_nbdev/data/core.py#L43){target=\"_blank\" style=\"float:right; font-size:smaller\"}\n\n### MotionPower\n\n>      MotionPower (timestep:pandas._libs.tslibs.timestamps.Timestamp,\n>                   velocity:float, thrust:float, brake:float, current:float,\n>                   voltage:float)\n\nMotion power tuple for raw data captured by Kvaser\n\nAttributes:\n\n    timestep: timestamp of the tuple\n    velocity: velocity in m/s,\n    thrust: thrust in percentage of full acc pedal,\n    brake: brake in percentage of full brake pedal,\n    current: current in A,\n    voltage: voltage in V,\n\nreturn:\n\n        MotionPower tuple"
     },
     "execution_count": null,
     "metadata": {},
     "output_type": "execute_result"
    }
   ],
   "source": [
    "show_doc(MotionPower)"
   ]
  },
  {
   "cell_type": "code",
   "execution_count": null,
   "id": "9fb71124fd71bd1e",
   "metadata": {},
   "outputs": [],
   "source": []
  },
  {
   "cell_type": "code",
   "execution_count": null,
   "id": "a249480279e286f9",
   "metadata": {},
   "outputs": [],
   "source": [
    "#| export\n",
    "class ECUMixin(BaseModel):\n",
    "    \"\"\"\n",
    "    ECU mixin class, for inheriting by Kvaser generated observation data\n",
    "    \n",
    "    Attributes:\n",
    "        \n",
    "        ecu_observation_number: number of observations per ECU\n",
    "        ecu_observation_frequency: frequency of observations per ECU\n",
    "        ecu_countdown: countdown time for ECU\n",
    "        \n",
    "    return:\n",
    "    \n",
    "            ECUMixin \n",
    "    \"\"\"\n",
    "    # optional: can be adjusted by developer\n",
    "    ecu_observation_number: int = 30\n",
    "    #     (KvaserMixin.kvaser_observation_number\n",
    "    # )  # 30  # Kvaser number of one observation unit: 30 as count number\n",
    "    ecu_observation_frequency: int = 20\n",
    "    #     (KvaserMixin.kvaser_observation_frequency\n",
    "    #     # 20  # Kvaser observation frequency: 20 Hz, fixed by hardware setting\n",
    "    # )\n",
    "    ecu_countdown: int = 3\n",
    "    #     (KvaserMixin.kvaser_countdown\n",
    "    #     # 3  # Kvaser countdown time: 3 seconds, optional: can be adjusted by developer\n",
    "    # )"
   ]
  },
  {
   "cell_type": "code",
   "execution_count": null,
   "id": "e5217f253861d51e",
   "metadata": {},
   "outputs": [
    {
     "data": {
      "text/markdown": "---\n\n[source](https://github.com/Binjian/data-io-nbdev/tree/main/blob/main/data_io_nbdev/data/core.py#L69){target=\"_blank\" style=\"float:right; font-size:smaller\"}\n\n### ECUMixin\n\n>      ECUMixin (ecu_observation_number:int=30,\n>                ecu_observation_frequency:int=20, ecu_countdown:int=3)\n\nECU mixin class, for inheriting by Kvaser generated observation data\n\nAttributes:\n\n    ecu_observation_number: number of observations per ECU\n    ecu_observation_frequency: frequency of observations per ECU\n    ecu_countdown: countdown time for ECU\n\nreturn:\n\n        ECUMixin",
      "text/plain": "---\n\n[source](https://github.com/Binjian/data-io-nbdev/tree/main/blob/main/data_io_nbdev/data/core.py#L69){target=\"_blank\" style=\"float:right; font-size:smaller\"}\n\n### ECUMixin\n\n>      ECUMixin (ecu_observation_number:int=30,\n>                ecu_observation_frequency:int=20, ecu_countdown:int=3)\n\nECU mixin class, for inheriting by Kvaser generated observation data\n\nAttributes:\n\n    ecu_observation_number: number of observations per ECU\n    ecu_observation_frequency: frequency of observations per ECU\n    ecu_countdown: countdown time for ECU\n\nreturn:\n\n        ECUMixin"
     },
     "execution_count": null,
     "metadata": {},
     "output_type": "execute_result"
    }
   ],
   "source": [
    "show_doc(ECUMixin)"
   ]
  },
  {
   "cell_type": "code",
   "execution_count": null,
   "id": "e8cc09576dbd3b4c",
   "metadata": {},
   "outputs": [],
   "source": [
    "#| export\n",
    "class CloudMixin(BaseModel):\n",
    "    \"\"\"\n",
    "    Cloud mixin class, for inheriting by tbox generated observation data\n",
    "    \n",
    "    Attributes:\n",
    "        \n",
    "        cloud_signal_frequency: frequency of observations of Tbox\n",
    "        cloud_gear_frequency: frequency of gear signal of Tbox\n",
    "        cloud_unit_duration: unit duration of Tbox in seconds \n",
    "        cloud_unit_number: number of observation units of Tbox\n",
    "        \n",
    "    return:\n",
    "    \n",
    "            CloudMixin \n",
    "    \"\"\"\n",
    "\n",
    "    cloud_signal_frequency: int = 50  # TboxMixin.tbox_signal_frequency  # 50  # Hz\n",
    "    cloud_gear_frequency: int = 2  # TboxMixin.tbox_gear_frequency  # 2  # Hz\n",
    "    cloud_unit_duration: int = 1\n",
    "    #     (TboxMixin.tbox_unit_duration\n",
    "    # )  # 1  # cloud unit duration in seconds\n",
    "    cloud_unit_number: int = 4\n",
    "    #     (TboxMixin.tbox_unit_number\n",
    "    # )  # int = 4  # cloud number of units of cloud observation\n"
   ]
  },
  {
   "cell_type": "code",
   "execution_count": null,
   "id": "2fca955ef1efb6d1",
   "metadata": {},
   "outputs": [
    {
     "data": {
      "text/markdown": "---\n\n[source](https://github.com/Binjian/data-io-nbdev/tree/main/blob/main/data_io_nbdev/data/core.py#L97){target=\"_blank\" style=\"float:right; font-size:smaller\"}\n\n### CloudMixin\n\n>      CloudMixin (cloud_signal_frequency:int=50, cloud_gear_frequency:int=2,\n>                  cloud_unit_duration:int=1, cloud_unit_number:int=4)\n\nCloud mixin class, for inheriting by tbox generated observation data\n\nAttributes:\n\n    cloud_signal_frequency: frequency of observations of Tbox\n    cloud_gear_frequency: frequency of gear signal of Tbox\n    cloud_unit_duration: unit duration of Tbox in seconds \n    cloud_unit_number: number of observation units of Tbox\n\nreturn:\n\n        CloudMixin",
      "text/plain": "---\n\n[source](https://github.com/Binjian/data-io-nbdev/tree/main/blob/main/data_io_nbdev/data/core.py#L97){target=\"_blank\" style=\"float:right; font-size:smaller\"}\n\n### CloudMixin\n\n>      CloudMixin (cloud_signal_frequency:int=50, cloud_gear_frequency:int=2,\n>                  cloud_unit_duration:int=1, cloud_unit_number:int=4)\n\nCloud mixin class, for inheriting by tbox generated observation data\n\nAttributes:\n\n    cloud_signal_frequency: frequency of observations of Tbox\n    cloud_gear_frequency: frequency of gear signal of Tbox\n    cloud_unit_duration: unit duration of Tbox in seconds \n    cloud_unit_number: number of observation units of Tbox\n\nreturn:\n\n        CloudMixin"
     },
     "execution_count": null,
     "metadata": {},
     "output_type": "execute_result"
    }
   ],
   "source": [
    "show_doc(CloudMixin)"
   ]
  },
  {
   "cell_type": "code",
   "execution_count": null,
   "id": "fc4fbfb12f7de7aa",
   "metadata": {},
   "outputs": [],
   "source": [
    "#| export\n",
    "class StateUnitCodes(BaseModel):\n",
    "    \"\"\"Observation of the episode.\"\"\"\n",
    "\n",
    "    velocity_unit_code: str = \"kph\"  # unit of velocity, default \"kph\"\n",
    "    thrust_unit_code: str = \"pct\"  # unit of thrust, default \"pct\"\n",
    "    brake_unit_code: str = \"pct\"  # unit of brake, default \"pct\"\n"
   ]
  },
  {
   "cell_type": "code",
   "execution_count": null,
   "id": "4a36e62755387eda",
   "metadata": {},
   "outputs": [],
   "source": [
    "#| export\n",
    "@dataclass(kw_only=True)\n",
    "class StateSpecs:\n",
    "    \"\"\"Observation of the episode.\"\"\"\n",
    "\n",
    "    state_unit_codes: StateUnitCodes = Field(default_factory=StateUnitCodes)\n",
    "    state_number: int = 3  # number of states, default 3, velocity, thrust, brake\n",
    "    unit_number_per_state: int = 200  # number of units, default 4\n",
    "    unit_duration: float = 1.0  # duration of each unit, default 1 second\n",
    "    frequency: int = 50  # frequency of each unit, default 50 Hz"
   ]
  },
  {
   "cell_type": "code",
   "execution_count": null,
   "id": "14167d03d442f11b",
   "metadata": {},
   "outputs": [],
   "source": [
    "#| export\n",
    "@dataclass\n",
    "class StateSpecsCloud(StateSpecs):\n",
    "    \"\"\"\n",
    "    StateSpecs for cloud interface\n",
    "    \"\"\"\n",
    "\n",
    "    cloud_interface: CloudMixin = Field(default_factory=CloudMixin)\n",
    "\n",
    "    def __post_init__(self):\n",
    "        self.state_number = 3\n",
    "        self.unit_number_per_state = int(\n",
    "            self.cloud_interface.cloud_unit_number\n",
    "            * self.cloud_interface.cloud_unit_duration\n",
    "            * self.cloud_interface.cloud_signal_frequency\n",
    "        )  # 4*1*50 = 200\n",
    "        self.unit_duration = (\n",
    "                self.cloud_interface.cloud_unit_duration\n",
    "                * self.cloud_interface.cloud_unit_number\n",
    "        )  # 1.0 * 4 = 4.0s\n",
    "        self.frequency = self.cloud_interface.cloud_signal_frequency  # 50\n"
   ]
  },
  {
   "cell_type": "code",
   "execution_count": null,
   "id": "86947357b247c84d",
   "metadata": {},
   "outputs": [],
   "source": [
    "#| export\n",
    "@dataclass\n",
    "class StateSpecsECU(StateSpecs):\n",
    "    \"\"\"\n",
    "    StateSpecs for Kvaser interface\n",
    "    \"\"\"\n",
    "\n",
    "    ecu_interface: ECUMixin = Field(default_factory=ECUMixin)\n",
    "\n",
    "    def __post_init__(self):\n",
    "        self.state_number = 3\n",
    "        self.unit_number_per_state = self.ecu_interface.ecu_observation_number  # 30\n",
    "        self.unit_duration = (\n",
    "                self.ecu_interface.ecu_observation_number\n",
    "                / self.ecu_interface.ecu_observation_frequency  # 1.5s\n",
    "        )\n",
    "        self.frequency = self.ecu_interface.ecu_observation_frequency  # 20"
   ]
  },
  {
   "cell_type": "code",
   "execution_count": null,
   "id": "7b771d0bfa083207",
   "metadata": {},
   "outputs": [],
   "source": [
    "#| export\n",
    "class ActionSpecs(BaseModel):\n",
    "    \"\"\"Action of the episode.\"\"\"\n",
    "\n",
    "    action_unit_code: str = \"nm\"  # unit of action, default \"nm\"\n",
    "    action_row_number: int = 4  # trucks_by_id[\"default\"].torque_table_row_num_flash  # 4  # number of rows, default 4\n",
    "    action_column_number: int = 17  # trucks_by_id[\"default\"].torque_table_col_num  # 17  # number of columns, default 17 len(PEDAL_SCALE)"
   ]
  },
  {
   "cell_type": "code",
   "execution_count": null,
   "id": "7c1c943776c3e999",
   "metadata": {},
   "outputs": [],
   "source": [
    "#| export\n",
    "class RewardSpecs(BaseModel):\n",
    "    \"\"\"\n",
    "    Reward of the episode\n",
    "    \n",
    "    Attributes:\n",
    "        \n",
    "        reward_unit_code: unit of reward, default \"wh\"\n",
    "        reward_number: number of rewards, default 1, current reward, can be extended to multiple past rewards   \n",
    "    \"\"\"\n",
    "\n",
    "    reward_unit_code: str = \"wh\"  # unit of reward, default \"wh\"\n",
    "    reward_number: int = 1  # number of rewards, default 1, current reward, can be extended to multiple past rewards"
   ]
  },
  {
   "cell_type": "code",
   "execution_count": null,
   "id": "ff7c731f7f906ae7",
   "metadata": {},
   "outputs": [],
   "source": [
    "#| export\n",
    "class ObservationMeta(BaseModel):\n",
    "    \"\"\"\n",
    "    selected metadata for db document matching pandas DataFrame\n",
    "    \n",
    "    Attributes:\n",
    "        \n",
    "        state_specs: StateSpecs()\n",
    "        action_specs: ActionSpecs()\n",
    "        reward_specs: RewardSpecs()\n",
    "        site: EosLocation()  # \"at\"  # observation (testing) site\n",
    "    \"\"\"\n",
    "\n",
    "    state_specs: StateSpecs  # StateSpecs()\n",
    "    # ActionSpecs(action_unit_code=\"nm\",\n",
    "    #             action_row_number=trucks_by_id[\"default\"].torque_table_row_num_flash,  # 4\n",
    "    #             action_column_number=trucks_by_id[\"default\"].torque_table_col_num,  # 17)\n",
    "    action_specs: ActionSpecs\n",
    "    reward_specs: RewardSpecs  # RewardSpecs(reward_unit_code=\"wh\")\n",
    "    site: EosLocation  # \"at\"  # observation (testing) site\n",
    "\n",
    "    def get_number_of_states(self) -> int:\n",
    "        \"\"\"\n",
    "        get number of states from StateSpecs\n",
    "        \"\"\"\n",
    "\n",
    "        return self.state_specs.state_number * self.state_specs.unit_number_per_state\n",
    "\n",
    "    def get_number_of_actions(self) -> int:\n",
    "        \"\"\"\n",
    "        get number of actions from ActionSpecs\n",
    "        \"\"\"\n",
    "        return (\n",
    "                self.action_specs.action_row_number * self.action_specs.action_column_number\n",
    "        )\n",
    "\n",
    "    def get_number_of_states_actions(self) -> Tuple[int, int]:\n",
    "        \"\"\"\n",
    "        get number of states and actions from Plot\n",
    "        \"\"\"\n",
    "        return self.get_number_of_states(), self.get_number_of_actions()\n",
    "\n",
    "    def have_same_meta(self, meta_to_compare: 'ObservationMeta'):\n",
    "        \"\"\"\n",
    "        Compare two plots, return True if they are the same, while ignoring the 'when' field\n",
    "        \"\"\"\n",
    "        return all(\n",
    "            [\n",
    "                all([\n",
    "                    self.state_specs.state_unit_codes == meta_to_compare.state_specs.state_unit_codes,\n",
    "                    self.state_specs.state_number == meta_to_compare.state_specs.state_number,\n",
    "                    self.state_specs.unit_number_per_state == meta_to_compare.state_specs.unit_number_per_state,\n",
    "                    self.state_specs.unit_duration == meta_to_compare.state_specs.unit_duration,\n",
    "                    self.state_specs.frequency == meta_to_compare.state_specs.frequency\n",
    "                ]),\n",
    "                all([self.action_specs.action_row_number == meta_to_compare.action_specs.action_row_number,\n",
    "                     self.action_specs.action_column_number == meta_to_compare.action_specs.action_column_number,\n",
    "                     self.action_specs.action_unit_code == meta_to_compare.action_specs.action_unit_code\n",
    "                     ]),\n",
    "                self.reward_specs == meta_to_compare.reward_specs,\n",
    "                self.site == meta_to_compare.site,\n",
    "            ]\n",
    "        )\n",
    "        # return all(\n",
    "        #     [\n",
    "        #         getattr(self, attr) == getattr(meta_to_compare, attr)\n",
    "        #         for attr in list(self.__slots__)\n",
    "        #     ]\n",
    "        # )\n",
    "\n",
    "    def get_torque_table_row_names(self) -> List[str]:\n",
    "        \"\"\"\n",
    "        get torque table row names from reward_specs\n",
    "        defined as [r0, r1, r2, ...]\n",
    "        \"\"\"\n",
    "        torque_table_row_names = [\n",
    "            f\"r{i}\" for i in range(self.action_specs.action_row_number)\n",
    "        ]\n",
    "        return torque_table_row_names"
   ]
  },
  {
   "cell_type": "code",
   "execution_count": null,
   "id": "3e90a2f79bcb7011",
   "metadata": {},
   "outputs": [],
   "source": [
    "#| export\n",
    "# @dataclass(slots=True)  # use slot to save memory and fix the attributes\n",
    "class ObservationMetaCloud(ObservationMeta):\n",
    "    \"\"\"\n",
    "    selected metadata for db document matching pandas DataFrame\n",
    "    \"\"\"\n",
    "\n",
    "    state_specs: StateSpecsCloud  # Field(default_factory=StateSpecs)"
   ]
  },
  {
   "cell_type": "code",
   "execution_count": null,
   "id": "e141d0d8886bb842",
   "metadata": {},
   "outputs": [],
   "source": [
    "#| export\n",
    "# @dataclass(slots=True)  # use slot to save memory and fix the attributes\n",
    "class ObservationMetaECU(ObservationMeta):\n",
    "    \"\"\"\n",
    "    selected metadata for db document matching pandas DataFrame\n",
    "    \"\"\"\n",
    "\n",
    "    state_specs: StateSpecsECU  # Field(default_factory=StateSpecsECU)"
   ]
  },
  {
   "cell_type": "code",
   "execution_count": null,
   "id": "a2a89beb24e8b65d",
   "metadata": {},
   "outputs": [],
   "source": [
    "#| export\n",
    "class DataFrameDoc(TypedDict):\n",
    "    \"\"\"Record doc type of mongo pool for record\"\"\"\n",
    "\n",
    "    timestamp: datetime  # only usage of Datetime type, as interface to MongoDB timestamp (BSON Date)\n",
    "    meta: dict\n",
    "    observation: dict\n",
    "    # for RECORD seq_len = 1\n"
   ]
  },
  {
   "cell_type": "code",
   "execution_count": null,
   "id": "9d2894c040c3b85a",
   "metadata": {},
   "outputs": [],
   "source": [
    "\n",
    "#| export\n",
    "ItemT = TypeVar(\"ItemT\", Dict, pd.DataFrame)"
   ]
  },
  {
   "cell_type": "code",
   "execution_count": null,
   "id": "b17b4cc41747769c",
   "metadata": {},
   "outputs": [],
   "source": [
    "\n",
    "\n",
    "#| export\n",
    "class PoolQuery(BaseModel):\n",
    "    \"\"\"Query for Record\"\"\"\n",
    "\n",
    "    vehicle: str  # \"\"\n",
    "    driver: str  # \"\"\n",
    "    episodestart_start: datetime = (\n",
    "        veos_lifetime_start_date.to_pydatetime()\n",
    "    )  # timezone aware\n",
    "    episodestart_end: datetime = (\n",
    "        veos_lifetime_end_date.to_pydatetime()\n",
    "    )  # timezone aware\n",
    "    timestamp_start: Optional[datetime] = None  # for episode query should be None\n",
    "    timestamp_end: Optional[datetime] = None  # for episode query should be None\n",
    "    seq_len_from: Optional[\n",
    "        int\n",
    "    ] = None  # default for record query, for episode query should be sequence length, default to around 200, like 160\n",
    "    seq_len_to: Optional[\n",
    "        int\n",
    "    ] = None  # default for record query, for episode query should be > 200, like 240"
   ]
  },
  {
   "cell_type": "code",
   "execution_count": null,
   "id": "8b57795741d24c0a",
   "metadata": {},
   "outputs": [],
   "source": [
    "\n",
    "#| export\n",
    "RE_RECIPEKEY = re.compile(r\"^[A-Za-z]\\w*\\.ini$\")"
   ]
  },
  {
   "cell_type": "code",
   "execution_count": null,
   "id": "b827c83038ca70a0",
   "metadata": {},
   "outputs": [],
   "source": [
    "\n",
    "#| export\n",
    "def get_filemeta_config(\n",
    "        data_folder: str,\n",
    "        config_file: Optional[str],\n",
    "        meta: Union[ObservationMetaCloud, ObservationMetaECU],\n",
    "        coll_type: str,\n",
    ") -> ConfigParser:\n",
    "    \"\"\"Get the filepool config from the specified path data_folder + '\\' + config_file\n",
    "        and compare the meat data with the plot info\n",
    "    Returns:\n",
    "        ConfigParser: filepool config\n",
    "    \"\"\"\n",
    "\n",
    "    recipe_default: ConfigParser = ConfigParser()\n",
    "    number_states, number_actions = meta.get_number_of_states_actions()\n",
    "    recipe_default.read_dict(\n",
    "        {\n",
    "            \"DEFAULT\": {  # should go into parquet tabel meta info\n",
    "                \"data_folder\": data_folder,  # '.',\n",
    "                \"recipe_file_name\": \"\",  # 'recipe.ini',\n",
    "                \"coll_type\": coll_type,\n",
    "            },\n",
    "            \"array_specs\": {  # should go into parquet columns meta info\n",
    "                \"states\": str(number_states),  # 50*4*3\n",
    "                \"actions\": str(number_actions),  # 17*4\n",
    "                \"rewards\": \"1\",\n",
    "                \"next_states\": str(number_states),  # 50*4*3\n",
    "            },\n",
    "        }\n",
    "    )\n",
    "\n",
    "    recipe: ConfigParser = ConfigParser()\n",
    "    if config_file is None:\n",
    "        recipe_default[\"DEFAULT\"][\"recipe_file_name\"] = \"recipe.ini\"\n",
    "    else:\n",
    "        recipe_p = re.compile(RE_RECIPEKEY)\n",
    "        assert recipe_p.match(\n",
    "            config_file\n",
    "        ), f\"recipe file name {config_file} is not valid\"\n",
    "        recipe_default[\"DEFAULT\"][\"recipe_file_name\"] = config_file\n",
    "        data_folder_path = Path(data_folder)\n",
    "        config_file_path = data_folder_path / config_file\n",
    "        try:\n",
    "            recipe.read_file(open(config_file_path))\n",
    "            # check if the recipe is matching with the truck specs\n",
    "            # assert (\n",
    "            #     recipe['array_specs'] == recipe_default['array_specs']\n",
    "            # ), f\"ini file array_specs is not matching the realtime truck signal specs\"\n",
    "        except FileNotFoundError:\n",
    "            recipe = recipe_default\n",
    "            data_folder_path.mkdir(parents=True, exist_ok=True)\n",
    "            with open(config_file_path, \"w\") as configfile:\n",
    "                recipe.write(configfile)\n",
    "        except Exception as e:\n",
    "            raise Exception(f\"Error reading recipe file {config_file_path}, {e}\")\n",
    "        recipe['DEFAULT']['coll_type'] = coll_type\n",
    "\n",
    "    return recipe"
   ]
  },
  {
   "cell_type": "code",
   "execution_count": null,
   "id": "eee5437ec3e25bd3",
   "metadata": {},
   "outputs": [
    {
     "name": "stderr",
     "output_type": "stream",
     "text": [
      "2023-12-12 19:48:28.561658: I tensorflow/tsl/cuda/cudart_stub.cc:28] Could not find cuda drivers on your machine, GPU will not be used.\n",
      "2023-12-12 19:48:28.598761: E tensorflow/compiler/xla/stream_executor/cuda/cuda_dnn.cc:9342] Unable to register cuDNN factory: Attempting to register factory for plugin cuDNN when one has already been registered\n",
      "2023-12-12 19:48:28.598801: E tensorflow/compiler/xla/stream_executor/cuda/cuda_fft.cc:609] Unable to register cuFFT factory: Attempting to register factory for plugin cuFFT when one has already been registered\n",
      "2023-12-12 19:48:28.598842: E tensorflow/compiler/xla/stream_executor/cuda/cuda_blas.cc:1518] Unable to register cuBLAS factory: Attempting to register factory for plugin cuBLAS when one has already been registered\n",
      "2023-12-12 19:48:28.606586: I tensorflow/tsl/cuda/cudart_stub.cc:28] Could not find cuda drivers on your machine, GPU will not be used.\n",
      "2023-12-12 19:48:28.606947: I tensorflow/core/platform/cpu_feature_guard.cc:182] This TensorFlow binary is optimized to use available CPU instructions in performance-critical operations.\n",
      "To enable the following instructions: AVX2 FMA, in other operations, rebuild TensorFlow with the appropriate compiler flags.\n"
     ]
    }
   ],
   "source": [
    "from eos.data_io.config.vehicles import trucks_by_id\n",
    "from data_io_nbdev.data.location import EosLocation, locations_by_abbr\n",
    "data_folder = \"data\"\n",
    "coll_type = \"RECORD\"\n",
    "truck = trucks_by_id[\"default\"]\n",
    "truck.site = locations_by_abbr[truck.site.abbr]\n",
    "# isinstance(truck.site, EosLocation)"
   ]
  },
  {
   "cell_type": "code",
   "execution_count": null,
   "id": "33bcc93d158ede7a",
   "metadata": {},
   "outputs": [
    {
     "data": {
      "text/plain": "ObservationMetaECU(state_specs=StateSpecsECU(state_unit_codes=StateUnitCodes(velocity_unit_code='kph', thrust_unit_code='pct', brake_unit_code='pct'), state_number=3, unit_number_per_state=30, unit_duration=1.5, frequency=20, ecu_interface=ECUMixin(ecu_observation_number=30, ecu_observation_frequency=20, ecu_countdown=3)), action_specs=ActionSpecs(action_unit_code='nm', action_row_number=4, action_column_number=17), reward_specs=RewardSpecs(reward_unit_code='wh', reward_number=1), site=EosLocation(abbr='unknown', name='unknown', cname='未知', tz=zoneinfo.ZoneInfo(key='Etc/UTC')))"
     },
     "execution_count": null,
     "metadata": {},
     "output_type": "execute_result"
    }
   ],
   "source": [
    "\n",
    "meta = ObservationMetaECU(\n",
    "    state_specs=StateSpecsECU(),\n",
    "    action_specs=ActionSpecs(\n",
    "        action_unit_code=\"nm\",\n",
    "        action_row_number=truck.torque_table_row_num_flash,\n",
    "        action_column_number=truck.torque_table_col_num,\n",
    "    ),\n",
    "    reward_specs=RewardSpecs(reward_unit_code=\"wh\", reward_number=1),\n",
    "    site=truck.site,\n",
    ")\n",
    "meta"
   ]
  },
  {
   "cell_type": "code",
   "execution_count": null,
   "id": "40fb9fe302db250f",
   "metadata": {},
   "outputs": [
    {
     "data": {
      "text/plain": "('data', 'recipe.ini')"
     },
     "execution_count": null,
     "metadata": {},
     "output_type": "execute_result"
    }
   ],
   "source": [
    "\n",
    "number_states, number_actions = meta.get_number_of_states_actions()\n",
    "recipe_default: ConfigParser = ConfigParser()\n",
    "recipe_default.read_dict(\n",
    "    {\n",
    "        \"DEFAULT\": {  # should go into parquet tabel meta info\n",
    "            \"data_folder\": data_folder,  # '.',\n",
    "            \"recipe_file_name\": \"recipe.ini\",  # 'recipe.ini',\n",
    "            \"coll_type\": coll_type,\n",
    "        },\n",
    "        \"array_specs\": {  # should go into parquet columns meta info\n",
    "            \"states\": str(number_states),  # 50*4*3\n",
    "            \"actions\": str(number_actions),  # 17*4\n",
    "            \"rewards\": \"1\",\n",
    "            \"next_states\": str(number_states),  # 50*4*3\n",
    "        },\n",
    "    }\n",
    ")\n",
    "recipe_default[\"DEFAULT\"][\"data_folder\"], recipe_default[\"DEFAULT\"][\"recipe_file_name\"]"
   ]
  },
  {
   "cell_type": "code",
   "execution_count": null,
   "id": "866f26d1a50cfdec",
   "metadata": {},
   "outputs": [
    {
     "data": {
      "text/plain": "<Section: DEFAULT>"
     },
     "execution_count": null,
     "metadata": {},
     "output_type": "execute_result"
    }
   ],
   "source": [
    "generated_recipe = get_filemeta_config(data_folder=\"data\",config_file=None,meta=meta, coll_type=\"RECORD\")\n",
    "generated_recipe[\"DEFAULT\"]"
   ]
  },
  {
   "cell_type": "code",
   "execution_count": null,
   "id": "aaed939de38e94a0",
   "metadata": {},
   "outputs": [],
   "source": [
    "\n",
    "# test_eq(generated_recipe[\"DEFAULT\"], recipe_default[\"DEFAULT\"])\n"
   ]
  },
  {
   "cell_type": "code",
   "execution_count": null,
   "id": "533986394be3d99e",
   "metadata": {},
   "outputs": [],
   "source": [
    "#| hide\n",
    "import nbdev; nbdev.nbdev_export()\n"
   ]
  }
 ],
 "metadata": {
  "jupytext": {
   "cell_metadata_filter": "-all",
   "main_language": "python",
   "notebook_metadata_filter": "-all"
  },
  "kernelspec": {
   "display_name": "python3",
   "language": "python",
   "name": "python3"
  }
 },
 "nbformat": 4,
 "nbformat_minor": 5
}
