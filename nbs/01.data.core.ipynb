{
 "cells": [
  {
   "cell_type": "code",
   "execution_count": null,
   "id": "9fe1159dbca92dc2",
   "metadata": {},
   "outputs": [],
   "source": [
    "%load_ext autoreload\n",
    "%autoreload 2"
   ]
  },
  {
   "cell_type": "markdown",
   "id": "11cd6dfc46570420",
   "metadata": {},
   "source": [
    "# data core\n",
    "\n",
    "> data core structures for eos"
   ]
  },
  {
   "cell_type": "code",
   "execution_count": null,
   "id": "883c741a74788b85",
   "metadata": {},
   "outputs": [],
   "source": [
    "#| default_exp data.core"
   ]
  },
  {
   "cell_type": "code",
   "execution_count": null,
   "id": "eacb411c586fde00",
   "metadata": {},
   "outputs": [],
   "source": [
    "#| export\n",
    "import re\n",
    "from configparser import ConfigParser\n",
    "from datetime import datetime\n",
    "from pathlib import Path\n",
    "from typing import Dict, List, NamedTuple, Optional, Tuple, TypeVar, Union, TypeAlias\n",
    "from zoneinfo import ZoneInfo  # type: ignore\n"
   ]
  },
  {
   "cell_type": "code",
   "execution_count": null,
   "id": "cc053c1c338badf4",
   "metadata": {},
   "outputs": [],
   "source": [
    "#| export\n",
    "import pandas as pd  # type: ignore\n",
    "from pydantic import BaseModel, Field, GetPydanticSchema  # type: ignore\n",
    "from pydantic.dataclasses import dataclass  # type: ignore\n",
    "from typing_extensions import TypedDict\n",
    "from data_io_nbdev.data.location import EosLocation\n"
   ]
  },
  {
   "cell_type": "code",
   "execution_count": null,
   "id": "57ddb98eeaab5c4e",
   "metadata": {},
   "outputs": [],
   "source": [
    "#| hide\n",
    "from nbdev.showdoc import *"
   ]
  },
  {
   "cell_type": "code",
   "execution_count": null,
   "id": "6d8f7ccc7ee778c9",
   "metadata": {},
   "outputs": [],
   "source": [
    "#| export\n",
    "KvaserType: TypeAlias = dict[str, str]\n",
    "RCANType: TypeAlias = dict[str, dict[str, list[Union[str, list[list[str]]]]]]\n",
    "RawType: TypeAlias = Union[KvaserType, RCANType]\n"
   ]
  },
  {
   "cell_type": "code",
   "execution_count": null,
   "id": "456313379af09b1",
   "metadata": {},
   "outputs": [],
   "source": [
    "#| export\n",
    "#  Define TypedDict for type hinting of typed collections: records and episodes\n",
    "veos_lifetime_start_date: pd.Timestamp = pd.Timestamp(\n",
    "    ts_input=\"2021-01-01T00:00:00+08:00\", tz=\"Asia/Shanghai\"\n",
    ")\n",
    "veos_lifetime_end_date: pd.Timestamp = pd.Timestamp(\n",
    "    ts_input=\"2031-12-31T00:00:00+08:00\", tz=\"Asia/Shanghai\"\n",
    ")\n"
   ]
  },
  {
   "cell_type": "code",
   "execution_count": null,
   "id": "6e71ac0106e56c3b",
   "metadata": {},
   "outputs": [],
   "source": [
    "#| export\n",
    "class MotionPower(NamedTuple):\n",
    "    \"\"\"\n",
    "    Motion power tuple\n",
    "    \n",
    "    Attributes:\n",
    "        \n",
    "        timestep: timestamp of the tuple\n",
    "        velocity: velocity in m/s,\n",
    "        thrust: thrust in percentage of full acc pedal,\n",
    "        brake: brake in percentage of full brake pedal,\n",
    "        current: current in A,\n",
    "        voltage: voltage in V,\n",
    "    \n",
    "    return:\n",
    "    \n",
    "            MotionPower tuple    \n",
    "    \"\"\"\n",
    "    timestep: pd.Timestamp  # timestamp of the tuple\n",
    "    velocity: float  # velocity in m/s\n",
    "    thrust: float  # thrust in percentage of full acc pedal\n",
    "    brake: float  # brake in percentage of full brake pedal\n",
    "    current: float  # current in A\n",
    "    voltage: float  # voltage in V\n"
   ]
  },
  {
   "cell_type": "code",
   "execution_count": null,
   "id": "b4287c5e9599c2c4",
   "metadata": {},
   "outputs": [],
   "source": [
    "show_doc(MotionPower)"
   ]
  },
  {
   "cell_type": "code",
   "execution_count": null,
   "id": "a249480279e286f9",
   "metadata": {},
   "outputs": [],
   "source": [
    "#| export\n",
    "class ECUMixin(BaseModel):\n",
    "    \"\"\"\n",
    "    ECU mixin class\n",
    "    \n",
    "    Attributes:\n",
    "        \n",
    "        ecu_observation_number: number of observations per ECU\n",
    "        ecu_observation_frequency: frequency of observations per ECU\n",
    "        ecu_countdown: countdown time for ECU\n",
    "        \n",
    "    return:\n",
    "    \n",
    "            ECU mixin class\n",
    "    \"\"\"\n",
    "    # optional: can be adjusted by developer\n",
    "    ecu_observation_number: int = 30\n",
    "    #     (KvaserMixin.kvaser_observation_number\n",
    "    # )  # 30  # Kvaser number of one observation unit: 30 as count number\n",
    "    ecu_observation_frequency: int = 20\n",
    "    #     (KvaserMixin.kvaser_observation_frequency\n",
    "    #     # 20  # Kvaser observation frequency: 20 Hz, fixed by hardware setting\n",
    "    # )\n",
    "    ecu_countdown: int = 3\n",
    "    #     (KvaserMixin.kvaser_countdown\n",
    "    #     # 3  # Kvaser countdown time: 3 seconds, optional: can be adjusted by developer\n",
    "    # )"
   ]
  },
  {
   "cell_type": "code",
   "execution_count": null,
   "id": "e5217f253861d51e",
   "metadata": {},
   "outputs": [],
   "source": [
    "show_doc(ECUMixin)"
   ]
  },
  {
   "cell_type": "code",
   "execution_count": null,
   "id": "b827c83038ca70a0",
   "metadata": {},
   "outputs": [],
   "source": [
    "#| exports\n",
    "def say_hi(to: str):\n",
    "    \"\"\"\n",
    "    Say hello to somebody\n",
    "    \n",
    "    \n",
    "    Args:\n",
    "        to: somebody to say hello to\n",
    "    \"\"\"\n",
    "    \n",
    "    return f'Hi {to}!'"
   ]
  },
  {
   "cell_type": "code",
   "execution_count": null,
   "id": "6b5ec1001766a1eb",
   "metadata": {},
   "outputs": [],
   "source": [
    "from fastcore.test import *"
   ]
  },
  {
   "cell_type": "code",
   "execution_count": null,
   "id": "8ed1645b6d5c0607",
   "metadata": {},
   "outputs": [],
   "source": [
    "test_eq(say_hi(\"Sylvain\"), \"Hi Sylvain!\")"
   ]
  },
  {
   "cell_type": "code",
   "execution_count": null,
   "id": "533986394be3d99e",
   "metadata": {},
   "outputs": [],
   "source": [
    "#| hide\n",
    "import nbdev; nbdev.nbdev_export()\n"
   ]
  }
 ],
 "metadata": {
  "jupytext": {
   "cell_metadata_filter": "-all",
   "main_language": "python",
   "notebook_metadata_filter": "-all"
  },
  "kernelspec": {
   "display_name": "python3",
   "language": "python",
   "name": "python3"
  }
 },
 "nbformat": 4,
 "nbformat_minor": 5
}
