{
 "cells": [
  {
   "cell_type": "code",
   "execution_count": 1,
   "id": "9fe1159dbca92dc2",
   "metadata": {
    "ExecuteTime": {
     "end_time": "2023-12-12T08:03:57.564176945Z",
     "start_time": "2023-12-12T08:03:57.562291145Z"
    }
   },
   "outputs": [],
   "source": [
    "%load_ext autoreload\n",
    "%autoreload 2"
   ]
  },
  {
   "cell_type": "markdown",
   "id": "11cd6dfc46570420",
   "metadata": {},
   "source": [
    "# data core\n",
    "\n",
    "> data core structures for eos"
   ]
  },
  {
   "cell_type": "code",
   "execution_count": 2,
   "id": "883c741a74788b85",
   "metadata": {
    "ExecuteTime": {
     "end_time": "2023-12-12T08:03:57.564461710Z",
     "start_time": "2023-12-12T08:03:57.562463238Z"
    }
   },
   "outputs": [],
   "source": [
    "#| default_exp data.core"
   ]
  },
  {
   "cell_type": "code",
   "execution_count": 3,
   "id": "eacb411c586fde00",
   "metadata": {
    "ExecuteTime": {
     "end_time": "2023-12-12T08:03:57.564609908Z",
     "start_time": "2023-12-12T08:03:57.562518261Z"
    }
   },
   "outputs": [],
   "source": [
    "#| export\n",
    "import re\n",
    "from configparser import ConfigParser\n",
    "from datetime import datetime\n",
    "from pathlib import Path\n",
    "from typing import Dict, List, NamedTuple, Optional, Tuple, TypeVar, Union, TypeAlias\n",
    "from zoneinfo import ZoneInfo  # type: ignore\n"
   ]
  },
  {
   "cell_type": "code",
   "execution_count": 4,
   "id": "cc053c1c338badf4",
   "metadata": {
    "ExecuteTime": {
     "end_time": "2023-12-12T08:03:57.830560002Z",
     "start_time": "2023-12-12T08:03:57.562574026Z"
    }
   },
   "outputs": [],
   "source": [
    "#| export\n",
    "import pandas as pd  # type: ignore\n",
    "from pydantic import BaseModel, Field, GetPydanticSchema  # type: ignore\n",
    "from pydantic.dataclasses import dataclass  # type: ignore\n",
    "from typing_extensions import TypedDict\n",
    "from data_io_nbdev.data.location import EosLocation\n"
   ]
  },
  {
   "cell_type": "code",
   "execution_count": 5,
   "id": "57ddb98eeaab5c4e",
   "metadata": {
    "ExecuteTime": {
     "end_time": "2023-12-12T08:03:57.943565005Z",
     "start_time": "2023-12-12T08:03:57.832501668Z"
    }
   },
   "outputs": [],
   "source": [
    "#| hide\n",
    "from nbdev.showdoc import *"
   ]
  },
  {
   "cell_type": "code",
   "execution_count": 6,
   "id": "6d8f7ccc7ee778c9",
   "metadata": {
    "ExecuteTime": {
     "end_time": "2023-12-12T08:03:57.991109002Z",
     "start_time": "2023-12-12T08:03:57.986260859Z"
    }
   },
   "outputs": [],
   "source": [
    "#| export\n",
    "KvaserType: TypeAlias = dict[str, str]\n",
    "RCANType: TypeAlias = dict[str, dict[str, list[Union[str, list[list[str]]]]]]\n",
    "RawType: TypeAlias = Union[KvaserType, RCANType]\n"
   ]
  },
  {
   "cell_type": "code",
   "execution_count": 7,
   "id": "456313379af09b1",
   "metadata": {
    "ExecuteTime": {
     "end_time": "2023-12-12T08:03:57.991347519Z",
     "start_time": "2023-12-12T08:03:57.986402365Z"
    }
   },
   "outputs": [],
   "source": [
    "#| export\n",
    "#  Define TypedDict for type hinting of typed collections: records and episodes\n",
    "veos_lifetime_start_date: pd.Timestamp = pd.Timestamp(\n",
    "    ts_input=\"2021-01-01T00:00:00+08:00\", tz=\"Asia/Shanghai\"\n",
    ")\n",
    "veos_lifetime_end_date: pd.Timestamp = pd.Timestamp(\n",
    "    ts_input=\"2031-12-31T00:00:00+08:00\", tz=\"Asia/Shanghai\"\n",
    ")\n"
   ]
  },
  {
   "cell_type": "code",
   "execution_count": 8,
   "id": "6e71ac0106e56c3b",
   "metadata": {
    "ExecuteTime": {
     "end_time": "2023-12-12T08:03:57.991507961Z",
     "start_time": "2023-12-12T08:03:57.986459833Z"
    }
   },
   "outputs": [],
   "source": [
    "#| export\n",
    "class MotionPower(NamedTuple):\n",
    "    \"\"\"\n",
    "    Motion power tuple\n",
    "    \n",
    "    Attributes:\n",
    "        \n",
    "        timestep: timestamp of the tuple\n",
    "        velocity: velocity in m/s,\n",
    "        thrust: thrust in percentage of full acc pedal,\n",
    "        brake: brake in percentage of full brake pedal,\n",
    "        current: current in A,\n",
    "        voltage: voltage in V,\n",
    "    \n",
    "    return:\n",
    "    \n",
    "            MotionPower tuple    \n",
    "    \"\"\"\n",
    "    timestep: pd.Timestamp  # timestamp of the tuple\n",
    "    velocity: float  # velocity in m/s\n",
    "    thrust: float  # thrust in percentage of full acc pedal\n",
    "    brake: float  # brake in percentage of full brake pedal\n",
    "    current: float  # current in A\n",
    "    voltage: float  # voltage in V\n"
   ]
  },
  {
   "cell_type": "code",
   "execution_count": 9,
   "id": "b4287c5e9599c2c4",
   "metadata": {
    "ExecuteTime": {
     "end_time": "2023-12-12T08:03:58.031547446Z",
     "start_time": "2023-12-12T08:03:57.986512081Z"
    }
   },
   "outputs": [
    {
     "data": {
      "text/plain": "---\n\n[source](https://github.com/Binjian/data-io-nbdev/tree/main/blob/main/data_io_nbdev/data/core.py#L41){target=\"_blank\" style=\"float:right; font-size:smaller\"}\n\n### MotionPower\n\n>      MotionPower (timestep:pandas._libs.tslibs.timestamps.Timestamp,\n>                   velocity:float, thrust:float, brake:float, current:float,\n>                   voltage:float)\n\nMotion power tuple\n\nAttributes:\n\n    timestep: timestamp of the tuple\n    velocity: velocity in m/s,\n    thrust: thrust in percentage of full acc pedal,\n    brake: brake in percentage of full brake pedal,\n    current: current in A,\n    voltage: voltage in V,\n\nreturn:\n\n        MotionPower tuple",
      "text/markdown": "---\n\n[source](https://github.com/Binjian/data-io-nbdev/tree/main/blob/main/data_io_nbdev/data/core.py#L41){target=\"_blank\" style=\"float:right; font-size:smaller\"}\n\n### MotionPower\n\n>      MotionPower (timestep:pandas._libs.tslibs.timestamps.Timestamp,\n>                   velocity:float, thrust:float, brake:float, current:float,\n>                   voltage:float)\n\nMotion power tuple\n\nAttributes:\n\n    timestep: timestamp of the tuple\n    velocity: velocity in m/s,\n    thrust: thrust in percentage of full acc pedal,\n    brake: brake in percentage of full brake pedal,\n    current: current in A,\n    voltage: voltage in V,\n\nreturn:\n\n        MotionPower tuple"
     },
     "execution_count": 9,
     "metadata": {},
     "output_type": "execute_result"
    }
   ],
   "source": [
    "show_doc(MotionPower)"
   ]
  },
  {
   "cell_type": "code",
   "execution_count": 10,
   "id": "a249480279e286f9",
   "metadata": {
    "ExecuteTime": {
     "end_time": "2023-12-12T08:03:58.031752080Z",
     "start_time": "2023-12-12T08:03:58.030308840Z"
    }
   },
   "outputs": [],
   "source": [
    "#| export\n",
    "class ECUMixin(BaseModel):\n",
    "    \"\"\"\n",
    "    ECU mixin class\n",
    "    \n",
    "    Attributes:\n",
    "        \n",
    "        ecu_observation_number: number of observations per ECU\n",
    "        ecu_observation_frequency: frequency of observations per ECU\n",
    "        ecu_countdown: countdown time for ECU\n",
    "        \n",
    "    return:\n",
    "    \n",
    "            ECU mixin class\n",
    "    \"\"\"\n",
    "    # optional: can be adjusted by developer\n",
    "    ecu_observation_number: int = 30\n",
    "    #     (KvaserMixin.kvaser_observation_number\n",
    "    # )  # 30  # Kvaser number of one observation unit: 30 as count number\n",
    "    ecu_observation_frequency: int = 20\n",
    "    #     (KvaserMixin.kvaser_observation_frequency\n",
    "    #     # 20  # Kvaser observation frequency: 20 Hz, fixed by hardware setting\n",
    "    # )\n",
    "    ecu_countdown: int = 3\n",
    "    #     (KvaserMixin.kvaser_countdown\n",
    "    #     # 3  # Kvaser countdown time: 3 seconds, optional: can be adjusted by developer\n",
    "    # )"
   ]
  },
  {
   "cell_type": "code",
   "execution_count": 11,
   "id": "e5217f253861d51e",
   "metadata": {
    "ExecuteTime": {
     "end_time": "2023-12-12T08:03:58.040744023Z",
     "start_time": "2023-12-12T08:03:58.030424738Z"
    }
   },
   "outputs": [
    {
     "data": {
      "text/plain": "---\n\n[source](https://github.com/Binjian/data-io-nbdev/tree/main/blob/main/data_io_nbdev/data/core.py#L67){target=\"_blank\" style=\"float:right; font-size:smaller\"}\n\n### ECUMixin\n\n>      ECUMixin (ecu_observation_number:int=30,\n>                ecu_observation_frequency:int=20, ecu_countdown:int=3)\n\nECU mixin class\n\nAttributes:\n\n    ecu_observation_number: number of observations per ECU\n    ecu_observation_frequency: frequency of observations per ECU\n    ecu_countdown: countdown time for ECU\n\nreturn:\n\n        ECU mixin class",
      "text/markdown": "---\n\n[source](https://github.com/Binjian/data-io-nbdev/tree/main/blob/main/data_io_nbdev/data/core.py#L67){target=\"_blank\" style=\"float:right; font-size:smaller\"}\n\n### ECUMixin\n\n>      ECUMixin (ecu_observation_number:int=30,\n>                ecu_observation_frequency:int=20, ecu_countdown:int=3)\n\nECU mixin class\n\nAttributes:\n\n    ecu_observation_number: number of observations per ECU\n    ecu_observation_frequency: frequency of observations per ECU\n    ecu_countdown: countdown time for ECU\n\nreturn:\n\n        ECU mixin class"
     },
     "execution_count": 11,
     "metadata": {},
     "output_type": "execute_result"
    }
   ],
   "source": [
    "show_doc(ECUMixin)"
   ]
  },
  {
   "cell_type": "code",
   "execution_count": 12,
   "id": "b827c83038ca70a0",
   "metadata": {
    "ExecuteTime": {
     "end_time": "2023-12-12T08:03:58.083798260Z",
     "start_time": "2023-12-12T08:03:58.037501785Z"
    }
   },
   "outputs": [],
   "source": [
    "#| exports\n",
    "def say_hi(to: str):\n",
    "    \"\"\"\n",
    "    Say hello to somebody\n",
    "    \n",
    "    \n",
    "    Args:\n",
    "        to: somebody to say hello to\n",
    "    \"\"\"\n",
    "    \n",
    "    return f'Hi {to}!'"
   ]
  },
  {
   "cell_type": "code",
   "execution_count": 13,
   "id": "6b5ec1001766a1eb",
   "metadata": {
    "ExecuteTime": {
     "end_time": "2023-12-12T08:03:58.084015248Z",
     "start_time": "2023-12-12T08:03:58.078274619Z"
    }
   },
   "outputs": [],
   "source": [
    "from fastcore.test import *"
   ]
  },
  {
   "cell_type": "code",
   "execution_count": 14,
   "id": "8ed1645b6d5c0607",
   "metadata": {
    "ExecuteTime": {
     "end_time": "2023-12-12T08:03:58.084137397Z",
     "start_time": "2023-12-12T08:03:58.078369327Z"
    }
   },
   "outputs": [],
   "source": [
    "test_eq(say_hi(\"Sylvain\"), \"Hi Sylvain!\")"
   ]
  },
  {
   "cell_type": "code",
   "execution_count": 15,
   "id": "533986394be3d99e",
   "metadata": {
    "ExecuteTime": {
     "end_time": "2023-12-12T08:03:58.127081405Z",
     "start_time": "2023-12-12T08:03:58.078401688Z"
    }
   },
   "outputs": [],
   "source": [
    "#| hide\n",
    "import nbdev; nbdev.nbdev_export()\n"
   ]
  }
 ],
 "metadata": {
  "jupytext": {
   "cell_metadata_filter": "-all",
   "main_language": "python",
   "notebook_metadata_filter": "-all"
  },
  "kernelspec": {
   "display_name": "python3",
   "language": "python",
   "name": "python3"
  }
 },
 "nbformat": 4,
 "nbformat_minor": 5
}
