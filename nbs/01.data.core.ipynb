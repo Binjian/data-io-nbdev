{
 "cells": [
  {
   "cell_type": "code",
   "execution_count": 1,
   "id": "9fe1159dbca92dc2",
   "metadata": {
    "ExecuteTime": {
     "end_time": "2023-12-11T09:30:32.917115585Z",
     "start_time": "2023-12-11T09:30:32.909023192Z"
    }
   },
   "outputs": [],
   "source": [
    "%load_ext autoreload\n",
    "%autoreload 2"
   ]
  },
  {
   "cell_type": "markdown",
   "id": "11cd6dfc46570420",
   "metadata": {},
   "source": [
    "# data core\n",
    "\n",
    "> data core structures for eos"
   ]
  },
  {
   "cell_type": "code",
   "execution_count": 2,
   "id": "883c741a74788b85",
   "metadata": {
    "ExecuteTime": {
     "end_time": "2023-12-11T09:30:32.964254304Z",
     "start_time": "2023-12-11T09:30:32.963615185Z"
    }
   },
   "outputs": [],
   "source": [
    "#| default_exp data.core"
   ]
  },
  {
   "cell_type": "code",
   "execution_count": 3,
   "id": "eacb411c586fde00",
   "metadata": {
    "ExecuteTime": {
     "end_time": "2023-12-11T09:30:32.964752549Z",
     "start_time": "2023-12-11T09:30:32.963706596Z"
    }
   },
   "outputs": [],
   "source": [
    "#| export\n",
    "import re\n",
    "from configparser import ConfigParser\n",
    "from datetime import datetime\n",
    "from pathlib import Path\n",
    "from typing import Dict, List, NamedTuple, Optional, Tuple, TypeVar, Union, TypeAlias\n",
    "from zoneinfo import ZoneInfo  # type: ignore\n"
   ]
  },
  {
   "cell_type": "code",
   "execution_count": 4,
   "id": "cc053c1c338badf4",
   "metadata": {
    "ExecuteTime": {
     "end_time": "2023-12-11T09:30:33.241911714Z",
     "start_time": "2023-12-11T09:30:32.963758694Z"
    }
   },
   "outputs": [],
   "source": [
    "#| export\n",
    "import pandas as pd  # type: ignore\n",
    "from pydantic import BaseModel, Field, GetPydanticSchema  # type: ignore\n",
    "from pydantic.dataclasses import dataclass  # type: ignore\n",
    "from typing_extensions import TypedDict\n",
    "from data_io_nbdev.data.location import EosLocation\n"
   ]
  },
  {
   "cell_type": "code",
   "execution_count": 5,
   "id": "6d8f7ccc7ee778c9",
   "metadata": {
    "ExecuteTime": {
     "end_time": "2023-12-11T09:30:33.253445112Z",
     "start_time": "2023-12-11T09:30:33.242664276Z"
    }
   },
   "outputs": [],
   "source": [
    "#| export\n",
    "KvaserType: TypeAlias = dict[str, str]\n",
    "RCANType: TypeAlias = dict[str, dict[str, list[Union[str, list[list[str]]]]]]\n",
    "RawType: TypeAlias = Union[KvaserType, RCANType]\n"
   ]
  },
  {
   "cell_type": "code",
   "execution_count": 6,
   "id": "456313379af09b1",
   "metadata": {
    "ExecuteTime": {
     "end_time": "2023-12-11T09:30:33.295882982Z",
     "start_time": "2023-12-11T09:30:33.252100249Z"
    }
   },
   "outputs": [],
   "source": [
    "#| export\n",
    "#  Define TypedDict for type hinting of typed collections: records and episodes\n",
    "veos_lifetime_start_date: pd.Timestamp = pd.Timestamp(\n",
    "    ts_input=\"2021-01-01T00:00:00+08:00\", tz=\"Asia/Shanghai\"\n",
    ")\n",
    "veos_lifetime_end_date: pd.Timestamp = pd.Timestamp(\n",
    "    ts_input=\"2031-12-31T00:00:00+08:00\", tz=\"Asia/Shanghai\"\n",
    ")\n"
   ]
  },
  {
   "cell_type": "code",
   "execution_count": 7,
   "id": "6e71ac0106e56c3b",
   "metadata": {
    "ExecuteTime": {
     "end_time": "2023-12-11T09:30:33.296372190Z",
     "start_time": "2023-12-11T09:30:33.295764600Z"
    }
   },
   "outputs": [],
   "source": [
    "#| export\n",
    "class MotionPower(NamedTuple):\n",
    "    timestep: pd.Timestamp\n",
    "    velocity: float\n",
    "    thrust: float\n",
    "    brake: float\n",
    "    current: float\n",
    "    voltage: float\n"
   ]
  },
  {
   "cell_type": "code",
   "execution_count": 8,
   "id": "a249480279e286f9",
   "metadata": {
    "ExecuteTime": {
     "end_time": "2023-12-11T09:30:33.296652536Z",
     "start_time": "2023-12-11T09:30:33.295876449Z"
    }
   },
   "outputs": [],
   "source": [
    "class ECUMixin(BaseModel):\n",
    "    # optional: can be adjusted by developer\n",
    "    ecu_observation_number: int = 30\n",
    "    #     (KvaserMixin.kvaser_observation_number\n",
    "    # )  # 30  # Kvaser number of one observation unit: 30 as count number\n",
    "    ecu_observation_frequency: int = 20\n",
    "    #     (KvaserMixin.kvaser_observation_frequency\n",
    "    #     # 20  # Kvaser observation frequency: 20 Hz, fixed by hardware setting\n",
    "    # )\n",
    "    ecu_countdown: int = 3\n",
    "    #     (KvaserMixin.kvaser_countdown\n",
    "    #     # 3  # Kvaser countdown time: 3 seconds, optional: can be adjusted by developer\n",
    "    # )"
   ]
  },
  {
   "cell_type": "code",
   "execution_count": 9,
   "id": "57ddb98eeaab5c4e",
   "metadata": {
    "ExecuteTime": {
     "end_time": "2023-12-11T09:30:33.405602053Z",
     "start_time": "2023-12-11T09:30:33.295951761Z"
    }
   },
   "outputs": [],
   "source": [
    "#| hide\n",
    "from nbdev.showdoc import *"
   ]
  },
  {
   "cell_type": "code",
   "execution_count": 10,
   "id": "b827c83038ca70a0",
   "metadata": {
    "ExecuteTime": {
     "end_time": "2023-12-11T09:30:33.448404445Z",
     "start_time": "2023-12-11T09:30:33.406664616Z"
    }
   },
   "outputs": [],
   "source": [
    "#| export\n",
    "def say_hi(to: str):\n",
    "    \"\"\"Say hello to somebody\"\"\"\n",
    "    return f'Hi {to}!'"
   ]
  },
  {
   "cell_type": "code",
   "execution_count": 11,
   "id": "6b5ec1001766a1eb",
   "metadata": {
    "ExecuteTime": {
     "end_time": "2023-12-11T09:30:33.448595624Z",
     "start_time": "2023-12-11T09:30:33.447693421Z"
    }
   },
   "outputs": [],
   "source": [
    "from fastcore.test import *"
   ]
  },
  {
   "cell_type": "code",
   "execution_count": 12,
   "id": "8ed1645b6d5c0607",
   "metadata": {
    "ExecuteTime": {
     "end_time": "2023-12-11T09:30:33.449127011Z",
     "start_time": "2023-12-11T09:30:33.447828755Z"
    }
   },
   "outputs": [],
   "source": [
    "test_eq(say_hi(\"Sylvain\"), \"Hi Sylvain!\")"
   ]
  },
  {
   "cell_type": "code",
   "execution_count": 13,
   "id": "533986394be3d99e",
   "metadata": {
    "ExecuteTime": {
     "end_time": "2023-12-11T09:30:33.491858362Z",
     "start_time": "2023-12-11T09:30:33.447894939Z"
    }
   },
   "outputs": [],
   "source": [
    "#| hide\n",
    "import nbdev; nbdev.nbdev_export()\n"
   ]
  }
 ],
 "metadata": {
  "jupytext": {
   "cell_metadata_filter": "-all",
   "main_language": "python",
   "notebook_metadata_filter": "-all"
  },
  "kernelspec": {
   "display_name": "python3",
   "language": "python",
   "name": "python3"
  }
 },
 "nbformat": 4,
 "nbformat_minor": 5
}
