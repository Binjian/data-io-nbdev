{
 "cells": [
  {
   "cell_type": "code",
   "execution_count": null,
   "id": "80a5adf997419e03",
   "metadata": {},
   "outputs": [],
   "source": [
    "%load_ext autoreload\n",
    "%autoreload 2"
   ]
  },
  {
   "cell_type": "markdown",
   "id": "699a3054b076a75c",
   "metadata": {},
   "source": [
    "# Schema\n",
    "\n",
    "> Generate schema for AvroPool class"
   ]
  },
  {
   "cell_type": "code",
   "execution_count": null,
   "id": "a38c41a855af48a8",
   "metadata": {},
   "outputs": [],
   "source": [
    "#| default_exp storage.pool.avro.schema"
   ]
  },
  {
   "cell_type": "code",
   "execution_count": null,
   "id": "ffd58206818aa52d",
   "metadata": {},
   "outputs": [],
   "source": [
    "#| export\n",
    "from data_io_nbdev.data.core import ObservationMeta"
   ]
  },
  {
   "cell_type": "code",
   "execution_count": null,
   "id": "b5021ce1438eaeae",
   "metadata": {},
   "outputs": [],
   "source": [
    "#| export\n",
    "state_unit_fields_schema = [\n",
    "    {\"name\": \"velocity_unit_code\", \"type\": \"string\"},\n",
    "    {\"name\": \"thrust_unit_code\", \"type\": \"string\"},\n",
    "    {\"name\": \"brake_unit_code\", \"type\": \"string\"},\n",
    "]"
   ]
  },
  {
   "cell_type": "code",
   "execution_count": null,
   "id": "7ab34fcb5916e01d",
   "metadata": {},
   "outputs": [],
   "source": [
    "#| export\n",
    "state_specs_fields_schema = [\n",
    "    {\n",
    "        \"name\": \"state_unit_codes\",\n",
    "        \"type\": {\n",
    "            \"type\": \"record\",\n",
    "            \"name\": \"state_unit_codes_\",\n",
    "            \"fields\": state_unit_fields_schema,\n",
    "        },\n",
    "    },\n",
    "    {\"name\": \"state_number\", \"type\": \"int\"},\n",
    "    {\"name\": \"unit_number_per_state\", \"type\": \"int\"},\n",
    "    {\"name\": \"unit_duration\", \"type\": \"float\"},\n",
    "    {\"name\": \"frequency\", \"type\": \"float\"},\n",
    "]"
   ]
  },
  {
   "cell_type": "code",
   "execution_count": null,
   "id": "cbc0a80d8581c94",
   "metadata": {},
   "outputs": [],
   "source": [
    "#| export\n",
    "action_specs_fields_schema = [\n",
    "    {\"name\": \"action_unit_code\", \"type\": \"string\"},\n",
    "    {\"name\": \"action_row_number\", \"type\": \"int\"},\n",
    "    {\"name\": \"action_column_number\", \"type\": \"int\"},\n",
    "]"
   ]
  },
  {
   "cell_type": "code",
   "execution_count": null,
   "id": "99fecb13034ebb5e",
   "metadata": {},
   "outputs": [],
   "source": [
    "#| export\n",
    "reward_specs_fields_schema = [{\"name\": \"reward_unit_code\", \"type\": \"string\"}]"
   ]
  },
  {
   "cell_type": "code",
   "execution_count": null,
   "id": "f5e628c466b65568",
   "metadata": {},
   "outputs": [],
   "source": [
    "#| export\n",
    "site_fields_schema = [\n",
    "    {\"name\": \"abbr\", \"type\": \"string\"},\n",
    "    {\"name\": \"name\", \"type\": \"string\"},\n",
    "    {\"name\": \"cname\", \"type\": \"string\"},\n",
    "    {\"name\": \"tz\", \"type\": \"string\"},\n",
    "]"
   ]
  },
  {
   "cell_type": "code",
   "execution_count": null,
   "id": "12cfb4e8c9b5da67",
   "metadata": {},
   "outputs": [],
   "source": [
    "#| export\n",
    "episode_meta_fields_schema = [\n",
    "    {\"name\": \"vehicle\", \"type\": \"string\"},\n",
    "    {\"name\": \"driver\", \"type\": \"string\"},\n",
    "    {\"name\": \"episodestart\", \"type\": \"long\", \"logicalType\": \"timestamp-micros\"},\n",
    "]"
   ]
  },
  {
   "cell_type": "code",
   "execution_count": null,
   "id": "e0ad689b613c52dc",
   "metadata": {},
   "outputs": [],
   "source": [
    "#| export\n",
    "observation_meta_fields_schema = [\n",
    "    {\n",
    "        \"name\": \"state_specs\",\n",
    "        \"type\": {\n",
    "            \"type\": \"record\",\n",
    "            \"name\": \"state_specs_\",\n",
    "            \"fields\": state_specs_fields_schema,\n",
    "        },\n",
    "    },\n",
    "    {\n",
    "        \"name\": \"action_specs\",\n",
    "        \"type\": {\n",
    "            \"type\": \"record\",\n",
    "            \"name\": \"action_specs_\",\n",
    "            \"fields\": action_specs_fields_schema,\n",
    "        },\n",
    "    },\n",
    "    {\n",
    "        \"name\": \"reward_specs\",\n",
    "        \"type\": {\n",
    "            \"type\": \"record\",\n",
    "            \"name\": \"reward_specs_\",\n",
    "            \"fields\": reward_specs_fields_schema,\n",
    "        },\n",
    "    },\n",
    "    {\n",
    "        \"name\": \"site\",\n",
    "        \"type\": {\n",
    "            \"type\": \"record\",\n",
    "            \"name\": \"site_\",\n",
    "            \"fields\": site_fields_schema,\n",
    "        },\n",
    "    },\n",
    "]"
   ]
  },
  {
   "cell_type": "code",
   "execution_count": null,
   "id": "98dc44e8b3a3869d",
   "metadata": {},
   "outputs": [],
   "source": [
    "#| export\n",
    "state_fields_schema = [\n",
    "    {\"name\": \"velocity\", \"type\": {\"type\": \"array\", \"items\": \"float\"}},\n",
    "    {\"name\": \"thrust\", \"type\": {\"type\": \"array\", \"items\": \"float\"}},\n",
    "    {\"name\": \"brake\", \"type\": {\"type\": \"array\", \"items\": \"float\"}},\n",
    "    {\n",
    "        \"name\": \"timestep\",\n",
    "        \"type\": {\n",
    "            \"type\": \"array\",\n",
    "            \"items\": {\"type\": \"long\", \"logicalType\": \"timestamp-micros\"},\n",
    "        },\n",
    "    },\n",
    "]"
   ]
  },
  {
   "cell_type": "code",
   "execution_count": null,
   "id": "4c00b5cc49a6f9ed",
   "metadata": {},
   "outputs": [],
   "source": [
    "#| export\n",
    "def gen_torque_table_schema(obs_meta: ObservationMeta):  # An `ObservationMeta` object\n",
    "    \"\"\"Generate torque table schema from observation meta data\"\"\"\n",
    "    torque_table_row_names = obs_meta.get_torque_table_row_names()\n",
    "    torque_table_schema = [\n",
    "        {\"name\": r, \"type\": {\"type\": \"array\", \"items\": \"float\"}}\n",
    "        for r in torque_table_row_names\n",
    "    ]\n",
    "\n",
    "    return torque_table_schema"
   ]
  },
  {
   "cell_type": "code",
   "execution_count": null,
   "id": "1d0a50c4591f41f0",
   "metadata": {},
   "outputs": [],
   "source": [
    "#| export\n",
    "action_fields_schema = [\n",
    "    {\"name\": \"speed\", \"type\": {\"type\": \"array\", \"items\": \"float\"}},\n",
    "    {\"name\": \"throttle\", \"type\": {\"type\": \"array\", \"items\": \"float\"}},\n",
    "    {\n",
    "        \"name\": \"timestep\",\n",
    "        \"type\": {\n",
    "            \"type\": \"array\",\n",
    "            \"items\": {\"type\": \"long\", \"logicalType\": \"timestamp-micros\"},\n",
    "        },\n",
    "    },\n",
    "]"
   ]
  },
  {
   "cell_type": "code",
   "execution_count": null,
   "id": "4dd8cbfaf50e5c82",
   "metadata": {},
   "outputs": [],
   "source": [
    "#| export\n",
    "reward_fields_schema = [\n",
    "    {\"name\": \"work\", \"type\": {\"type\": \"array\", \"items\": \"float\"}},\n",
    "    {\n",
    "        \"name\": \"timestep\",\n",
    "        \"type\": {\n",
    "            \"type\": \"array\",\n",
    "            \"items\": {\"type\": \"long\", \"logicalType\": \"timestamp-micros\"},\n",
    "        },\n",
    "    },\n",
    "]"
   ]
  },
  {
   "cell_type": "code",
   "execution_count": null,
   "id": "a3802a4d56776454",
   "metadata": {},
   "outputs": [],
   "source": [
    "#| export\n",
    "def gen_episode_array_fields_schema(\n",
    "    obs_meta: ObservationMeta,  # An `ObservationMeta` object\n",
    "):\n",
    "    \"\"\"Generate episode array fields schema from observation meta data\"\"\"\n",
    "    episode_array_fields_schema = [\n",
    "        {\n",
    "            \"type\": \"long\",\n",
    "            \"name\": \"timestamp\",\n",
    "            \"logicalType\": \"timestamp-micros\",\n",
    "        },\n",
    "        {\n",
    "            \"name\": \"state\",\n",
    "            \"type\": {\n",
    "                \"type\": \"record\",\n",
    "                \"name\": \"state_\",\n",
    "                \"fields\": state_fields_schema,\n",
    "            },\n",
    "        },\n",
    "        {\n",
    "            \"name\": \"action\",\n",
    "            \"type\": {\n",
    "                \"type\": \"record\",\n",
    "                \"name\": \"action_\",\n",
    "                \"fields\": gen_torque_table_schema(obs_meta) + action_fields_schema,\n",
    "            },\n",
    "        },\n",
    "        {\n",
    "            \"name\": \"reward\",\n",
    "            \"type\": {\n",
    "                \"type\": \"record\",\n",
    "                \"name\": \"reward_\",\n",
    "                \"fields\": reward_fields_schema,\n",
    "            },\n",
    "        },\n",
    "        {\n",
    "            \"name\": \"nstate\",\n",
    "            \"type\": {\n",
    "                \"type\": \"record\",\n",
    "                \"name\": \"nstate_\",\n",
    "                \"fields\": state_fields_schema,\n",
    "            },\n",
    "        },\n",
    "    ]\n",
    "\n",
    "    return episode_array_fields_schema"
   ]
  },
  {
   "cell_type": "code",
   "execution_count": null,
   "id": "e41ca87ad084e91b",
   "metadata": {},
   "outputs": [],
   "source": [
    "#| export\n",
    "def gen_episode_schema(\n",
    "    obs_meta: ObservationMeta,  # An `ObservationMeta` object\n",
    ") -> dict:\n",
    "    \"\"\"Generate episode schema from observation meta data\"\"\"\n",
    "    schema_episode = {\n",
    "        \"type\": \"record\",\n",
    "        \"name\": \"episode\",\n",
    "        \"doc\": \"episode data with a timestamp, meta description and an array of episode steps\",\n",
    "        \"fields\": [\n",
    "            {\n",
    "                \"type\": \"long\",\n",
    "                \"name\": \"episodestart\",\n",
    "                \"logicalType\": \"timestamp-micros\",\n",
    "            },\n",
    "            {\n",
    "                \"name\": \"meta\",\n",
    "                \"type\": {\n",
    "                    \"type\": \"record\",\n",
    "                    \"name\": \"meta_\",\n",
    "                    \"fields\": [\n",
    "                        {\n",
    "                            \"name\": \"episode_meta\",\n",
    "                            \"type\": {\n",
    "                                \"type\": \"record\",\n",
    "                                \"name\": \"episode_meta_\",\n",
    "                                \"fields\": episode_meta_fields_schema,\n",
    "                            },\n",
    "                        },\n",
    "                        {\n",
    "                            \"name\": \"observation_meta\",\n",
    "                            \"type\": {\n",
    "                                \"type\": \"record\",\n",
    "                                \"name\": \"observation_meta_\",\n",
    "                                \"fields\": observation_meta_fields_schema,\n",
    "                            },\n",
    "                        },\n",
    "                    ],\n",
    "                },\n",
    "            },\n",
    "            {\n",
    "                \"name\": \"sequence\",\n",
    "                \"type\": {\n",
    "                    \"type\": \"array\",\n",
    "                    \"items\": {\n",
    "                        \"name\": \"step\",  # not used in constructing the episode observation array data\n",
    "                        \"type\": \"record\",\n",
    "                        \"fields\": gen_episode_array_fields_schema(obs_meta),\n",
    "                    },\n",
    "                },\n",
    "            },\n",
    "        ],\n",
    "    }\n",
    "    return schema_episode"
   ]
  },
  {
   "cell_type": "code",
   "execution_count": null,
   "id": "9f0903c0d199ea04",
   "metadata": {},
   "outputs": [],
   "source": [
    "#| hide\n",
    "import nbdev; nbdev.nbdev_export()"
   ]
  },
  {
   "cell_type": "markdown",
   "id": "1fec0afe",
   "metadata": {},
   "source": [
    "parsed_schema_episode = fastavro.schema.parse_schema(schema_episode)"
   ]
  }
 ],
 "metadata": {
  "jupytext": {
   "cell_metadata_filter": "-all",
   "main_language": "python",
   "notebook_metadata_filter": "-all"
  },
  "kernelspec": {
   "display_name": "python3",
   "language": "python",
   "name": "python3"
  }
 },
 "nbformat": 4,
 "nbformat_minor": 5
}
