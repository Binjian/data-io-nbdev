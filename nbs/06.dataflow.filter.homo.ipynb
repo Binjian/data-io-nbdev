{
 "cells": [
  {
   "cell_type": "code",
   "execution_count": null,
   "id": "2de42b817bafea1e",
   "metadata": {},
   "outputs": [],
   "source": [
    "%load_ext autoreload\n",
    "%autoreload 2"
   ]
  },
  {
   "cell_type": "markdown",
   "id": "6b5ffd95a1704779",
   "metadata": {},
   "source": [
    "# Homofilter\n",
    "\n",
    "> HomoFilter class\n",
    "> Homogeneous is a filter class that consumes data from a pipeline and produces data to another pipeline with the same type for input and output."
   ]
  },
  {
   "cell_type": "code",
   "execution_count": null,
   "id": "32febfebb4e108b9",
   "metadata": {},
   "outputs": [],
   "source": [
    "#| default_exp dataflow.filter.homo"
   ]
  },
  {
   "cell_type": "code",
   "execution_count": null,
   "id": "4af34705600820a2",
   "metadata": {},
   "outputs": [],
   "source": [
    "#| export\n",
    "import abc\n",
    "from threading import Event\n",
    "from dataclasses import dataclass\n",
    "from typing import Optional, TypeVar, Generic"
   ]
  },
  {
   "cell_type": "code",
   "execution_count": null,
   "id": "4b330d53805ffaa7",
   "metadata": {},
   "outputs": [],
   "source": [
    "#| export\n",
    "from data_io_nbdev.dataflow.pipeline.queue import Pipeline  # type: ignore\n",
    "from data_io_nbdev.dataflow.pipeline.deque import PipelineDQ  # type: ignore"
   ]
  },
  {
   "cell_type": "code",
   "execution_count": null,
   "id": "3487fce5d187dc4e",
   "metadata": {},
   "outputs": [],
   "source": [
    "#| export\n",
    "T = TypeVar(\"T\")"
   ]
  },
  {
   "cell_type": "code",
   "execution_count": null,
   "id": "bedcfcff7db8c01a",
   "metadata": {},
   "outputs": [],
   "source": [
    "#| export\n",
    "@dataclass\n",
    "class HomoFilter(abc.ABC, Generic[T]):\n",
    "    \"\"\"Homoegeneous filter class with the same type for input and output.\"\"\"\n",
    "\n",
    "    def __post_init__(self):\n",
    "        super().__init__()\n",
    "\n",
    "    @abc.abstractmethod\n",
    "    def filter(\n",
    "        self,\n",
    "        in_pipeline: Pipeline[\n",
    "            T\n",
    "        ],  # deque[dict[str,str]] for vehicle_interface, Queue[pd.DataFrame] for crunchers\n",
    "        out_pipeline: Pipeline[T],  # output pipeline\n",
    "        start_event: Optional[Event],  #\n",
    "        stop_event: Optional[Event],\n",
    "        interrupt_event: Optional[Event],  # input event\n",
    "        flash_event: Optional[Event],\n",
    "        exit_event: Optional[Event],\n",
    "    ) -> None:\n",
    "        \"\"\"\n",
    "        consume data into the pipeline\n",
    "        \"\"\"\n",
    "        pass"
   ]
  },
  {
   "cell_type": "code",
   "execution_count": null,
   "id": "89ca6e1359d4f4fa",
   "metadata": {},
   "outputs": [],
   "source": [
    "#| hide\n",
    "from nbdev.showdoc import *"
   ]
  },
  {
   "cell_type": "code",
   "execution_count": null,
   "id": "75b302c938b2356f",
   "metadata": {},
   "outputs": [
    {
     "data": {
      "text/markdown": "---\n\n### HomoFilter.filter\n\n>      HomoFilter.filter\n>                         (in_pipeline:data_io_nbdev.dataflow.pipeline.queue.Pip\n>                         eline[~T], out_pipeline:data_io_nbdev.dataflow.pipelin\n>                         e.queue.Pipeline[~T],\n>                         start_event:Optional[threading.Event],\n>                         stop_event:Optional[threading.Event],\n>                         interrupt_event:Optional[threading.Event],\n>                         flash_event:Optional[threading.Event],\n>                         exit_event:Optional[threading.Event])\n\nconsume data into the pipeline\n\n|    | **Type** | **Details** |\n| -- | -------- | ----------- |\n| in_pipeline | Pipeline |  |\n| out_pipeline | Pipeline | output pipeline |\n| start_event | Optional |  |\n| stop_event | Optional |  |\n| interrupt_event | Optional | input event |\n| flash_event | Optional |  |\n| exit_event | Optional |  |\n| **Returns** | **None** |  |",
      "text/plain": "---\n\n### HomoFilter.filter\n\n>      HomoFilter.filter\n>                         (in_pipeline:data_io_nbdev.dataflow.pipeline.queue.Pip\n>                         eline[~T], out_pipeline:data_io_nbdev.dataflow.pipelin\n>                         e.queue.Pipeline[~T],\n>                         start_event:Optional[threading.Event],\n>                         stop_event:Optional[threading.Event],\n>                         interrupt_event:Optional[threading.Event],\n>                         flash_event:Optional[threading.Event],\n>                         exit_event:Optional[threading.Event])\n\nconsume data into the pipeline\n\n|    | **Type** | **Details** |\n| -- | -------- | ----------- |\n| in_pipeline | Pipeline |  |\n| out_pipeline | Pipeline | output pipeline |\n| start_event | Optional |  |\n| stop_event | Optional |  |\n| interrupt_event | Optional | input event |\n| flash_event | Optional |  |\n| exit_event | Optional |  |\n| **Returns** | **None** |  |"
     },
     "execution_count": null,
     "metadata": {},
     "output_type": "execute_result"
    }
   ],
   "source": [
    "show_doc(HomoFilter.filter)"
   ]
  },
  {
   "cell_type": "code",
   "execution_count": null,
   "id": "d45f4f717f7f796b",
   "metadata": {},
   "outputs": [],
   "source": [
    "#| hide\n",
    "import nbdev; nbdev.nbdev_export()"
   ]
  }
 ],
 "metadata": {
  "jupytext": {
   "cell_metadata_filter": "-all",
   "main_language": "python",
   "notebook_metadata_filter": "-all"
  },
  "kernelspec": {
   "display_name": "python3",
   "language": "python",
   "name": "python3"
  }
 },
 "nbformat": 4,
 "nbformat_minor": 5
}
