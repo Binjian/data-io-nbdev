{
 "cells": [
  {
   "cell_type": "code",
   "execution_count": 1,
   "id": "c1f0ccdff82d1d43",
   "metadata": {
    "ExecuteTime": {
     "end_time": "2023-12-13T10:53:32.478703609Z",
     "start_time": "2023-12-13T10:53:32.476534860Z"
    }
   },
   "outputs": [],
   "source": [
    "%load_ext autoreload\n",
    "%autoreload 2"
   ]
  },
  {
   "cell_type": "markdown",
   "id": "d8a7cd72ec8bc1a1",
   "metadata": {},
   "source": [
    "# exception \n",
    "\n",
    "> customized exceptions"
   ]
  },
  {
   "cell_type": "code",
   "execution_count": 2,
   "id": "7e5739b16a53405c",
   "metadata": {
    "ExecuteTime": {
     "end_time": "2023-12-13T10:53:32.491448630Z",
     "start_time": "2023-12-13T10:53:32.479024841Z"
    }
   },
   "outputs": [],
   "source": [
    "#| default_exp system.exception"
   ]
  },
  {
   "cell_type": "code",
   "execution_count": 3,
   "id": "0563d6a9",
   "metadata": {
    "ExecuteTime": {
     "end_time": "2023-12-13T10:53:32.531221620Z",
     "start_time": "2023-12-13T10:53:32.530667450Z"
    }
   },
   "outputs": [],
   "source": [
    "#| export\n",
    "class ReadOnlyError(Exception):\n",
    "    pass"
   ]
  },
  {
   "cell_type": "code",
   "execution_count": 4,
   "id": "a20af93c",
   "metadata": {
    "ExecuteTime": {
     "end_time": "2023-12-13T10:53:32.531793322Z",
     "start_time": "2023-12-13T10:53:32.531045149Z"
    }
   },
   "outputs": [],
   "source": [
    "#| export\n",
    "class WriteOnlyError(Exception):\n",
    "    pass"
   ]
  },
  {
   "cell_type": "code",
   "execution_count": 5,
   "id": "2d7dcf99",
   "metadata": {
    "ExecuteTime": {
     "end_time": "2023-12-13T10:53:32.532287419Z",
     "start_time": "2023-12-13T10:53:32.531271523Z"
    }
   },
   "outputs": [],
   "source": [
    "#| export\n",
    "class TruckIDError(Exception):\n",
    "    pass"
   ]
  },
  {
   "cell_type": "code",
   "execution_count": 6,
   "id": "429d482a18d756ac",
   "metadata": {
    "ExecuteTime": {
     "end_time": "2023-12-13T10:53:32.679269399Z",
     "start_time": "2023-12-13T10:53:32.531529076Z"
    }
   },
   "outputs": [],
   "source": [
    "#| hide\n",
    "import nbdev; nbdev.nbdev_export()"
   ]
  }
 ],
 "metadata": {
  "jupytext": {
   "cell_metadata_filter": "-all",
   "main_language": "python",
   "notebook_metadata_filter": "-all"
  },
  "kernelspec": {
   "display_name": "python3",
   "language": "python",
   "name": "python3"
  }
 },
 "nbformat": 4,
 "nbformat_minor": 5
}
