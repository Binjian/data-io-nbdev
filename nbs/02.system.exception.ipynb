{
 "cells": [
  {
   "cell_type": "code",
   "execution_count": null,
   "id": "c1f0ccdff82d1d43",
   "metadata": {},
   "outputs": [],
   "source": [
    "%load_ext autoreload\n",
    "%autoreload 2"
   ]
  },
  {
   "cell_type": "markdown",
   "id": "d8a7cd72ec8bc1a1",
   "metadata": {},
   "source": [
    "# exception \n",
    "\n",
    "> customized exceptions"
   ]
  },
  {
   "cell_type": "code",
   "execution_count": null,
   "id": "7e5739b16a53405c",
   "metadata": {},
   "outputs": [],
   "source": [
    "#| default_exp system.exception"
   ]
  },
  {
   "cell_type": "code",
   "execution_count": null,
   "id": "0563d6a9",
   "metadata": {},
   "outputs": [],
   "source": [
    "#| export\n",
    "class ReadOnlyError(Exception):\n",
    "    pass"
   ]
  },
  {
   "cell_type": "code",
   "execution_count": null,
   "id": "a20af93c",
   "metadata": {},
   "outputs": [],
   "source": [
    "#| export\n",
    "class WriteOnlyError(Exception):\n",
    "    pass"
   ]
  },
  {
   "cell_type": "code",
   "execution_count": null,
   "id": "2d7dcf99",
   "metadata": {},
   "outputs": [],
   "source": [
    "#| export\n",
    "class TruckIDError(Exception):\n",
    "    pass"
   ]
  },
  {
   "cell_type": "code",
   "execution_count": null,
   "id": "429d482a18d756ac",
   "metadata": {},
   "outputs": [],
   "source": [
    "#| hide\n",
    "import nbdev; nbdev.nbdev_export()"
   ]
  }
 ],
 "metadata": {
  "jupytext": {
   "cell_metadata_filter": "-all",
   "main_language": "python",
   "notebook_metadata_filter": "-all"
  },
  "kernelspec": {
   "display_name": "python3",
   "language": "python",
   "name": "python3"
  }
 },
 "nbformat": 4,
 "nbformat_minor": 5
}
