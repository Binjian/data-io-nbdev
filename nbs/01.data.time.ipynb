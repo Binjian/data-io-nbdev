{
 "cells": [
  {
   "cell_type": "code",
   "execution_count": 1,
   "id": "9da01af21d200fea",
   "metadata": {
    "ExecuteTime": {
     "end_time": "2023-12-18T08:31:18.594856307Z",
     "start_time": "2023-12-18T08:31:18.589137461Z"
    }
   },
   "outputs": [],
   "source": [
    "%load_ext autoreload\n",
    "%autoreload 2"
   ]
  },
  {
   "cell_type": "markdown",
   "id": "1faa94bd40bf3413",
   "metadata": {},
   "source": [
    "# time\n",
    "\n",
    "> time related data structures such as timezone"
   ]
  },
  {
   "cell_type": "code",
   "execution_count": 2,
   "id": "756bbe490e89fa3d",
   "metadata": {
    "ExecuteTime": {
     "end_time": "2023-12-18T08:31:18.595343322Z",
     "start_time": "2023-12-18T08:31:18.589279207Z"
    }
   },
   "outputs": [],
   "source": [
    "#| default_exp data.time"
   ]
  },
  {
   "cell_type": "code",
   "execution_count": 3,
   "id": "a8758140ac259188",
   "metadata": {
    "ExecuteTime": {
     "end_time": "2023-12-18T08:31:18.665448673Z",
     "start_time": "2023-12-18T08:31:18.589333890Z"
    }
   },
   "outputs": [],
   "source": [
    "#| hide\n",
    "from nbdev.showdoc import *\n",
    "from pprint import pprint"
   ]
  },
  {
   "cell_type": "markdown",
   "id": "888e5afac9f3def0",
   "metadata": {},
   "source": [
    "## timezone"
   ]
  },
  {
   "cell_type": "code",
   "execution_count": 4,
   "id": "e30acd0b7cc404c",
   "metadata": {
    "ExecuteTime": {
     "end_time": "2023-12-18T08:31:18.671872733Z",
     "start_time": "2023-12-18T08:31:18.665605788Z"
    }
   },
   "outputs": [],
   "source": [
    "#| export\n",
    "from zoneinfo import ZoneInfo"
   ]
  },
  {
   "cell_type": "code",
   "execution_count": 5,
   "id": "46e3b08d709bda07",
   "metadata": {
    "ExecuteTime": {
     "end_time": "2023-12-18T08:31:18.725117771Z",
     "start_time": "2023-12-18T08:31:18.673521358Z"
    }
   },
   "outputs": [],
   "source": [
    "#| export\n",
    "timezones = {\n",
    "    \"la\": ZoneInfo(\"America/Los_Angeles\"),\n",
    "    \"ny\": ZoneInfo(\"America/New_York\"),\n",
    "    \"sh\": ZoneInfo(\"Asia/Shanghai\"),\n",
    "    \"xj\": ZoneInfo(\"Asia/Urumqi\"),  #   Xinjiang (Urumqi)\n",
    "    \"bl\": ZoneInfo(\"Europe/Berlin\"),\n",
    "    \"ld\": ZoneInfo(\"Europe/London\"),\n",
    "    \"sy\": ZoneInfo(\"Australia/Sydney\"),\n",
    "    \"jp\": ZoneInfo(\"Asia/Tokyo\"),\n",
    "    \"hk\": ZoneInfo(\"Asia/Hong_Kong\"),\n",
    "    \"rj\": ZoneInfo(\"America/Sao_Paulo\"),  # Rio de Janeiro\n",
    "    \"sp\": ZoneInfo(\"America/Sao_Paulo\"),  # Sao Paulo\n",
    "    \"utc\": ZoneInfo(\"Etc/UTC\"),  # canonical, as default for unknown\n",
    "}"
   ]
  },
  {
   "cell_type": "code",
   "execution_count": 6,
   "id": "56e43a532ff72972",
   "metadata": {
    "ExecuteTime": {
     "end_time": "2023-12-18T08:31:18.725902615Z",
     "start_time": "2023-12-18T08:31:18.717188575Z"
    }
   },
   "outputs": [
    {
     "name": "stdout",
     "output_type": "stream",
     "text": [
      "{'bl': zoneinfo.ZoneInfo(key='Europe/Berlin'),\n",
      " 'hk': zoneinfo.ZoneInfo(key='Asia/Hong_Kong'),\n",
      " 'jp': zoneinfo.ZoneInfo(key='Asia/Tokyo'),\n",
      " 'la': zoneinfo.ZoneInfo(key='America/Los_Angeles'),\n",
      " 'ld': zoneinfo.ZoneInfo(key='Europe/London'),\n",
      " 'ny': zoneinfo.ZoneInfo(key='America/New_York'),\n",
      " 'rj': zoneinfo.ZoneInfo(key='America/Sao_Paulo'),\n",
      " 'sh': zoneinfo.ZoneInfo(key='Asia/Shanghai'),\n",
      " 'sp': zoneinfo.ZoneInfo(key='America/Sao_Paulo'),\n",
      " 'sy': zoneinfo.ZoneInfo(key='Australia/Sydney'),\n",
      " 'utc': zoneinfo.ZoneInfo(key='Etc/UTC'),\n",
      " 'xj': zoneinfo.ZoneInfo(key='Asia/Urumqi')}\n"
     ]
    }
   ],
   "source": [
    "#|output: true\n",
    "pprint(timezones)"
   ]
  },
  {
   "cell_type": "code",
   "execution_count": 7,
   "id": "425a52240dd58e1d",
   "metadata": {
    "ExecuteTime": {
     "end_time": "2023-12-18T08:31:19.587809540Z",
     "start_time": "2023-12-18T08:31:18.717348696Z"
    }
   },
   "outputs": [],
   "source": [
    "#| hide\n",
    "import nbdev \n",
    "nbdev.nbdev_export()"
   ]
  }
 ],
 "metadata": {
  "jupytext": {
   "cell_metadata_filter": "-all",
   "main_language": "python",
   "notebook_metadata_filter": "-all"
  },
  "kernelspec": {
   "display_name": "python3",
   "language": "python",
   "name": "python3"
  }
 },
 "nbformat": 4,
 "nbformat_minor": 5
}
