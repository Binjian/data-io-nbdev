{
 "cells": [
  {
   "cell_type": "code",
   "execution_count": null,
   "id": "9da01af21d200fea",
   "metadata": {},
   "outputs": [],
   "source": [
    "%load_ext autoreload\n",
    "%autoreload 2"
   ]
  },
  {
   "cell_type": "markdown",
   "id": "1faa94bd40bf3413",
   "metadata": {},
   "source": [
    "# time\n",
    "\n",
    "> time related data structures such as timezone"
   ]
  },
  {
   "cell_type": "code",
   "execution_count": null,
   "id": "756bbe490e89fa3d",
   "metadata": {},
   "outputs": [],
   "source": [
    "#| default_exp data.time"
   ]
  },
  {
   "cell_type": "code",
   "execution_count": null,
   "id": "a8758140ac259188",
   "metadata": {},
   "outputs": [],
   "source": [
    "#| hide\n",
    "from nbdev.showdoc import *\n",
    "from pprint import pprint"
   ]
  },
  {
   "cell_type": "markdown",
   "id": "c62b069fddf76fb2",
   "metadata": {},
   "source": [
    "## project start and end info"
   ]
  },
  {
   "cell_type": "code",
   "execution_count": null,
   "id": "aaf21beb5632f4e2",
   "metadata": {},
   "outputs": [],
   "source": [
    "#| export\n",
    "from zoneinfo import ZoneInfo\n",
    "import pandas as pd"
   ]
  },
  {
   "cell_type": "code",
   "execution_count": null,
   "id": "94ce747ce0f4f2c9",
   "metadata": {},
   "outputs": [],
   "source": [
    "#| export\n",
    "#  Define TypedDict for type hinting of typed collections: records and episodes\n",
    "veos_lifetime_start_date: pd.Timestamp = pd.Timestamp(\n",
    "    ts_input=\"2021-01-01T00:00:00+08:00\", tz=\"Asia/Shanghai\"\n",
    ")\n",
    "veos_lifetime_end_date: pd.Timestamp = pd.Timestamp(\n",
    "    ts_input=\"2031-12-31T00:00:00+08:00\", tz=\"Asia/Shanghai\"\n",
    ")"
   ]
  },
  {
   "cell_type": "code",
   "execution_count": null,
   "id": "75dcd76698f6e0da",
   "metadata": {},
   "outputs": [],
   "source": [
    "#| output: true\n",
    "veos_lifetime_start_date"
   ]
  },
  {
   "cell_type": "code",
   "execution_count": null,
   "id": "8a5bcf98577239ff",
   "metadata": {},
   "outputs": [],
   "source": [
    "#| output: true\n",
    "veos_lifetime_end_date\n"
   ]
  },
  {
   "cell_type": "markdown",
   "id": "888e5afac9f3def0",
   "metadata": {},
   "source": [
    "## timezone"
   ]
  },
  {
   "cell_type": "code",
   "execution_count": null,
   "id": "e30acd0b7cc404c",
   "metadata": {},
   "outputs": [],
   "source": []
  },
  {
   "cell_type": "code",
   "execution_count": null,
   "id": "46e3b08d709bda07",
   "metadata": {},
   "outputs": [],
   "source": [
    "#| export\n",
    "timezones = {\n",
    "    \"la\": ZoneInfo(\"America/Los_Angeles\"),\n",
    "    \"ny\": ZoneInfo(\"America/New_York\"),\n",
    "    \"sh\": ZoneInfo(\"Asia/Shanghai\"),\n",
    "    \"xj\": ZoneInfo(\"Asia/Urumqi\"),  #   Xinjiang (Urumqi)\n",
    "    \"bl\": ZoneInfo(\"Europe/Berlin\"),\n",
    "    \"ld\": ZoneInfo(\"Europe/London\"),\n",
    "    \"sy\": ZoneInfo(\"Australia/Sydney\"),\n",
    "    \"jp\": ZoneInfo(\"Asia/Tokyo\"),\n",
    "    \"hk\": ZoneInfo(\"Asia/Hong_Kong\"),\n",
    "    \"rj\": ZoneInfo(\"America/Sao_Paulo\"),  # Rio de Janeiro\n",
    "    \"sp\": ZoneInfo(\"America/Sao_Paulo\"),  # Sao Paulo\n",
    "    \"utc\": ZoneInfo(\"Etc/UTC\"),  # canonical, as default for unknown\n",
    "}"
   ]
  },
  {
   "cell_type": "code",
   "execution_count": null,
   "id": "56e43a532ff72972",
   "metadata": {},
   "outputs": [],
   "source": [
    "#|output: true\n",
    "pprint(timezones)"
   ]
  },
  {
   "cell_type": "code",
   "execution_count": null,
   "id": "425a52240dd58e1d",
   "metadata": {},
   "outputs": [],
   "source": [
    "#| hide\n",
    "import nbdev \n",
    "nbdev.nbdev_export()"
   ]
  }
 ],
 "metadata": {
  "jupytext": {
   "cell_metadata_filter": "-all",
   "main_language": "python",
   "notebook_metadata_filter": "-all"
  },
  "kernelspec": {
   "display_name": "python3",
   "language": "python",
   "name": "python3"
  }
 },
 "nbformat": 4,
 "nbformat_minor": 5
}
