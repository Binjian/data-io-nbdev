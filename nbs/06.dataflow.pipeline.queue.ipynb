{
 "cells": [
  {
   "cell_type": "code",
   "execution_count": null,
   "id": "67ff87038ed63a75",
   "metadata": {},
   "outputs": [],
   "source": [
    "%load_ext autoreload\n",
    "%autoreload 2"
   ]
  },
  {
   "cell_type": "markdown",
   "id": "61c231ed350c0e9f",
   "metadata": {},
   "source": [
    "# Queue\n",
    "\n",
    "> ABC Pipeline with Queue\n",
    "> For input and output unit"
   ]
  },
  {
   "cell_type": "code",
   "execution_count": null,
   "id": "fa60ea4f5e082dec",
   "metadata": {},
   "outputs": [],
   "source": [
    "#| default_exp dataflow.pipeline.queue"
   ]
  },
  {
   "cell_type": "code",
   "execution_count": null,
   "id": "5408155688b9fb2d",
   "metadata": {},
   "outputs": [],
   "source": [
    "#| export\n",
    "import queue\n",
    "from typing import TypeVar"
   ]
  },
  {
   "cell_type": "code",
   "execution_count": null,
   "id": "7048eb75",
   "metadata": {},
   "outputs": [],
   "source": [
    "#| export\n",
    "T = TypeVar(\"T\")  # Generic type"
   ]
  },
  {
   "cell_type": "code",
   "execution_count": null,
   "id": "ffb3c2aa",
   "metadata": {},
   "outputs": [],
   "source": [
    "#| export\n",
    "class Pipeline(queue.Queue[T]):\n",
    "    \"\"\"Pipeline class from Queue for single-ended unit in dataflow\"\"\"\n",
    "\n",
    "    def get_data(self) -> T:\n",
    "        \"\"\"\n",
    "        Get data from the pipeline\n",
    "\n",
    "        return:\n",
    "            data: data from the pipeline\n",
    "        \"\"\"\n",
    "        return self.get()\n",
    "\n",
    "    def put_data(self, value: T):\n",
    "        \"\"\"\n",
    "        Put data into the pipeline\n",
    "\n",
    "        arg:\n",
    "\n",
    "            value: data to be put into the pipeline\n",
    "\n",
    "        return:\n",
    "\n",
    "            None\n",
    "        \"\"\"\n",
    "\n",
    "        self.put(value)\n",
    "\n",
    "    def clear(self):\n",
    "        \"\"\"\n",
    "        clear the pipeline (Queue) as the standard Queue\n",
    "\n",
    "        since python `queue.Queue` does not have clear() method\n",
    "        \"\"\"\n",
    "        while not self.empty():\n",
    "            self.get()"
   ]
  },
  {
   "cell_type": "code",
   "execution_count": null,
   "id": "e95755c7a136474b",
   "metadata": {},
   "outputs": [],
   "source": [
    "#| hide\n",
    "from nbdev.showdoc import *"
   ]
  },
  {
   "cell_type": "code",
   "execution_count": null,
   "id": "7b344eed41375c60",
   "metadata": {},
   "outputs": [
    {
     "data": {
      "text/markdown": "---\n\n### Pipeline.get_data\n\n>      Pipeline.get_data ()\n\nGet data from the pipeline\n\nreturn:\n    data: data from the pipeline",
      "text/plain": "---\n\n### Pipeline.get_data\n\n>      Pipeline.get_data ()\n\nGet data from the pipeline\n\nreturn:\n    data: data from the pipeline"
     },
     "execution_count": null,
     "metadata": {},
     "output_type": "execute_result"
    }
   ],
   "source": [
    "show_doc(Pipeline.get_data)"
   ]
  },
  {
   "cell_type": "code",
   "execution_count": null,
   "id": "46a47b61d55c0272",
   "metadata": {},
   "outputs": [
    {
     "data": {
      "text/markdown": "---\n\n### Pipeline.put_data\n\n>      Pipeline.put_data (value:~T)\n\nPut data into the pipeline\n\nargs:\n    value: data to be put into the pipeline\n\nreturn:\n    None",
      "text/plain": "---\n\n### Pipeline.put_data\n\n>      Pipeline.put_data (value:~T)\n\nPut data into the pipeline\n\nargs:\n    value: data to be put into the pipeline\n\nreturn:\n    None"
     },
     "execution_count": null,
     "metadata": {},
     "output_type": "execute_result"
    }
   ],
   "source": [
    "show_doc(Pipeline.put_data)"
   ]
  },
  {
   "cell_type": "code",
   "execution_count": null,
   "id": "d0604547291d179d",
   "metadata": {},
   "outputs": [
    {
     "data": {
      "text/markdown": "---\n\n### Pipeline.clear\n\n>      Pipeline.clear ()\n\nclear the pipeline (Queue) as the standard Queue\n\nsince python `queue.Queue` does not have clear() method",
      "text/plain": "---\n\n### Pipeline.clear\n\n>      Pipeline.clear ()\n\nclear the pipeline (Queue) as the standard Queue\n\nsince python `queue.Queue` does not have clear() method"
     },
     "execution_count": null,
     "metadata": {},
     "output_type": "execute_result"
    }
   ],
   "source": [
    "show_doc(Pipeline.clear)"
   ]
  },
  {
   "cell_type": "code",
   "execution_count": null,
   "id": "2d47762cb8f3cbc",
   "metadata": {},
   "outputs": [],
   "source": [
    "#| hide\n",
    "import nbdev; nbdev.nbdev_export()"
   ]
  }
 ],
 "metadata": {
  "jupytext": {
   "cell_metadata_filter": "-all",
   "main_language": "python",
   "notebook_metadata_filter": "-all"
  },
  "kernelspec": {
   "display_name": "python3",
   "language": "python",
   "name": "python3"
  }
 },
 "nbformat": 4,
 "nbformat_minor": 5
}
