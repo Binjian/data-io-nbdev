{
 "cells": [
  {
   "cell_type": "code",
   "execution_count": null,
   "id": "1c81446e279a62ae",
   "metadata": {},
   "outputs": [],
   "source": [
    "%load_ext autoreload\n",
    "%autoreload 2"
   ]
  },
  {
   "cell_type": "markdown",
   "id": "2ec846db411a59c8",
   "metadata": {},
   "source": [
    "# Filter\n",
    "\n",
    "> ABC Filter class"
   ]
  },
  {
   "cell_type": "code",
   "execution_count": null,
   "id": "a741ad47fad6621e",
   "metadata": {},
   "outputs": [],
   "source": [
    "#| default_exp dataflow.filter.filter"
   ]
  },
  {
   "cell_type": "code",
   "execution_count": null,
   "id": "9adda7f2008e0534",
   "metadata": {},
   "outputs": [],
   "source": [
    "#| export\n",
    "import abc\n",
    "from threading import Event\n",
    "from typing import Union\n",
    "from dataclasses import dataclass\n",
    "from typing import Optional, TypeVar, Generic"
   ]
  },
  {
   "cell_type": "code",
   "execution_count": null,
   "id": "c6ba6eab86b59f3f",
   "metadata": {},
   "outputs": [],
   "source": [
    "#| export\n",
    "from data_io_nbdev.dataflow.pipeline.queue import Pipeline  # type: ignore\n",
    "from data_io_nbdev.dataflow.pipeline.deque import PipelineDQ  # type: ignore"
   ]
  },
  {
   "cell_type": "code",
   "execution_count": null,
   "id": "ab6916478d090510",
   "metadata": {},
   "outputs": [],
   "source": [
    "#| export\n",
    "T_RAW = TypeVar(\"T_RAW\")  # Generic type for raw data\n",
    "T = TypeVar(\"T\")  # Generic type for processed data"
   ]
  },
  {
   "cell_type": "code",
   "execution_count": null,
   "id": "485a835c559a4d36",
   "metadata": {},
   "outputs": [],
   "source": [
    "#| export\n",
    "@dataclass\n",
    "class Filter(abc.ABC, Generic[T_RAW, T]):\n",
    "    \"\"\"Filter consume data into the pipeline. It provides a shared interface for signal processing units filter().\"\"\"\n",
    "\n",
    "    def __post_init__(self):\n",
    "        super().__init__()\n",
    "\n",
    "    @abc.abstractmethod\n",
    "    def filter(\n",
    "        self,\n",
    "        in_pipeline: Union[\n",
    "            PipelineDQ[T_RAW], Pipeline[T]\n",
    "        ],  # deque[dict[str,str]] for vehicle_interface, Queue[pd.DataFrame] for crunchers\n",
    "        out_pipeline: Pipeline[T],  # output pipeline\n",
    "        start_event: Optional[Event],  # input event start\n",
    "        stop_event: Optional[Event],  # input event stop\n",
    "        interrupt_event: Optional[Event],  # input event interrupt\n",
    "        flash_event: Optional[Event],  # input event flash\n",
    "        exit_event: Optional[Event],  # input event exit\n",
    "    ) -> None:\n",
    "        \"\"\"filter data from in_pipeline to out_pipeline\"\"\"\n",
    "        pass"
   ]
  },
  {
   "cell_type": "code",
   "execution_count": null,
   "id": "dc82ab72b19bf042",
   "metadata": {},
   "outputs": [],
   "source": [
    "#| hide\n",
    "from nbdev.showdoc import *"
   ]
  },
  {
   "cell_type": "code",
   "execution_count": null,
   "id": "21a4a646157ab7b4",
   "metadata": {},
   "outputs": [
    {
     "data": {
      "text/markdown": "---\n\n[source](https://github.com/Binjian/data-io-nbdev/tree/main/blob/main/data_io_nbdev/dataflow/filter/filter.py#L30){target=\"_blank\" style=\"float:right; font-size:smaller\"}\n\n### Filter.filter\n\n>      Filter.filter (in_pipeline:Union[data_io_nbdev.dataflow.pipeline.deque.Pi\n>                     pelineDQ[~T_RAW],data_io_nbdev.dataflow.pipeline.queue.Pip\n>                     eline[~T]], out_pipeline:data_io_nbdev.dataflow.pipeline.q\n>                     ueue.Pipeline[~T], start_event:Optional[threading.Event],\n>                     stop_event:Optional[threading.Event],\n>                     interrupt_event:Optional[threading.Event],\n>                     flash_event:Optional[threading.Event],\n>                     exit_event:Optional[threading.Event])\n\nfilter data from in_pipeline to out_pipeline\n\n|    | **Type** | **Details** |\n| -- | -------- | ----------- |\n| in_pipeline | Union |  |\n| out_pipeline | Pipeline | output pipeline |\n| start_event | Optional | input event start |\n| stop_event | Optional | input event stop |\n| interrupt_event | Optional | input event interrupt |\n| flash_event | Optional | input event flash |\n| exit_event | Optional | input event exit |\n| **Returns** | **None** |  |",
      "text/plain": "---\n\n[source](https://github.com/Binjian/data-io-nbdev/tree/main/blob/main/data_io_nbdev/dataflow/filter/filter.py#L30){target=\"_blank\" style=\"float:right; font-size:smaller\"}\n\n### Filter.filter\n\n>      Filter.filter (in_pipeline:Union[data_io_nbdev.dataflow.pipeline.deque.Pi\n>                     pelineDQ[~T_RAW],data_io_nbdev.dataflow.pipeline.queue.Pip\n>                     eline[~T]], out_pipeline:data_io_nbdev.dataflow.pipeline.q\n>                     ueue.Pipeline[~T], start_event:Optional[threading.Event],\n>                     stop_event:Optional[threading.Event],\n>                     interrupt_event:Optional[threading.Event],\n>                     flash_event:Optional[threading.Event],\n>                     exit_event:Optional[threading.Event])\n\nfilter data from in_pipeline to out_pipeline\n\n|    | **Type** | **Details** |\n| -- | -------- | ----------- |\n| in_pipeline | Union |  |\n| out_pipeline | Pipeline | output pipeline |\n| start_event | Optional | input event start |\n| stop_event | Optional | input event stop |\n| interrupt_event | Optional | input event interrupt |\n| flash_event | Optional | input event flash |\n| exit_event | Optional | input event exit |\n| **Returns** | **None** |  |"
     },
     "execution_count": null,
     "metadata": {},
     "output_type": "execute_result"
    }
   ],
   "source": [
    "show_doc(Filter.filter)"
   ]
  },
  {
   "cell_type": "code",
   "execution_count": null,
   "id": "d1cb52969d5a5676",
   "metadata": {},
   "outputs": [],
   "source": [
    "#| hide\n",
    "import nbdev; nbdev.nbdev_export()"
   ]
  }
 ],
 "metadata": {
  "jupytext": {
   "cell_metadata_filter": "-all",
   "main_language": "python",
   "notebook_metadata_filter": "-all"
  },
  "kernelspec": {
   "display_name": "python3",
   "language": "python",
   "name": "python3"
  }
 },
 "nbformat": 4,
 "nbformat_minor": 5
}
